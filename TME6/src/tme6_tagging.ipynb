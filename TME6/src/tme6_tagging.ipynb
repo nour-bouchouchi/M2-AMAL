{
 "cells": [
  {
   "cell_type": "markdown",
   "metadata": {},
   "source": [
    "# Etiquetage"
   ]
  },
  {
   "cell_type": "code",
   "execution_count": 13,
   "metadata": {},
   "outputs": [],
   "source": [
    "import itertools\n",
    "import logging\n",
    "from tqdm import tqdm\n",
    "import numpy as np\n",
    "import matplotlib.pyplot as plt\n",
    "from datamaestro import prepare_dataset\n",
    "from torch.utils.data import Dataset, DataLoader\n",
    "from torch.nn.utils.rnn import pad_sequence\n",
    "import torch.nn as nn\n",
    "import torch.optim as optim\n",
    "from torch.utils.tensorboard import SummaryWriter\n",
    "import torch\n",
    "from typing import List\n",
    "import time\n",
    "logging.basicConfig(level=logging.INFO)\n",
    "\n"
   ]
  },
  {
   "cell_type": "code",
   "execution_count": 14,
   "metadata": {},
   "outputs": [],
   "source": [
    "ds = prepare_dataset('org.universaldependencies.french.gsd')\n",
    "\n",
    "\n",
    "# Format de sortie décrit dans\n",
    "# https://pypi.org/project/conllu/\n",
    "\n",
    "class Vocabulary:\n",
    "    \"\"\"Permet de gérer un vocabulaire.\n",
    "\n",
    "    En test, il est possible qu'un mot ne soit pas dans le\n",
    "    vocabulaire : dans ce cas le token \"__OOV__\" est utilisé.\n",
    "    Attention : il faut tenir compte de cela lors de l'apprentissage !\n",
    "\n",
    "    Utilisation:\n",
    "\n",
    "    - en train, utiliser v.get(\"blah\", adding=True) pour que le mot soit ajouté\n",
    "      automatiquement s'il n'est pas connu\n",
    "    - en test, utiliser v[\"blah\"] pour récupérer l'ID du mot (ou l'ID de OOV)\n",
    "    \"\"\"\n",
    "    OOVID = 1\n",
    "    PAD = 0\n",
    "\n",
    "    def __init__(self, oov: bool):\n",
    "        \"\"\" oov : autorise ou non les mots OOV \"\"\"\n",
    "        self.oov =  oov\n",
    "        self.id2word = [ \"PAD\"]\n",
    "        self.word2id = { \"PAD\" : Vocabulary.PAD}\n",
    "        if oov:\n",
    "            self.word2id[\"__OOV__\"] = Vocabulary.OOVID\n",
    "            self.id2word.append(\"__OOV__\")\n",
    "\n",
    "    def __getitem__(self, word: str):\n",
    "        if self.oov:\n",
    "            return self.word2id.get(word, Vocabulary.OOVID)\n",
    "        return self.word2id[word]\n",
    "\n",
    "    def get(self, word: str, adding=True):\n",
    "        try:\n",
    "            return self.word2id[word]\n",
    "        except KeyError:\n",
    "            if adding:\n",
    "                wordid = len(self.id2word)\n",
    "                self.word2id[word] = wordid\n",
    "                self.id2word.append(word)\n",
    "                return wordid\n",
    "            if self.oov:\n",
    "                return Vocabulary.OOVID\n",
    "            raise\n",
    "\n",
    "    def __len__(self):\n",
    "        return len(self.id2word)\n",
    "\n",
    "    def getword(self,idx: int):\n",
    "        if idx < len(self):\n",
    "            return self.id2word[idx]\n",
    "        return None\n",
    "\n",
    "    def getwords(self,idx: List[int]):\n",
    "        return [self.getword(i) for i in idx]\n",
    "\n",
    "\n",
    "\n",
    "class TaggingDataset():\n",
    "    def __init__(self, data, words: Vocabulary, tags: Vocabulary, adding=True):\n",
    "        self.sentences = []\n",
    "\n",
    "        for s in data:\n",
    "            self.sentences.append(([words.get(token[\"form\"], adding) for token in s], [tags.get(token[\"upostag\"], adding) for token in s]))\n",
    "\n",
    "    def __len__(self):\n",
    "        return len(self.sentences)\n",
    "    \n",
    "    def __getitem__(self, ix):\n",
    "        return self.sentences[ix]\n",
    "\n",
    "def collate_fn(batch):\n",
    "    \"\"\"Collate using pad_sequence\"\"\"\n",
    "    return tuple(pad_sequence([torch.LongTensor(b[j]) for b in batch]) for j in range(2))"
   ]
  },
  {
   "cell_type": "code",
   "execution_count": 15,
   "metadata": {},
   "outputs": [
    {
     "name": "stderr",
     "output_type": "stream",
     "text": [
      "INFO:root:Loading datasets...\n",
      "INFO:root:Vocabulary size: 42931\n",
      "INFO:root:Tag size: 18\n"
     ]
    }
   ],
   "source": [
    "logging.info(\"Loading datasets...\")\n",
    "words = Vocabulary(True)\n",
    "tags = Vocabulary(False)\n",
    "train_data = TaggingDataset(ds.train, words, tags, True)\n",
    "dev_data = TaggingDataset(ds.validation, words, tags, True)\n",
    "test_data = TaggingDataset(ds.test, words, tags, False)\n",
    "\n",
    "\n",
    "logging.info(\"Vocabulary size: %d\", len(words))\n",
    "logging.info(\"Tag size: %d\", len(tags))\n",
    "\n",
    "VOCAB_SIZE = len(words)\n",
    "TAG_SIZE = len(tags)\n",
    "\n",
    "BATCH_SIZE=200\n",
    "\n",
    "train_loader = DataLoader(train_data, collate_fn=collate_fn, batch_size=BATCH_SIZE, shuffle=True)\n",
    "dev_loader = DataLoader(dev_data, collate_fn=collate_fn, batch_size=BATCH_SIZE)\n",
    "test_loader = DataLoader(test_data, collate_fn=collate_fn, batch_size=BATCH_SIZE)\n",
    "\n",
    "\n",
    "\n",
    "\n",
    "#  TODO:  Implémenter le modèle et la boucle d'apprentissage (en utilisant les LSTMs de pytorch)\n"
   ]
  },
  {
   "cell_type": "code",
   "execution_count": 16,
   "metadata": {},
   "outputs": [
    {
     "name": "stdout",
     "output_type": "stream",
     "text": [
      "torch.Size([85, 200])\n",
      "torch.Size([85, 200])\n"
     ]
    }
   ],
   "source": [
    "for x,y in train_loader : \n",
    "\n",
    "    print(x.shape)\n",
    "    print(y.shape)\n",
    "    break"
   ]
  },
  {
   "cell_type": "code",
   "execution_count": 17,
   "metadata": {},
   "outputs": [],
   "source": [
    "class Seq2Seq(nn.Module) :\n",
    "    def __init__(self, vocab_size, dim_latent, dim_hidden, tag_size):\n",
    "        super(Seq2Seq, self).__init__()\n",
    "        self.emb =  nn.Embedding(vocab_size+1, dim_latent) #+1 pour le OOV\n",
    "        self.lstm = nn.LSTM(dim_latent, dim_hidden)\n",
    "        self.decode = nn.Linear(dim_hidden,tag_size) \n",
    "\n",
    "\n",
    "    def forward(self,x):\n",
    "        #print(\"x : \", x.shape)\n",
    "        x_emb = self.emb(x)\n",
    "        #print(\"x_emb : \", x_emb.shape)\n",
    "        #x_pack = nn.utils.rnn.pack_padded_sequence(x_emb, l)\n",
    "        #print(\"x_pack : \", x_pack.shape)\n",
    "        output, (hn, cn) = self.lstm(x_emb)\n",
    "        yhat = self.decode(output)\n",
    "\n",
    "        return yhat "
   ]
  },
  {
   "cell_type": "code",
   "execution_count": 19,
   "metadata": {},
   "outputs": [],
   "source": [
    "def train_epoch(dataloader, model, loss_fn, optimizer):\n",
    "    liste_loss_epoch = []\n",
    "    cpt = 0\n",
    "    for x,y in dataloader :\n",
    "        #if cpt % 5 == 0 : \n",
    "         #   print(f\"{cpt}/{len(train_loader)}\")\n",
    "        if torch.rand(1)[0] < 0.1:\n",
    "            mask = torch.rand(x.shape) < 0.05\n",
    "            x[mask] = Vocabulary.OOVID\n",
    "        yhat = model(x)\n",
    "        yhat = yhat.permute(0, 2, 1)\n",
    "        loss = loss_fn(yhat, y)\n",
    "        loss.backward()\n",
    "        optimizer.step()\n",
    "        with torch.no_grad():\n",
    "            liste_loss_epoch.append(loss.item())\n",
    "        cpt+=1\n",
    "\n",
    "    return np.mean(liste_loss_epoch)"
   ]
  },
  {
   "cell_type": "code",
   "execution_count": 20,
   "metadata": {},
   "outputs": [],
   "source": [
    "def evaluate(dataloader, model, loss_fn):\n",
    "    liste_loss_epoch_eval = []\n",
    "    cpt = 0\n",
    "    for x,y in dataloader : \n",
    "        #if cpt % 5 == 0:\n",
    "         #   print(f\"{cpt}/{len(train_loader)}\")\n",
    "        with torch.no_grad():\n",
    "            yhat = model(x)\n",
    "            yhat = yhat.permute(0, 2, 1)\n",
    "            loss = loss_fn(yhat, y)\n",
    "            liste_loss_epoch_eval.append(loss)\n",
    "        cpt+=1\n",
    "    return np.mean(liste_loss_epoch_eval)\n",
    "\n",
    " "
   ]
  },
  {
   "cell_type": "code",
   "execution_count": 21,
   "metadata": {},
   "outputs": [],
   "source": [
    "def train_eval(dataloader_train, dataloader_val, nb_epoch, model, loss_fn, optimizer): \n",
    "    loss_train = []\n",
    "    loss_val = []\n",
    "    for epoch in tqdm(range(nb_epoch)):\n",
    "        l_train = train_epoch(dataloader_train, model, loss_fn, optimizer)\n",
    "        loss_train.append(l_train)\n",
    "        l_val = evaluate(dataloader_val, model, loss_fn)\n",
    "        loss_val.append(l_val)\n",
    "\n",
    "    plt.figure()\n",
    "    plt.plot(np.arange(len(loss_train)), loss_train, label='Loss train', color='tab:orange')\n",
    "    plt.plot(np.arange(len(loss_val)), loss_val, label='Loss val', color='tab:blue')\n",
    "    plt.xlabel(\"Iterations\")\n",
    "    plt.title(\"Loss en train et en test\")\n",
    "    plt.legend(loc='upper left')\n",
    "    plt.show()\n",
    "        "
   ]
  },
  {
   "cell_type": "code",
   "execution_count": 27,
   "metadata": {},
   "outputs": [
    {
     "name": "stderr",
     "output_type": "stream",
     "text": [
      "100%|██████████| 3/3 [01:09<00:00, 23.25s/it]\n"
     ]
    },
    {
     "data": {
      "image/png": "[encoded data removed]",
      "text/plain": [
       "<Figure size 432x288 with 1 Axes>"
      ]
     },
     "metadata": {
      "needs_background": "light"
     },
     "output_type": "display_data"
    }
   ],
   "source": [
    "dim_latent= VOCAB_SIZE//50\n",
    "dim_hidden= dim_latent//100 \n",
    "NB_EPOCH = 3\n",
    "\n",
    "model = Seq2Seq(VOCAB_SIZE, dim_latent, dim_hidden, TAG_SIZE)\n",
    "criterion = nn.CrossEntropyLoss(ignore_index=Vocabulary.PAD)\n",
    "opt = torch.optim.Adam(model.parameters(), lr=1e-2)\n",
    "\n",
    "\n",
    "train_eval(train_loader, dev_loader, NB_EPOCH, model, criterion, opt)\n",
    "\n",
    "    "
   ]
  },
  {
   "cell_type": "code",
   "execution_count": 85,
   "metadata": {},
   "outputs": [
    {
     "name": "stdout",
     "output_type": "stream",
     "text": [
      "x :     ['__OOV__', ',', 'un', 'film', 'sur', 'la', 'vie', 'de', 'Hughes', '.', 'PAD', 'PAD', 'PAD', 'PAD', 'PAD', 'PAD', 'PAD', 'PAD', 'PAD', 'PAD', 'PAD', 'PAD', 'PAD', 'PAD', 'PAD', 'PAD', 'PAD', 'PAD', 'PAD', 'PAD', 'PAD', 'PAD', 'PAD', 'PAD', 'PAD', 'PAD', 'PAD', 'PAD', 'PAD', 'PAD', 'PAD', 'PAD', 'PAD', 'PAD', 'PAD', 'PAD', 'PAD', 'PAD', 'PAD', 'PAD', 'PAD', 'PAD', 'PAD', 'PAD', 'PAD', 'PAD', 'PAD', 'PAD', 'PAD', 'PAD', 'PAD', 'PAD', 'PAD', 'PAD', 'PAD', 'PAD', 'PAD', 'PAD', 'PAD', 'PAD', 'PAD', 'PAD', 'PAD', 'PAD', 'PAD', 'PAD', 'PAD', 'PAD']\n",
      "y :     ['PROPN', 'PUNCT', 'DET', 'NOUN', 'ADP', 'DET', 'NOUN', 'ADP', 'PROPN', 'PUNCT', 'PAD', 'PAD', 'PAD', 'PAD', 'PAD', 'PAD', 'PAD', 'PAD', 'PAD', 'PAD', 'PAD', 'PAD', 'PAD', 'PAD', 'PAD', 'PAD', 'PAD', 'PAD', 'PAD', 'PAD', 'PAD', 'PAD', 'PAD', 'PAD', 'PAD', 'PAD', 'PAD', 'PAD', 'PAD', 'PAD', 'PAD', 'PAD', 'PAD', 'PAD', 'PAD', 'PAD', 'PAD', 'PAD', 'PAD', 'PAD', 'PAD', 'PAD', 'PAD', 'PAD', 'PAD', 'PAD', 'PAD', 'PAD', 'PAD', 'PAD', 'PAD', 'PAD', 'PAD', 'PAD', 'PAD', 'PAD', 'PAD', 'PAD', 'PAD', 'PAD', 'PAD', 'PAD', 'PAD', 'PAD', 'PAD', 'PAD', 'PAD', 'PAD']\n",
      "yhat :  ['PUNCT', 'PUNCT', 'DET', 'NOUN', 'ADP', 'DET', 'NOUN', 'ADP', 'AUX', 'PUNCT', 'ADJ', 'ADJ', 'NOUN', 'NOUN', 'NOUN', 'NOUN', 'NOUN', 'NOUN', 'NOUN', 'NOUN', 'NOUN', 'NOUN', 'NOUN', 'NOUN', 'NOUN', 'NOUN', 'NOUN', 'NOUN', 'NOUN', 'NOUN', 'NOUN', 'NOUN', 'NOUN', 'NOUN', 'NOUN', 'NOUN', 'NOUN', 'NOUN', 'NOUN', 'NOUN', 'NOUN', 'NOUN', 'NOUN', 'NOUN', 'NOUN', 'NOUN', 'NOUN', 'NOUN', 'NOUN', 'NOUN', 'NOUN', 'NOUN', 'NOUN', 'NOUN', 'NOUN', 'NOUN', 'NOUN', 'NOUN', 'NOUN', 'NOUN', 'NOUN', 'NOUN', 'NOUN', 'NOUN', 'NOUN', 'NOUN', 'NOUN', 'NOUN', 'NOUN', 'NOUN', 'NOUN', 'NOUN', 'NOUN', 'NOUN', 'NOUN', 'NOUN', 'NOUN', 'NOUN']\n",
      "0.6573742258826886\n"
     ]
    }
   ],
   "source": [
    "for x, y in test_loader:\n",
    "    res = []\n",
    "    for num_phrase in range(x.shape[1]):\n",
    "        yhat = model(x[:,num_phrase])\n",
    "        yhat= torch.argmax(yhat, dim=1)\n",
    "\n",
    "        if num_phrase ==0:   \n",
    "            print(\"x :    \", words.getwords(x[:,num_phrase]))\n",
    "            print(\"y :    \",tags.getwords(y[:,num_phrase]))\n",
    "            print(\"yhat : \", tags.getwords(yhat))\n",
    "        \n",
    "        idx = np.where(x[:,num_phrase]!=Vocabulary.PAD)\n",
    "        yhat_idx, y_idx = yhat[idx], y[:,num_phrase][idx]\n",
    "        nb_correct = np.where(yhat_idx==y_idx)[0].size\n",
    "        #print(f\"{nb_correct}/{len(idx[0])}\")\n",
    "        res.append(nb_correct/len(idx[0]))\n",
    "    print(np.mean(res))\n",
    "    break"
   ]
  },
  {
   "cell_type": "code",
   "execution_count": null,
   "metadata": {},
   "outputs": [],
   "source": []
  }
 ],
 "metadata": {
  "kernelspec": {
   "display_name": "Python 3",
   "language": "python",
   "name": "python3"
  },
  "language_info": {
   "codemirror_mode": {
    "name": "ipython",
    "version": 3
   },
   "file_extension": ".py",
   "mimetype": "text/x-python",
   "name": "python",
   "nbconvert_exporter": "python",
   "pygments_lexer": "ipython3",
   "version": "3.10.12"
  }
 },
 "nbformat": 4,
 "nbformat_minor": 2
}
