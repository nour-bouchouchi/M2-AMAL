{
 "cells": [
  {
   "cell_type": "code",
   "execution_count": 1,
   "id": "971d986d",
   "metadata": {},
   "outputs": [
    {
     "name": "stderr",
     "output_type": "stream",
     "text": [
      "2023-09-30 16:46:59.789501: I tensorflow/core/util/port.cc:110] oneDNN custom operations are on. You may see slightly different numerical results due to floating-point round-off errors from different computation orders. To turn them off, set the environment variable `TF_ENABLE_ONEDNN_OPTS=0`.\n",
      "2023-09-30 16:46:59.818817: I tensorflow/core/platform/cpu_feature_guard.cc:182] This TensorFlow binary is optimized to use available CPU instructions in performance-critical operations.\n",
      "To enable the following instructions: AVX2 AVX_VNNI FMA, in other operations, rebuild TensorFlow with the appropriate compiler flags.\n",
      "2023-09-30 16:47:00.356195: W tensorflow/compiler/tf2tensorrt/utils/py_utils.cc:38] TF-TRT Warning: Could not find TensorRT\n"
     ]
    }
   ],
   "source": [
    "import torch\n",
    "from torch.utils.tensorboard import SummaryWriter\n",
    "from tp1 import mse,linear, MSE, Linear, Context\n",
    "import matplotlib.pyplot as plt"
   ]
  },
  {
   "cell_type": "markdown",
   "id": "9685dc60",
   "metadata": {},
   "source": [
    "# 3.  Implémentation des fonctions"
   ]
  },
  {
   "cell_type": "code",
   "execution_count": 2,
   "id": "09553bac",
   "metadata": {},
   "outputs": [
    {
     "data": {
      "text/plain": [
       "True"
      ]
     },
     "execution_count": 2,
     "metadata": {},
     "output_type": "execute_result"
    }
   ],
   "source": [
    "# Test du gradient de MSE\n",
    "yhat = torch.randn(10,5, requires_grad=True, dtype=torch.float64)\n",
    "y = torch.randn(10,5, requires_grad=True, dtype=torch.float64)\n",
    "torch.autograd.gradcheck(mse, (yhat, y))"
   ]
  },
  {
   "cell_type": "code",
   "execution_count": 3,
   "id": "fd5a935a",
   "metadata": {},
   "outputs": [
    {
     "data": {
      "text/plain": [
       "True"
      ]
     },
     "execution_count": 3,
     "metadata": {},
     "output_type": "execute_result"
    }
   ],
   "source": [
    "#  TODO:  Test du gradient de Linear (sur le même modèle que MSE)\n",
    "x = torch.randn(10,5, requires_grad=True, dtype=torch.float64)\n",
    "w = torch.randn(5,2, requires_grad=True, dtype=torch.float64)\n",
    "b = torch.randn(2, requires_grad=True, dtype=torch.float64)\n",
    "torch.autograd.gradcheck(linear, (x,w,b))"
   ]
  },
  {
   "cell_type": "markdown",
   "id": "9fbb79ea",
   "metadata": {},
   "source": [
    "# 4. Descente de gradient"
   ]
  },
  {
   "cell_type": "code",
   "execution_count": 4,
   "id": "e8b95e75",
   "metadata": {},
   "outputs": [],
   "source": [
    "# Les données supervisées\n",
    "x = torch.randn(50, 13)\n",
    "y = torch.randn(50, 3)\n",
    "\n",
    "# Les paramètres du modèle à optimiser\n",
    "w = torch.randn(13, 3)\n",
    "b = torch.randn(3)\n",
    "\n",
    "epsilon = 1e-2\n",
    "\n",
    "loss_cxt=Context()\n",
    "linear_cxt=Context()\n",
    "writer = SummaryWriter()"
   ]
  },
  {
   "cell_type": "code",
   "execution_count": 5,
   "id": "a35c258f",
   "metadata": {},
   "outputs": [
    {
     "name": "stdout",
     "output_type": "stream",
     "text": [
      "Itérations 0: loss 17.059663772583008\n",
      "Itérations 1: loss 17.054780960083008\n",
      "Itérations 2: loss 17.049938201904297\n",
      "Itérations 3: loss 17.045127868652344\n",
      "Itérations 4: loss 17.040355682373047\n",
      "Itérations 5: loss 17.035619735717773\n",
      "Itérations 6: loss 17.030916213989258\n",
      "Itérations 7: loss 17.0262508392334\n",
      "Itérations 8: loss 17.021621704101562\n",
      "Itérations 9: loss 17.01702308654785\n",
      "Itérations 10: loss 17.012460708618164\n",
      "Itérations 11: loss 17.007936477661133\n",
      "Itérations 12: loss 17.003442764282227\n",
      "Itérations 13: loss 16.99898338317871\n",
      "Itérations 14: loss 16.994556427001953\n",
      "Itérations 15: loss 16.990161895751953\n",
      "Itérations 16: loss 16.985803604125977\n",
      "Itérations 17: loss 16.981477737426758\n",
      "Itérations 18: loss 16.977184295654297\n",
      "Itérations 19: loss 16.97292137145996\n",
      "Itérations 20: loss 16.968692779541016\n",
      "Itérations 21: loss 16.964494705200195\n",
      "Itérations 22: loss 16.9603271484375\n",
      "Itérations 23: loss 16.956193923950195\n",
      "Itérations 24: loss 16.952089309692383\n",
      "Itérations 25: loss 16.94801902770996\n",
      "Itérations 26: loss 16.94397735595703\n",
      "Itérations 27: loss 16.939966201782227\n",
      "Itérations 28: loss 16.935985565185547\n",
      "Itérations 29: loss 16.932035446166992\n",
      "Itérations 30: loss 16.928115844726562\n",
      "Itérations 31: loss 16.924224853515625\n",
      "Itérations 32: loss 16.92036247253418\n",
      "Itérations 33: loss 16.91653060913086\n",
      "Itérations 34: loss 16.9127254486084\n",
      "Itérations 35: loss 16.908952713012695\n",
      "Itérations 36: loss 16.905208587646484\n",
      "Itérations 37: loss 16.901491165161133\n",
      "Itérations 38: loss 16.897798538208008\n",
      "Itérations 39: loss 16.89413833618164\n",
      "Itérations 40: loss 16.8905086517334\n",
      "Itérations 41: loss 16.88690185546875\n",
      "Itérations 42: loss 16.88332176208496\n",
      "Itérations 43: loss 16.879772186279297\n",
      "Itérations 44: loss 16.876249313354492\n",
      "Itérations 45: loss 16.872751235961914\n",
      "Itérations 46: loss 16.869281768798828\n",
      "Itérations 47: loss 16.86583709716797\n",
      "Itérations 48: loss 16.86241912841797\n",
      "Itérations 49: loss 16.859025955200195\n",
      "Itérations 50: loss 16.855663299560547\n",
      "Itérations 51: loss 16.852323532104492\n",
      "Itérations 52: loss 16.849008560180664\n",
      "Itérations 53: loss 16.845720291137695\n",
      "Itérations 54: loss 16.84245491027832\n",
      "Itérations 55: loss 16.839216232299805\n",
      "Itérations 56: loss 16.836000442504883\n",
      "Itérations 57: loss 16.832813262939453\n",
      "Itérations 58: loss 16.829647064208984\n",
      "Itérations 59: loss 16.82650375366211\n",
      "Itérations 60: loss 16.823387145996094\n",
      "Itérations 61: loss 16.820295333862305\n",
      "Itérations 62: loss 16.817224502563477\n",
      "Itérations 63: loss 16.814178466796875\n",
      "Itérations 64: loss 16.8111572265625\n",
      "Itérations 65: loss 16.80816078186035\n",
      "Itérations 66: loss 16.8051815032959\n",
      "Itérations 67: loss 16.802228927612305\n",
      "Itérations 68: loss 16.799299240112305\n",
      "Itérations 69: loss 16.7963924407959\n",
      "Itérations 70: loss 16.79350471496582\n",
      "Itérations 71: loss 16.7906436920166\n",
      "Itérations 72: loss 16.78780174255371\n",
      "Itérations 73: loss 16.784984588623047\n",
      "Itérations 74: loss 16.782184600830078\n",
      "Itérations 75: loss 16.779409408569336\n",
      "Itérations 76: loss 16.776655197143555\n",
      "Itérations 77: loss 16.773921966552734\n",
      "Itérations 78: loss 16.771209716796875\n",
      "Itérations 79: loss 16.768518447875977\n",
      "Itérations 80: loss 16.76584815979004\n",
      "Itérations 81: loss 16.763198852539062\n",
      "Itérations 82: loss 16.760568618774414\n",
      "Itérations 83: loss 16.75796127319336\n",
      "Itérations 84: loss 16.755373001098633\n",
      "Itérations 85: loss 16.7528018951416\n",
      "Itérations 86: loss 16.750253677368164\n",
      "Itérations 87: loss 16.747724533081055\n",
      "Itérations 88: loss 16.745214462280273\n",
      "Itérations 89: loss 16.742725372314453\n",
      "Itérations 90: loss 16.74025535583496\n",
      "Itérations 91: loss 16.737804412841797\n",
      "Itérations 92: loss 16.73537254333496\n",
      "Itérations 93: loss 16.732959747314453\n",
      "Itérations 94: loss 16.730566024780273\n",
      "Itérations 95: loss 16.72818946838379\n",
      "Itérations 96: loss 16.725831985473633\n",
      "Itérations 97: loss 16.723493576049805\n",
      "Itérations 98: loss 16.721174240112305\n",
      "Itérations 99: loss 16.718868255615234\n"
     ]
    }
   ],
   "source": [
    "liste_loss = []\n",
    "for n_iter in range(100):\n",
    "    ##  TODO:  Calcul du forward (loss)\n",
    "    \n",
    "    yhat = Linear.forward(linear_cxt,x,w,b)\n",
    "    loss = MSE.forward(loss_cxt, yhat, y)\n",
    "    liste_loss.append(loss.mean())\n",
    "\n",
    "    # `loss` doit correspondre au coût MSE calculé à cette itération\n",
    "    # on peut visualiser avec\n",
    "    # tensorboard --logdir runs/\n",
    "    writer.add_scalar('Loss/train', loss.mean(), n_iter)\n",
    "\n",
    "    # Sortie directe\n",
    "    print(f\"Itérations {n_iter}: loss {loss}\")\n",
    "\n",
    "    ##  TODO:  Calcul du backward (grad_w, grad_b)\n",
    "    \n",
    "    loss_backward, _ = MSE.backward(loss_cxt, torch.eye(y.shape[0], y.shape[1]))\n",
    "    _, grad_w, grad_b = Linear.backward(linear_cxt, loss_backward)\n",
    "    \n",
    "    ##  TODO:  Mise à jour des paramètres du modèle\n",
    "    \n",
    "    w = w - epsilon*grad_w\n",
    "    b = b - epsilon*grad_b\n",
    "    "
   ]
  },
  {
   "cell_type": "code",
   "execution_count": 6,
   "id": "2515fc24",
   "metadata": {},
   "outputs": [
    {
     "data": {
      "image/png": "[encoded data removed]",
      "text/plain": [
       "<Figure size 432x288 with 1 Axes>"
      ]
     },
     "metadata": {
      "needs_background": "light"
     },
     "output_type": "display_data"
    }
   ],
   "source": [
    "plt.figure()\n",
    "plt.plot(torch.arange(100),liste_loss)\n",
    "plt.title(\"Loss\")\n",
    "plt.xlabel(\"Iterations\")\n",
    "plt.ylabel(\"loss\")\n",
    "plt.show()"
   ]
  },
  {
   "cell_type": "code",
   "execution_count": null,
   "id": "8ddf9bab",
   "metadata": {},
   "outputs": [],
   "source": []
  }
 ],
 "metadata": {
  "kernelspec": {
   "display_name": "Python 3 (ipykernel)",
   "language": "python",
   "name": "python3"
  },
  "language_info": {
   "codemirror_mode": {
    "name": "ipython",
    "version": 3
   },
   "file_extension": ".py",
   "mimetype": "text/x-python",
   "name": "python",
   "nbconvert_exporter": "python",
   "pygments_lexer": "ipython3",
   "version": "3.10.12"
  }
 },
 "nbformat": 4,
 "nbformat_minor": 5
}
