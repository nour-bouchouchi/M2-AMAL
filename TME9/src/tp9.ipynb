{
 "cells": [
  {
   "cell_type": "code",
   "execution_count": 5,
   "metadata": {},
   "outputs": [],
   "source": [
    "import logging\n",
    "import re\n",
    "from pathlib import Path\n",
    "from tqdm import tqdm\n",
    "import numpy as np\n",
    "\n",
    "\n",
    "\n",
    "from datamaestro import prepare_dataset\n",
    "import torch.nn.functional as F\n",
    "import torch\n",
    "import torch.nn as nn\n",
    "from torch.utils.data import Dataset, DataLoader\n",
    "import copy as cp\n",
    "from typing import List, Tuple, Dict, Set, Union, Iterable, Callable, TypeVar, Optional\n",
    "from torchmetrics.classification import BinaryAccuracy\n",
    "from torch.nn.utils.rnn import pad_sequence\n",
    "from torch.utils.tensorboard import SummaryWriter\n",
    "import numpy as np\n",
    "import tensorboard\n",
    "import matplotlib.pyplot as plt"
   ]
  },
  {
   "cell_type": "code",
   "execution_count": 6,
   "metadata": {},
   "outputs": [],
   "source": [
    "class FolderText(Dataset):\n",
    "    \"\"\"Dataset basé sur des dossiers (un par classe) et fichiers\"\"\"\n",
    "\n",
    "    def __init__(self, classes, folder: Path, tokenizer, load=False):\n",
    "        self.tokenizer = tokenizer\n",
    "        self.files = []\n",
    "        self.filelabels = []\n",
    "        self.labels = {}\n",
    "        for ix, key in enumerate(classes):\n",
    "            self.labels[key] = ix\n",
    "\n",
    "        for label in classes:\n",
    "            for file in (folder / label).glob(\"*.txt\"):\n",
    "                self.files.append(file.read_text() if load else file)\n",
    "                self.filelabels.append(self.labels[label])\n",
    "\n",
    "    def __len__(self):\n",
    "        return len(self.filelabels)\n",
    "\n",
    "    def __getitem__(self, ix):\n",
    "        s = self.files[ix]\n",
    "        return self.tokenizer(s if isinstance(s, str) else s.read_text()), self.filelabels[ix]\n",
    "    \n",
    "    @staticmethod\n",
    "    def collate(batch):\n",
    "        data = [torch.LongTensor(item[0]) for item in batch]\n",
    "        labels = [item[1] for item in batch]\n",
    "        return pad_sequence(data,padding_value=400001 ,batch_first=True), torch.LongTensor(labels)\n",
    "\n",
    "def get_imdb_data(embedding_size=50):\n",
    "    \"\"\"Renvoie l'ensemble des donnéees nécessaires pour l'apprentissage\n",
    "\n",
    "    - dictionnaire word vers ID\n",
    "    - embeddings (Glove)\n",
    "    - DataSet (FolderText)\n",
    "\n",
    "    \"\"\"\n",
    "    WORDS = re.compile(r\"\\S+\")\n",
    "\n",
    "    words, embeddings = prepare_dataset('edu.stanford.glove.6b.%d' % embedding_size).load()\n",
    "    OOVID = len(words)\n",
    "    words.append(\"__OOV__\")\n",
    "\n",
    "    word2id = {word: ix for ix, word in enumerate(words)}\n",
    "    embeddings = np.vstack((embeddings, np.zeros(embedding_size)))\n",
    "\n",
    "    def tokenizer(t):\n",
    "        return [word2id.get(x, OOVID) for x in re.findall(WORDS, t.lower())]\n",
    "\n",
    "    logging.info(\"Loading embeddings\")\n",
    "\n",
    "    logging.info(\"Get the IMDB dataset\")\n",
    "    ds = prepare_dataset(\"edu.stanford.aclimdb\")\n",
    "\n",
    "    return word2id, embeddings, FolderText(ds.train.classes, ds.train.path, tokenizer, load=False), FolderText(ds.test.classes, ds.test.path, tokenizer, load=False)"
   ]
  },
  {
   "cell_type": "code",
   "execution_count": 7,
   "metadata": {},
   "outputs": [],
   "source": [
    "class model_1(nn.Module):\n",
    "    def __init__(self, input_size, hidden_size, output_size):\n",
    "        super().__init__()\n",
    "        self.model = nn.Sequential(\n",
    "            nn.Linear(input_size, hidden_size),  # Input layer to hidden layer\n",
    "            nn.ReLU(),  # Activation function (ReLU)\n",
    "            nn.Linear(hidden_size, hidden_size),  # Hidden layer to output layer\n",
    "            nn.ReLU(),  # Activation function (ReLU)\n",
    "            nn.Linear(hidden_size, hidden_size),  # Hidden layer to output layer\n",
    "            nn.ReLU(),  # Activation function (ReLU)\n",
    "            nn.Linear(hidden_size, output_size), # Hidden layer to output layer\n",
    "            nn.Sigmoid() # Hidden layer to output layer\n",
    "        )\n",
    "\n",
    "    def forward(self, x):\n",
    "        x = x.mean(dim=1)\n",
    "        x = self.model(x)\n",
    "        return x"
   ]
  },
  {
   "cell_type": "code",
   "execution_count": 8,
   "metadata": {},
   "outputs": [],
   "source": [
    "def eval(model, val_loader, device, criterion, writer, write_tensorboard, epoch):\n",
    "    model.eval()\n",
    "\n",
    "    acc_eval = BinaryAccuracy().to(device) \n",
    "\n",
    "    epoch_loss = []\n",
    "    epoch_accuracy = []\n",
    "    with torch.no_grad():\n",
    "        for batch_idx, (data, target) in enumerate(val_loader):\n",
    "            data, target = data.to(device), target.float().to(device)\n",
    "            logits = model(data).view(-1)\n",
    "            loss = criterion(logits, target)\n",
    "            \n",
    "            epoch_loss.append(loss.item())\n",
    "            batch_accuracy = acc_eval(logits, target)\n",
    "            epoch_accuracy.append(batch_accuracy.item())\n",
    "\n",
    "\n",
    "        \"\"\"\n",
    "        if write_tensorboard:\n",
    "\n",
    "            writer.add_scalar('Loss validation', np.mean(epoch_loss), epoch)\n",
    "        \n",
    "            for name, weight in model.named_parameters():\n",
    "                writer.add_histogram(name, weight, epoch)\n",
    "                writer.add_histogram(f'{name}.grad', weight.grad, epoch)\n",
    "\n",
    "            entropie = criterion(logits,target)\n",
    "            writer.add_histogram('Entropy validation', entropie, epoch)\n",
    "            \n",
    "            writer.add_scalar('Accuracy validation', np.mean(epoch_accuracy), epoch)\n",
    "        \"\"\"\n",
    "\n",
    "        return np.mean(epoch_loss), np.mean(epoch_accuracy) \n",
    "        "
   ]
  },
  {
   "cell_type": "code",
   "execution_count": 22,
   "metadata": {},
   "outputs": [],
   "source": [
    "def train(model, optimizer, train_loader, val_loader, nb_epoch, device, writer):\n",
    "    criterion = nn.BCELoss().to(device) \n",
    "    acc_train = BinaryAccuracy().to(device) \n",
    "    loss_values = []\n",
    "    accuracy_values = [] \n",
    "    loss_eval = []\n",
    "    accuracy_values_eval = [] \n",
    "    write_tensorboard_train = nb_epoch//20\n",
    "\n",
    "    for epoch in range(nb_epoch):\n",
    "        write_tensorboard = write_tensorboard_train != 0 and epoch % write_tensorboard_train == 0\n",
    "\n",
    "        model.train()\n",
    "        epoch_loss = []\n",
    "        epoch_accuracy = []\n",
    "\n",
    "        for i, (data, target) in enumerate(train_loader):\n",
    "            data, target = data.to(device), target.float().to(device)\n",
    "            optimizer.zero_grad()\n",
    "\n",
    "            logits = model(data).view(-1)\n",
    "            loss = criterion(logits, target)\n",
    "\n",
    "            epoch_loss.append(loss.item())\n",
    "            batch_accuracy = acc_train(logits, target)\n",
    "            epoch_accuracy.append(batch_accuracy.item())\n",
    "\n",
    "            loss.backward()\n",
    "            optimizer.step()\n",
    "\n",
    "\n",
    "        loss_values.append(np.mean(epoch_loss))\n",
    "        accuracy_values.append(np.mean(epoch_accuracy))\n",
    "\n",
    "        \"\"\"\n",
    "        if write_tensorboard:\n",
    "\n",
    "            writer.add_scalar('Loss train', np.mean(epoch_loss), epoch)\n",
    "        \n",
    "            for name, weight in model.named_parameters():\n",
    "                writer.add_histogram(f'{name}', weight, epoch)\n",
    "                writer.add_histogram(f'{name}.grad', weight.grad, epoch)\n",
    "\n",
    "            entropie = criterion(logits,target)\n",
    "            writer.add_histogram('Entropy train', entropie, epoch)\n",
    "            \n",
    "            writer.add_scalar('Accuracy train', np.mean(epoch_accuracy), epoch)\n",
    "\n",
    "        \"\"\"\n",
    "\n",
    "        epoch_loss_eval, epoch_acc_eval = eval(model, val_loader, device, criterion, writer, write_tensorboard, epoch)\n",
    "        loss_eval.append(epoch_loss_eval)\n",
    "        accuracy_values_eval.append(epoch_acc_eval)\n",
    "\n",
    "        \n",
    "    return loss_values, accuracy_values, loss_eval, accuracy_values_eval\n"
   ]
  },
  {
   "cell_type": "markdown",
   "metadata": {},
   "source": [
    "## Modèle de base"
   ]
  },
  {
   "cell_type": "code",
   "execution_count": 49,
   "metadata": {},
   "outputs": [],
   "source": [
    "class Model(nn.Module):\n",
    "    def __init__(self, embeddings, input_size, hidden_size, output_size):\n",
    "        super(Model, self).__init__()\n",
    "        self.emb = torch.nn.Embedding.from_pretrained(torch.FloatTensor(embeddings)).requires_grad_(False)\n",
    "        self.mlp= nn.Sequential(\n",
    "            nn.Linear(input_size, hidden_size),\n",
    "            nn.ReLU(),\n",
    "            nn.Linear(hidden_size, output_size), \n",
    "            nn.Sigmoid() \n",
    "        )\n",
    "\n",
    "    def forward(self, x):\n",
    "        x_emb = self.emb(x)\n",
    "        #print(\"emb : \",x_emb.shape)\n",
    "\n",
    "        x_mean = torch.mean(x_emb, dim=1)\n",
    "        #print(\"mean : \", x_mean.shape)\n",
    "\n",
    "        x = self.mlp(x_mean)\n",
    "        #print(\"mlp : \", x.shape)\n",
    "\n",
    "        return x"
   ]
  },
  {
   "cell_type": "code",
   "execution_count": 50,
   "metadata": {},
   "outputs": [],
   "source": [
    "word2vec, embeddings, train_data, test_data = get_imdb_data()\n",
    "word2vec['pad'] = 400001\n",
    "embeddings = np.vstack((np.array(embeddings),np.zeros((1,50))))\n",
    "train_dataset = DataLoader(train_data, collate_fn= FolderText.collate, batch_size=32, shuffle=True)\n",
    "test_dataset = DataLoader(test_data,collate_fn=FolderText.collate, batch_size=32, shuffle=True)"
   ]
  },
  {
   "cell_type": "code",
   "execution_count": 51,
   "metadata": {},
   "outputs": [
    {
     "name": "stdout",
     "output_type": "stream",
     "text": [
      "Using device: cpu\n"
     ]
    }
   ],
   "source": [
    "device = torch.device(\"cuda\" if torch.cuda.is_available() else \"cpu\")\n",
    "print(\"Using device:\", device)\n",
    "input_size = 50\n",
    "hidden_size = 25\n",
    "output_size = 1\n",
    "lr = 0.001\n",
    "\n",
    "mlp = Model(embeddings,input_size, hidden_size, output_size).to(device)\n",
    "critere = nn.BCELoss()\n",
    "optim = torch.optim.Adam(mlp.parameters(), lr=lr)\n",
    "\n",
    "writer = SummaryWriter()\n",
    "\n"
   ]
  },
  {
   "cell_type": "code",
   "execution_count": 52,
   "metadata": {},
   "outputs": [],
   "source": [
    "loss_values, accuracy_values, loss_eval, accuracy_values_eval = train(mlp, optim, train_dataset, test_dataset,10, device, writer)"
   ]
  },
  {
   "cell_type": "code",
   "execution_count": 53,
   "metadata": {},
   "outputs": [
    {
     "data": {
      "image/png": "[encoded data removed]",
      "text/plain": [
       "<Figure size 432x288 with 1 Axes>"
      ]
     },
     "metadata": {
      "needs_background": "light"
     },
     "output_type": "display_data"
    }
   ],
   "source": [
    "\n",
    "plt.figure()\n",
    "plt.plot(loss_values,label=\"Loss en train\")\n",
    "plt.plot(loss_eval,label=\"Loss en validation\")\n",
    "plt.legend()\n",
    "plt.show()"
   ]
  },
  {
   "cell_type": "code",
   "execution_count": 54,
   "metadata": {},
   "outputs": [
    {
     "data": {
      "image/png": "[encoded data removed]",
      "text/plain": [
       "<Figure size 432x288 with 1 Axes>"
      ]
     },
     "metadata": {
      "needs_background": "light"
     },
     "output_type": "display_data"
    }
   ],
   "source": [
    "\n",
    "plt.figure()\n",
    "plt.plot(accuracy_values,label=\"Accuracy en train\")\n",
    "plt.plot(accuracy_values_eval,label=\"Accuracy en validation\")\n",
    "plt.legend()\n",
    "plt.show()"
   ]
  },
  {
   "cell_type": "markdown",
   "metadata": {},
   "source": [
    "## Attention simple"
   ]
  },
  {
   "cell_type": "code",
   "execution_count": 55,
   "metadata": {},
   "outputs": [],
   "source": [
    "class AttentionSimple(nn.Module):\n",
    "    def __init__(self, embeddings,input_size,hidden_size, output_size):\n",
    "        super(AttentionSimple, self).__init__()\n",
    "        self.emb = torch.nn.Embedding.from_pretrained(torch.FloatTensor(embeddings)).requires_grad_(False)\n",
    "        self.emb_q = nn.Linear(input_size, output_size, bias=False) #//un vecteur de taille input_size que veut apprendre pour multpiplier avec x_k\n",
    "\n",
    "        self.mlp= nn.Sequential(\n",
    "            nn.Linear(input_size, hidden_size),\n",
    "            nn.ReLU(),\n",
    "            nn.Linear(hidden_size, output_size), \n",
    "            nn.Sigmoid() \n",
    "        )\n",
    "\n",
    "    def forward(self, x):\n",
    "        \n",
    "        x_k = self.emb(x)\n",
    "        #print('x_k: ', x_k.shape)\n",
    "        \n",
    "        x_q = self.emb_q(x_k) \n",
    "        #print('x_q: ', x_q.shape) \n",
    "        \n",
    "        attention = F.softmax(x_q, dim=1) \n",
    "        #print('attention: ', attention.shape) \n",
    "        \n",
    "        x_weighted= attention*x_k \n",
    "        #print('x_weighted: ', x_weighted.shape)\n",
    "        \n",
    "        x = torch.sum(x_weighted, dim=1)\n",
    "        #print('x_sum: ', x.shape)\n",
    "        \n",
    "        x = self.mlp(x)\n",
    "        #print('x mlp: ', x.shape)\n",
    "\n",
    "        return x"
   ]
  },
  {
   "cell_type": "code",
   "execution_count": 56,
   "metadata": {},
   "outputs": [
    {
     "name": "stdout",
     "output_type": "stream",
     "text": [
      "Using device: cpu\n"
     ]
    }
   ],
   "source": [
    "device = torch.device(\"cuda\" if torch.cuda.is_available() else \"cpu\")\n",
    "print(\"Using device:\", device)\n",
    "input_size = 50\n",
    "hidden_size = 25\n",
    "output_size = 1\n",
    "lr = 0.001\n",
    "\n",
    "mlp = AttentionSimple(embeddings,input_size, hidden_size, output_size).to(device)\n",
    "critere = nn.BCELoss()\n",
    "optim = torch.optim.Adam(mlp.parameters(), lr=lr)\n",
    "\n",
    "writer = SummaryWriter()\n",
    "\n"
   ]
  },
  {
   "cell_type": "code",
   "execution_count": 57,
   "metadata": {},
   "outputs": [],
   "source": [
    "loss_values, accuracy_values, loss_eval, accuracy_values_eval = train(mlp, optim, train_dataset, test_dataset,10, device, writer)"
   ]
  },
  {
   "cell_type": "code",
   "execution_count": 58,
   "metadata": {},
   "outputs": [
    {
     "data": {
      "image/png": "[encoded data removed]",
      "text/plain": [
       "<Figure size 432x288 with 1 Axes>"
      ]
     },
     "metadata": {
      "needs_background": "light"
     },
     "output_type": "display_data"
    }
   ],
   "source": [
    "\n",
    "plt.figure()\n",
    "plt.plot(loss_values,label=\"Loss en train\")\n",
    "plt.plot(loss_eval,label=\"Loss en validation\")\n",
    "plt.legend()\n",
    "plt.show()"
   ]
  },
  {
   "cell_type": "code",
   "execution_count": 59,
   "metadata": {},
   "outputs": [
    {
     "data": {
      "image/png": "[encoded data removed]",
      "text/plain": [
       "<Figure size 432x288 with 1 Axes>"
      ]
     },
     "metadata": {
      "needs_background": "light"
     },
     "output_type": "display_data"
    }
   ],
   "source": [
    "\n",
    "plt.figure()\n",
    "plt.plot(accuracy_values,label=\"Accuracy en train\")\n",
    "plt.plot(accuracy_values_eval,label=\"Accuracy en validation\")\n",
    "plt.legend()\n",
    "plt.show()"
   ]
  },
  {
   "cell_type": "markdown",
   "metadata": {},
   "source": [
    "## Question et valeur"
   ]
  },
  {
   "cell_type": "code",
   "execution_count": 102,
   "metadata": {},
   "outputs": [],
   "source": [
    "class Attention(nn.Module):\n",
    "    def __init__(self, embeddings,input_size,hidden_size, output_size):\n",
    "        super(Attention, self).__init__()\n",
    "        self.emb = torch.nn.Embedding.from_pretrained(torch.FloatTensor(embeddings)).requires_grad_(False)\n",
    "\n",
    "        self.lin_q = nn.Linear(input_size, input_size)\n",
    "        self.lin_v = nn.Linear(input_size, input_size)\n",
    "\n",
    "\n",
    "        self.mlp= nn.Sequential(\n",
    "            nn.Linear(input_size, hidden_size),\n",
    "            nn.ReLU(),\n",
    "            nn.Linear(hidden_size, output_size), \n",
    "            nn.Sigmoid() \n",
    "        )\n",
    "\n",
    "    def forward(self, x):\n",
    "        \n",
    "        x_emb = self.emb(x)\n",
    "        #print('x_emb: ', x_emb.shape)\n",
    "\n",
    "        t_hat = torch.mean(x_emb, dim=1)\n",
    "        #print(\"mean : \", t_hat.shape)\n",
    "\n",
    "        q = self.lin_q(t_hat).unsqueeze(1)\n",
    "        #print(\"query : \", q.shape)\n",
    "\n",
    "        attention = F.softmax(x_emb @ q.transpose(1,2), dim=1) \n",
    "        #print(\"attention : \", attention.shape)\n",
    "\n",
    "        v = self.lin_v(x_emb)\n",
    "        #print(\"v: \", v.shape)\n",
    "\n",
    "        v_att = v*attention\n",
    "        #print('v_att: ', v_att.shape)\n",
    "\n",
    "        v_weighted = torch.sum(v, dim=1)\n",
    "        print('v_weighted: ', v_weighted.shape)\n",
    "        \n",
    "        x = self.mlp(v_weighted)\n",
    "        print('x mlp: ', x.shape)\n",
    "\n",
    "        return x"
   ]
  },
  {
   "cell_type": "code",
   "execution_count": 103,
   "metadata": {},
   "outputs": [
    {
     "name": "stdout",
     "output_type": "stream",
     "text": [
      "torch.Size([32, 818])\n",
      "x_emb:  torch.Size([32, 818, 50])\n",
      "mean :  torch.Size([32, 50])\n",
      "query :  torch.Size([32, 1, 50])\n",
      "attention :  torch.Size([32, 818, 1])\n",
      "v:  torch.Size([32, 818, 50])\n",
      "v_att:  torch.Size([32, 818, 50])\n",
      "v_weighted:  torch.Size([32, 50])\n",
      "x mlp:  torch.Size([32, 1])\n"
     ]
    }
   ],
   "source": [
    "model = Attention(embeddings ,50, 20, 1)\n",
    "for i, (data,target) in enumerate(train_dataset): \n",
    "    print(data.shape)\n",
    "    data = model(data)\n",
    "    break"
   ]
  },
  {
   "cell_type": "code",
   "execution_count": null,
   "metadata": {},
   "outputs": [],
   "source": [
    "device = torch.device(\"cuda\" if torch.cuda.is_available() else \"cpu\")\n",
    "print(\"Using device:\", device)\n",
    "input_size = 50\n",
    "hidden_size = 25\n",
    "output_size = 1\n",
    "lr = 0.001\n",
    "\n",
    "mlp = AttentionSimple(embeddings,input_size, hidden_size, output_size).to(device)\n",
    "critere = nn.BCELoss()\n",
    "optim = torch.optim.Adam(mlp.parameters(), lr=lr)\n",
    "\n",
    "writer = SummaryWriter()"
   ]
  },
  {
   "cell_type": "code",
   "execution_count": null,
   "metadata": {},
   "outputs": [],
   "source": [
    "loss_values, accuracy_values, loss_eval, accuracy_values_eval = train(mlp, optim, train_dataset, test_dataset,10, device, writer)"
   ]
  }
 ],
 "metadata": {
  "kernelspec": {
   "display_name": "Python 3",
   "language": "python",
   "name": "python3"
  },
  "language_info": {
   "codemirror_mode": {
    "name": "ipython",
    "version": 3
   },
   "file_extension": ".py",
   "mimetype": "text/x-python",
   "name": "python",
   "nbconvert_exporter": "python",
   "pygments_lexer": "ipython3",
   "version": "3.10.12"
  }
 },
 "nbformat": 4,
 "nbformat_minor": 2
}
