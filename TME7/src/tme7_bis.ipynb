{
 "cells": [
  {
   "cell_type": "code",
   "execution_count": 1,
   "metadata": {},
   "outputs": [
    {
     "name": "stderr",
     "output_type": "stream",
     "text": [
      "2023-11-21 12:18:47.404726: I tensorflow/core/util/port.cc:110] oneDNN custom operations are on. You may see slightly different numerical results due to floating-point round-off errors from different computation orders. To turn them off, set the environment variable `TF_ENABLE_ONEDNN_OPTS=0`.\n",
      "2023-11-21 12:18:47.433935: I tensorflow/core/platform/cpu_feature_guard.cc:182] This TensorFlow binary is optimized to use available CPU instructions in performance-critical operations.\n",
      "To enable the following instructions: AVX2 AVX_VNNI FMA, in other operations, rebuild TensorFlow with the appropriate compiler flags.\n",
      "2023-11-21 12:18:47.953247: W tensorflow/compiler/tf2tensorrt/utils/py_utils.cc:38] TF-TRT Warning: Could not find TensorRT\n"
     ]
    }
   ],
   "source": [
    "import logging\n",
    "logging.basicConfig(level=logging.INFO)\n",
    "\n",
    "import os\n",
    "from pathlib import Path\n",
    "import torch\n",
    "import torch.nn as nn\n",
    "import torch.nn.functional as F\n",
    "from torch.utils.data import DataLoader, Dataset, random_split\n",
    "from torch.utils.tensorboard import SummaryWriter\n",
    "from tqdm import tqdm\n",
    "import click\n",
    "from torch.utils.data import DataLoader,random_split,TensorDataset\n",
    "\n",
    "from datamaestro import prepare_dataset\n",
    "from sklearn.datasets import load_digits\n",
    "from sklearn.model_selection import train_test_split\n",
    "import numpy as np\n",
    "from keras.datasets import mnist\n",
    "import pytorch_lightning as pl\n",
    "from pytorch_lightning.loggers import TensorBoardLogger\n",
    "import matplotlib.pyplot as plt"
   ]
  },
  {
   "cell_type": "code",
   "execution_count": 43,
   "metadata": {},
   "outputs": [],
   "source": [
    "BATCH_SIZE = 311\n",
    "TRAIN_RATIO = 0.05\n",
    "LOG_PATH = \"/tmp/runs/lightning_logs\"\n",
    "\n",
    "\n",
    "\n",
    "class LitMnistData(pl.LightningDataModule):\n",
    "\n",
    "    def __init__(self,batch_size=BATCH_SIZE,train_ratio=TRAIN_RATIO):\n",
    "        super().__init__()\n",
    "        self.dim_in = None\n",
    "        self.dim_out = None\n",
    "        self.batch_size = batch_size\n",
    "        self.train_ratio = train_ratio\n",
    "\n",
    "    def prepare_data(self):\n",
    "        ### Do not use \"self\" here.\n",
    "        prepare_dataset(\"com.lecun.mnist\")\n",
    "\n",
    "    def setup(self,stage=None):\n",
    "        ds = prepare_dataset(\"com.lecun.mnist\")\n",
    "        if stage ==\"fit\" or stage is None:\n",
    "            # Si on est en phase d'apprentissage\n",
    "            shape = ds.train.images.data().shape\n",
    "            self.dim_in = shape[1]*shape[2]\n",
    "            self.dim_out = len(set(ds.train.labels.data()))\n",
    "            ds_train = TensorDataset(torch.tensor(ds.train.images.data()).view(-1,self.dim_in).float()/255., torch.tensor(ds.train.labels.data()).long())\n",
    "            train_length = int(shape[0]*self.train_ratio)\n",
    "            self.mnist_train, self.mnist_val, = random_split(ds_train,[train_length,shape[0]-train_length])\n",
    "        if stage == \"test\" or stage is None:\n",
    "            # en phase de test\n",
    "            self.mnist_test= TensorDataset(torch.tensor(ds.test.images.data()).view(-1,self.dim_in).float()/255., torch.tensor(ds.test.labels.data()).long())\n",
    "\n",
    "    def train_dataloader(self):\n",
    "        return DataLoader(self.mnist_train,batch_size=self.batch_size)\n",
    "    def val_dataloader(self):\n",
    "        return DataLoader(self.mnist_val,batch_size=self.batch_size)\n",
    "    def test_dataloader(self):\n",
    "        return DataLoader(self.mnist_test,batch_size=self.batch_size)\n",
    "\n",
    "\n",
    "\n"
   ]
  },
  {
   "cell_type": "code",
   "execution_count": 44,
   "metadata": {},
   "outputs": [],
   "source": [
    "data = LitMnistData()\n",
    "data.prepare_data()\n",
    "\n",
    "data.setup()\n",
    "train_loader = data.train_dataloader()\n",
    "val_loader  = data.val_dataloader()\n",
    "test_loader = data.test_dataloader()"
   ]
  },
  {
   "cell_type": "code",
   "execution_count": 45,
   "metadata": {},
   "outputs": [],
   "source": [
    "dim_in = 784\n",
    "dim_out = 10\n",
    "train_length = 50000"
   ]
  },
  {
   "cell_type": "code",
   "execution_count": 46,
   "metadata": {},
   "outputs": [
    {
     "name": "stdout",
     "output_type": "stream",
     "text": [
      "cpu\n"
     ]
    }
   ],
   "source": [
    "import torch\n",
    "import torch.nn as nn\n",
    "import torch.optim as optim\n",
    "from tqdm import tqdm\n",
    "import numpy as np\n",
    "\n",
    "class MLP3(nn.Module):\n",
    "    def __init__(self, dim_in, l, dim_out):\n",
    "        super().__init__()\n",
    "        self.model = nn.Sequential(nn.Linear(dim_in, l), nn.ReLU(), nn.Linear(l, l), nn.ReLU(), nn.Linear(l, dim_out))\n",
    "\n",
    "    def forward(self, x):\n",
    "        x = self.model(x)\n",
    "        return x\n",
    "\n",
    "device = 'cuda' if torch.cuda.is_available() else 'cpu'\n",
    "print(device)\n",
    "\n",
    "epoch = 100\n",
    "dim_latent = 100\n",
    "model = MLP3(dim_in, dim_latent, dim_out).to(device)\n",
    "optimizer = torch.optim.SGD(model.parameters(), lr=0.01)\n",
    "\n",
    "def train(train_loader, test_loader, model, optimizer, epoch, device):\n",
    "    l_train = []\n",
    "    l_test = []\n",
    "    a_train = []\n",
    "    a_test = []\n",
    "    \n",
    "    criterion = nn.CrossEntropyLoss()  # Use CrossEntropyLoss directly\n",
    "\n",
    "    for e in tqdm(range(epoch)):\n",
    "        loss_train = []\n",
    "        loss_test = []\n",
    "        acc_train = []\n",
    "        acc_test = []\n",
    "        \n",
    "        model.train()\n",
    "        for batch_idx, (data, target) in enumerate(train_loader):\n",
    "            data, target = data.to(device), target.to(device)\n",
    "            optimizer.zero_grad()\n",
    "            output = model(data)\n",
    "            loss = criterion(output, target)\n",
    "            loss.backward()\n",
    "            optimizer.step()\n",
    "            \n",
    "            if batch_idx % 10 == 0:\n",
    "                loss_train.append(loss.item())\n",
    "                acc_train.append((output.argmax(1).detach().to('cpu') == target.detach().to('cpu')).sum().item() / len(target))\n",
    "\n",
    "        l_train.append(np.mean(loss_train))\n",
    "        a_train.append(np.mean(acc_train))\n",
    "\n",
    "        model.eval()\n",
    "        with torch.no_grad():\n",
    "            for batch_idx, (data, target) in enumerate(test_loader):\n",
    "                data, target = data.to(device), target.to(device)\n",
    "                output = model(data)\n",
    "                loss = criterion(output, target)\n",
    "                \n",
    "                if batch_idx % 10 == 0:\n",
    "                    loss_test.append(loss.item())\n",
    "                    acc_test.append((output.argmax(1).detach().to('cpu') == target.detach().to('cpu')).sum().item() / len(target))\n",
    "\n",
    "        l_test.append(np.mean(loss_test))\n",
    "        a_test.append(np.mean(acc_test))\n",
    "    \n",
    "    return l_train, l_test, a_train, a_test\n"
   ]
  },
  {
   "cell_type": "code",
   "execution_count": 47,
   "metadata": {},
   "outputs": [
    {
     "name": "stderr",
     "output_type": "stream",
     "text": [
      "100%|██████████| 100/100 [00:44<00:00,  2.24it/s]\n"
     ]
    }
   ],
   "source": [
    "loss_train, loss_test, acc_train, acc_test = train(train_loader, val_loader, model, optimizer, epoch, device)"
   ]
  },
  {
   "cell_type": "code",
   "execution_count": 48,
   "metadata": {},
   "outputs": [
    {
     "data": {
      "image/png": "[encoded data removed]",
      "text/plain": [
       "<Figure size 432x288 with 1 Axes>"
      ]
     },
     "metadata": {
      "needs_background": "light"
     },
     "output_type": "display_data"
    }
   ],
   "source": [
    "plt.figure()\n",
    "plt.plot(loss_train,label=\"Loss en train\")\n",
    "plt.plot(loss_test,label=\"Loss en test\")\n",
    "plt.legend()\n",
    "plt.show()"
   ]
  },
  {
   "cell_type": "code",
   "execution_count": 49,
   "metadata": {},
   "outputs": [
    {
     "data": {
      "image/png": "[encoded data removed]",
      "text/plain": [
       "<Figure size 432x288 with 1 Axes>"
      ]
     },
     "metadata": {
      "needs_background": "light"
     },
     "output_type": "display_data"
    }
   ],
   "source": [
    "plt.figure()\n",
    "plt.plot(acc_train,label=\"Accuracy en train\")\n",
    "plt.plot(acc_test,label=\"Accuracy en test\")\n",
    "plt.legend()\n",
    "plt.show()"
   ]
  },
  {
   "cell_type": "code",
   "execution_count": 50,
   "metadata": {},
   "outputs": [
    {
     "name": "stdout",
     "output_type": "stream",
     "text": [
      "accuracy en train :  0.8070739549839229\n",
      "accuracy en test :  0.812997123032662\n"
     ]
    }
   ],
   "source": [
    "print(\"accuracy en train : \", acc_train[-1])\n",
    "print(\"accuracy en test : \", acc_test[-1])"
   ]
  },
  {
   "cell_type": "code",
   "execution_count": null,
   "metadata": {},
   "outputs": [],
   "source": []
  },
  {
   "cell_type": "code",
   "execution_count": null,
   "metadata": {},
   "outputs": [],
   "source": []
  },
  {
   "cell_type": "code",
   "execution_count": null,
   "metadata": {},
   "outputs": [],
   "source": []
  }
 ],
 "metadata": {
  "kernelspec": {
   "display_name": "Python 3",
   "language": "python",
   "name": "python3"
  },
  "language_info": {
   "codemirror_mode": {
    "name": "ipython",
    "version": 3
   },
   "file_extension": ".py",
   "mimetype": "text/x-python",
   "name": "python",
   "nbconvert_exporter": "python",
   "pygments_lexer": "ipython3",
   "version": "3.10.12"
  }
 },
 "nbformat": 4,
 "nbformat_minor": 2
}
