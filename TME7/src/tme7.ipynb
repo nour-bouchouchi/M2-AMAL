{
 "cells": [
  {
   "cell_type": "code",
   "execution_count": 57,
   "metadata": {},
   "outputs": [],
   "source": [
    "import logging\n",
    "logging.basicConfig(level=logging.INFO)\n",
    "\n",
    "import os\n",
    "from pathlib import Path\n",
    "import torch\n",
    "import torch.nn as nn\n",
    "import torch.nn.functional as F\n",
    "from torch.utils.data import DataLoader, Dataset, random_split\n",
    "from torch.utils.tensorboard import SummaryWriter\n",
    "from tqdm import tqdm\n",
    "import click\n",
    "from torch.utils.data import DataLoader,random_split,TensorDataset\n",
    "\n",
    "from datamaestro import prepare_dataset\n",
    "from sklearn.datasets import load_digits\n",
    "from sklearn.model_selection import train_test_split\n",
    "import numpy as np\n",
    "from keras.datasets import mnist\n",
    "import pytorch_lightning as pl\n",
    "from pytorch_lightning.loggers import TensorBoardLogger\n",
    "import matplotlib.pyplot as plt\n",
    "import torch\n",
    "import torch.nn as nn\n",
    "import torch.optim as optim\n",
    "from tqdm import tqdm\n",
    "import numpy as np\n",
    "from torch.utils.data import Subset\n",
    "import datetime\n",
    "import argparse\n",
    "\n",
    "import torch.optim as optim\n",
    "from torch.utils.data import DataLoader\n",
    "from tqdm import tqdm\n",
    "import optuna"
   ]
  },
  {
   "cell_type": "code",
   "execution_count": 58,
   "metadata": {},
   "outputs": [],
   "source": [
    "BATCH_SIZE = 311\n",
    "TRAIN_RATIO = 0.05\n",
    "LOG_PATH = \"/tmp/runs/lightning_logs\"\n"
   ]
  },
  {
   "cell_type": "code",
   "execution_count": 59,
   "metadata": {},
   "outputs": [],
   "source": [
    "class LitMnistData(pl.LightningDataModule):\n",
    "\n",
    "    def __init__(self,batch_size=BATCH_SIZE,train_ratio=TRAIN_RATIO):\n",
    "        super().__init__()\n",
    "        self.dim_in = None\n",
    "        self.dim_out = None\n",
    "        self.batch_size = batch_size\n",
    "        self.train_ratio = train_ratio\n",
    "\n",
    "    def prepare_data(self):\n",
    "        ### Do not use \"self\" here.\n",
    "        prepare_dataset(\"com.lecun.mnist\")\n",
    "\n",
    "    def setup(self,stage=None):\n",
    "        ds = prepare_dataset(\"com.lecun.mnist\")\n",
    "        if stage ==\"fit\" or stage is None:\n",
    "            # Si on est en phase d'apprentissage\n",
    "            shape = ds.train.images.data().shape\n",
    "            self.dim_in = shape[1]*shape[2]\n",
    "            self.dim_out = len(set(ds.train.labels.data()))\n",
    "            ds_train = TensorDataset(torch.tensor(ds.train.images.data()).view(-1,self.dim_in).float()/255., torch.tensor(ds.train.labels.data()).long())\n",
    "            train_length = int(shape[0]*self.train_ratio)\n",
    "            self.mnist_train, self.mnist_val, = random_split(ds_train,[train_length,shape[0]-train_length])\n",
    "        if stage == \"test\" or stage is None:\n",
    "            # en phase de test\n",
    "            self.mnist_test= TensorDataset(torch.tensor(ds.test.images.data()).view(-1,self.dim_in).float()/255., torch.tensor(ds.test.labels.data()).long())\n",
    "\n",
    "    def train_dataloader(self):\n",
    "        return DataLoader(self.mnist_train,batch_size=self.batch_size)\n",
    "    def val_dataloader(self):\n",
    "        return DataLoader(self.mnist_val,batch_size=self.batch_size)\n",
    "    def test_dataloader(self):\n",
    "        return DataLoader(self.mnist_test,batch_size=self.batch_size)\n",
    "\n",
    "\n",
    "\n"
   ]
  },
  {
   "cell_type": "code",
   "execution_count": 60,
   "metadata": {},
   "outputs": [],
   "source": [
    "class MLP3(nn.Module):\n",
    "    def __init__(self, dim_in, l, dim_out):\n",
    "        super().__init__()\n",
    "        self.model = nn.Sequential(nn.Linear(dim_in, l), nn.ReLU(), nn.Linear(l, l), nn.ReLU(), nn.Linear(l, dim_out))\n",
    "\n",
    "    def forward(self, x):\n",
    "        x = self.model(x)\n",
    "        return x\n",
    "\n"
   ]
  },
  {
   "cell_type": "code",
   "execution_count": 61,
   "metadata": {},
   "outputs": [],
   "source": [
    "\n",
    "def train(train_loader, test_loader, model, optimizer, epoch, device, writer, param_reg_l1=None):\n",
    "    l_train = []\n",
    "    l_val = []\n",
    "    a_train = []\n",
    "    a_val = []\n",
    "    \n",
    "    criterion = nn.CrossEntropyLoss()  \n",
    "\n",
    "    write_tensorboard = epoch//20\n",
    "\n",
    "    for e in tqdm(range(epoch)):\n",
    "        loss_train = []\n",
    "        loss_val = []\n",
    "        acc_train = []\n",
    "        acc_val = []\n",
    "\n",
    "        ##################\n",
    "        ###### Train #####\n",
    "        ##################\n",
    "\n",
    "        model.train()\n",
    "        for batch_idx, (data, target) in enumerate(train_loader):\n",
    "            data, target = data.to(device), target.to(device)\n",
    "            optimizer.zero_grad()\n",
    "            output = model(data)\n",
    "            loss = criterion(output, target)\n",
    "           \n",
    "            # Régularisation L1 \n",
    "            if param_reg_l1 != None : \n",
    "                l1_reg = torch.tensor(0.0, requires_grad=True).to(device)\n",
    "                for param in model.parameters():\n",
    "                    l1_reg = l1_reg + torch.norm(param, 1)\n",
    "                loss = loss + param_reg_l1 * l1_reg\n",
    "\n",
    "            loss.backward()\n",
    "            optimizer.step()\n",
    "            \n",
    "            loss_train.append(loss.item())\n",
    "            acc_train.append((output.argmax(1).detach().to('cpu') == target.detach().to('cpu')).sum().item() / len(target))\n",
    "        \n",
    "        l_train.append(np.mean(loss_train))\n",
    "        a_train.append(np.mean(acc_train))\n",
    "\n",
    "        if write_tensorboard != 0 and e % write_tensorboard == 0:\n",
    " \n",
    "\n",
    "\n",
    "            writer.add_scalar('Loss train', np.mean(loss_train), e)\n",
    "        \n",
    "        \n",
    "            for name, weight in model.named_parameters():\n",
    "                writer.add_histogram(name, weight, e)\n",
    "                writer.add_histogram(f'{name}.grad', weight.grad, e)\n",
    "\n",
    "            entropie = criterion(output,target)\n",
    "            writer.add_histogram('Entropy train', entropie, e)\n",
    "\n",
    "         \n",
    "            writer.add_scalar('Accuracy train', np.mean(acc_train), e)\n",
    "\n",
    "        ##################\n",
    "        ###### Eval ######\n",
    "        ##################\n",
    "\n",
    "        model.eval()\n",
    "        with torch.no_grad():\n",
    "            for batch_idx, (data, target) in enumerate(test_loader):\n",
    "                data, target = data.to(device), target.to(device)\n",
    "                output = model(data)\n",
    "                loss = criterion(output, target)\n",
    "                \n",
    "                loss_val.append(loss.item())\n",
    "                acc_val.append((output.argmax(1).detach().to('cpu') == target.detach().to('cpu')).sum().item() / len(target))\n",
    "\n",
    "        l_val.append(np.mean(loss_val))\n",
    "        a_val.append(np.mean(acc_val))\n",
    "\n",
    "        if write_tensorboard != 0 and e % write_tensorboard == 0:\n",
    " \n",
    "\n",
    "            writer.add_scalar('Loss validation', np.mean(loss_val), e)\n",
    "        \n",
    "        \n",
    "            for name, weight in model.named_parameters():\n",
    "                writer.add_histogram(name, weight, e)\n",
    "                writer.add_histogram(f'{name}.grad', weight.grad, e)\n",
    "\n",
    "            entropie = criterion(output,target)\n",
    "            writer.add_histogram('Entropy validation', entropie, e)\n",
    "\n",
    "         \n",
    "            writer.add_scalar('Accuracy validation', np.mean(acc_val), e)\n",
    "    \n",
    "    return l_train, l_val, a_train, a_val\n"
   ]
  },
  {
   "cell_type": "code",
   "execution_count": 62,
   "metadata": {},
   "outputs": [],
   "source": [
    "def test(test_loader, model, device):\n",
    "    acc = 0\n",
    "    model.eval()\n",
    "    with torch.no_grad():\n",
    "        for batch_idx, (data, target) in enumerate(test_loader):\n",
    "            data, target = data.to(device), target.to(device)\n",
    "            output = model(data)\n",
    "            acc += (output.argmax(1).detach().to('cpu') == target.detach().to('cpu')).sum().item() / len(target)\n",
    " \n",
    "    acc /= len(test_loader)\n",
    "    return acc"
   ]
  },
  {
   "cell_type": "code",
   "execution_count": 63,
   "metadata": {},
   "outputs": [
    {
     "name": "stdout",
     "output_type": "stream",
     "text": [
      "cpu\n"
     ]
    }
   ],
   "source": [
    "device = 'cuda' if torch.cuda.is_available() else 'cpu'\n",
    "print(device)\n"
   ]
  },
  {
   "cell_type": "code",
   "execution_count": 64,
   "metadata": {},
   "outputs": [],
   "source": [
    "data = LitMnistData()\n",
    "data.prepare_data()\n",
    "\n",
    "data.setup()\n",
    "train_loader = data.train_dataloader()\n",
    "val_loader  = data.val_dataloader()\n",
    "test_loader = data.test_dataloader()"
   ]
  },
  {
   "cell_type": "code",
   "execution_count": 65,
   "metadata": {},
   "outputs": [],
   "source": [
    "sub_train_length = int(len(train_loader.dataset) * TRAIN_RATIO)\n",
    "sub_train_set = Subset(train_loader.dataset, range(sub_train_length))\n",
    "sub_train_loader = DataLoader(sub_train_set, batch_size=train_loader.batch_size, shuffle=True)"
   ]
  },
  {
   "cell_type": "code",
   "execution_count": 66,
   "metadata": {},
   "outputs": [],
   "source": [
    "dim_in = 784\n",
    "dim_out = 10\n",
    "train_length = 50000"
   ]
  },
  {
   "cell_type": "code",
   "execution_count": 67,
   "metadata": {},
   "outputs": [],
   "source": [
    "epoch = 1000\n",
    "dim_latent = 100\n",
    "model = MLP3(dim_in, dim_latent, dim_out).to(device)\n",
    "optimizer = torch.optim.SGD(model.parameters(), lr=0.1)\n"
   ]
  },
  {
   "cell_type": "code",
   "execution_count": 68,
   "metadata": {},
   "outputs": [],
   "source": [
    "writer = SummaryWriter(\"tp7/\"+datetime.datetime.now().strftime(\"%Y%m%d-%H%M%S\"))"
   ]
  },
  {
   "cell_type": "code",
   "execution_count": 69,
   "metadata": {},
   "outputs": [
    {
     "name": "stderr",
     "output_type": "stream",
     "text": [
      "100%|██████████| 1000/1000 [09:03<00:00,  1.84it/s]\n"
     ]
    }
   ],
   "source": [
    "loss_train, loss_val, acc_train, acc_val = train(sub_train_loader, val_loader, model, optimizer, epoch, device, writer)"
   ]
  },
  {
   "cell_type": "code",
   "execution_count": 70,
   "metadata": {},
   "outputs": [
    {
     "name": "stdout",
     "output_type": "stream",
     "text": [
      "150\n"
     ]
    }
   ],
   "source": [
    "print(len(sub_train_loader.dataset))"
   ]
  },
  {
   "cell_type": "code",
   "execution_count": 71,
   "metadata": {},
   "outputs": [
    {
     "data": {
      "image/png": "[encoded data removed]",
      "text/plain": [
       "<Figure size 432x288 with 1 Axes>"
      ]
     },
     "metadata": {
      "needs_background": "light"
     },
     "output_type": "display_data"
    }
   ],
   "source": [
    "plt.figure()\n",
    "plt.plot(loss_train,label=\"Loss en train\")\n",
    "plt.plot(loss_val,label=\"Loss en validation\")\n",
    "plt.legend()\n",
    "plt.show()"
   ]
  },
  {
   "cell_type": "code",
   "execution_count": 72,
   "metadata": {},
   "outputs": [
    {
     "data": {
      "image/png": "[encoded data removed]",
      "text/plain": [
       "<Figure size 432x288 with 1 Axes>"
      ]
     },
     "metadata": {
      "needs_background": "light"
     },
     "output_type": "display_data"
    }
   ],
   "source": [
    "plt.figure()\n",
    "plt.plot(acc_train,label=\"Accuracy en train\")\n",
    "plt.plot(acc_val,label=\"Accuracy en validation\")\n",
    "plt.legend()\n",
    "plt.show()"
   ]
  },
  {
   "cell_type": "code",
   "execution_count": 73,
   "metadata": {},
   "outputs": [
    {
     "name": "stdout",
     "output_type": "stream",
     "text": [
      "accuracy en train :  1.0\n",
      "accuracy en validation :  0.7866320055406382\n"
     ]
    }
   ],
   "source": [
    "print(\"accuracy en train : \", acc_train[-1])\n",
    "print(\"accuracy en validation : \", acc_val[-1])"
   ]
  },
  {
   "cell_type": "code",
   "execution_count": 74,
   "metadata": {},
   "outputs": [],
   "source": [
    "acc_test = test(test_loader, model, device)"
   ]
  },
  {
   "cell_type": "code",
   "execution_count": 75,
   "metadata": {},
   "outputs": [
    {
     "name": "stdout",
     "output_type": "stream",
     "text": [
      "accuracy en test :  0.7955580726882976\n"
     ]
    }
   ],
   "source": [
    "print(\"accuracy en test : \", acc_test)\n"
   ]
  },
  {
   "cell_type": "markdown",
   "metadata": {},
   "source": [
    "## régularisation l1/l2"
   ]
  },
  {
   "cell_type": "code",
   "execution_count": 76,
   "metadata": {},
   "outputs": [
    {
     "name": "stderr",
     "output_type": "stream",
     "text": [
      "100%|██████████| 1000/1000 [01:32<00:00, 10.85it/s]\n"
     ]
    }
   ],
   "source": [
    "writer_reg = SummaryWriter(\"tp7_reg/\"+datetime.datetime.now().strftime(\"%Y%m%d-%H%M%S\"))\n",
    "model_reg = MLP3(dim_in, dim_latent, dim_out).to(device)\n",
    "l2_regularization = 0.01\n",
    "param_regularization_l1 = 1e-5\n",
    "optimizer_reg = torch.optim.SGD(model_reg.parameters(), lr=0.1, weight_decay=l2_regularization)\n",
    "loss_train_reg, loss_val_reg, acc_train_reg, acc_val_reg =train(sub_train_loader, test_loader, model_reg, optimizer_reg, epoch, device, writer_reg, param_reg_l1=param_regularization_l1)\n"
   ]
  },
  {
   "cell_type": "code",
   "execution_count": 77,
   "metadata": {},
   "outputs": [
    {
     "data": {
      "image/png": "[encoded data removed]",
      "text/plain": [
       "<Figure size 432x288 with 1 Axes>"
      ]
     },
     "metadata": {
      "needs_background": "light"
     },
     "output_type": "display_data"
    }
   ],
   "source": [
    "plt.figure()\n",
    "plt.plot(loss_train_reg,label=\"Loss en train avec régularisation l1/l2\")\n",
    "plt.plot(loss_val_reg,label=\"Loss en validation avec régularisation l1/l2\")\n",
    "plt.legend()\n",
    "plt.show()"
   ]
  },
  {
   "cell_type": "code",
   "execution_count": 78,
   "metadata": {},
   "outputs": [
    {
     "data": {
      "image/png": "[encoded data removed]",
      "text/plain": [
       "<Figure size 432x288 with 1 Axes>"
      ]
     },
     "metadata": {
      "needs_background": "light"
     },
     "output_type": "display_data"
    }
   ],
   "source": [
    "plt.figure()\n",
    "plt.plot(acc_train_reg,label=\"Accuracy en train avec régularisation l1/l2\")\n",
    "plt.plot(acc_val_reg,label=\"Accuracy en validation avec régularisation l1/l2\")\n",
    "plt.legend()\n",
    "plt.show()"
   ]
  },
  {
   "cell_type": "code",
   "execution_count": 79,
   "metadata": {},
   "outputs": [
    {
     "name": "stdout",
     "output_type": "stream",
     "text": [
      "accuracy en train :  1.0\n",
      "accuracy en validation :  0.7744689661892235\n"
     ]
    }
   ],
   "source": [
    "print(\"accuracy en train : \", acc_train_reg[-1])\n",
    "print(\"accuracy en validation : \", acc_val_reg[-1])"
   ]
  },
  {
   "cell_type": "markdown",
   "metadata": {},
   "source": [
    "## Dropout "
   ]
  },
  {
   "cell_type": "code",
   "execution_count": 80,
   "metadata": {},
   "outputs": [],
   "source": [
    "class MLP3_Dropout(nn.Module):\n",
    "    def __init__(self, dim_in, l, dim_out):\n",
    "        super().__init__()\n",
    "        self.model = nn.Sequential(nn.Linear(dim_in, l), \n",
    "                                   nn.ReLU(), \n",
    "                                   nn.Dropout(0.1),\n",
    "                                   nn.Linear(l, l), \n",
    "                                   nn.BatchNorm1d(l),\n",
    "                                   nn.ReLU(), \n",
    "                                   nn.Dropout(0.1),\n",
    "                                   nn.Linear(l, dim_out))\n",
    "\n",
    "    def forward(self, x):\n",
    "        x = self.model(x)\n",
    "        return x"
   ]
  },
  {
   "cell_type": "code",
   "execution_count": 81,
   "metadata": {},
   "outputs": [
    {
     "name": "stderr",
     "output_type": "stream",
     "text": [
      "100%|██████████| 1000/1000 [01:36<00:00, 10.40it/s]\n"
     ]
    }
   ],
   "source": [
    "writer_reg_dropout = SummaryWriter(\"tp7_reg_dropout/\"+datetime.datetime.now().strftime(\"%Y%m%d-%H%M%S\"))\n",
    "model_reg_dropout = MLP3_Dropout(dim_in, dim_latent, dim_out).to(device)\n",
    "l2_regularization = 0.01\n",
    "param_regularization_l1 = 1e-5\n",
    "optimizer_reg = torch.optim.SGD(model_reg_dropout.parameters(), lr=0.1, weight_decay=l2_regularization)\n",
    "loss_train_drop, loss_val_drop, acc_train_drop, acc_val_drop =train(sub_train_loader, test_loader, model_reg_dropout, optimizer_reg, epoch, device, writer_reg_dropout, param_reg_l1=param_regularization_l1)\n"
   ]
  },
  {
   "cell_type": "code",
   "execution_count": 82,
   "metadata": {},
   "outputs": [
    {
     "data": {
      "image/png": "[encoded data removed]",
      "text/plain": [
       "<Figure size 432x288 with 1 Axes>"
      ]
     },
     "metadata": {
      "needs_background": "light"
     },
     "output_type": "display_data"
    }
   ],
   "source": [
    "plt.figure()\n",
    "plt.plot(loss_train_drop,label=\"Loss en train avec dropout\")\n",
    "plt.plot(loss_val_drop,label=\"Loss en validation avec dropout\")\n",
    "plt.legend()\n",
    "plt.show()"
   ]
  },
  {
   "cell_type": "code",
   "execution_count": 83,
   "metadata": {},
   "outputs": [
    {
     "data": {
      "image/png": "[encoded data removed]",
      "text/plain": [
       "<Figure size 432x288 with 1 Axes>"
      ]
     },
     "metadata": {
      "needs_background": "light"
     },
     "output_type": "display_data"
    }
   ],
   "source": [
    "plt.figure()\n",
    "plt.plot(acc_train_drop,label=\"Accuracy en train avec dropout\")\n",
    "plt.plot(acc_val_drop,label=\"Accuracy en validation avec dropout\")\n",
    "plt.legend()\n",
    "plt.show()"
   ]
  },
  {
   "cell_type": "code",
   "execution_count": 84,
   "metadata": {},
   "outputs": [
    {
     "name": "stdout",
     "output_type": "stream",
     "text": [
      "accuracy en train :  1.0\n",
      "accuracy en validation :  0.786543083568807\n"
     ]
    }
   ],
   "source": [
    "print(\"accuracy en train : \", acc_train_drop[-1])\n",
    "print(\"accuracy en validation : \", acc_val_drop[-1])"
   ]
  },
  {
   "cell_type": "markdown",
   "metadata": {},
   "source": [
    "## BatchNorm"
   ]
  },
  {
   "cell_type": "code",
   "execution_count": 85,
   "metadata": {},
   "outputs": [],
   "source": [
    "class MLP3_dropout_batchNorm(nn.Module):\n",
    "    def __init__(self, dim_in, l, dim_out):\n",
    "        super().__init__()\n",
    "        self.model = nn.Sequential(nn.Linear(dim_in, l), \n",
    "                                   nn.BatchNorm1d(l),\n",
    "                                   nn.ReLU(), \n",
    "                                   nn.Dropout(0.1),\n",
    "                                   nn.Linear(l, l), \n",
    "                                   nn.BatchNorm1d(l),\n",
    "                                   nn.ReLU(), \n",
    "                                   nn.Dropout(0.1),\n",
    "                                   nn.Linear(l, dim_out))\n",
    "\n",
    "    def forward(self, x):\n",
    "        x = self.model(x)\n",
    "        return x"
   ]
  },
  {
   "cell_type": "code",
   "execution_count": 86,
   "metadata": {},
   "outputs": [
    {
     "name": "stderr",
     "output_type": "stream",
     "text": [
      "100%|██████████| 1000/1000 [01:39<00:00, 10.03it/s]\n"
     ]
    }
   ],
   "source": [
    "writer_reg_dropout_batchnorm = SummaryWriter(\"tp7_reg_dropout_batchnorm/\"+datetime.datetime.now().strftime(\"%Y%m%d-%H%M%S\"))\n",
    "model_reg_dropout_batchnorm = MLP3_dropout_batchNorm(dim_in, dim_latent, dim_out).to(device)\n",
    "l2_regularization = 0.01\n",
    "param_regularization_l1 = 1e-5\n",
    "optimizer_reg = torch.optim.SGD(model_reg_dropout_batchnorm.parameters(), lr=0.1, weight_decay=l2_regularization)\n",
    "loss_train_batch, loss_val_batch, acc_train_batch, acc_val_batch =train(sub_train_loader, test_loader, model_reg_dropout_batchnorm, optimizer_reg, epoch, device, writer_reg_dropout_batchnorm, param_reg_l1=param_regularization_l1)\n"
   ]
  },
  {
   "cell_type": "code",
   "execution_count": 87,
   "metadata": {},
   "outputs": [
    {
     "data": {
      "image/png": "[encoded data removed]",
      "text/plain": [
       "<Figure size 432x288 with 1 Axes>"
      ]
     },
     "metadata": {
      "needs_background": "light"
     },
     "output_type": "display_data"
    }
   ],
   "source": [
    "plt.figure()\n",
    "plt.plot(loss_train_batch,label=\"Loss en train avec batchNorm\")\n",
    "plt.plot(loss_val_batch,label=\"Loss en validation avec batchNorm\")\n",
    "plt.legend()\n",
    "plt.show()"
   ]
  },
  {
   "cell_type": "code",
   "execution_count": 88,
   "metadata": {},
   "outputs": [
    {
     "data": {
      "image/png": "[encoded data removed]",
      "text/plain": [
       "<Figure size 432x288 with 1 Axes>"
      ]
     },
     "metadata": {
      "needs_background": "light"
     },
     "output_type": "display_data"
    }
   ],
   "source": [
    "plt.figure()\n",
    "plt.plot(acc_train_batch,label=\"Accuracy en train avec batchNorm\")\n",
    "plt.plot(acc_val_batch,label=\"Accuracy en validation avec batchNorm\")\n",
    "plt.legend()\n",
    "plt.show()"
   ]
  },
  {
   "cell_type": "code",
   "execution_count": 89,
   "metadata": {},
   "outputs": [
    {
     "name": "stdout",
     "output_type": "stream",
     "text": [
      "accuracy en train :  1.0\n",
      "accuracy en validation :  0.7708008542011756\n"
     ]
    }
   ],
   "source": [
    "print(\"accuracy en train : \", acc_train_batch[-1])\n",
    "print(\"accuracy en validation : \", acc_val_batch[-1])"
   ]
  },
  {
   "cell_type": "markdown",
   "metadata": {},
   "source": [
    "## Layer Norm"
   ]
  },
  {
   "cell_type": "code",
   "execution_count": 90,
   "metadata": {},
   "outputs": [],
   "source": [
    "class MLP3_dropout_layerNorm(nn.Module):\n",
    "    def __init__(self, dim_in, l, dim_out):\n",
    "        super().__init__()\n",
    "        self.model = nn.Sequential(nn.Linear(dim_in, l), \n",
    "                                   nn.LayerNorm(l),\n",
    "                                   nn.ReLU(), \n",
    "                                   nn.Dropout(0.1),\n",
    "                                   nn.Linear(l, l), \n",
    "                                   nn.LayerNorm(l),\n",
    "                                   nn.ReLU(), \n",
    "                                   nn.Dropout(0.1),\n",
    "                                   nn.Linear(l, dim_out))\n",
    "\n",
    "    def forward(self, x):\n",
    "        x = self.model(x)\n",
    "        return x"
   ]
  },
  {
   "cell_type": "code",
   "execution_count": 91,
   "metadata": {},
   "outputs": [
    {
     "name": "stderr",
     "output_type": "stream",
     "text": [
      "100%|██████████| 1000/1000 [01:32<00:00, 10.77it/s]\n"
     ]
    }
   ],
   "source": [
    "writer_reg_dropout_layernorm = SummaryWriter(\"tp7_reg_dropout_layernorm/\"+datetime.datetime.now().strftime(\"%Y%m%d-%H%M%S\"))\n",
    "model_reg_dropout_layernorm = MLP3_dropout_layerNorm(dim_in, dim_latent, dim_out).to(device)\n",
    "l2_regularization = 0.01\n",
    "param_regularization_l1 = 1e-5\n",
    "optimizer_reg = torch.optim.SGD(model_reg_dropout_layernorm.parameters(), lr=0.1, weight_decay=l2_regularization)\n",
    "loss_train_layer, loss_val_layer, acc_train_layer, acc_val_layer =train(sub_train_loader, test_loader, model_reg_dropout_layernorm, optimizer_reg, epoch, device, writer_reg_dropout_layernorm, param_reg_l1=param_regularization_l1)\n"
   ]
  },
  {
   "cell_type": "code",
   "execution_count": 92,
   "metadata": {},
   "outputs": [
    {
     "data": {
      "image/png": "[encoded data removed]",
      "text/plain": [
       "<Figure size 432x288 with 1 Axes>"
      ]
     },
     "metadata": {
      "needs_background": "light"
     },
     "output_type": "display_data"
    }
   ],
   "source": [
    "plt.figure()\n",
    "plt.plot(loss_train_layer,label=\"Loss en train avec layerNorm\")\n",
    "plt.plot(loss_val_layer,label=\"Loss en validation avec layerNorm\")\n",
    "plt.legend()\n",
    "plt.show()"
   ]
  },
  {
   "cell_type": "code",
   "execution_count": 93,
   "metadata": {},
   "outputs": [
    {
     "data": {
      "image/png": "[encoded data removed]",
      "text/plain": [
       "<Figure size 432x288 with 1 Axes>"
      ]
     },
     "metadata": {
      "needs_background": "light"
     },
     "output_type": "display_data"
    }
   ],
   "source": [
    "plt.figure()\n",
    "plt.plot(acc_train_layer,label=\"Accuracy en train avec layerNorm\")\n",
    "plt.plot(acc_val_layer,label=\"Accuracy en validation avec layerNorm\")\n",
    "plt.legend()\n",
    "plt.show()"
   ]
  },
  {
   "cell_type": "code",
   "execution_count": 94,
   "metadata": {},
   "outputs": [
    {
     "name": "stdout",
     "output_type": "stream",
     "text": [
      "accuracy en train :  1.0\n",
      "accuracy en validation :  0.795998570918185\n"
     ]
    }
   ],
   "source": [
    "print(\"accuracy en train : \", acc_train_layer[-1])\n",
    "print(\"accuracy en validation : \", acc_val_layer[-1])"
   ]
  },
  {
   "cell_type": "markdown",
   "metadata": {},
   "source": [
    "## Recherche d’hyperparamètre"
   ]
  },
  {
   "cell_type": "code",
   "execution_count": 95,
   "metadata": {},
   "outputs": [],
   "source": [
    "from optuna.visualization import plot_contour\n",
    "from optuna.visualization import plot_edf\n",
    "from optuna.visualization import plot_intermediate_values\n",
    "from optuna.visualization import plot_optimization_history\n",
    "from optuna.visualization import plot_parallel_coordinate\n",
    "from optuna.visualization import plot_param_importances\n",
    "from optuna.visualization import plot_rank\n",
    "from optuna.visualization import plot_slice\n",
    "from optuna.visualization import plot_timeline"
   ]
  },
  {
   "cell_type": "code",
   "execution_count": 96,
   "metadata": {},
   "outputs": [],
   "source": [
    "def objective(trial):\n",
    "\n",
    "    dim_in =  784\n",
    "    dim_out = 10\n",
    "\n",
    "    param = {\n",
    "        \"l\": trial.suggest_int('l', 10, 100)  ,\n",
    "        \"lr\": trial.suggest_float('lr', 1e-5, 1e-1, log=True)\n",
    "    }\n",
    "    model = MLP3_dropout_batchNorm(dim_in, param[\"l\"], dim_out).to(device)\n",
    "    optimizer = optim.SGD(model.parameters(), lr=param[\"lr\"])\n",
    "    epochs = 10 \n",
    "    _, _, _, acc_val = train(sub_train_loader, test_loader, model, optimizer, epochs, device, None, param_reg_l1=None)\n",
    "\n",
    "    return acc_val[-1]\n"
   ]
  },
  {
   "cell_type": "code",
   "execution_count": 97,
   "metadata": {},
   "outputs": [
    {
     "name": "stderr",
     "output_type": "stream",
     "text": [
      "[I 2023-11-28 19:00:10,682] A new study created in memory with name: no-name-a64e895e-8830-48ce-87e5-ddeaf3f7d835\n",
      "100%|██████████| 10/10 [00:00<00:00, 13.16it/s]\n",
      "[I 2023-11-28 19:00:11,448] Trial 0 finished with value: 0.10356377277599142 and parameters: {'l': 40, 'lr': 5.3477006088327755e-05}. Best is trial 0 with value: 0.10356377277599142.\n",
      "100%|██████████| 10/10 [00:01<00:00,  8.96it/s]\n",
      "[I 2023-11-28 19:00:12,567] Trial 1 finished with value: 0.10258939881126376 and parameters: {'l': 52, 'lr': 0.00024350223222632195}. Best is trial 0 with value: 0.10356377277599142.\n",
      "100%|██████████| 10/10 [00:01<00:00,  9.27it/s]\n",
      "[I 2023-11-28 19:00:13,650] Trial 2 finished with value: 0.07535767644288544 and parameters: {'l': 41, 'lr': 0.0003333746180944005}. Best is trial 0 with value: 0.10356377277599142.\n",
      "100%|██████████| 10/10 [00:01<00:00,  8.89it/s]\n",
      "[I 2023-11-28 19:00:14,779] Trial 3 finished with value: 0.11993325538341615 and parameters: {'l': 30, 'lr': 0.00018522825646486625}. Best is trial 3 with value: 0.11993325538341615.\n",
      "100%|██████████| 10/10 [00:01<00:00,  9.30it/s]\n",
      "[I 2023-11-28 19:00:15,859] Trial 4 finished with value: 0.08348760921108186 and parameters: {'l': 55, 'lr': 7.952981773014723e-05}. Best is trial 3 with value: 0.11993325538341615.\n",
      "100%|██████████| 10/10 [00:00<00:00, 12.07it/s]\n",
      "[I 2023-11-28 19:00:16,692] Trial 5 finished with value: 0.03370927928805743 and parameters: {'l': 87, 'lr': 0.0013928356779063214}. Best is trial 3 with value: 0.11993325538341615.\n",
      "100%|██████████| 10/10 [00:01<00:00,  9.21it/s]\n",
      "[I 2023-11-28 19:00:17,782] Trial 6 finished with value: 0.223827909318263 and parameters: {'l': 31, 'lr': 0.01703116325199328}. Best is trial 6 with value: 0.223827909318263.\n",
      "100%|██████████| 10/10 [00:01<00:00,  8.80it/s]\n",
      "[I 2023-11-28 19:00:18,924] Trial 7 finished with value: 0.0794033583422651 and parameters: {'l': 88, 'lr': 0.00042216005182977006}. Best is trial 6 with value: 0.223827909318263.\n",
      "100%|██████████| 10/10 [00:01<00:00,  9.81it/s]\n",
      "[I 2023-11-28 19:00:19,948] Trial 8 finished with value: 0.10497458507908668 and parameters: {'l': 79, 'lr': 2.118746911027315e-05}. Best is trial 6 with value: 0.223827909318263.\n",
      "100%|██████████| 10/10 [00:00<00:00, 24.69it/s]\n",
      "[I 2023-11-28 19:00:20,356] Trial 9 finished with value: 0.117497320471597 and parameters: {'l': 15, 'lr': 0.0011218725262696903}. Best is trial 6 with value: 0.223827909318263.\n",
      "100%|██████████| 10/10 [00:00<00:00, 14.22it/s]\n",
      "[I 2023-11-28 19:00:21,068] Trial 10 finished with value: 0.1978791126701095 and parameters: {'l': 70, 'lr': 0.02352981378584673}. Best is trial 6 with value: 0.223827909318263.\n",
      "100%|██████████| 10/10 [00:01<00:00,  8.64it/s]\n",
      "[I 2023-11-28 19:00:22,240] Trial 11 finished with value: 0.25156711812660365 and parameters: {'l': 76, 'lr': 0.02818984561662886}. Best is trial 11 with value: 0.25156711812660365.\n",
      "100%|██████████| 10/10 [00:01<00:00,  8.90it/s]\n",
      "[I 2023-11-28 19:00:23,375] Trial 12 finished with value: 0.44928180519016525 and parameters: {'l': 66, 'lr': 0.07509662173148697}. Best is trial 12 with value: 0.44928180519016525.\n",
      "100%|██████████| 10/10 [00:01<00:00,  8.99it/s]\n",
      "[I 2023-11-28 19:00:24,502] Trial 13 finished with value: 0.5329338400077949 and parameters: {'l': 66, 'lr': 0.06099854314067278}. Best is trial 13 with value: 0.5329338400077949.\n",
      "100%|██████████| 10/10 [00:01<00:00,  9.00it/s]\n",
      "[I 2023-11-28 19:00:25,628] Trial 14 finished with value: 0.4614188508883043 and parameters: {'l': 65, 'lr': 0.0930146152300883}. Best is trial 13 with value: 0.5329338400077949.\n",
      "100%|██████████| 10/10 [00:01<00:00,  9.06it/s]\n",
      "[I 2023-11-28 19:00:26,744] Trial 15 finished with value: 0.5207582253402189 and parameters: {'l': 100, 'lr': 0.0934867392041049}. Best is trial 13 with value: 0.5329338400077949.\n",
      "100%|██████████| 10/10 [00:01<00:00,  8.41it/s]\n",
      "[I 2023-11-28 19:00:27,947] Trial 16 finished with value: 0.1569513462600279 and parameters: {'l': 99, 'lr': 0.004940904567533033}. Best is trial 13 with value: 0.5329338400077949.\n",
      "100%|██████████| 10/10 [00:01<00:00,  7.56it/s]\n",
      "[I 2023-11-28 19:00:29,284] Trial 17 finished with value: 0.12475843645457795 and parameters: {'l': 96, 'lr': 0.005724519490212814}. Best is trial 13 with value: 0.5329338400077949.\n",
      "100%|██████████| 10/10 [00:01<00:00,  8.81it/s]\n",
      "[I 2023-11-28 19:00:30,434] Trial 18 finished with value: 0.4743313358667057 and parameters: {'l': 56, 'lr': 0.09208852437599188}. Best is trial 13 with value: 0.5329338400077949.\n",
      "100%|██████████| 10/10 [00:01<00:00,  8.73it/s]\n",
      "[I 2023-11-28 19:00:31,595] Trial 19 finished with value: 0.20347161323849428 and parameters: {'l': 89, 'lr': 0.007800896470262943}. Best is trial 13 with value: 0.5329338400077949.\n",
      "100%|██████████| 10/10 [00:01<00:00,  9.70it/s]\n",
      "[I 2023-11-28 19:00:32,641] Trial 20 finished with value: 0.3884889895741986 and parameters: {'l': 76, 'lr': 0.036139754327595676}. Best is trial 13 with value: 0.5329338400077949.\n",
      "100%|██████████| 10/10 [00:01<00:00,  8.71it/s]\n",
      "[I 2023-11-28 19:00:33,800] Trial 21 finished with value: 0.45689410178960016 and parameters: {'l': 63, 'lr': 0.08380309043231503}. Best is trial 13 with value: 0.5329338400077949.\n",
      "100%|██████████| 10/10 [00:00<00:00, 14.27it/s]\n",
      "[I 2023-11-28 19:00:34,516] Trial 22 finished with value: 0.39322079314040725 and parameters: {'l': 47, 'lr': 0.04816566904654761}. Best is trial 13 with value: 0.5329338400077949.\n",
      "100%|██████████| 10/10 [00:01<00:00,  8.62it/s]\n",
      "[I 2023-11-28 19:00:35,692] Trial 23 finished with value: 0.5456514501932509 and parameters: {'l': 57, 'lr': 0.09534872648642258}. Best is trial 23 with value: 0.5456514501932509.\n",
      "100%|██████████| 10/10 [00:00<00:00, 22.75it/s]\n",
      "[I 2023-11-28 19:00:36,147] Trial 24 finished with value: 0.2463440676865114 and parameters: {'l': 24, 'lr': 0.012726164567724876}. Best is trial 23 with value: 0.5456514501932509.\n",
      "100%|██████████| 10/10 [00:00<00:00, 14.11it/s]\n",
      "[I 2023-11-28 19:00:36,864] Trial 25 finished with value: 0.2973038260417682 and parameters: {'l': 59, 'lr': 0.03705886198320452}. Best is trial 23 with value: 0.5456514501932509.\n",
      "100%|██████████| 10/10 [00:01<00:00,  8.65it/s]\n",
      "[I 2023-11-28 19:00:38,035] Trial 26 finished with value: 0.2973545746857644 and parameters: {'l': 46, 'lr': 0.050470152281218164}. Best is trial 23 with value: 0.5456514501932509.\n",
      "100%|██████████| 10/10 [00:01<00:00,  9.95it/s]\n",
      "[I 2023-11-28 19:00:39,056] Trial 27 finished with value: 0.1427884146935594 and parameters: {'l': 11, 'lr': 0.011276643319481836}. Best is trial 23 with value: 0.5456514501932509.\n",
      "100%|██████████| 10/10 [00:01<00:00,  8.73it/s]\n",
      "[I 2023-11-28 19:00:40,217] Trial 28 finished with value: 0.2687039202312514 and parameters: {'l': 82, 'lr': 0.020352900881255305}. Best is trial 23 with value: 0.5456514501932509.\n",
      "100%|██████████| 10/10 [00:01<00:00,  8.62it/s]\n",
      "[I 2023-11-28 19:00:41,393] Trial 29 finished with value: 0.08900297184059243 and parameters: {'l': 69, 'lr': 0.0037174701303784212}. Best is trial 23 with value: 0.5456514501932509.\n",
      "100%|██████████| 10/10 [00:01<00:00,  9.06it/s]\n",
      "[I 2023-11-28 19:00:42,513] Trial 30 finished with value: 0.3196129299425119 and parameters: {'l': 35, 'lr': 0.05017891014057906}. Best is trial 23 with value: 0.5456514501932509.\n",
      "100%|██████████| 10/10 [00:01<00:00,  8.82it/s]\n",
      "[I 2023-11-28 19:00:43,663] Trial 31 finished with value: 0.4814909545616941 and parameters: {'l': 55, 'lr': 0.09850968629090454}. Best is trial 23 with value: 0.5456514501932509.\n",
      "100%|██████████| 10/10 [00:00<00:00, 22.07it/s]\n",
      "[I 2023-11-28 19:00:44,133] Trial 32 finished with value: 0.2415655753678262 and parameters: {'l': 52, 'lr': 0.03219856898881238}. Best is trial 23 with value: 0.5456514501932509.\n",
      "100%|██████████| 10/10 [00:01<00:00,  7.85it/s]\n",
      "[I 2023-11-28 19:00:45,420] Trial 33 finished with value: 0.4087640878235734 and parameters: {'l': 46, 'lr': 0.09953799693101374}. Best is trial 23 with value: 0.5456514501932509.\n",
      "100%|██████████| 10/10 [00:01<00:00,  8.89it/s]\n",
      "[I 2023-11-28 19:00:46,556] Trial 34 finished with value: 0.40321015622462564 and parameters: {'l': 72, 'lr': 0.04711836977154496}. Best is trial 23 with value: 0.5456514501932509.\n",
      "100%|██████████| 10/10 [00:01<00:00,  8.91it/s]\n",
      "[I 2023-11-28 19:00:47,695] Trial 35 finished with value: 0.22764014745526 and parameters: {'l': 40, 'lr': 0.01944648227435904}. Best is trial 23 with value: 0.5456514501932509.\n",
      "100%|██████████| 10/10 [00:01<00:00,  8.81it/s]\n",
      "[I 2023-11-28 19:00:48,846] Trial 36 finished with value: 0.40028297443892297 and parameters: {'l': 61, 'lr': 0.06639950826156321}. Best is trial 23 with value: 0.5456514501932509.\n",
      "100%|██████████| 10/10 [00:01<00:00,  8.92it/s]\n",
      "[I 2023-11-28 19:00:49,983] Trial 37 finished with value: 0.16913914060216312 and parameters: {'l': 49, 'lr': 0.02979389862728106}. Best is trial 23 with value: 0.5456514501932509.\n",
      "100%|██████████| 10/10 [00:00<00:00, 23.04it/s]\n",
      "[I 2023-11-28 19:00:50,433] Trial 38 finished with value: 0.4957208743382377 and parameters: {'l': 57, 'lr': 0.05748650009449627}. Best is trial 23 with value: 0.5456514501932509.\n",
      "100%|██████████| 10/10 [00:01<00:00,  8.77it/s]\n",
      "[I 2023-11-28 19:00:51,588] Trial 39 finished with value: 0.2593580499529053 and parameters: {'l': 94, 'lr': 0.014085240524731032}. Best is trial 23 with value: 0.5456514501932509.\n",
      "100%|██████████| 10/10 [00:00<00:00, 10.32it/s]\n",
      "[I 2023-11-28 19:00:52,571] Trial 40 finished with value: 0.24673381727240248 and parameters: {'l': 25, 'lr': 0.06190872799865389}. Best is trial 23 with value: 0.5456514501932509.\n",
      "100%|██████████| 10/10 [00:01<00:00,  9.45it/s]\n",
      "[I 2023-11-28 19:00:53,642] Trial 41 finished with value: 0.4451001169248758 and parameters: {'l': 54, 'lr': 0.05701001136825143}. Best is trial 23 with value: 0.5456514501932509.\n",
      "100%|██████████| 10/10 [00:00<00:00, 11.61it/s]\n",
      "[I 2023-11-28 19:00:54,516] Trial 42 finished with value: 0.4725693429471564 and parameters: {'l': 59, 'lr': 0.099890517484237}. Best is trial 23 with value: 0.5456514501932509.\n",
      "100%|██████████| 10/10 [00:00<00:00, 10.02it/s]\n",
      "[I 2023-11-28 19:00:55,526] Trial 43 finished with value: 0.37963030627821626 and parameters: {'l': 51, 'lr': 0.024848959590663366}. Best is trial 23 with value: 0.5456514501932509.\n",
      "100%|██████████| 10/10 [00:01<00:00,  9.20it/s]\n",
      "[I 2023-11-28 19:00:56,630] Trial 44 finished with value: 0.3767071843840333 and parameters: {'l': 35, 'lr': 0.038642052034602255}. Best is trial 23 with value: 0.5456514501932509.\n",
      "100%|██████████| 10/10 [00:00<00:00, 24.86it/s]\n",
      "[I 2023-11-28 19:00:57,048] Trial 45 finished with value: 0.27912566176231773 and parameters: {'l': 42, 'lr': 0.059965188724583014}. Best is trial 23 with value: 0.5456514501932509.\n",
      "100%|██████████| 10/10 [00:00<00:00, 22.57it/s]\n",
      "[I 2023-11-28 19:00:57,507] Trial 46 finished with value: 0.28127334437623824 and parameters: {'l': 84, 'lr': 0.022930850152325814}. Best is trial 23 with value: 0.5456514501932509.\n",
      "100%|██████████| 10/10 [00:00<00:00, 14.34it/s]\n",
      "[I 2023-11-28 19:00:58,213] Trial 47 finished with value: 0.4419354314852707 and parameters: {'l': 57, 'lr': 0.06260922876168513}. Best is trial 23 with value: 0.5456514501932509.\n",
      "100%|██████████| 10/10 [00:01<00:00,  9.39it/s]\n",
      "[I 2023-11-28 19:00:59,295] Trial 48 finished with value: 0.26037505277858974 and parameters: {'l': 67, 'lr': 0.03248003010312427}. Best is trial 23 with value: 0.5456514501932509.\n",
      "100%|██████████| 10/10 [00:01<00:00,  8.50it/s]\n",
      "[I 2023-11-28 19:01:00,483] Trial 49 finished with value: 0.5022491799019131 and parameters: {'l': 73, 'lr': 0.09842405664252042}. Best is trial 23 with value: 0.5456514501932509.\n",
      "100%|██████████| 10/10 [00:00<00:00, 14.92it/s]\n",
      "[I 2023-11-28 19:01:01,171] Trial 50 finished with value: 0.26652578843093316 and parameters: {'l': 75, 'lr': 0.017231506072913978}. Best is trial 23 with value: 0.5456514501932509.\n",
      "100%|██████████| 10/10 [00:01<00:00,  9.56it/s]\n",
      "[I 2023-11-28 19:01:02,229] Trial 51 finished with value: 0.3552161486245088 and parameters: {'l': 63, 'lr': 0.06955784005833121}. Best is trial 23 with value: 0.5456514501932509.\n",
      "100%|██████████| 10/10 [00:01<00:00,  8.77it/s]\n",
      "[I 2023-11-28 19:01:03,387] Trial 52 finished with value: 0.4961532527850856 and parameters: {'l': 72, 'lr': 0.0797361693336084}. Best is trial 23 with value: 0.5456514501932509.\n",
      "100%|██████████| 10/10 [00:01<00:00,  9.04it/s]\n",
      "[I 2023-11-28 19:01:04,511] Trial 53 finished with value: 0.4202068920718438 and parameters: {'l': 72, 'lr': 0.04519766659968222}. Best is trial 23 with value: 0.5456514501932509.\n",
      "100%|██████████| 10/10 [00:00<00:00, 19.23it/s]\n",
      "[I 2023-11-28 19:01:05,048] Trial 54 finished with value: 0.37977849231868527 and parameters: {'l': 78, 'lr': 0.06272681137100425}. Best is trial 23 with value: 0.5456514501932509.\n",
      "100%|██████████| 10/10 [00:00<00:00, 18.91it/s]\n",
      "[I 2023-11-28 19:01:05,587] Trial 55 finished with value: 0.4615203481762967 and parameters: {'l': 91, 'lr': 0.07697197701798705}. Best is trial 23 with value: 0.5456514501932509.\n",
      "100%|██████████| 10/10 [00:01<00:00,  8.31it/s]\n",
      "[I 2023-11-28 19:01:06,803] Trial 56 finished with value: 0.44052055929065576 and parameters: {'l': 100, 'lr': 0.03982449594436201}. Best is trial 23 with value: 0.5456514501932509.\n",
      "100%|██████████| 10/10 [00:01<00:00,  8.93it/s]\n",
      "[I 2023-11-28 19:01:07,940] Trial 57 finished with value: 0.4681927798889214 and parameters: {'l': 83, 'lr': 0.02766441258642419}. Best is trial 23 with value: 0.5456514501932509.\n",
      "100%|██████████| 10/10 [00:01<00:00,  9.00it/s]\n",
      "[I 2023-11-28 19:01:09,069] Trial 58 finished with value: 0.5591485595504887 and parameters: {'l': 65, 'lr': 0.07847460584675534}. Best is trial 58 with value: 0.5591485595504887.\n",
      "100%|██████████| 10/10 [00:01<00:00,  9.19it/s]\n",
      "[I 2023-11-28 19:01:10,173] Trial 59 finished with value: 0.5157381694761116 and parameters: {'l': 67, 'lr': 0.0832319879623828}. Best is trial 58 with value: 0.5591485595504887.\n",
      "100%|██████████| 10/10 [00:00<00:00, 21.17it/s]\n",
      "[I 2023-11-28 19:01:10,660] Trial 60 finished with value: 0.323463737048946 and parameters: {'l': 66, 'lr': 0.04146739953550929}. Best is trial 58 with value: 0.5591485595504887.\n",
      "100%|██████████| 10/10 [00:01<00:00,  8.77it/s]\n",
      "[I 2023-11-28 19:01:11,813] Trial 61 finished with value: 0.41050984117704375 and parameters: {'l': 69, 'lr': 0.07706631323922435}. Best is trial 58 with value: 0.5591485595504887.\n",
      "100%|██████████| 10/10 [00:01<00:00,  8.92it/s]\n",
      "[I 2023-11-28 19:01:12,952] Trial 62 finished with value: 0.47413240118224037 and parameters: {'l': 63, 'lr': 0.08315143062823342}. Best is trial 58 with value: 0.5591485595504887.\n",
      "100%|██████████| 10/10 [00:01<00:00,  8.92it/s]\n",
      "[I 2023-11-28 19:01:14,092] Trial 63 finished with value: 0.43604249894442826 and parameters: {'l': 71, 'lr': 0.07783174980373501}. Best is trial 58 with value: 0.5591485595504887.\n",
      "100%|██████████| 10/10 [00:00<00:00, 22.66it/s]\n",
      "[I 2023-11-28 19:01:14,549] Trial 64 finished with value: 0.5288414693559388 and parameters: {'l': 77, 'lr': 0.04531351292926553}. Best is trial 58 with value: 0.5591485595504887.\n",
      "100%|██████████| 10/10 [00:00<00:00, 22.28it/s]\n",
      "[I 2023-11-28 19:01:15,016] Trial 65 finished with value: 0.3712466302900387 and parameters: {'l': 80, 'lr': 0.03363681957191448}. Best is trial 58 with value: 0.5591485595504887.\n",
      "100%|██████████| 10/10 [00:00<00:00, 15.73it/s]\n",
      "[I 2023-11-28 19:01:15,663] Trial 66 finished with value: 0.4561612913702946 and parameters: {'l': 86, 'lr': 0.04731445119311008}. Best is trial 58 with value: 0.5591485595504887.\n",
      "100%|██████████| 10/10 [00:00<00:00, 11.17it/s]\n",
      "[I 2023-11-28 19:01:16,577] Trial 67 finished with value: 0.5678631166975219 and parameters: {'l': 76, 'lr': 0.09730736705117617}. Best is trial 67 with value: 0.5678631166975219.\n",
      "100%|██████████| 10/10 [00:01<00:00,  8.88it/s]\n",
      "[I 2023-11-28 19:01:17,721] Trial 68 finished with value: 0.24615325278508557 and parameters: {'l': 78, 'lr': 0.023717340533890945}. Best is trial 67 with value: 0.5678631166975219.\n",
      "100%|██████████| 10/10 [00:01<00:00,  9.27it/s]\n",
      "[I 2023-11-28 19:01:18,817] Trial 69 finished with value: 0.48383757186007986 and parameters: {'l': 68, 'lr': 0.051522725370567825}. Best is trial 67 with value: 0.5678631166975219.\n",
      "100%|██████████| 10/10 [00:01<00:00,  8.64it/s]\n",
      "[I 2023-11-28 19:01:19,991] Trial 70 finished with value: 0.45546704992042614 and parameters: {'l': 96, 'lr': 0.03877448282566431}. Best is trial 67 with value: 0.5678631166975219.\n",
      "100%|██████████| 10/10 [00:01<00:00,  8.94it/s]\n",
      "[I 2023-11-28 19:01:21,127] Trial 71 finished with value: 0.5386867062912079 and parameters: {'l': 75, 'lr': 0.09823073274248471}. Best is trial 67 with value: 0.5678631166975219.\n",
      "100%|██████████| 10/10 [00:00<00:00, 23.04it/s]\n",
      "[I 2023-11-28 19:01:21,578] Trial 72 finished with value: 0.5500868816785216 and parameters: {'l': 76, 'lr': 0.06893522795333469}. Best is trial 67 with value: 0.5678631166975219.\n",
      "100%|██████████| 10/10 [00:01<00:00,  8.99it/s]\n",
      "[I 2023-11-28 19:01:22,701] Trial 73 finished with value: 0.47506414628601124 and parameters: {'l': 75, 'lr': 0.060339052298088766}. Best is trial 67 with value: 0.5678631166975219.\n",
      "100%|██████████| 10/10 [00:00<00:00, 19.51it/s]\n",
      "[I 2023-11-28 19:01:23,233] Trial 74 finished with value: 0.5164750397869369 and parameters: {'l': 90, 'lr': 0.09961921128876214}. Best is trial 67 with value: 0.5678631166975219.\n",
      "100%|██████████| 10/10 [00:01<00:00,  9.27it/s]\n",
      "[I 2023-11-28 19:01:24,329] Trial 75 finished with value: 0.334470102958849 and parameters: {'l': 80, 'lr': 0.028120891876766526}. Best is trial 67 with value: 0.5678631166975219.\n",
      "100%|██████████| 10/10 [00:01<00:00,  7.33it/s]\n",
      "[I 2023-11-28 19:01:25,712] Trial 76 finished with value: 0.44481186462697714 and parameters: {'l': 87, 'lr': 0.04499561316182582}. Best is trial 67 with value: 0.5678631166975219.\n",
      "100%|██████████| 10/10 [00:01<00:00,  8.64it/s]\n",
      "[I 2023-11-28 19:01:26,888] Trial 77 finished with value: 0.5184197278248726 and parameters: {'l': 60, 'lr': 0.06870656901775349}. Best is trial 67 with value: 0.5678631166975219.\n",
      "100%|██████████| 10/10 [00:01<00:00,  9.59it/s]\n",
      "[I 2023-11-28 19:01:27,950] Trial 78 finished with value: 0.3947371626230147 and parameters: {'l': 64, 'lr': 0.051829892706705454}. Best is trial 67 with value: 0.5678631166975219.\n",
      "100%|██████████| 10/10 [00:00<00:00, 21.45it/s]\n",
      "[I 2023-11-28 19:01:28,433] Trial 79 finished with value: 0.27562603527233753 and parameters: {'l': 75, 'lr': 0.01570892260770265}. Best is trial 67 with value: 0.5678631166975219.\n",
      "100%|██████████| 10/10 [00:00<00:00, 20.33it/s]\n",
      "[I 2023-11-28 19:01:28,935] Trial 80 finished with value: 0.24961025041410892 and parameters: {'l': 81, 'lr': 0.03442345145767649}. Best is trial 67 with value: 0.5678631166975219.\n",
      "100%|██████████| 10/10 [00:00<00:00, 11.32it/s]\n",
      "[I 2023-11-28 19:01:29,828] Trial 81 finished with value: 0.4983354444769235 and parameters: {'l': 59, 'lr': 0.0686097696644887}. Best is trial 67 with value: 0.5678631166975219.\n",
      "100%|██████████| 10/10 [00:00<00:00, 23.88it/s]\n",
      "[I 2023-11-28 19:01:30,256] Trial 82 finished with value: 0.5233464061840268 and parameters: {'l': 65, 'lr': 0.07197408711059884}. Best is trial 67 with value: 0.5678631166975219.\n",
      "100%|██████████| 10/10 [00:01<00:00,  8.83it/s]\n",
      "[I 2023-11-28 19:01:31,398] Trial 83 finished with value: 0.5505700087693656 and parameters: {'l': 62, 'lr': 0.05401712134513742}. Best is trial 67 with value: 0.5678631166975219.\n",
      "100%|██████████| 10/10 [00:01<00:00,  8.46it/s]\n",
      "[I 2023-11-28 19:01:32,598] Trial 84 finished with value: 0.24322201110786315 and parameters: {'l': 77, 'lr': 0.01994766855357251}. Best is trial 67 with value: 0.5678631166975219.\n",
      "100%|██████████| 10/10 [00:00<00:00, 21.90it/s]\n",
      "[I 2023-11-28 19:01:33,073] Trial 85 finished with value: 0.46935796875507485 and parameters: {'l': 62, 'lr': 0.052830226056087795}. Best is trial 67 with value: 0.5678631166975219.\n",
      "100%|██████████| 10/10 [00:01<00:00,  8.49it/s]\n",
      "[I 2023-11-28 19:01:34,267] Trial 86 finished with value: 0.4968820033128715 and parameters: {'l': 65, 'lr': 0.0766911885198324}. Best is trial 67 with value: 0.5678631166975219.\n",
      "100%|██████████| 10/10 [00:01<00:00,  8.94it/s]\n",
      "[I 2023-11-28 19:01:35,404] Trial 87 finished with value: 0.3763722433336581 and parameters: {'l': 70, 'lr': 0.042026736649492684}. Best is trial 67 with value: 0.5678631166975219.\n",
      "100%|██████████| 10/10 [00:01<00:00,  8.44it/s]\n",
      "[I 2023-11-28 19:01:36,607] Trial 88 finished with value: 0.5557382506739419 and parameters: {'l': 74, 'lr': 0.09820178881578817}. Best is trial 67 with value: 0.5678631166975219.\n",
      "100%|██████████| 10/10 [00:01<00:00,  8.35it/s]\n",
      "[I 2023-11-28 19:01:37,826] Trial 89 finished with value: 0.4207955763422001 and parameters: {'l': 74, 'lr': 0.09444507979935936}. Best is trial 67 with value: 0.5678631166975219.\n",
      "100%|██████████| 10/10 [00:00<00:00, 11.56it/s]\n",
      "[I 2023-11-28 19:01:38,709] Trial 90 finished with value: 0.44607449088960344 and parameters: {'l': 70, 'lr': 0.056158708315151774}. Best is trial 67 with value: 0.5678631166975219.\n",
      "100%|██████████| 10/10 [00:01<00:00,  8.84it/s]\n",
      "[I 2023-11-28 19:01:39,858] Trial 91 finished with value: 0.5337600279320537 and parameters: {'l': 53, 'lr': 0.07217980945378619}. Best is trial 67 with value: 0.5678631166975219.\n",
      "100%|██████████| 10/10 [00:01<00:00,  9.49it/s]\n",
      "[I 2023-11-28 19:01:40,929] Trial 92 finished with value: 0.5192032868881743 and parameters: {'l': 55, 'lr': 0.09817167323701333}. Best is trial 67 with value: 0.5678631166975219.\n",
      "100%|██████████| 10/10 [00:00<00:00, 17.54it/s]\n",
      "[I 2023-11-28 19:01:41,517] Trial 93 finished with value: 0.3771862515833577 and parameters: {'l': 52, 'lr': 0.030897647965489074}. Best is trial 67 with value: 0.5678631166975219.\n",
      "100%|██████████| 10/10 [00:01<00:00,  8.62it/s]\n",
      "[I 2023-11-28 19:01:42,694] Trial 94 finished with value: 0.5150094189483257 and parameters: {'l': 84, 'lr': 0.06109557223872505}. Best is trial 67 with value: 0.5678631166975219.\n",
      "100%|██████████| 10/10 [00:00<00:00, 21.97it/s]\n",
      "[I 2023-11-28 19:01:43,168] Trial 95 finished with value: 0.30306075221670076 and parameters: {'l': 58, 'lr': 0.04559891034878692}. Best is trial 67 with value: 0.5678631166975219.\n",
      "100%|██████████| 10/10 [00:01<00:00,  8.91it/s]\n",
      "[I 2023-11-28 19:01:44,307] Trial 96 finished with value: 0.3278017311377441 and parameters: {'l': 50, 'lr': 0.0798682482986343}. Best is trial 67 with value: 0.5678631166975219.\n",
      "100%|██████████| 10/10 [00:00<00:00, 21.33it/s]\n",
      "[I 2023-11-28 19:01:44,794] Trial 97 finished with value: 0.4957675630907142 and parameters: {'l': 48, 'lr': 0.06657421868110798}. Best is trial 67 with value: 0.5678631166975219.\n",
      "100%|██████████| 10/10 [00:01<00:00,  9.99it/s]\n",
      "[I 2023-11-28 19:01:45,813] Trial 98 finished with value: 0.2257888369222774 and parameters: {'l': 44, 'lr': 0.03575967490609509}. Best is trial 67 with value: 0.5678631166975219.\n",
      "100%|██████████| 10/10 [00:00<00:00, 11.67it/s]\n",
      "[I 2023-11-28 19:01:46,688] Trial 99 finished with value: 0.3535637727759914 and parameters: {'l': 53, 'lr': 0.054927720221133854}. Best is trial 67 with value: 0.5678631166975219.\n"
     ]
    }
   ],
   "source": [
    "device = torch.device(\"cuda\" if torch.cuda.is_available() else \"cpu\")\n",
    "\n",
    "pruner = optuna.pruners.MedianPruner()\n",
    "study = optuna.create_study(direction='maximize', pruner=pruner)\n",
    "study.optimize(objective, n_trials=100)"
   ]
  },
  {
   "cell_type": "code",
   "execution_count": 98,
   "metadata": {},
   "outputs": [
    {
     "name": "stdout",
     "output_type": "stream",
     "text": [
      "Best trial:\n",
      "Accuracy: 0.5678631166975219\n",
      "Params: {'l': 76, 'lr': 0.09730736705117617}\n"
     ]
    }
   ],
   "source": [
    "best_trial = study.best_trial\n",
    "best_params = best_trial.params\n",
    "print(\"Best trial:\")\n",
    "print(f\"Accuracy: {best_trial.value}\") \n",
    "print(f\"Params: {best_params}\")"
   ]
  },
  {
   "cell_type": "code",
   "execution_count": 99,
   "metadata": {},
   "outputs": [
    {
     "data": {
      "application/vnd.plotly.v1+json": {
       "config": {
        "plotlyServerURL": "https://plot.ly"
       },
       "data": [
        {
         "mode": "markers",
         "name": "Objective Value",
         "type": "scatter",
         "x": [
          0,
          1,
          2,
          3,
          4,
          5,
          6,
          7,
          8,
          9,
          10,
          11,
          12,
          13,
          14,
          15,
          16,
          17,
          18,
          19,
          20,
          21,
          22,
          23,
          24,
          25,
          26,
          27,
          28,
          29,
          30,
          31,
          32,
          33,
          34,
          35,
          36,
          37,
          38,
          39,
          40,
          41,
          42,
          43,
          44,
          45,
          46,
          47,
          48,
          49,
          50,
          51,
          52,
          53,
          54,
          55,
          56,
          57,
          58,
          59,
          60,
          61,
          62,
          63,
          64,
          65,
          66,
          67,
          68,
          69,
          70,
          71,
          72,
          73,
          74,
          75,
          76,
          77,
          78,
          79,
          80,
          81,
          82,
          83,
          84,
          85,
          86,
          87,
          88,
          89,
          90,
          91,
          92,
          93,
          94,
          95,
          96,
          97,
          98,
          99
         ],
         "y": [
          0.10356377277599142,
          0.10258939881126376,
          0.07535767644288544,
          0.11993325538341615,
          0.08348760921108186,
          0.03370927928805743,
          0.223827909318263,
          0.0794033583422651,
          0.10497458507908668,
          0.117497320471597,
          0.1978791126701095,
          0.25156711812660365,
          0.44928180519016525,
          0.5329338400077949,
          0.4614188508883043,
          0.5207582253402189,
          0.1569513462600279,
          0.12475843645457795,
          0.4743313358667057,
          0.20347161323849428,
          0.3884889895741986,
          0.45689410178960016,
          0.39322079314040725,
          0.5456514501932509,
          0.2463440676865114,
          0.2973038260417682,
          0.2973545746857644,
          0.1427884146935594,
          0.2687039202312514,
          0.08900297184059243,
          0.3196129299425119,
          0.4814909545616941,
          0.2415655753678262,
          0.4087640878235734,
          0.40321015622462564,
          0.22764014745526,
          0.40028297443892297,
          0.16913914060216312,
          0.4957208743382377,
          0.2593580499529053,
          0.24673381727240248,
          0.4451001169248758,
          0.4725693429471564,
          0.37963030627821626,
          0.3767071843840333,
          0.27912566176231773,
          0.28127334437623824,
          0.4419354314852707,
          0.26037505277858974,
          0.5022491799019131,
          0.26652578843093316,
          0.3552161486245088,
          0.4961532527850856,
          0.4202068920718438,
          0.37977849231868527,
          0.4615203481762967,
          0.44052055929065576,
          0.4681927798889214,
          0.5591485595504887,
          0.5157381694761116,
          0.323463737048946,
          0.41050984117704375,
          0.47413240118224037,
          0.43604249894442826,
          0.5288414693559388,
          0.3712466302900387,
          0.4561612913702946,
          0.5678631166975219,
          0.24615325278508557,
          0.48383757186007986,
          0.45546704992042614,
          0.5386867062912079,
          0.5500868816785216,
          0.47506414628601124,
          0.5164750397869369,
          0.334470102958849,
          0.44481186462697714,
          0.5184197278248726,
          0.3947371626230147,
          0.27562603527233753,
          0.24961025041410892,
          0.4983354444769235,
          0.5233464061840268,
          0.5505700087693656,
          0.24322201110786315,
          0.46935796875507485,
          0.4968820033128715,
          0.3763722433336581,
          0.5557382506739419,
          0.4207955763422001,
          0.44607449088960344,
          0.5337600279320537,
          0.5192032868881743,
          0.3771862515833577,
          0.5150094189483257,
          0.30306075221670076,
          0.3278017311377441,
          0.4957675630907142,
          0.2257888369222774,
          0.3535637727759914
         ]
        },
        {
         "mode": "lines",
         "name": "Best Value",
         "type": "scatter",
         "x": [
          0,
          1,
          2,
          3,
          4,
          5,
          6,
          7,
          8,
          9,
          10,
          11,
          12,
          13,
          14,
          15,
          16,
          17,
          18,
          19,
          20,
          21,
          22,
          23,
          24,
          25,
          26,
          27,
          28,
          29,
          30,
          31,
          32,
          33,
          34,
          35,
          36,
          37,
          38,
          39,
          40,
          41,
          42,
          43,
          44,
          45,
          46,
          47,
          48,
          49,
          50,
          51,
          52,
          53,
          54,
          55,
          56,
          57,
          58,
          59,
          60,
          61,
          62,
          63,
          64,
          65,
          66,
          67,
          68,
          69,
          70,
          71,
          72,
          73,
          74,
          75,
          76,
          77,
          78,
          79,
          80,
          81,
          82,
          83,
          84,
          85,
          86,
          87,
          88,
          89,
          90,
          91,
          92,
          93,
          94,
          95,
          96,
          97,
          98,
          99
         ],
         "y": [
          0.10356377277599142,
          0.10356377277599142,
          0.10356377277599142,
          0.11993325538341615,
          0.11993325538341615,
          0.11993325538341615,
          0.223827909318263,
          0.223827909318263,
          0.223827909318263,
          0.223827909318263,
          0.223827909318263,
          0.25156711812660365,
          0.44928180519016525,
          0.5329338400077949,
          0.5329338400077949,
          0.5329338400077949,
          0.5329338400077949,
          0.5329338400077949,
          0.5329338400077949,
          0.5329338400077949,
          0.5329338400077949,
          0.5329338400077949,
          0.5329338400077949,
          0.5456514501932509,
          0.5456514501932509,
          0.5456514501932509,
          0.5456514501932509,
          0.5456514501932509,
          0.5456514501932509,
          0.5456514501932509,
          0.5456514501932509,
          0.5456514501932509,
          0.5456514501932509,
          0.5456514501932509,
          0.5456514501932509,
          0.5456514501932509,
          0.5456514501932509,
          0.5456514501932509,
          0.5456514501932509,
          0.5456514501932509,
          0.5456514501932509,
          0.5456514501932509,
          0.5456514501932509,
          0.5456514501932509,
          0.5456514501932509,
          0.5456514501932509,
          0.5456514501932509,
          0.5456514501932509,
          0.5456514501932509,
          0.5456514501932509,
          0.5456514501932509,
          0.5456514501932509,
          0.5456514501932509,
          0.5456514501932509,
          0.5456514501932509,
          0.5456514501932509,
          0.5456514501932509,
          0.5456514501932509,
          0.5591485595504887,
          0.5591485595504887,
          0.5591485595504887,
          0.5591485595504887,
          0.5591485595504887,
          0.5591485595504887,
          0.5591485595504887,
          0.5591485595504887,
          0.5591485595504887,
          0.5678631166975219,
          0.5678631166975219,
          0.5678631166975219,
          0.5678631166975219,
          0.5678631166975219,
          0.5678631166975219,
          0.5678631166975219,
          0.5678631166975219,
          0.5678631166975219,
          0.5678631166975219,
          0.5678631166975219,
          0.5678631166975219,
          0.5678631166975219,
          0.5678631166975219,
          0.5678631166975219,
          0.5678631166975219,
          0.5678631166975219,
          0.5678631166975219,
          0.5678631166975219,
          0.5678631166975219,
          0.5678631166975219,
          0.5678631166975219,
          0.5678631166975219,
          0.5678631166975219,
          0.5678631166975219,
          0.5678631166975219,
          0.5678631166975219,
          0.5678631166975219,
          0.5678631166975219,
          0.5678631166975219,
          0.5678631166975219,
          0.5678631166975219,
          0.5678631166975219
         ]
        },
        {
         "marker": {
          "color": "#cccccc"
         },
         "mode": "markers",
         "name": "Infeasible Trial",
         "showlegend": false,
         "type": "scatter",
         "x": [],
         "y": []
        }
       ],
       "layout": {
        "template": {
         "data": {
          "bar": [
           {
            "error_x": {
             "color": "#2a3f5f"
            },
            "error_y": {
             "color": "#2a3f5f"
            },
            "marker": {
             "line": {
              "color": "#E5ECF6",
              "width": 0.5
             },
             "pattern": {
              "fillmode": "overlay",
              "size": 10,
              "solidity": 0.2
             }
            },
            "type": "bar"
           }
          ],
          "barpolar": [
           {
            "marker": {
             "line": {
              "color": "#E5ECF6",
              "width": 0.5
             },
             "pattern": {
              "fillmode": "overlay",
              "size": 10,
              "solidity": 0.2
             }
            },
            "type": "barpolar"
           }
          ],
          "carpet": [
           {
            "aaxis": {
             "endlinecolor": "#2a3f5f",
             "gridcolor": "white",
             "linecolor": "white",
             "minorgridcolor": "white",
             "startlinecolor": "#2a3f5f"
            },
            "baxis": {
             "endlinecolor": "#2a3f5f",
             "gridcolor": "white",
             "linecolor": "white",
             "minorgridcolor": "white",
             "startlinecolor": "#2a3f5f"
            },
            "type": "carpet"
           }
          ],
          "choropleth": [
           {
            "colorbar": {
             "outlinewidth": 0,
             "ticks": ""
            },
            "type": "choropleth"
           }
          ],
          "contour": [
           {
            "colorbar": {
             "outlinewidth": 0,
             "ticks": ""
            },
            "colorscale": [
             [
              0,
              "#0d0887"
             ],
             [
              0.1111111111111111,
              "#46039f"
             ],
             [
              0.2222222222222222,
              "#7201a8"
             ],
             [
              0.3333333333333333,
              "#9c179e"
             ],
             [
              0.4444444444444444,
              "#bd3786"
             ],
             [
              0.5555555555555556,
              "#d8576b"
             ],
             [
              0.6666666666666666,
              "#ed7953"
             ],
             [
              0.7777777777777778,
              "#fb9f3a"
             ],
             [
              0.8888888888888888,
              "#fdca26"
             ],
             [
              1,
              "#f0f921"
             ]
            ],
            "type": "contour"
           }
          ],
          "contourcarpet": [
           {
            "colorbar": {
             "outlinewidth": 0,
             "ticks": ""
            },
            "type": "contourcarpet"
           }
          ],
          "heatmap": [
           {
            "colorbar": {
             "outlinewidth": 0,
             "ticks": ""
            },
            "colorscale": [
             [
              0,
              "#0d0887"
             ],
             [
              0.1111111111111111,
              "#46039f"
             ],
             [
              0.2222222222222222,
              "#7201a8"
             ],
             [
              0.3333333333333333,
              "#9c179e"
             ],
             [
              0.4444444444444444,
              "#bd3786"
             ],
             [
              0.5555555555555556,
              "#d8576b"
             ],
             [
              0.6666666666666666,
              "#ed7953"
             ],
             [
              0.7777777777777778,
              "#fb9f3a"
             ],
             [
              0.8888888888888888,
              "#fdca26"
             ],
             [
              1,
              "#f0f921"
             ]
            ],
            "type": "heatmap"
           }
          ],
          "heatmapgl": [
           {
            "colorbar": {
             "outlinewidth": 0,
             "ticks": ""
            },
            "colorscale": [
             [
              0,
              "#0d0887"
             ],
             [
              0.1111111111111111,
              "#46039f"
             ],
             [
              0.2222222222222222,
              "#7201a8"
             ],
             [
              0.3333333333333333,
              "#9c179e"
             ],
             [
              0.4444444444444444,
              "#bd3786"
             ],
             [
              0.5555555555555556,
              "#d8576b"
             ],
             [
              0.6666666666666666,
              "#ed7953"
             ],
             [
              0.7777777777777778,
              "#fb9f3a"
             ],
             [
              0.8888888888888888,
              "#fdca26"
             ],
             [
              1,
              "#f0f921"
             ]
            ],
            "type": "heatmapgl"
           }
          ],
          "histogram": [
           {
            "marker": {
             "pattern": {
              "fillmode": "overlay",
              "size": 10,
              "solidity": 0.2
             }
            },
            "type": "histogram"
           }
          ],
          "histogram2d": [
           {
            "colorbar": {
             "outlinewidth": 0,
             "ticks": ""
            },
            "colorscale": [
             [
              0,
              "#0d0887"
             ],
             [
              0.1111111111111111,
              "#46039f"
             ],
             [
              0.2222222222222222,
              "#7201a8"
             ],
             [
              0.3333333333333333,
              "#9c179e"
             ],
             [
              0.4444444444444444,
              "#bd3786"
             ],
             [
              0.5555555555555556,
              "#d8576b"
             ],
             [
              0.6666666666666666,
              "#ed7953"
             ],
             [
              0.7777777777777778,
              "#fb9f3a"
             ],
             [
              0.8888888888888888,
              "#fdca26"
             ],
             [
              1,
              "#f0f921"
             ]
            ],
            "type": "histogram2d"
           }
          ],
          "histogram2dcontour": [
           {
            "colorbar": {
             "outlinewidth": 0,
             "ticks": ""
            },
            "colorscale": [
             [
              0,
              "#0d0887"
             ],
             [
              0.1111111111111111,
              "#46039f"
             ],
             [
              0.2222222222222222,
              "#7201a8"
             ],
             [
              0.3333333333333333,
              "#9c179e"
             ],
             [
              0.4444444444444444,
              "#bd3786"
             ],
             [
              0.5555555555555556,
              "#d8576b"
             ],
             [
              0.6666666666666666,
              "#ed7953"
             ],
             [
              0.7777777777777778,
              "#fb9f3a"
             ],
             [
              0.8888888888888888,
              "#fdca26"
             ],
             [
              1,
              "#f0f921"
             ]
            ],
            "type": "histogram2dcontour"
           }
          ],
          "mesh3d": [
           {
            "colorbar": {
             "outlinewidth": 0,
             "ticks": ""
            },
            "type": "mesh3d"
           }
          ],
          "parcoords": [
           {
            "line": {
             "colorbar": {
              "outlinewidth": 0,
              "ticks": ""
             }
            },
            "type": "parcoords"
           }
          ],
          "pie": [
           {
            "automargin": true,
            "type": "pie"
           }
          ],
          "scatter": [
           {
            "fillpattern": {
             "fillmode": "overlay",
             "size": 10,
             "solidity": 0.2
            },
            "type": "scatter"
           }
          ],
          "scatter3d": [
           {
            "line": {
             "colorbar": {
              "outlinewidth": 0,
              "ticks": ""
             }
            },
            "marker": {
             "colorbar": {
              "outlinewidth": 0,
              "ticks": ""
             }
            },
            "type": "scatter3d"
           }
          ],
          "scattercarpet": [
           {
            "marker": {
             "colorbar": {
              "outlinewidth": 0,
              "ticks": ""
             }
            },
            "type": "scattercarpet"
           }
          ],
          "scattergeo": [
           {
            "marker": {
             "colorbar": {
              "outlinewidth": 0,
              "ticks": ""
             }
            },
            "type": "scattergeo"
           }
          ],
          "scattergl": [
           {
            "marker": {
             "colorbar": {
              "outlinewidth": 0,
              "ticks": ""
             }
            },
            "type": "scattergl"
           }
          ],
          "scattermapbox": [
           {
            "marker": {
             "colorbar": {
              "outlinewidth": 0,
              "ticks": ""
             }
            },
            "type": "scattermapbox"
           }
          ],
          "scatterpolar": [
           {
            "marker": {
             "colorbar": {
              "outlinewidth": 0,
              "ticks": ""
             }
            },
            "type": "scatterpolar"
           }
          ],
          "scatterpolargl": [
           {
            "marker": {
             "colorbar": {
              "outlinewidth": 0,
              "ticks": ""
             }
            },
            "type": "scatterpolargl"
           }
          ],
          "scatterternary": [
           {
            "marker": {
             "colorbar": {
              "outlinewidth": 0,
              "ticks": ""
             }
            },
            "type": "scatterternary"
           }
          ],
          "surface": [
           {
            "colorbar": {
             "outlinewidth": 0,
             "ticks": ""
            },
            "colorscale": [
             [
              0,
              "#0d0887"
             ],
             [
              0.1111111111111111,
              "#46039f"
             ],
             [
              0.2222222222222222,
              "#7201a8"
             ],
             [
              0.3333333333333333,
              "#9c179e"
             ],
             [
              0.4444444444444444,
              "#bd3786"
             ],
             [
              0.5555555555555556,
              "#d8576b"
             ],
             [
              0.6666666666666666,
              "#ed7953"
             ],
             [
              0.7777777777777778,
              "#fb9f3a"
             ],
             [
              0.8888888888888888,
              "#fdca26"
             ],
             [
              1,
              "#f0f921"
             ]
            ],
            "type": "surface"
           }
          ],
          "table": [
           {
            "cells": {
             "fill": {
              "color": "#EBF0F8"
             },
             "line": {
              "color": "white"
             }
            },
            "header": {
             "fill": {
              "color": "#C8D4E3"
             },
             "line": {
              "color": "white"
             }
            },
            "type": "table"
           }
          ]
         },
         "layout": {
          "annotationdefaults": {
           "arrowcolor": "#2a3f5f",
           "arrowhead": 0,
           "arrowwidth": 1
          },
          "autotypenumbers": "strict",
          "coloraxis": {
           "colorbar": {
            "outlinewidth": 0,
            "ticks": ""
           }
          },
          "colorscale": {
           "diverging": [
            [
             0,
             "#8e0152"
            ],
            [
             0.1,
             "#c51b7d"
            ],
            [
             0.2,
             "#de77ae"
            ],
            [
             0.3,
             "#f1b6da"
            ],
            [
             0.4,
             "#fde0ef"
            ],
            [
             0.5,
             "#f7f7f7"
            ],
            [
             0.6,
             "#e6f5d0"
            ],
            [
             0.7,
             "#b8e186"
            ],
            [
             0.8,
             "#7fbc41"
            ],
            [
             0.9,
             "#4d9221"
            ],
            [
             1,
             "#276419"
            ]
           ],
           "sequential": [
            [
             0,
             "#0d0887"
            ],
            [
             0.1111111111111111,
             "#46039f"
            ],
            [
             0.2222222222222222,
             "#7201a8"
            ],
            [
             0.3333333333333333,
             "#9c179e"
            ],
            [
             0.4444444444444444,
             "#bd3786"
            ],
            [
             0.5555555555555556,
             "#d8576b"
            ],
            [
             0.6666666666666666,
             "#ed7953"
            ],
            [
             0.7777777777777778,
             "#fb9f3a"
            ],
            [
             0.8888888888888888,
             "#fdca26"
            ],
            [
             1,
             "#f0f921"
            ]
           ],
           "sequentialminus": [
            [
             0,
             "#0d0887"
            ],
            [
             0.1111111111111111,
             "#46039f"
            ],
            [
             0.2222222222222222,
             "#7201a8"
            ],
            [
             0.3333333333333333,
             "#9c179e"
            ],
            [
             0.4444444444444444,
             "#bd3786"
            ],
            [
             0.5555555555555556,
             "#d8576b"
            ],
            [
             0.6666666666666666,
             "#ed7953"
            ],
            [
             0.7777777777777778,
             "#fb9f3a"
            ],
            [
             0.8888888888888888,
             "#fdca26"
            ],
            [
             1,
             "#f0f921"
            ]
           ]
          },
          "colorway": [
           "#636efa",
           "#EF553B",
           "#00cc96",
           "#ab63fa",
           "#FFA15A",
           "#19d3f3",
           "#FF6692",
           "#B6E880",
           "#FF97FF",
           "#FECB52"
          ],
          "font": {
           "color": "#2a3f5f"
          },
          "geo": {
           "bgcolor": "white",
           "lakecolor": "white",
           "landcolor": "#E5ECF6",
           "showlakes": true,
           "showland": true,
           "subunitcolor": "white"
          },
          "hoverlabel": {
           "align": "left"
          },
          "hovermode": "closest",
          "mapbox": {
           "style": "light"
          },
          "paper_bgcolor": "white",
          "plot_bgcolor": "#E5ECF6",
          "polar": {
           "angularaxis": {
            "gridcolor": "white",
            "linecolor": "white",
            "ticks": ""
           },
           "bgcolor": "#E5ECF6",
           "radialaxis": {
            "gridcolor": "white",
            "linecolor": "white",
            "ticks": ""
           }
          },
          "scene": {
           "xaxis": {
            "backgroundcolor": "#E5ECF6",
            "gridcolor": "white",
            "gridwidth": 2,
            "linecolor": "white",
            "showbackground": true,
            "ticks": "",
            "zerolinecolor": "white"
           },
           "yaxis": {
            "backgroundcolor": "#E5ECF6",
            "gridcolor": "white",
            "gridwidth": 2,
            "linecolor": "white",
            "showbackground": true,
            "ticks": "",
            "zerolinecolor": "white"
           },
           "zaxis": {
            "backgroundcolor": "#E5ECF6",
            "gridcolor": "white",
            "gridwidth": 2,
            "linecolor": "white",
            "showbackground": true,
            "ticks": "",
            "zerolinecolor": "white"
           }
          },
          "shapedefaults": {
           "line": {
            "color": "#2a3f5f"
           }
          },
          "ternary": {
           "aaxis": {
            "gridcolor": "white",
            "linecolor": "white",
            "ticks": ""
           },
           "baxis": {
            "gridcolor": "white",
            "linecolor": "white",
            "ticks": ""
           },
           "bgcolor": "#E5ECF6",
           "caxis": {
            "gridcolor": "white",
            "linecolor": "white",
            "ticks": ""
           }
          },
          "title": {
           "x": 0.05
          },
          "xaxis": {
           "automargin": true,
           "gridcolor": "white",
           "linecolor": "white",
           "ticks": "",
           "title": {
            "standoff": 15
           },
           "zerolinecolor": "white",
           "zerolinewidth": 2
          },
          "yaxis": {
           "automargin": true,
           "gridcolor": "white",
           "linecolor": "white",
           "ticks": "",
           "title": {
            "standoff": 15
           },
           "zerolinecolor": "white",
           "zerolinewidth": 2
          }
         }
        },
        "title": {
         "text": "Optimization History Plot"
        },
        "xaxis": {
         "title": {
          "text": "Trial"
         }
        },
        "yaxis": {
         "title": {
          "text": "Objective Value"
         }
        }
       }
      }
     },
     "metadata": {},
     "output_type": "display_data"
    }
   ],
   "source": [
    "plot_optimization_history(study)"
   ]
  },
  {
   "cell_type": "code",
   "execution_count": 100,
   "metadata": {},
   "outputs": [
    {
     "name": "stderr",
     "output_type": "stream",
     "text": [
      "[W 2023-11-28 19:01:46,797] You need to set up the pruning feature to utilize `plot_intermediate_values()`\n"
     ]
    },
    {
     "data": {
      "application/vnd.plotly.v1+json": {
       "config": {
        "plotlyServerURL": "https://plot.ly"
       },
       "data": [],
       "layout": {
        "showlegend": false,
        "template": {
         "data": {
          "bar": [
           {
            "error_x": {
             "color": "#2a3f5f"
            },
            "error_y": {
             "color": "#2a3f5f"
            },
            "marker": {
             "line": {
              "color": "#E5ECF6",
              "width": 0.5
             },
             "pattern": {
              "fillmode": "overlay",
              "size": 10,
              "solidity": 0.2
             }
            },
            "type": "bar"
           }
          ],
          "barpolar": [
           {
            "marker": {
             "line": {
              "color": "#E5ECF6",
              "width": 0.5
             },
             "pattern": {
              "fillmode": "overlay",
              "size": 10,
              "solidity": 0.2
             }
            },
            "type": "barpolar"
           }
          ],
          "carpet": [
           {
            "aaxis": {
             "endlinecolor": "#2a3f5f",
             "gridcolor": "white",
             "linecolor": "white",
             "minorgridcolor": "white",
             "startlinecolor": "#2a3f5f"
            },
            "baxis": {
             "endlinecolor": "#2a3f5f",
             "gridcolor": "white",
             "linecolor": "white",
             "minorgridcolor": "white",
             "startlinecolor": "#2a3f5f"
            },
            "type": "carpet"
           }
          ],
          "choropleth": [
           {
            "colorbar": {
             "outlinewidth": 0,
             "ticks": ""
            },
            "type": "choropleth"
           }
          ],
          "contour": [
           {
            "colorbar": {
             "outlinewidth": 0,
             "ticks": ""
            },
            "colorscale": [
             [
              0,
              "#0d0887"
             ],
             [
              0.1111111111111111,
              "#46039f"
             ],
             [
              0.2222222222222222,
              "#7201a8"
             ],
             [
              0.3333333333333333,
              "#9c179e"
             ],
             [
              0.4444444444444444,
              "#bd3786"
             ],
             [
              0.5555555555555556,
              "#d8576b"
             ],
             [
              0.6666666666666666,
              "#ed7953"
             ],
             [
              0.7777777777777778,
              "#fb9f3a"
             ],
             [
              0.8888888888888888,
              "#fdca26"
             ],
             [
              1,
              "#f0f921"
             ]
            ],
            "type": "contour"
           }
          ],
          "contourcarpet": [
           {
            "colorbar": {
             "outlinewidth": 0,
             "ticks": ""
            },
            "type": "contourcarpet"
           }
          ],
          "heatmap": [
           {
            "colorbar": {
             "outlinewidth": 0,
             "ticks": ""
            },
            "colorscale": [
             [
              0,
              "#0d0887"
             ],
             [
              0.1111111111111111,
              "#46039f"
             ],
             [
              0.2222222222222222,
              "#7201a8"
             ],
             [
              0.3333333333333333,
              "#9c179e"
             ],
             [
              0.4444444444444444,
              "#bd3786"
             ],
             [
              0.5555555555555556,
              "#d8576b"
             ],
             [
              0.6666666666666666,
              "#ed7953"
             ],
             [
              0.7777777777777778,
              "#fb9f3a"
             ],
             [
              0.8888888888888888,
              "#fdca26"
             ],
             [
              1,
              "#f0f921"
             ]
            ],
            "type": "heatmap"
           }
          ],
          "heatmapgl": [
           {
            "colorbar": {
             "outlinewidth": 0,
             "ticks": ""
            },
            "colorscale": [
             [
              0,
              "#0d0887"
             ],
             [
              0.1111111111111111,
              "#46039f"
             ],
             [
              0.2222222222222222,
              "#7201a8"
             ],
             [
              0.3333333333333333,
              "#9c179e"
             ],
             [
              0.4444444444444444,
              "#bd3786"
             ],
             [
              0.5555555555555556,
              "#d8576b"
             ],
             [
              0.6666666666666666,
              "#ed7953"
             ],
             [
              0.7777777777777778,
              "#fb9f3a"
             ],
             [
              0.8888888888888888,
              "#fdca26"
             ],
             [
              1,
              "#f0f921"
             ]
            ],
            "type": "heatmapgl"
           }
          ],
          "histogram": [
           {
            "marker": {
             "pattern": {
              "fillmode": "overlay",
              "size": 10,
              "solidity": 0.2
             }
            },
            "type": "histogram"
           }
          ],
          "histogram2d": [
           {
            "colorbar": {
             "outlinewidth": 0,
             "ticks": ""
            },
            "colorscale": [
             [
              0,
              "#0d0887"
             ],
             [
              0.1111111111111111,
              "#46039f"
             ],
             [
              0.2222222222222222,
              "#7201a8"
             ],
             [
              0.3333333333333333,
              "#9c179e"
             ],
             [
              0.4444444444444444,
              "#bd3786"
             ],
             [
              0.5555555555555556,
              "#d8576b"
             ],
             [
              0.6666666666666666,
              "#ed7953"
             ],
             [
              0.7777777777777778,
              "#fb9f3a"
             ],
             [
              0.8888888888888888,
              "#fdca26"
             ],
             [
              1,
              "#f0f921"
             ]
            ],
            "type": "histogram2d"
           }
          ],
          "histogram2dcontour": [
           {
            "colorbar": {
             "outlinewidth": 0,
             "ticks": ""
            },
            "colorscale": [
             [
              0,
              "#0d0887"
             ],
             [
              0.1111111111111111,
              "#46039f"
             ],
             [
              0.2222222222222222,
              "#7201a8"
             ],
             [
              0.3333333333333333,
              "#9c179e"
             ],
             [
              0.4444444444444444,
              "#bd3786"
             ],
             [
              0.5555555555555556,
              "#d8576b"
             ],
             [
              0.6666666666666666,
              "#ed7953"
             ],
             [
              0.7777777777777778,
              "#fb9f3a"
             ],
             [
              0.8888888888888888,
              "#fdca26"
             ],
             [
              1,
              "#f0f921"
             ]
            ],
            "type": "histogram2dcontour"
           }
          ],
          "mesh3d": [
           {
            "colorbar": {
             "outlinewidth": 0,
             "ticks": ""
            },
            "type": "mesh3d"
           }
          ],
          "parcoords": [
           {
            "line": {
             "colorbar": {
              "outlinewidth": 0,
              "ticks": ""
             }
            },
            "type": "parcoords"
           }
          ],
          "pie": [
           {
            "automargin": true,
            "type": "pie"
           }
          ],
          "scatter": [
           {
            "fillpattern": {
             "fillmode": "overlay",
             "size": 10,
             "solidity": 0.2
            },
            "type": "scatter"
           }
          ],
          "scatter3d": [
           {
            "line": {
             "colorbar": {
              "outlinewidth": 0,
              "ticks": ""
             }
            },
            "marker": {
             "colorbar": {
              "outlinewidth": 0,
              "ticks": ""
             }
            },
            "type": "scatter3d"
           }
          ],
          "scattercarpet": [
           {
            "marker": {
             "colorbar": {
              "outlinewidth": 0,
              "ticks": ""
             }
            },
            "type": "scattercarpet"
           }
          ],
          "scattergeo": [
           {
            "marker": {
             "colorbar": {
              "outlinewidth": 0,
              "ticks": ""
             }
            },
            "type": "scattergeo"
           }
          ],
          "scattergl": [
           {
            "marker": {
             "colorbar": {
              "outlinewidth": 0,
              "ticks": ""
             }
            },
            "type": "scattergl"
           }
          ],
          "scattermapbox": [
           {
            "marker": {
             "colorbar": {
              "outlinewidth": 0,
              "ticks": ""
             }
            },
            "type": "scattermapbox"
           }
          ],
          "scatterpolar": [
           {
            "marker": {
             "colorbar": {
              "outlinewidth": 0,
              "ticks": ""
             }
            },
            "type": "scatterpolar"
           }
          ],
          "scatterpolargl": [
           {
            "marker": {
             "colorbar": {
              "outlinewidth": 0,
              "ticks": ""
             }
            },
            "type": "scatterpolargl"
           }
          ],
          "scatterternary": [
           {
            "marker": {
             "colorbar": {
              "outlinewidth": 0,
              "ticks": ""
             }
            },
            "type": "scatterternary"
           }
          ],
          "surface": [
           {
            "colorbar": {
             "outlinewidth": 0,
             "ticks": ""
            },
            "colorscale": [
             [
              0,
              "#0d0887"
             ],
             [
              0.1111111111111111,
              "#46039f"
             ],
             [
              0.2222222222222222,
              "#7201a8"
             ],
             [
              0.3333333333333333,
              "#9c179e"
             ],
             [
              0.4444444444444444,
              "#bd3786"
             ],
             [
              0.5555555555555556,
              "#d8576b"
             ],
             [
              0.6666666666666666,
              "#ed7953"
             ],
             [
              0.7777777777777778,
              "#fb9f3a"
             ],
             [
              0.8888888888888888,
              "#fdca26"
             ],
             [
              1,
              "#f0f921"
             ]
            ],
            "type": "surface"
           }
          ],
          "table": [
           {
            "cells": {
             "fill": {
              "color": "#EBF0F8"
             },
             "line": {
              "color": "white"
             }
            },
            "header": {
             "fill": {
              "color": "#C8D4E3"
             },
             "line": {
              "color": "white"
             }
            },
            "type": "table"
           }
          ]
         },
         "layout": {
          "annotationdefaults": {
           "arrowcolor": "#2a3f5f",
           "arrowhead": 0,
           "arrowwidth": 1
          },
          "autotypenumbers": "strict",
          "coloraxis": {
           "colorbar": {
            "outlinewidth": 0,
            "ticks": ""
           }
          },
          "colorscale": {
           "diverging": [
            [
             0,
             "#8e0152"
            ],
            [
             0.1,
             "#c51b7d"
            ],
            [
             0.2,
             "#de77ae"
            ],
            [
             0.3,
             "#f1b6da"
            ],
            [
             0.4,
             "#fde0ef"
            ],
            [
             0.5,
             "#f7f7f7"
            ],
            [
             0.6,
             "#e6f5d0"
            ],
            [
             0.7,
             "#b8e186"
            ],
            [
             0.8,
             "#7fbc41"
            ],
            [
             0.9,
             "#4d9221"
            ],
            [
             1,
             "#276419"
            ]
           ],
           "sequential": [
            [
             0,
             "#0d0887"
            ],
            [
             0.1111111111111111,
             "#46039f"
            ],
            [
             0.2222222222222222,
             "#7201a8"
            ],
            [
             0.3333333333333333,
             "#9c179e"
            ],
            [
             0.4444444444444444,
             "#bd3786"
            ],
            [
             0.5555555555555556,
             "#d8576b"
            ],
            [
             0.6666666666666666,
             "#ed7953"
            ],
            [
             0.7777777777777778,
             "#fb9f3a"
            ],
            [
             0.8888888888888888,
             "#fdca26"
            ],
            [
             1,
             "#f0f921"
            ]
           ],
           "sequentialminus": [
            [
             0,
             "#0d0887"
            ],
            [
             0.1111111111111111,
             "#46039f"
            ],
            [
             0.2222222222222222,
             "#7201a8"
            ],
            [
             0.3333333333333333,
             "#9c179e"
            ],
            [
             0.4444444444444444,
             "#bd3786"
            ],
            [
             0.5555555555555556,
             "#d8576b"
            ],
            [
             0.6666666666666666,
             "#ed7953"
            ],
            [
             0.7777777777777778,
             "#fb9f3a"
            ],
            [
             0.8888888888888888,
             "#fdca26"
            ],
            [
             1,
             "#f0f921"
            ]
           ]
          },
          "colorway": [
           "#636efa",
           "#EF553B",
           "#00cc96",
           "#ab63fa",
           "#FFA15A",
           "#19d3f3",
           "#FF6692",
           "#B6E880",
           "#FF97FF",
           "#FECB52"
          ],
          "font": {
           "color": "#2a3f5f"
          },
          "geo": {
           "bgcolor": "white",
           "lakecolor": "white",
           "landcolor": "#E5ECF6",
           "showlakes": true,
           "showland": true,
           "subunitcolor": "white"
          },
          "hoverlabel": {
           "align": "left"
          },
          "hovermode": "closest",
          "mapbox": {
           "style": "light"
          },
          "paper_bgcolor": "white",
          "plot_bgcolor": "#E5ECF6",
          "polar": {
           "angularaxis": {
            "gridcolor": "white",
            "linecolor": "white",
            "ticks": ""
           },
           "bgcolor": "#E5ECF6",
           "radialaxis": {
            "gridcolor": "white",
            "linecolor": "white",
            "ticks": ""
           }
          },
          "scene": {
           "xaxis": {
            "backgroundcolor": "#E5ECF6",
            "gridcolor": "white",
            "gridwidth": 2,
            "linecolor": "white",
            "showbackground": true,
            "ticks": "",
            "zerolinecolor": "white"
           },
           "yaxis": {
            "backgroundcolor": "#E5ECF6",
            "gridcolor": "white",
            "gridwidth": 2,
            "linecolor": "white",
            "showbackground": true,
            "ticks": "",
            "zerolinecolor": "white"
           },
           "zaxis": {
            "backgroundcolor": "#E5ECF6",
            "gridcolor": "white",
            "gridwidth": 2,
            "linecolor": "white",
            "showbackground": true,
            "ticks": "",
            "zerolinecolor": "white"
           }
          },
          "shapedefaults": {
           "line": {
            "color": "#2a3f5f"
           }
          },
          "ternary": {
           "aaxis": {
            "gridcolor": "white",
            "linecolor": "white",
            "ticks": ""
           },
           "baxis": {
            "gridcolor": "white",
            "linecolor": "white",
            "ticks": ""
           },
           "bgcolor": "#E5ECF6",
           "caxis": {
            "gridcolor": "white",
            "linecolor": "white",
            "ticks": ""
           }
          },
          "title": {
           "x": 0.05
          },
          "xaxis": {
           "automargin": true,
           "gridcolor": "white",
           "linecolor": "white",
           "ticks": "",
           "title": {
            "standoff": 15
           },
           "zerolinecolor": "white",
           "zerolinewidth": 2
          },
          "yaxis": {
           "automargin": true,
           "gridcolor": "white",
           "linecolor": "white",
           "ticks": "",
           "title": {
            "standoff": 15
           },
           "zerolinecolor": "white",
           "zerolinewidth": 2
          }
         }
        },
        "title": {
         "text": "Intermediate Values Plot"
        },
        "xaxis": {
         "title": {
          "text": "Step"
         }
        },
        "yaxis": {
         "title": {
          "text": "Intermediate Value"
         }
        }
       }
      }
     },
     "metadata": {},
     "output_type": "display_data"
    }
   ],
   "source": [
    "plot_intermediate_values(study)"
   ]
  },
  {
   "cell_type": "code",
   "execution_count": 101,
   "metadata": {},
   "outputs": [
    {
     "data": {
      "application/vnd.plotly.v1+json": {
       "config": {
        "plotlyServerURL": "https://plot.ly"
       },
       "data": [
        {
         "dimensions": [
          {
           "label": "Objective Value",
           "range": [
            0.03370927928805743,
            0.5678631166975219
           ],
           "values": [
            0.10356377277599142,
            0.10258939881126376,
            0.07535767644288544,
            0.11993325538341615,
            0.08348760921108186,
            0.03370927928805743,
            0.223827909318263,
            0.0794033583422651,
            0.10497458507908668,
            0.117497320471597,
            0.1978791126701095,
            0.25156711812660365,
            0.44928180519016525,
            0.5329338400077949,
            0.4614188508883043,
            0.5207582253402189,
            0.1569513462600279,
            0.12475843645457795,
            0.4743313358667057,
            0.20347161323849428,
            0.3884889895741986,
            0.45689410178960016,
            0.39322079314040725,
            0.5456514501932509,
            0.2463440676865114,
            0.2973038260417682,
            0.2973545746857644,
            0.1427884146935594,
            0.2687039202312514,
            0.08900297184059243,
            0.3196129299425119,
            0.4814909545616941,
            0.2415655753678262,
            0.4087640878235734,
            0.40321015622462564,
            0.22764014745526,
            0.40028297443892297,
            0.16913914060216312,
            0.4957208743382377,
            0.2593580499529053,
            0.24673381727240248,
            0.4451001169248758,
            0.4725693429471564,
            0.37963030627821626,
            0.3767071843840333,
            0.27912566176231773,
            0.28127334437623824,
            0.4419354314852707,
            0.26037505277858974,
            0.5022491799019131,
            0.26652578843093316,
            0.3552161486245088,
            0.4961532527850856,
            0.4202068920718438,
            0.37977849231868527,
            0.4615203481762967,
            0.44052055929065576,
            0.4681927798889214,
            0.5591485595504887,
            0.5157381694761116,
            0.323463737048946,
            0.41050984117704375,
            0.47413240118224037,
            0.43604249894442826,
            0.5288414693559388,
            0.3712466302900387,
            0.4561612913702946,
            0.5678631166975219,
            0.24615325278508557,
            0.48383757186007986,
            0.45546704992042614,
            0.5386867062912079,
            0.5500868816785216,
            0.47506414628601124,
            0.5164750397869369,
            0.334470102958849,
            0.44481186462697714,
            0.5184197278248726,
            0.3947371626230147,
            0.27562603527233753,
            0.24961025041410892,
            0.4983354444769235,
            0.5233464061840268,
            0.5505700087693656,
            0.24322201110786315,
            0.46935796875507485,
            0.4968820033128715,
            0.3763722433336581,
            0.5557382506739419,
            0.4207955763422001,
            0.44607449088960344,
            0.5337600279320537,
            0.5192032868881743,
            0.3771862515833577,
            0.5150094189483257,
            0.30306075221670076,
            0.3278017311377441,
            0.4957675630907142,
            0.2257888369222774,
            0.3535637727759914
           ]
          },
          {
           "label": "l",
           "range": [
            11,
            100
           ],
           "values": [
            40,
            52,
            41,
            30,
            55,
            87,
            31,
            88,
            79,
            15,
            70,
            76,
            66,
            66,
            65,
            100,
            99,
            96,
            56,
            89,
            76,
            63,
            47,
            57,
            24,
            59,
            46,
            11,
            82,
            69,
            35,
            55,
            52,
            46,
            72,
            40,
            61,
            49,
            57,
            94,
            25,
            54,
            59,
            51,
            35,
            42,
            84,
            57,
            67,
            73,
            75,
            63,
            72,
            72,
            78,
            91,
            100,
            83,
            65,
            67,
            66,
            69,
            63,
            71,
            77,
            80,
            86,
            76,
            78,
            68,
            96,
            75,
            76,
            75,
            90,
            80,
            87,
            60,
            64,
            75,
            81,
            59,
            65,
            62,
            77,
            62,
            65,
            70,
            74,
            74,
            70,
            53,
            55,
            52,
            84,
            58,
            50,
            48,
            44,
            53
           ]
          },
          {
           "label": "lr",
           "range": [
            -4.673920917620875,
            -1.0004757369965696
           ],
           "ticktext": [
            "2.12e-05",
            "0.0001",
            "0.001",
            "0.01",
            "0.0999"
           ],
           "tickvals": [
            -4.673920917620875,
            -4,
            -3,
            -2,
            -1.0004757369965696
           ],
           "values": [
            -4.271832914718109,
            -3.613497053179817,
            -3.4770674688186465,
            -3.7322927612247807,
            -4.099470012880854,
            -2.856100117163996,
            -1.7687556881108795,
            -3.3745228655113815,
            -4.673920917620875,
            -2.9500564873604014,
            -1.6283815098022714,
            -1.5499073025615222,
            -1.1243795995653887,
            -1.2146805373420573,
            -1.0314488061226068,
            -1.0292499880463901,
            -2.3061935343303874,
            -2.2422609616530753,
            -1.0357944860973822,
            -2.107855485807375,
            -1.442014804031097,
            -1.0767399654633605,
            -1.3172624027564996,
            -1.02068510318025,
            -1.8953024650073302,
            -1.4311079212827196,
            -1.2969653848880107,
            -1.9478201560949129,
            -1.6913736824124292,
            -2.4297525123188377,
            -1.299478775565702,
            -1.00652106396062,
            -1.4921634293623196,
            -1.0020111030993348,
            -1.326809743931269,
            -1.711158947911736,
            -1.177835136898254,
            -1.5258726642393665,
            -1.2404341313595337,
            -1.8512357324430955,
            -1.2082481190825676,
            -1.2440488723940724,
            -1.0004757369965696,
            -1.6046917901697997,
            -1.4129398190153082,
            -1.2221007951540108,
            -1.6395798436730478,
            -1.2033616459450758,
            -1.4883835769180944,
            -1.006898739066676,
            -1.7636767625652596,
            -1.157653912369616,
            -1.0983446324463517,
            -1.3448839857426085,
            -1.2025467886490897,
            -1.11366735848436,
            -1.3998497123245082,
            -1.5580785469637632,
            -1.105270856946927,
            -1.0797097322950524,
            -1.3822931988484217,
            -1.113135416648592,
            -1.0801302743025194,
            -1.108843205686856,
            -1.343772267843856,
            -1.4731850743386077,
            -1.3250061929856465,
            -1.0118542784515228,
            -1.6249340107634722,
            -1.2880011723933198,
            -1.4114539860987048,
            -1.0077526163641939,
            -1.16155878395775,
            -1.2194015152571975,
            -1.001656901012533,
            -1.5509709094340123,
            -1.346829825613136,
            -1.1630017381693352,
            -1.285419690194503,
            -1.8038535999106826,
            -1.463145587411275,
            -1.1636140386769336,
            -1.142823834825619,
            -1.2674685637478578,
            -1.700107856543026,
            -1.2771175309995741,
            -1.1152545317100242,
            -1.3764743313873995,
            -1.0078806011565304,
            -1.0248206621110918,
            -1.2505828898037006,
            -1.1415842687613889,
            -1.0080138068315443,
            -1.5100745792964425,
            -1.2139902631120774,
            -1.3410455352996713,
            -1.0976258405779151,
            -1.176693921764343,
            -1.4466064380621033,
            -1.2602084260273982
           ]
          }
         ],
         "labelangle": 30,
         "labelside": "bottom",
         "line": {
          "color": [
           0.10356377277599142,
           0.10258939881126376,
           0.07535767644288544,
           0.11993325538341615,
           0.08348760921108186,
           0.03370927928805743,
           0.223827909318263,
           0.0794033583422651,
           0.10497458507908668,
           0.117497320471597,
           0.1978791126701095,
           0.25156711812660365,
           0.44928180519016525,
           0.5329338400077949,
           0.4614188508883043,
           0.5207582253402189,
           0.1569513462600279,
           0.12475843645457795,
           0.4743313358667057,
           0.20347161323849428,
           0.3884889895741986,
           0.45689410178960016,
           0.39322079314040725,
           0.5456514501932509,
           0.2463440676865114,
           0.2973038260417682,
           0.2973545746857644,
           0.1427884146935594,
           0.2687039202312514,
           0.08900297184059243,
           0.3196129299425119,
           0.4814909545616941,
           0.2415655753678262,
           0.4087640878235734,
           0.40321015622462564,
           0.22764014745526,
           0.40028297443892297,
           0.16913914060216312,
           0.4957208743382377,
           0.2593580499529053,
           0.24673381727240248,
           0.4451001169248758,
           0.4725693429471564,
           0.37963030627821626,
           0.3767071843840333,
           0.27912566176231773,
           0.28127334437623824,
           0.4419354314852707,
           0.26037505277858974,
           0.5022491799019131,
           0.26652578843093316,
           0.3552161486245088,
           0.4961532527850856,
           0.4202068920718438,
           0.37977849231868527,
           0.4615203481762967,
           0.44052055929065576,
           0.4681927798889214,
           0.5591485595504887,
           0.5157381694761116,
           0.323463737048946,
           0.41050984117704375,
           0.47413240118224037,
           0.43604249894442826,
           0.5288414693559388,
           0.3712466302900387,
           0.4561612913702946,
           0.5678631166975219,
           0.24615325278508557,
           0.48383757186007986,
           0.45546704992042614,
           0.5386867062912079,
           0.5500868816785216,
           0.47506414628601124,
           0.5164750397869369,
           0.334470102958849,
           0.44481186462697714,
           0.5184197278248726,
           0.3947371626230147,
           0.27562603527233753,
           0.24961025041410892,
           0.4983354444769235,
           0.5233464061840268,
           0.5505700087693656,
           0.24322201110786315,
           0.46935796875507485,
           0.4968820033128715,
           0.3763722433336581,
           0.5557382506739419,
           0.4207955763422001,
           0.44607449088960344,
           0.5337600279320537,
           0.5192032868881743,
           0.3771862515833577,
           0.5150094189483257,
           0.30306075221670076,
           0.3278017311377441,
           0.4957675630907142,
           0.2257888369222774,
           0.3535637727759914
          ],
          "colorbar": {
           "title": {
            "text": "Objective Value"
           }
          },
          "colorscale": [
           [
            0,
            "rgb(247,251,255)"
           ],
           [
            0.125,
            "rgb(222,235,247)"
           ],
           [
            0.25,
            "rgb(198,219,239)"
           ],
           [
            0.375,
            "rgb(158,202,225)"
           ],
           [
            0.5,
            "rgb(107,174,214)"
           ],
           [
            0.625,
            "rgb(66,146,198)"
           ],
           [
            0.75,
            "rgb(33,113,181)"
           ],
           [
            0.875,
            "rgb(8,81,156)"
           ],
           [
            1,
            "rgb(8,48,107)"
           ]
          ],
          "reversescale": false,
          "showscale": true
         },
         "type": "parcoords"
        }
       ],
       "layout": {
        "template": {
         "data": {
          "bar": [
           {
            "error_x": {
             "color": "#2a3f5f"
            },
            "error_y": {
             "color": "#2a3f5f"
            },
            "marker": {
             "line": {
              "color": "#E5ECF6",
              "width": 0.5
             },
             "pattern": {
              "fillmode": "overlay",
              "size": 10,
              "solidity": 0.2
             }
            },
            "type": "bar"
           }
          ],
          "barpolar": [
           {
            "marker": {
             "line": {
              "color": "#E5ECF6",
              "width": 0.5
             },
             "pattern": {
              "fillmode": "overlay",
              "size": 10,
              "solidity": 0.2
             }
            },
            "type": "barpolar"
           }
          ],
          "carpet": [
           {
            "aaxis": {
             "endlinecolor": "#2a3f5f",
             "gridcolor": "white",
             "linecolor": "white",
             "minorgridcolor": "white",
             "startlinecolor": "#2a3f5f"
            },
            "baxis": {
             "endlinecolor": "#2a3f5f",
             "gridcolor": "white",
             "linecolor": "white",
             "minorgridcolor": "white",
             "startlinecolor": "#2a3f5f"
            },
            "type": "carpet"
           }
          ],
          "choropleth": [
           {
            "colorbar": {
             "outlinewidth": 0,
             "ticks": ""
            },
            "type": "choropleth"
           }
          ],
          "contour": [
           {
            "colorbar": {
             "outlinewidth": 0,
             "ticks": ""
            },
            "colorscale": [
             [
              0,
              "#0d0887"
             ],
             [
              0.1111111111111111,
              "#46039f"
             ],
             [
              0.2222222222222222,
              "#7201a8"
             ],
             [
              0.3333333333333333,
              "#9c179e"
             ],
             [
              0.4444444444444444,
              "#bd3786"
             ],
             [
              0.5555555555555556,
              "#d8576b"
             ],
             [
              0.6666666666666666,
              "#ed7953"
             ],
             [
              0.7777777777777778,
              "#fb9f3a"
             ],
             [
              0.8888888888888888,
              "#fdca26"
             ],
             [
              1,
              "#f0f921"
             ]
            ],
            "type": "contour"
           }
          ],
          "contourcarpet": [
           {
            "colorbar": {
             "outlinewidth": 0,
             "ticks": ""
            },
            "type": "contourcarpet"
           }
          ],
          "heatmap": [
           {
            "colorbar": {
             "outlinewidth": 0,
             "ticks": ""
            },
            "colorscale": [
             [
              0,
              "#0d0887"
             ],
             [
              0.1111111111111111,
              "#46039f"
             ],
             [
              0.2222222222222222,
              "#7201a8"
             ],
             [
              0.3333333333333333,
              "#9c179e"
             ],
             [
              0.4444444444444444,
              "#bd3786"
             ],
             [
              0.5555555555555556,
              "#d8576b"
             ],
             [
              0.6666666666666666,
              "#ed7953"
             ],
             [
              0.7777777777777778,
              "#fb9f3a"
             ],
             [
              0.8888888888888888,
              "#fdca26"
             ],
             [
              1,
              "#f0f921"
             ]
            ],
            "type": "heatmap"
           }
          ],
          "heatmapgl": [
           {
            "colorbar": {
             "outlinewidth": 0,
             "ticks": ""
            },
            "colorscale": [
             [
              0,
              "#0d0887"
             ],
             [
              0.1111111111111111,
              "#46039f"
             ],
             [
              0.2222222222222222,
              "#7201a8"
             ],
             [
              0.3333333333333333,
              "#9c179e"
             ],
             [
              0.4444444444444444,
              "#bd3786"
             ],
             [
              0.5555555555555556,
              "#d8576b"
             ],
             [
              0.6666666666666666,
              "#ed7953"
             ],
             [
              0.7777777777777778,
              "#fb9f3a"
             ],
             [
              0.8888888888888888,
              "#fdca26"
             ],
             [
              1,
              "#f0f921"
             ]
            ],
            "type": "heatmapgl"
           }
          ],
          "histogram": [
           {
            "marker": {
             "pattern": {
              "fillmode": "overlay",
              "size": 10,
              "solidity": 0.2
             }
            },
            "type": "histogram"
           }
          ],
          "histogram2d": [
           {
            "colorbar": {
             "outlinewidth": 0,
             "ticks": ""
            },
            "colorscale": [
             [
              0,
              "#0d0887"
             ],
             [
              0.1111111111111111,
              "#46039f"
             ],
             [
              0.2222222222222222,
              "#7201a8"
             ],
             [
              0.3333333333333333,
              "#9c179e"
             ],
             [
              0.4444444444444444,
              "#bd3786"
             ],
             [
              0.5555555555555556,
              "#d8576b"
             ],
             [
              0.6666666666666666,
              "#ed7953"
             ],
             [
              0.7777777777777778,
              "#fb9f3a"
             ],
             [
              0.8888888888888888,
              "#fdca26"
             ],
             [
              1,
              "#f0f921"
             ]
            ],
            "type": "histogram2d"
           }
          ],
          "histogram2dcontour": [
           {
            "colorbar": {
             "outlinewidth": 0,
             "ticks": ""
            },
            "colorscale": [
             [
              0,
              "#0d0887"
             ],
             [
              0.1111111111111111,
              "#46039f"
             ],
             [
              0.2222222222222222,
              "#7201a8"
             ],
             [
              0.3333333333333333,
              "#9c179e"
             ],
             [
              0.4444444444444444,
              "#bd3786"
             ],
             [
              0.5555555555555556,
              "#d8576b"
             ],
             [
              0.6666666666666666,
              "#ed7953"
             ],
             [
              0.7777777777777778,
              "#fb9f3a"
             ],
             [
              0.8888888888888888,
              "#fdca26"
             ],
             [
              1,
              "#f0f921"
             ]
            ],
            "type": "histogram2dcontour"
           }
          ],
          "mesh3d": [
           {
            "colorbar": {
             "outlinewidth": 0,
             "ticks": ""
            },
            "type": "mesh3d"
           }
          ],
          "parcoords": [
           {
            "line": {
             "colorbar": {
              "outlinewidth": 0,
              "ticks": ""
             }
            },
            "type": "parcoords"
           }
          ],
          "pie": [
           {
            "automargin": true,
            "type": "pie"
           }
          ],
          "scatter": [
           {
            "fillpattern": {
             "fillmode": "overlay",
             "size": 10,
             "solidity": 0.2
            },
            "type": "scatter"
           }
          ],
          "scatter3d": [
           {
            "line": {
             "colorbar": {
              "outlinewidth": 0,
              "ticks": ""
             }
            },
            "marker": {
             "colorbar": {
              "outlinewidth": 0,
              "ticks": ""
             }
            },
            "type": "scatter3d"
           }
          ],
          "scattercarpet": [
           {
            "marker": {
             "colorbar": {
              "outlinewidth": 0,
              "ticks": ""
             }
            },
            "type": "scattercarpet"
           }
          ],
          "scattergeo": [
           {
            "marker": {
             "colorbar": {
              "outlinewidth": 0,
              "ticks": ""
             }
            },
            "type": "scattergeo"
           }
          ],
          "scattergl": [
           {
            "marker": {
             "colorbar": {
              "outlinewidth": 0,
              "ticks": ""
             }
            },
            "type": "scattergl"
           }
          ],
          "scattermapbox": [
           {
            "marker": {
             "colorbar": {
              "outlinewidth": 0,
              "ticks": ""
             }
            },
            "type": "scattermapbox"
           }
          ],
          "scatterpolar": [
           {
            "marker": {
             "colorbar": {
              "outlinewidth": 0,
              "ticks": ""
             }
            },
            "type": "scatterpolar"
           }
          ],
          "scatterpolargl": [
           {
            "marker": {
             "colorbar": {
              "outlinewidth": 0,
              "ticks": ""
             }
            },
            "type": "scatterpolargl"
           }
          ],
          "scatterternary": [
           {
            "marker": {
             "colorbar": {
              "outlinewidth": 0,
              "ticks": ""
             }
            },
            "type": "scatterternary"
           }
          ],
          "surface": [
           {
            "colorbar": {
             "outlinewidth": 0,
             "ticks": ""
            },
            "colorscale": [
             [
              0,
              "#0d0887"
             ],
             [
              0.1111111111111111,
              "#46039f"
             ],
             [
              0.2222222222222222,
              "#7201a8"
             ],
             [
              0.3333333333333333,
              "#9c179e"
             ],
             [
              0.4444444444444444,
              "#bd3786"
             ],
             [
              0.5555555555555556,
              "#d8576b"
             ],
             [
              0.6666666666666666,
              "#ed7953"
             ],
             [
              0.7777777777777778,
              "#fb9f3a"
             ],
             [
              0.8888888888888888,
              "#fdca26"
             ],
             [
              1,
              "#f0f921"
             ]
            ],
            "type": "surface"
           }
          ],
          "table": [
           {
            "cells": {
             "fill": {
              "color": "#EBF0F8"
             },
             "line": {
              "color": "white"
             }
            },
            "header": {
             "fill": {
              "color": "#C8D4E3"
             },
             "line": {
              "color": "white"
             }
            },
            "type": "table"
           }
          ]
         },
         "layout": {
          "annotationdefaults": {
           "arrowcolor": "#2a3f5f",
           "arrowhead": 0,
           "arrowwidth": 1
          },
          "autotypenumbers": "strict",
          "coloraxis": {
           "colorbar": {
            "outlinewidth": 0,
            "ticks": ""
           }
          },
          "colorscale": {
           "diverging": [
            [
             0,
             "#8e0152"
            ],
            [
             0.1,
             "#c51b7d"
            ],
            [
             0.2,
             "#de77ae"
            ],
            [
             0.3,
             "#f1b6da"
            ],
            [
             0.4,
             "#fde0ef"
            ],
            [
             0.5,
             "#f7f7f7"
            ],
            [
             0.6,
             "#e6f5d0"
            ],
            [
             0.7,
             "#b8e186"
            ],
            [
             0.8,
             "#7fbc41"
            ],
            [
             0.9,
             "#4d9221"
            ],
            [
             1,
             "#276419"
            ]
           ],
           "sequential": [
            [
             0,
             "#0d0887"
            ],
            [
             0.1111111111111111,
             "#46039f"
            ],
            [
             0.2222222222222222,
             "#7201a8"
            ],
            [
             0.3333333333333333,
             "#9c179e"
            ],
            [
             0.4444444444444444,
             "#bd3786"
            ],
            [
             0.5555555555555556,
             "#d8576b"
            ],
            [
             0.6666666666666666,
             "#ed7953"
            ],
            [
             0.7777777777777778,
             "#fb9f3a"
            ],
            [
             0.8888888888888888,
             "#fdca26"
            ],
            [
             1,
             "#f0f921"
            ]
           ],
           "sequentialminus": [
            [
             0,
             "#0d0887"
            ],
            [
             0.1111111111111111,
             "#46039f"
            ],
            [
             0.2222222222222222,
             "#7201a8"
            ],
            [
             0.3333333333333333,
             "#9c179e"
            ],
            [
             0.4444444444444444,
             "#bd3786"
            ],
            [
             0.5555555555555556,
             "#d8576b"
            ],
            [
             0.6666666666666666,
             "#ed7953"
            ],
            [
             0.7777777777777778,
             "#fb9f3a"
            ],
            [
             0.8888888888888888,
             "#fdca26"
            ],
            [
             1,
             "#f0f921"
            ]
           ]
          },
          "colorway": [
           "#636efa",
           "#EF553B",
           "#00cc96",
           "#ab63fa",
           "#FFA15A",
           "#19d3f3",
           "#FF6692",
           "#B6E880",
           "#FF97FF",
           "#FECB52"
          ],
          "font": {
           "color": "#2a3f5f"
          },
          "geo": {
           "bgcolor": "white",
           "lakecolor": "white",
           "landcolor": "#E5ECF6",
           "showlakes": true,
           "showland": true,
           "subunitcolor": "white"
          },
          "hoverlabel": {
           "align": "left"
          },
          "hovermode": "closest",
          "mapbox": {
           "style": "light"
          },
          "paper_bgcolor": "white",
          "plot_bgcolor": "#E5ECF6",
          "polar": {
           "angularaxis": {
            "gridcolor": "white",
            "linecolor": "white",
            "ticks": ""
           },
           "bgcolor": "#E5ECF6",
           "radialaxis": {
            "gridcolor": "white",
            "linecolor": "white",
            "ticks": ""
           }
          },
          "scene": {
           "xaxis": {
            "backgroundcolor": "#E5ECF6",
            "gridcolor": "white",
            "gridwidth": 2,
            "linecolor": "white",
            "showbackground": true,
            "ticks": "",
            "zerolinecolor": "white"
           },
           "yaxis": {
            "backgroundcolor": "#E5ECF6",
            "gridcolor": "white",
            "gridwidth": 2,
            "linecolor": "white",
            "showbackground": true,
            "ticks": "",
            "zerolinecolor": "white"
           },
           "zaxis": {
            "backgroundcolor": "#E5ECF6",
            "gridcolor": "white",
            "gridwidth": 2,
            "linecolor": "white",
            "showbackground": true,
            "ticks": "",
            "zerolinecolor": "white"
           }
          },
          "shapedefaults": {
           "line": {
            "color": "#2a3f5f"
           }
          },
          "ternary": {
           "aaxis": {
            "gridcolor": "white",
            "linecolor": "white",
            "ticks": ""
           },
           "baxis": {
            "gridcolor": "white",
            "linecolor": "white",
            "ticks": ""
           },
           "bgcolor": "#E5ECF6",
           "caxis": {
            "gridcolor": "white",
            "linecolor": "white",
            "ticks": ""
           }
          },
          "title": {
           "x": 0.05
          },
          "xaxis": {
           "automargin": true,
           "gridcolor": "white",
           "linecolor": "white",
           "ticks": "",
           "title": {
            "standoff": 15
           },
           "zerolinecolor": "white",
           "zerolinewidth": 2
          },
          "yaxis": {
           "automargin": true,
           "gridcolor": "white",
           "linecolor": "white",
           "ticks": "",
           "title": {
            "standoff": 15
           },
           "zerolinecolor": "white",
           "zerolinewidth": 2
          }
         }
        },
        "title": {
         "text": "Parallel Coordinate Plot"
        }
       }
      }
     },
     "metadata": {},
     "output_type": "display_data"
    }
   ],
   "source": [
    "plot_parallel_coordinate(study)"
   ]
  },
  {
   "cell_type": "code",
   "execution_count": 102,
   "metadata": {},
   "outputs": [
    {
     "data": {
      "application/vnd.plotly.v1+json": {
       "config": {
        "plotlyServerURL": "https://plot.ly"
       },
       "data": [
        {
         "colorbar": {
          "title": {
           "text": "Objective Value"
          }
         },
         "colorscale": [
          [
           0,
           "rgb(247,251,255)"
          ],
          [
           0.125,
           "rgb(222,235,247)"
          ],
          [
           0.25,
           "rgb(198,219,239)"
          ],
          [
           0.375,
           "rgb(158,202,225)"
          ],
          [
           0.5,
           "rgb(107,174,214)"
          ],
          [
           0.625,
           "rgb(66,146,198)"
          ],
          [
           0.75,
           "rgb(33,113,181)"
          ],
          [
           0.875,
           "rgb(8,81,156)"
          ],
          [
           1,
           "rgb(8,48,107)"
          ]
         ],
         "connectgaps": true,
         "contours": {
          "coloring": "heatmap"
         },
         "hoverinfo": "none",
         "line": {
          "smoothing": 1.3
         },
         "reversescale": false,
         "type": "contour",
         "x": [
          6.55,
          11,
          15,
          24,
          25,
          30,
          31,
          35,
          40,
          41,
          42,
          44,
          46,
          47,
          48,
          49,
          50,
          51,
          52,
          53,
          54,
          55,
          56,
          57,
          58,
          59,
          60,
          61,
          62,
          63,
          64,
          65,
          66,
          67,
          68,
          69,
          70,
          71,
          72,
          73,
          74,
          75,
          76,
          77,
          78,
          79,
          80,
          81,
          82,
          83,
          84,
          86,
          87,
          88,
          89,
          90,
          91,
          94,
          96,
          99,
          100,
          104.45
         ],
         "y": [
          0.000013880554746062796,
          0.00002118746911027315,
          0.000053477006088327755,
          0.00007952981773014723,
          0.00018522825646486625,
          0.00024350223222632195,
          0.0003333746180944005,
          0.00042216005182977006,
          0.0011218725262696903,
          0.0013928356779063214,
          0.0037174701303784212,
          0.004940904567533033,
          0.005724519490212814,
          0.007800896470262943,
          0.011276643319481836,
          0.012726164567724876,
          0.014085240524731032,
          0.01570892260770265,
          0.01703116325199328,
          0.017231506072913978,
          0.01944648227435904,
          0.01994766855357251,
          0.020352900881255305,
          0.022930850152325814,
          0.02352981378584673,
          0.023717340533890945,
          0.024848959590663366,
          0.02766441258642419,
          0.028120891876766526,
          0.02818984561662886,
          0.02979389862728106,
          0.030897647965489074,
          0.03219856898881238,
          0.03248003010312427,
          0.03363681957191448,
          0.03442345145767649,
          0.03575967490609509,
          0.036139754327595676,
          0.03705886198320452,
          0.038642052034602255,
          0.03877448282566431,
          0.03982449594436201,
          0.04146739953550929,
          0.042026736649492684,
          0.04499561316182582,
          0.04519766659968222,
          0.04531351292926553,
          0.04559891034878692,
          0.04711836977154496,
          0.04731445119311008,
          0.04816566904654761,
          0.05017891014057906,
          0.050470152281218164,
          0.051522725370567825,
          0.051829892706705454,
          0.052830226056087795,
          0.05401712134513742,
          0.054927720221133854,
          0.056158708315151774,
          0.05701001136825143,
          0.05748650009449627,
          0.059965188724583014,
          0.060339052298088766,
          0.06099854314067278,
          0.06109557223872505,
          0.06190872799865389,
          0.06260922876168513,
          0.06272681137100425,
          0.06639950826156321,
          0.06657421868110798,
          0.0686097696644887,
          0.06870656901775349,
          0.06893522795333469,
          0.06955784005833121,
          0.07197408711059884,
          0.07217980945378619,
          0.07509662173148697,
          0.0766911885198324,
          0.07697197701798705,
          0.07706631323922435,
          0.07783174980373501,
          0.07847460584675534,
          0.0797361693336084,
          0.0798682482986343,
          0.08315143062823342,
          0.0832319879623828,
          0.08380309043231503,
          0.09208852437599188,
          0.0930146152300883,
          0.0934867392041049,
          0.09444507979935936,
          0.09534872648642258,
          0.09730736705117617,
          0.09817167323701333,
          0.09820178881578817,
          0.09823073274248471,
          0.09842405664252042,
          0.09850968629090454,
          0.09953799693101374,
          0.09961921128876214,
          0.099890517484237,
          0.1524742556998159
         ],
         "z": [
          [
           null,
           null,
           null,
           null,
           null,
           null,
           null,
           null,
           null,
           null,
           null,
           null,
           null,
           null,
           null,
           null,
           null,
           null,
           null,
           null,
           null,
           null,
           null,
           null,
           null,
           null,
           null,
           null,
           null,
           null,
           null,
           null,
           null,
           null,
           null,
           null,
           null,
           null,
           null,
           null,
           null,
           null,
           null,
           null,
           null,
           null,
           null,
           null,
           null,
           null,
           null,
           null,
           null,
           null,
           null,
           null,
           null,
           null,
           null,
           null,
           null,
           null
          ],
          [
           null,
           null,
           null,
           null,
           null,
           null,
           null,
           null,
           null,
           null,
           null,
           null,
           null,
           null,
           null,
           null,
           null,
           null,
           null,
           null,
           null,
           null,
           null,
           null,
           null,
           null,
           null,
           null,
           null,
           null,
           null,
           null,
           null,
           null,
           null,
           null,
           null,
           null,
           null,
           null,
           null,
           null,
           null,
           null,
           null,
           0.10497458507908668,
           null,
           null,
           null,
           null,
           null,
           null,
           null,
           null,
           null,
           null,
           null,
           null,
           null,
           null,
           null,
           null
          ],
          [
           null,
           null,
           null,
           null,
           null,
           null,
           null,
           null,
           0.10356377277599142,
           null,
           null,
           null,
           null,
           null,
           null,
           null,
           null,
           null,
           null,
           null,
           null,
           null,
           null,
           null,
           null,
           null,
           null,
           null,
           null,
           null,
           null,
           null,
           null,
           null,
           null,
           null,
           null,
           null,
           null,
           null,
           null,
           null,
           null,
           null,
           null,
           null,
           null,
           null,
           null,
           null,
           null,
           null,
           null,
           null,
           null,
           null,
           null,
           null,
           null,
           null,
           null,
           null
          ],
          [
           null,
           null,
           null,
           null,
           null,
           null,
           null,
           null,
           null,
           null,
           null,
           null,
           null,
           null,
           null,
           null,
           null,
           null,
           null,
           null,
           null,
           0.08348760921108186,
           null,
           null,
           null,
           null,
           null,
           null,
           null,
           null,
           null,
           null,
           null,
           null,
           null,
           null,
           null,
           null,
           null,
           null,
           null,
           null,
           null,
           null,
           null,
           null,
           null,
           null,
           null,
           null,
           null,
           null,
           null,
           null,
           null,
           null,
           null,
           null,
           null,
           null,
           null,
           null
          ],
          [
           null,
           null,
           null,
           null,
           null,
           0.11993325538341615,
           null,
           null,
           null,
           null,
           null,
           null,
           null,
           null,
           null,
           null,
           null,
           null,
           null,
           null,
           null,
           null,
           null,
           null,
           null,
           null,
           null,
           null,
           null,
           null,
           null,
           null,
           null,
           null,
           null,
           null,
           null,
           null,
           null,
           null,
           null,
           null,
           null,
           null,
           null,
           null,
           null,
           null,
           null,
           null,
           null,
           null,
           null,
           null,
           null,
           null,
           null,
           null,
           null,
           null,
           null,
           null
          ],
          [
           null,
           null,
           null,
           null,
           null,
           null,
           null,
           null,
           null,
           null,
           null,
           null,
           null,
           null,
           null,
           null,
           null,
           null,
           0.10258939881126376,
           null,
           null,
           null,
           null,
           null,
           null,
           null,
           null,
           null,
           null,
           null,
           null,
           null,
           null,
           null,
           null,
           null,
           null,
           null,
           null,
           null,
           null,
           null,
           null,
           null,
           null,
           null,
           null,
           null,
           null,
           null,
           null,
           null,
           null,
           null,
           null,
           null,
           null,
           null,
           null,
           null,
           null,
           null
          ],
          [
           null,
           null,
           null,
           null,
           null,
           null,
           null,
           null,
           null,
           0.07535767644288544,
           null,
           null,
           null,
           null,
           null,
           null,
           null,
           null,
           null,
           null,
           null,
           null,
           null,
           null,
           null,
           null,
           null,
           null,
           null,
           null,
           null,
           null,
           null,
           null,
           null,
           null,
           null,
           null,
           null,
           null,
           null,
           null,
           null,
           null,
           null,
           null,
           null,
           null,
           null,
           null,
           null,
           null,
           null,
           null,
           null,
           null,
           null,
           null,
           null,
           null,
           null,
           null
          ],
          [
           null,
           null,
           null,
           null,
           null,
           null,
           null,
           null,
           null,
           null,
           null,
           null,
           null,
           null,
           null,
           null,
           null,
           null,
           null,
           null,
           null,
           null,
           null,
           null,
           null,
           null,
           null,
           null,
           null,
           null,
           null,
           null,
           null,
           null,
           null,
           null,
           null,
           null,
           null,
           null,
           null,
           null,
           null,
           null,
           null,
           null,
           null,
           null,
           null,
           null,
           null,
           null,
           null,
           0.0794033583422651,
           null,
           null,
           null,
           null,
           null,
           null,
           null,
           null
          ],
          [
           null,
           null,
           0.117497320471597,
           null,
           null,
           null,
           null,
           null,
           null,
           null,
           null,
           null,
           null,
           null,
           null,
           null,
           null,
           null,
           null,
           null,
           null,
           null,
           null,
           null,
           null,
           null,
           null,
           null,
           null,
           null,
           null,
           null,
           null,
           null,
           null,
           null,
           null,
           null,
           null,
           null,
           null,
           null,
           null,
           null,
           null,
           null,
           null,
           null,
           null,
           null,
           null,
           null,
           null,
           null,
           null,
           null,
           null,
           null,
           null,
           null,
           null,
           null
          ],
          [
           null,
           null,
           null,
           null,
           null,
           null,
           null,
           null,
           null,
           null,
           null,
           null,
           null,
           null,
           null,
           null,
           null,
           null,
           null,
           null,
           null,
           null,
           null,
           null,
           null,
           null,
           null,
           null,
           null,
           null,
           null,
           null,
           null,
           null,
           null,
           null,
           null,
           null,
           null,
           null,
           null,
           null,
           null,
           null,
           null,
           null,
           null,
           null,
           null,
           null,
           null,
           null,
           0.03370927928805743,
           null,
           null,
           null,
           null,
           null,
           null,
           null,
           null,
           null
          ],
          [
           null,
           null,
           null,
           null,
           null,
           null,
           null,
           null,
           null,
           null,
           null,
           null,
           null,
           null,
           null,
           null,
           null,
           null,
           null,
           null,
           null,
           null,
           null,
           null,
           null,
           null,
           null,
           null,
           null,
           null,
           null,
           null,
           null,
           null,
           null,
           0.08900297184059243,
           null,
           null,
           null,
           null,
           null,
           null,
           null,
           null,
           null,
           null,
           null,
           null,
           null,
           null,
           null,
           null,
           null,
           null,
           null,
           null,
           null,
           null,
           null,
           null,
           null,
           null
          ],
          [
           null,
           null,
           null,
           null,
           null,
           null,
           null,
           null,
           null,
           null,
           null,
           null,
           null,
           null,
           null,
           null,
           null,
           null,
           null,
           null,
           null,
           null,
           null,
           null,
           null,
           null,
           null,
           null,
           null,
           null,
           null,
           null,
           null,
           null,
           null,
           null,
           null,
           null,
           null,
           null,
           null,
           null,
           null,
           null,
           null,
           null,
           null,
           null,
           null,
           null,
           null,
           null,
           null,
           null,
           null,
           null,
           null,
           null,
           null,
           0.1569513462600279,
           null,
           null
          ],
          [
           null,
           null,
           null,
           null,
           null,
           null,
           null,
           null,
           null,
           null,
           null,
           null,
           null,
           null,
           null,
           null,
           null,
           null,
           null,
           null,
           null,
           null,
           null,
           null,
           null,
           null,
           null,
           null,
           null,
           null,
           null,
           null,
           null,
           null,
           null,
           null,
           null,
           null,
           null,
           null,
           null,
           null,
           null,
           null,
           null,
           null,
           null,
           null,
           null,
           null,
           null,
           null,
           null,
           null,
           null,
           null,
           null,
           null,
           0.12475843645457795,
           null,
           null,
           null
          ],
          [
           null,
           null,
           null,
           null,
           null,
           null,
           null,
           null,
           null,
           null,
           null,
           null,
           null,
           null,
           null,
           null,
           null,
           null,
           null,
           null,
           null,
           null,
           null,
           null,
           null,
           null,
           null,
           null,
           null,
           null,
           null,
           null,
           null,
           null,
           null,
           null,
           null,
           null,
           null,
           null,
           null,
           null,
           null,
           null,
           null,
           null,
           null,
           null,
           null,
           null,
           null,
           null,
           null,
           null,
           0.20347161323849428,
           null,
           null,
           null,
           null,
           null,
           null,
           null
          ],
          [
           null,
           0.1427884146935594,
           null,
           null,
           null,
           null,
           null,
           null,
           null,
           null,
           null,
           null,
           null,
           null,
           null,
           null,
           null,
           null,
           null,
           null,
           null,
           null,
           null,
           null,
           null,
           null,
           null,
           null,
           null,
           null,
           null,
           null,
           null,
           null,
           null,
           null,
           null,
           null,
           null,
           null,
           null,
           null,
           null,
           null,
           null,
           null,
           null,
           null,
           null,
           null,
           null,
           null,
           null,
           null,
           null,
           null,
           null,
           null,
           null,
           null,
           null,
           null
          ],
          [
           null,
           null,
           null,
           0.2463440676865114,
           null,
           null,
           null,
           null,
           null,
           null,
           null,
           null,
           null,
           null,
           null,
           null,
           null,
           null,
           null,
           null,
           null,
           null,
           null,
           null,
           null,
           null,
           null,
           null,
           null,
           null,
           null,
           null,
           null,
           null,
           null,
           null,
           null,
           null,
           null,
           null,
           null,
           null,
           null,
           null,
           null,
           null,
           null,
           null,
           null,
           null,
           null,
           null,
           null,
           null,
           null,
           null,
           null,
           null,
           null,
           null,
           null,
           null
          ],
          [
           null,
           null,
           null,
           null,
           null,
           null,
           null,
           null,
           null,
           null,
           null,
           null,
           null,
           null,
           null,
           null,
           null,
           null,
           null,
           null,
           null,
           null,
           null,
           null,
           null,
           null,
           null,
           null,
           null,
           null,
           null,
           null,
           null,
           null,
           null,
           null,
           null,
           null,
           null,
           null,
           null,
           null,
           null,
           null,
           null,
           null,
           null,
           null,
           null,
           null,
           null,
           null,
           null,
           null,
           null,
           null,
           null,
           0.2593580499529053,
           null,
           null,
           null,
           null
          ],
          [
           null,
           null,
           null,
           null,
           null,
           null,
           null,
           null,
           null,
           null,
           null,
           null,
           null,
           null,
           null,
           null,
           null,
           null,
           null,
           null,
           null,
           null,
           null,
           null,
           null,
           null,
           null,
           null,
           null,
           null,
           null,
           null,
           null,
           null,
           null,
           null,
           null,
           null,
           null,
           null,
           null,
           0.27562603527233753,
           null,
           null,
           null,
           null,
           null,
           null,
           null,
           null,
           null,
           null,
           null,
           null,
           null,
           null,
           null,
           null,
           null,
           null,
           null,
           null
          ],
          [
           null,
           null,
           null,
           null,
           null,
           null,
           0.223827909318263,
           null,
           null,
           null,
           null,
           null,
           null,
           null,
           null,
           null,
           null,
           null,
           null,
           null,
           null,
           null,
           null,
           null,
           null,
           null,
           null,
           null,
           null,
           null,
           null,
           null,
           null,
           null,
           null,
           null,
           null,
           null,
           null,
           null,
           null,
           null,
           null,
           null,
           null,
           null,
           null,
           null,
           null,
           null,
           null,
           null,
           null,
           null,
           null,
           null,
           null,
           null,
           null,
           null,
           null,
           null
          ],
          [
           null,
           null,
           null,
           null,
           null,
           null,
           null,
           null,
           null,
           null,
           null,
           null,
           null,
           null,
           null,
           null,
           null,
           null,
           null,
           null,
           null,
           null,
           null,
           null,
           null,
           null,
           null,
           null,
           null,
           null,
           null,
           null,
           null,
           null,
           null,
           null,
           null,
           null,
           null,
           null,
           null,
           0.26652578843093316,
           null,
           null,
           null,
           null,
           null,
           null,
           null,
           null,
           null,
           null,
           null,
           null,
           null,
           null,
           null,
           null,
           null,
           null,
           null,
           null
          ],
          [
           null,
           null,
           null,
           null,
           null,
           null,
           null,
           null,
           0.22764014745526,
           null,
           null,
           null,
           null,
           null,
           null,
           null,
           null,
           null,
           null,
           null,
           null,
           null,
           null,
           null,
           null,
           null,
           null,
           null,
           null,
           null,
           null,
           null,
           null,
           null,
           null,
           null,
           null,
           null,
           null,
           null,
           null,
           null,
           null,
           null,
           null,
           null,
           null,
           null,
           null,
           null,
           null,
           null,
           null,
           null,
           null,
           null,
           null,
           null,
           null,
           null,
           null,
           null
          ],
          [
           null,
           null,
           null,
           null,
           null,
           null,
           null,
           null,
           null,
           null,
           null,
           null,
           null,
           null,
           null,
           null,
           null,
           null,
           null,
           null,
           null,
           null,
           null,
           null,
           null,
           null,
           null,
           null,
           null,
           null,
           null,
           null,
           null,
           null,
           null,
           null,
           null,
           null,
           null,
           null,
           null,
           null,
           null,
           0.24322201110786315,
           null,
           null,
           null,
           null,
           null,
           null,
           null,
           null,
           null,
           null,
           null,
           null,
           null,
           null,
           null,
           null,
           null,
           null
          ],
          [
           null,
           null,
           null,
           null,
           null,
           null,
           null,
           null,
           null,
           null,
           null,
           null,
           null,
           null,
           null,
           null,
           null,
           null,
           null,
           null,
           null,
           null,
           null,
           null,
           null,
           null,
           null,
           null,
           null,
           null,
           null,
           null,
           null,
           null,
           null,
           null,
           null,
           null,
           null,
           null,
           null,
           null,
           null,
           null,
           null,
           null,
           null,
           null,
           0.2687039202312514,
           null,
           null,
           null,
           null,
           null,
           null,
           null,
           null,
           null,
           null,
           null,
           null,
           null
          ],
          [
           null,
           null,
           null,
           null,
           null,
           null,
           null,
           null,
           null,
           null,
           null,
           null,
           null,
           null,
           null,
           null,
           null,
           null,
           null,
           null,
           null,
           null,
           null,
           null,
           null,
           null,
           null,
           null,
           null,
           null,
           null,
           null,
           null,
           null,
           null,
           null,
           null,
           null,
           null,
           null,
           null,
           null,
           null,
           null,
           null,
           null,
           null,
           null,
           null,
           null,
           0.28127334437623824,
           null,
           null,
           null,
           null,
           null,
           null,
           null,
           null,
           null,
           null,
           null
          ],
          [
           null,
           null,
           null,
           null,
           null,
           null,
           null,
           null,
           null,
           null,
           null,
           null,
           null,
           null,
           null,
           null,
           null,
           null,
           null,
           null,
           null,
           null,
           null,
           null,
           null,
           null,
           null,
           null,
           null,
           null,
           null,
           null,
           null,
           null,
           null,
           null,
           0.1978791126701095,
           null,
           null,
           null,
           null,
           null,
           null,
           null,
           null,
           null,
           null,
           null,
           null,
           null,
           null,
           null,
           null,
           null,
           null,
           null,
           null,
           null,
           null,
           null,
           null,
           null
          ],
          [
           null,
           null,
           null,
           null,
           null,
           null,
           null,
           null,
           null,
           null,
           null,
           null,
           null,
           null,
           null,
           null,
           null,
           null,
           null,
           null,
           null,
           null,
           null,
           null,
           null,
           null,
           null,
           null,
           null,
           null,
           null,
           null,
           null,
           null,
           null,
           null,
           null,
           null,
           null,
           null,
           null,
           null,
           null,
           null,
           0.24615325278508557,
           null,
           null,
           null,
           null,
           null,
           null,
           null,
           null,
           null,
           null,
           null,
           null,
           null,
           null,
           null,
           null,
           null
          ],
          [
           null,
           null,
           null,
           null,
           null,
           null,
           null,
           null,
           null,
           null,
           null,
           null,
           null,
           null,
           null,
           null,
           null,
           0.37963030627821626,
           null,
           null,
           null,
           null,
           null,
           null,
           null,
           null,
           null,
           null,
           null,
           null,
           null,
           null,
           null,
           null,
           null,
           null,
           null,
           null,
           null,
           null,
           null,
           null,
           null,
           null,
           null,
           null,
           null,
           null,
           null,
           null,
           null,
           null,
           null,
           null,
           null,
           null,
           null,
           null,
           null,
           null,
           null,
           null
          ],
          [
           null,
           null,
           null,
           null,
           null,
           null,
           null,
           null,
           null,
           null,
           null,
           null,
           null,
           null,
           null,
           null,
           null,
           null,
           null,
           null,
           null,
           null,
           null,
           null,
           null,
           null,
           null,
           null,
           null,
           null,
           null,
           null,
           null,
           null,
           null,
           null,
           null,
           null,
           null,
           null,
           null,
           null,
           null,
           null,
           null,
           null,
           null,
           null,
           null,
           0.4681927798889214,
           null,
           null,
           null,
           null,
           null,
           null,
           null,
           null,
           null,
           null,
           null,
           null
          ],
          [
           null,
           null,
           null,
           null,
           null,
           null,
           null,
           null,
           null,
           null,
           null,
           null,
           null,
           null,
           null,
           null,
           null,
           null,
           null,
           null,
           null,
           null,
           null,
           null,
           null,
           null,
           null,
           null,
           null,
           null,
           null,
           null,
           null,
           null,
           null,
           null,
           null,
           null,
           null,
           null,
           null,
           null,
           null,
           null,
           null,
           null,
           0.334470102958849,
           null,
           null,
           null,
           null,
           null,
           null,
           null,
           null,
           null,
           null,
           null,
           null,
           null,
           null,
           null
          ],
          [
           null,
           null,
           null,
           null,
           null,
           null,
           null,
           null,
           null,
           null,
           null,
           null,
           null,
           null,
           null,
           null,
           null,
           null,
           null,
           null,
           null,
           null,
           null,
           null,
           null,
           null,
           null,
           null,
           null,
           null,
           null,
           null,
           null,
           null,
           null,
           null,
           null,
           null,
           null,
           null,
           null,
           null,
           0.25156711812660365,
           null,
           null,
           null,
           null,
           null,
           null,
           null,
           null,
           null,
           null,
           null,
           null,
           null,
           null,
           null,
           null,
           null,
           null,
           null
          ],
          [
           null,
           null,
           null,
           null,
           null,
           null,
           null,
           null,
           null,
           null,
           null,
           null,
           null,
           null,
           null,
           0.16913914060216312,
           null,
           null,
           null,
           null,
           null,
           null,
           null,
           null,
           null,
           null,
           null,
           null,
           null,
           null,
           null,
           null,
           null,
           null,
           null,
           null,
           null,
           null,
           null,
           null,
           null,
           null,
           null,
           null,
           null,
           null,
           null,
           null,
           null,
           null,
           null,
           null,
           null,
           null,
           null,
           null,
           null,
           null,
           null,
           null,
           null,
           null
          ],
          [
           null,
           null,
           null,
           null,
           null,
           null,
           null,
           null,
           null,
           null,
           null,
           null,
           null,
           null,
           null,
           null,
           null,
           null,
           0.3771862515833577,
           null,
           null,
           null,
           null,
           null,
           null,
           null,
           null,
           null,
           null,
           null,
           null,
           null,
           null,
           null,
           null,
           null,
           null,
           null,
           null,
           null,
           null,
           null,
           null,
           null,
           null,
           null,
           null,
           null,
           null,
           null,
           null,
           null,
           null,
           null,
           null,
           null,
           null,
           null,
           null,
           null,
           null,
           null
          ],
          [
           null,
           null,
           null,
           null,
           null,
           null,
           null,
           null,
           null,
           null,
           null,
           null,
           null,
           null,
           null,
           null,
           null,
           null,
           0.2415655753678262,
           null,
           null,
           null,
           null,
           null,
           null,
           null,
           null,
           null,
           null,
           null,
           null,
           null,
           null,
           null,
           null,
           null,
           null,
           null,
           null,
           null,
           null,
           null,
           null,
           null,
           null,
           null,
           null,
           null,
           null,
           null,
           null,
           null,
           null,
           null,
           null,
           null,
           null,
           null,
           null,
           null,
           null,
           null
          ],
          [
           null,
           null,
           null,
           null,
           null,
           null,
           null,
           null,
           null,
           null,
           null,
           null,
           null,
           null,
           null,
           null,
           null,
           null,
           null,
           null,
           null,
           null,
           null,
           null,
           null,
           null,
           null,
           null,
           null,
           null,
           null,
           null,
           null,
           0.26037505277858974,
           null,
           null,
           null,
           null,
           null,
           null,
           null,
           null,
           null,
           null,
           null,
           null,
           null,
           null,
           null,
           null,
           null,
           null,
           null,
           null,
           null,
           null,
           null,
           null,
           null,
           null,
           null,
           null
          ],
          [
           null,
           null,
           null,
           null,
           null,
           null,
           null,
           null,
           null,
           null,
           null,
           null,
           null,
           null,
           null,
           null,
           null,
           null,
           null,
           null,
           null,
           null,
           null,
           null,
           null,
           null,
           null,
           null,
           null,
           null,
           null,
           null,
           null,
           null,
           null,
           null,
           null,
           null,
           null,
           null,
           null,
           null,
           null,
           null,
           null,
           null,
           0.3712466302900387,
           null,
           null,
           null,
           null,
           null,
           null,
           null,
           null,
           null,
           null,
           null,
           null,
           null,
           null,
           null
          ],
          [
           null,
           null,
           null,
           null,
           null,
           null,
           null,
           null,
           null,
           null,
           null,
           null,
           null,
           null,
           null,
           null,
           null,
           null,
           null,
           null,
           null,
           null,
           null,
           null,
           null,
           null,
           null,
           null,
           null,
           null,
           null,
           null,
           null,
           null,
           null,
           null,
           null,
           null,
           null,
           null,
           null,
           null,
           null,
           null,
           null,
           null,
           null,
           0.24961025041410892,
           null,
           null,
           null,
           null,
           null,
           null,
           null,
           null,
           null,
           null,
           null,
           null,
           null,
           null
          ],
          [
           null,
           null,
           null,
           null,
           null,
           null,
           null,
           null,
           null,
           null,
           null,
           0.2257888369222774,
           null,
           null,
           null,
           null,
           null,
           null,
           null,
           null,
           null,
           null,
           null,
           null,
           null,
           null,
           null,
           null,
           null,
           null,
           null,
           null,
           null,
           null,
           null,
           null,
           null,
           null,
           null,
           null,
           null,
           null,
           null,
           null,
           null,
           null,
           null,
           null,
           null,
           null,
           null,
           null,
           null,
           null,
           null,
           null,
           null,
           null,
           null,
           null,
           null,
           null
          ],
          [
           null,
           null,
           null,
           null,
           null,
           null,
           null,
           null,
           null,
           null,
           null,
           null,
           null,
           null,
           null,
           null,
           null,
           null,
           null,
           null,
           null,
           null,
           null,
           null,
           null,
           null,
           null,
           null,
           null,
           null,
           null,
           null,
           null,
           null,
           null,
           null,
           null,
           null,
           null,
           null,
           null,
           null,
           0.3884889895741986,
           null,
           null,
           null,
           null,
           null,
           null,
           null,
           null,
           null,
           null,
           null,
           null,
           null,
           null,
           null,
           null,
           null,
           null,
           null
          ],
          [
           null,
           null,
           null,
           null,
           null,
           null,
           null,
           null,
           null,
           null,
           null,
           null,
           null,
           null,
           null,
           null,
           null,
           null,
           null,
           null,
           null,
           null,
           null,
           null,
           null,
           0.2973038260417682,
           null,
           null,
           null,
           null,
           null,
           null,
           null,
           null,
           null,
           null,
           null,
           null,
           null,
           null,
           null,
           null,
           null,
           null,
           null,
           null,
           null,
           null,
           null,
           null,
           null,
           null,
           null,
           null,
           null,
           null,
           null,
           null,
           null,
           null,
           null,
           null
          ],
          [
           null,
           null,
           null,
           null,
           null,
           null,
           null,
           0.3767071843840333,
           null,
           null,
           null,
           null,
           null,
           null,
           null,
           null,
           null,
           null,
           null,
           null,
           null,
           null,
           null,
           null,
           null,
           null,
           null,
           null,
           null,
           null,
           null,
           null,
           null,
           null,
           null,
           null,
           null,
           null,
           null,
           null,
           null,
           null,
           null,
           null,
           null,
           null,
           null,
           null,
           null,
           null,
           null,
           null,
           null,
           null,
           null,
           null,
           null,
           null,
           null,
           null,
           null,
           null
          ],
          [
           null,
           null,
           null,
           null,
           null,
           null,
           null,
           null,
           null,
           null,
           null,
           null,
           null,
           null,
           null,
           null,
           null,
           null,
           null,
           null,
           null,
           null,
           null,
           null,
           null,
           null,
           null,
           null,
           null,
           null,
           null,
           null,
           null,
           null,
           null,
           null,
           null,
           null,
           null,
           null,
           null,
           null,
           null,
           null,
           null,
           null,
           null,
           null,
           null,
           null,
           null,
           null,
           null,
           null,
           null,
           null,
           null,
           null,
           0.45546704992042614,
           null,
           null,
           null
          ],
          [
           null,
           null,
           null,
           null,
           null,
           null,
           null,
           null,
           null,
           null,
           null,
           null,
           null,
           null,
           null,
           null,
           null,
           null,
           null,
           null,
           null,
           null,
           null,
           null,
           null,
           null,
           null,
           null,
           null,
           null,
           null,
           null,
           null,
           null,
           null,
           null,
           null,
           null,
           null,
           null,
           null,
           null,
           null,
           null,
           null,
           null,
           null,
           null,
           null,
           null,
           null,
           null,
           null,
           null,
           null,
           null,
           null,
           null,
           null,
           null,
           0.44052055929065576,
           null
          ],
          [
           null,
           null,
           null,
           null,
           null,
           null,
           null,
           null,
           null,
           null,
           null,
           null,
           null,
           null,
           null,
           null,
           null,
           null,
           null,
           null,
           null,
           null,
           null,
           null,
           null,
           null,
           null,
           null,
           null,
           null,
           null,
           null,
           0.323463737048946,
           null,
           null,
           null,
           null,
           null,
           null,
           null,
           null,
           null,
           null,
           null,
           null,
           null,
           null,
           null,
           null,
           null,
           null,
           null,
           null,
           null,
           null,
           null,
           null,
           null,
           null,
           null,
           null,
           null
          ],
          [
           null,
           null,
           null,
           null,
           null,
           null,
           null,
           null,
           null,
           null,
           null,
           null,
           null,
           null,
           null,
           null,
           null,
           null,
           null,
           null,
           null,
           null,
           null,
           null,
           null,
           null,
           null,
           null,
           null,
           null,
           null,
           null,
           null,
           null,
           null,
           null,
           0.3763722433336581,
           null,
           null,
           null,
           null,
           null,
           null,
           null,
           null,
           null,
           null,
           null,
           null,
           null,
           null,
           null,
           null,
           null,
           null,
           null,
           null,
           null,
           null,
           null,
           null,
           null
          ],
          [
           null,
           null,
           null,
           null,
           null,
           null,
           null,
           null,
           null,
           null,
           null,
           null,
           null,
           null,
           null,
           null,
           null,
           null,
           null,
           null,
           null,
           null,
           null,
           null,
           null,
           null,
           null,
           null,
           null,
           null,
           null,
           null,
           null,
           null,
           null,
           null,
           null,
           null,
           null,
           null,
           null,
           null,
           null,
           null,
           null,
           null,
           null,
           null,
           null,
           null,
           null,
           null,
           0.44481186462697714,
           null,
           null,
           null,
           null,
           null,
           null,
           null,
           null,
           null
          ],
          [
           null,
           null,
           null,
           null,
           null,
           null,
           null,
           null,
           null,
           null,
           null,
           null,
           null,
           null,
           null,
           null,
           null,
           null,
           null,
           null,
           null,
           null,
           null,
           null,
           null,
           null,
           null,
           null,
           null,
           null,
           null,
           null,
           null,
           null,
           null,
           null,
           null,
           null,
           0.4202068920718438,
           null,
           null,
           null,
           null,
           null,
           null,
           null,
           null,
           null,
           null,
           null,
           null,
           null,
           null,
           null,
           null,
           null,
           null,
           null,
           null,
           null,
           null,
           null
          ],
          [
           null,
           null,
           null,
           null,
           null,
           null,
           null,
           null,
           null,
           null,
           null,
           null,
           null,
           null,
           null,
           null,
           null,
           null,
           null,
           null,
           null,
           null,
           null,
           null,
           null,
           null,
           null,
           null,
           null,
           null,
           null,
           null,
           null,
           null,
           null,
           null,
           null,
           null,
           null,
           null,
           null,
           null,
           null,
           0.5288414693559388,
           null,
           null,
           null,
           null,
           null,
           null,
           null,
           null,
           null,
           null,
           null,
           null,
           null,
           null,
           null,
           null,
           null,
           null
          ],
          [
           null,
           null,
           null,
           null,
           null,
           null,
           null,
           null,
           null,
           null,
           null,
           null,
           null,
           null,
           null,
           null,
           null,
           null,
           null,
           null,
           null,
           null,
           null,
           null,
           0.30306075221670076,
           null,
           null,
           null,
           null,
           null,
           null,
           null,
           null,
           null,
           null,
           null,
           null,
           null,
           null,
           null,
           null,
           null,
           null,
           null,
           null,
           null,
           null,
           null,
           null,
           null,
           null,
           null,
           null,
           null,
           null,
           null,
           null,
           null,
           null,
           null,
           null,
           null
          ],
          [
           null,
           null,
           null,
           null,
           null,
           null,
           null,
           null,
           null,
           null,
           null,
           null,
           null,
           null,
           null,
           null,
           null,
           null,
           null,
           null,
           null,
           null,
           null,
           null,
           null,
           null,
           null,
           null,
           null,
           null,
           null,
           null,
           null,
           null,
           null,
           null,
           null,
           null,
           0.40321015622462564,
           null,
           null,
           null,
           null,
           null,
           null,
           null,
           null,
           null,
           null,
           null,
           null,
           null,
           null,
           null,
           null,
           null,
           null,
           null,
           null,
           null,
           null,
           null
          ],
          [
           null,
           null,
           null,
           null,
           null,
           null,
           null,
           null,
           null,
           null,
           null,
           null,
           null,
           null,
           null,
           null,
           null,
           null,
           null,
           null,
           null,
           null,
           null,
           null,
           null,
           null,
           null,
           null,
           null,
           null,
           null,
           null,
           null,
           null,
           null,
           null,
           null,
           null,
           null,
           null,
           null,
           null,
           null,
           null,
           null,
           null,
           null,
           null,
           null,
           null,
           null,
           0.4561612913702946,
           null,
           null,
           null,
           null,
           null,
           null,
           null,
           null,
           null,
           null
          ],
          [
           null,
           null,
           null,
           null,
           null,
           null,
           null,
           null,
           null,
           null,
           null,
           null,
           null,
           0.39322079314040725,
           null,
           null,
           null,
           null,
           null,
           null,
           null,
           null,
           null,
           null,
           null,
           null,
           null,
           null,
           null,
           null,
           null,
           null,
           null,
           null,
           null,
           null,
           null,
           null,
           null,
           null,
           null,
           null,
           null,
           null,
           null,
           null,
           null,
           null,
           null,
           null,
           null,
           null,
           null,
           null,
           null,
           null,
           null,
           null,
           null,
           null,
           null,
           null
          ],
          [
           null,
           null,
           null,
           null,
           null,
           null,
           null,
           0.3196129299425119,
           null,
           null,
           null,
           null,
           null,
           null,
           null,
           null,
           null,
           null,
           null,
           null,
           null,
           null,
           null,
           null,
           null,
           null,
           null,
           null,
           null,
           null,
           null,
           null,
           null,
           null,
           null,
           null,
           null,
           null,
           null,
           null,
           null,
           null,
           null,
           null,
           null,
           null,
           null,
           null,
           null,
           null,
           null,
           null,
           null,
           null,
           null,
           null,
           null,
           null,
           null,
           null,
           null,
           null
          ],
          [
           null,
           null,
           null,
           null,
           null,
           null,
           null,
           null,
           null,
           null,
           null,
           null,
           0.2973545746857644,
           null,
           null,
           null,
           null,
           null,
           null,
           null,
           null,
           null,
           null,
           null,
           null,
           null,
           null,
           null,
           null,
           null,
           null,
           null,
           null,
           null,
           null,
           null,
           null,
           null,
           null,
           null,
           null,
           null,
           null,
           null,
           null,
           null,
           null,
           null,
           null,
           null,
           null,
           null,
           null,
           null,
           null,
           null,
           null,
           null,
           null,
           null,
           null,
           null
          ],
          [
           null,
           null,
           null,
           null,
           null,
           null,
           null,
           null,
           null,
           null,
           null,
           null,
           null,
           null,
           null,
           null,
           null,
           null,
           null,
           null,
           null,
           null,
           null,
           null,
           null,
           null,
           null,
           null,
           null,
           null,
           null,
           null,
           null,
           null,
           0.48383757186007986,
           null,
           null,
           null,
           null,
           null,
           null,
           null,
           null,
           null,
           null,
           null,
           null,
           null,
           null,
           null,
           null,
           null,
           null,
           null,
           null,
           null,
           null,
           null,
           null,
           null,
           null,
           null
          ],
          [
           null,
           null,
           null,
           null,
           null,
           null,
           null,
           null,
           null,
           null,
           null,
           null,
           null,
           null,
           null,
           null,
           null,
           null,
           null,
           null,
           null,
           null,
           null,
           null,
           null,
           null,
           null,
           null,
           null,
           null,
           0.3947371626230147,
           null,
           null,
           null,
           null,
           null,
           null,
           null,
           null,
           null,
           null,
           null,
           null,
           null,
           null,
           null,
           null,
           null,
           null,
           null,
           null,
           null,
           null,
           null,
           null,
           null,
           null,
           null,
           null,
           null,
           null,
           null
          ],
          [
           null,
           null,
           null,
           null,
           null,
           null,
           null,
           null,
           null,
           null,
           null,
           null,
           null,
           null,
           null,
           null,
           null,
           null,
           null,
           null,
           null,
           null,
           null,
           null,
           null,
           null,
           null,
           null,
           0.46935796875507485,
           null,
           null,
           null,
           null,
           null,
           null,
           null,
           null,
           null,
           null,
           null,
           null,
           null,
           null,
           null,
           null,
           null,
           null,
           null,
           null,
           null,
           null,
           null,
           null,
           null,
           null,
           null,
           null,
           null,
           null,
           null,
           null,
           null
          ],
          [
           null,
           null,
           null,
           null,
           null,
           null,
           null,
           null,
           null,
           null,
           null,
           null,
           null,
           null,
           null,
           null,
           null,
           null,
           null,
           null,
           null,
           null,
           null,
           null,
           null,
           null,
           null,
           null,
           0.5505700087693656,
           null,
           null,
           null,
           null,
           null,
           null,
           null,
           null,
           null,
           null,
           null,
           null,
           null,
           null,
           null,
           null,
           null,
           null,
           null,
           null,
           null,
           null,
           null,
           null,
           null,
           null,
           null,
           null,
           null,
           null,
           null,
           null,
           null
          ],
          [
           null,
           null,
           null,
           null,
           null,
           null,
           null,
           null,
           null,
           null,
           null,
           null,
           null,
           null,
           null,
           null,
           null,
           null,
           null,
           0.3535637727759914,
           null,
           null,
           null,
           null,
           null,
           null,
           null,
           null,
           null,
           null,
           null,
           null,
           null,
           null,
           null,
           null,
           null,
           null,
           null,
           null,
           null,
           null,
           null,
           null,
           null,
           null,
           null,
           null,
           null,
           null,
           null,
           null,
           null,
           null,
           null,
           null,
           null,
           null,
           null,
           null,
           null,
           null
          ],
          [
           null,
           null,
           null,
           null,
           null,
           null,
           null,
           null,
           null,
           null,
           null,
           null,
           null,
           null,
           null,
           null,
           null,
           null,
           null,
           null,
           null,
           null,
           null,
           null,
           null,
           null,
           null,
           null,
           null,
           null,
           null,
           null,
           null,
           null,
           null,
           null,
           0.44607449088960344,
           null,
           null,
           null,
           null,
           null,
           null,
           null,
           null,
           null,
           null,
           null,
           null,
           null,
           null,
           null,
           null,
           null,
           null,
           null,
           null,
           null,
           null,
           null,
           null,
           null
          ],
          [
           null,
           null,
           null,
           null,
           null,
           null,
           null,
           null,
           null,
           null,
           null,
           null,
           null,
           null,
           null,
           null,
           null,
           null,
           null,
           null,
           0.4451001169248758,
           null,
           null,
           null,
           null,
           null,
           null,
           null,
           null,
           null,
           null,
           null,
           null,
           null,
           null,
           null,
           null,
           null,
           null,
           null,
           null,
           null,
           null,
           null,
           null,
           null,
           null,
           null,
           null,
           null,
           null,
           null,
           null,
           null,
           null,
           null,
           null,
           null,
           null,
           null,
           null,
           null
          ],
          [
           null,
           null,
           null,
           null,
           null,
           null,
           null,
           null,
           null,
           null,
           null,
           null,
           null,
           null,
           null,
           null,
           null,
           null,
           null,
           null,
           null,
           null,
           null,
           0.4957208743382377,
           null,
           null,
           null,
           null,
           null,
           null,
           null,
           null,
           null,
           null,
           null,
           null,
           null,
           null,
           null,
           null,
           null,
           null,
           null,
           null,
           null,
           null,
           null,
           null,
           null,
           null,
           null,
           null,
           null,
           null,
           null,
           null,
           null,
           null,
           null,
           null,
           null,
           null
          ],
          [
           null,
           null,
           null,
           null,
           null,
           null,
           null,
           null,
           null,
           null,
           0.27912566176231773,
           null,
           null,
           null,
           null,
           null,
           null,
           null,
           null,
           null,
           null,
           null,
           null,
           null,
           null,
           null,
           null,
           null,
           null,
           null,
           null,
           null,
           null,
           null,
           null,
           null,
           null,
           null,
           null,
           null,
           null,
           null,
           null,
           null,
           null,
           null,
           null,
           null,
           null,
           null,
           null,
           null,
           null,
           null,
           null,
           null,
           null,
           null,
           null,
           null,
           null,
           null
          ],
          [
           null,
           null,
           null,
           null,
           null,
           null,
           null,
           null,
           null,
           null,
           null,
           null,
           null,
           null,
           null,
           null,
           null,
           null,
           null,
           null,
           null,
           null,
           null,
           null,
           null,
           null,
           null,
           null,
           null,
           null,
           null,
           null,
           null,
           null,
           null,
           null,
           null,
           null,
           null,
           null,
           null,
           0.47506414628601124,
           null,
           null,
           null,
           null,
           null,
           null,
           null,
           null,
           null,
           null,
           null,
           null,
           null,
           null,
           null,
           null,
           null,
           null,
           null,
           null
          ],
          [
           null,
           null,
           null,
           null,
           null,
           null,
           null,
           null,
           null,
           null,
           null,
           null,
           null,
           null,
           null,
           null,
           null,
           null,
           null,
           null,
           null,
           null,
           null,
           null,
           null,
           null,
           null,
           null,
           null,
           null,
           null,
           null,
           0.5329338400077949,
           null,
           null,
           null,
           null,
           null,
           null,
           null,
           null,
           null,
           null,
           null,
           null,
           null,
           null,
           null,
           null,
           null,
           null,
           null,
           null,
           null,
           null,
           null,
           null,
           null,
           null,
           null,
           null,
           null
          ],
          [
           null,
           null,
           null,
           null,
           null,
           null,
           null,
           null,
           null,
           null,
           null,
           null,
           null,
           null,
           null,
           null,
           null,
           null,
           null,
           null,
           null,
           null,
           null,
           null,
           null,
           null,
           null,
           null,
           null,
           null,
           null,
           null,
           null,
           null,
           null,
           null,
           null,
           null,
           null,
           null,
           null,
           null,
           null,
           null,
           null,
           null,
           null,
           null,
           null,
           null,
           0.5150094189483257,
           null,
           null,
           null,
           null,
           null,
           null,
           null,
           null,
           null,
           null,
           null
          ],
          [
           null,
           null,
           null,
           null,
           0.24673381727240248,
           null,
           null,
           null,
           null,
           null,
           null,
           null,
           null,
           null,
           null,
           null,
           null,
           null,
           null,
           null,
           null,
           null,
           null,
           null,
           null,
           null,
           null,
           null,
           null,
           null,
           null,
           null,
           null,
           null,
           null,
           null,
           null,
           null,
           null,
           null,
           null,
           null,
           null,
           null,
           null,
           null,
           null,
           null,
           null,
           null,
           null,
           null,
           null,
           null,
           null,
           null,
           null,
           null,
           null,
           null,
           null,
           null
          ],
          [
           null,
           null,
           null,
           null,
           null,
           null,
           null,
           null,
           null,
           null,
           null,
           null,
           null,
           null,
           null,
           null,
           null,
           null,
           null,
           null,
           null,
           null,
           null,
           0.4419354314852707,
           null,
           null,
           null,
           null,
           null,
           null,
           null,
           null,
           null,
           null,
           null,
           null,
           null,
           null,
           null,
           null,
           null,
           null,
           null,
           null,
           null,
           null,
           null,
           null,
           null,
           null,
           null,
           null,
           null,
           null,
           null,
           null,
           null,
           null,
           null,
           null,
           null,
           null
          ],
          [
           null,
           null,
           null,
           null,
           null,
           null,
           null,
           null,
           null,
           null,
           null,
           null,
           null,
           null,
           null,
           null,
           null,
           null,
           null,
           null,
           null,
           null,
           null,
           null,
           null,
           null,
           null,
           null,
           null,
           null,
           null,
           null,
           null,
           null,
           null,
           null,
           null,
           null,
           null,
           null,
           null,
           null,
           null,
           null,
           0.37977849231868527,
           null,
           null,
           null,
           null,
           null,
           null,
           null,
           null,
           null,
           null,
           null,
           null,
           null,
           null,
           null,
           null,
           null
          ],
          [
           null,
           null,
           null,
           null,
           null,
           null,
           null,
           null,
           null,
           null,
           null,
           null,
           null,
           null,
           null,
           null,
           null,
           null,
           null,
           null,
           null,
           null,
           null,
           null,
           null,
           null,
           null,
           0.40028297443892297,
           null,
           null,
           null,
           null,
           null,
           null,
           null,
           null,
           null,
           null,
           null,
           null,
           null,
           null,
           null,
           null,
           null,
           null,
           null,
           null,
           null,
           null,
           null,
           null,
           null,
           null,
           null,
           null,
           null,
           null,
           null,
           null,
           null,
           null
          ],
          [
           null,
           null,
           null,
           null,
           null,
           null,
           null,
           null,
           null,
           null,
           null,
           null,
           null,
           null,
           0.4957675630907142,
           null,
           null,
           null,
           null,
           null,
           null,
           null,
           null,
           null,
           null,
           null,
           null,
           null,
           null,
           null,
           null,
           null,
           null,
           null,
           null,
           null,
           null,
           null,
           null,
           null,
           null,
           null,
           null,
           null,
           null,
           null,
           null,
           null,
           null,
           null,
           null,
           null,
           null,
           null,
           null,
           null,
           null,
           null,
           null,
           null,
           null,
           null
          ],
          [
           null,
           null,
           null,
           null,
           null,
           null,
           null,
           null,
           null,
           null,
           null,
           null,
           null,
           null,
           null,
           null,
           null,
           null,
           null,
           null,
           null,
           null,
           null,
           null,
           null,
           0.4983354444769235,
           null,
           null,
           null,
           null,
           null,
           null,
           null,
           null,
           null,
           null,
           null,
           null,
           null,
           null,
           null,
           null,
           null,
           null,
           null,
           null,
           null,
           null,
           null,
           null,
           null,
           null,
           null,
           null,
           null,
           null,
           null,
           null,
           null,
           null,
           null,
           null
          ],
          [
           null,
           null,
           null,
           null,
           null,
           null,
           null,
           null,
           null,
           null,
           null,
           null,
           null,
           null,
           null,
           null,
           null,
           null,
           null,
           null,
           null,
           null,
           null,
           null,
           null,
           null,
           0.5184197278248726,
           null,
           null,
           null,
           null,
           null,
           null,
           null,
           null,
           null,
           null,
           null,
           null,
           null,
           null,
           null,
           null,
           null,
           null,
           null,
           null,
           null,
           null,
           null,
           null,
           null,
           null,
           null,
           null,
           null,
           null,
           null,
           null,
           null,
           null,
           null
          ],
          [
           null,
           null,
           null,
           null,
           null,
           null,
           null,
           null,
           null,
           null,
           null,
           null,
           null,
           null,
           null,
           null,
           null,
           null,
           null,
           null,
           null,
           null,
           null,
           null,
           null,
           null,
           null,
           null,
           null,
           null,
           null,
           null,
           null,
           null,
           null,
           null,
           null,
           null,
           null,
           null,
           null,
           null,
           0.5500868816785216,
           null,
           null,
           null,
           null,
           null,
           null,
           null,
           null,
           null,
           null,
           null,
           null,
           null,
           null,
           null,
           null,
           null,
           null,
           null
          ],
          [
           null,
           null,
           null,
           null,
           null,
           null,
           null,
           null,
           null,
           null,
           null,
           null,
           null,
           null,
           null,
           null,
           null,
           null,
           null,
           null,
           null,
           null,
           null,
           null,
           null,
           null,
           null,
           null,
           null,
           0.3552161486245088,
           null,
           null,
           null,
           null,
           null,
           null,
           null,
           null,
           null,
           null,
           null,
           null,
           null,
           null,
           null,
           null,
           null,
           null,
           null,
           null,
           null,
           null,
           null,
           null,
           null,
           null,
           null,
           null,
           null,
           null,
           null,
           null
          ],
          [
           null,
           null,
           null,
           null,
           null,
           null,
           null,
           null,
           null,
           null,
           null,
           null,
           null,
           null,
           null,
           null,
           null,
           null,
           null,
           null,
           null,
           null,
           null,
           null,
           null,
           null,
           null,
           null,
           null,
           null,
           null,
           0.5233464061840268,
           null,
           null,
           null,
           null,
           null,
           null,
           null,
           null,
           null,
           null,
           null,
           null,
           null,
           null,
           null,
           null,
           null,
           null,
           null,
           null,
           null,
           null,
           null,
           null,
           null,
           null,
           null,
           null,
           null,
           null
          ],
          [
           null,
           null,
           null,
           null,
           null,
           null,
           null,
           null,
           null,
           null,
           null,
           null,
           null,
           null,
           null,
           null,
           null,
           null,
           null,
           0.5337600279320537,
           null,
           null,
           null,
           null,
           null,
           null,
           null,
           null,
           null,
           null,
           null,
           null,
           null,
           null,
           null,
           null,
           null,
           null,
           null,
           null,
           null,
           null,
           null,
           null,
           null,
           null,
           null,
           null,
           null,
           null,
           null,
           null,
           null,
           null,
           null,
           null,
           null,
           null,
           null,
           null,
           null,
           null
          ],
          [
           null,
           null,
           null,
           null,
           null,
           null,
           null,
           null,
           null,
           null,
           null,
           null,
           null,
           null,
           null,
           null,
           null,
           null,
           null,
           null,
           null,
           null,
           null,
           null,
           null,
           null,
           null,
           null,
           null,
           null,
           null,
           null,
           0.44928180519016525,
           null,
           null,
           null,
           null,
           null,
           null,
           null,
           null,
           null,
           null,
           null,
           null,
           null,
           null,
           null,
           null,
           null,
           null,
           null,
           null,
           null,
           null,
           null,
           null,
           null,
           null,
           null,
           null,
           null
          ],
          [
           null,
           null,
           null,
           null,
           null,
           null,
           null,
           null,
           null,
           null,
           null,
           null,
           null,
           null,
           null,
           null,
           null,
           null,
           null,
           null,
           null,
           null,
           null,
           null,
           null,
           null,
           null,
           null,
           null,
           null,
           null,
           0.4968820033128715,
           null,
           null,
           null,
           null,
           null,
           null,
           null,
           null,
           null,
           null,
           null,
           null,
           null,
           null,
           null,
           null,
           null,
           null,
           null,
           null,
           null,
           null,
           null,
           null,
           null,
           null,
           null,
           null,
           null,
           null
          ],
          [
           null,
           null,
           null,
           null,
           null,
           null,
           null,
           null,
           null,
           null,
           null,
           null,
           null,
           null,
           null,
           null,
           null,
           null,
           null,
           null,
           null,
           null,
           null,
           null,
           null,
           null,
           null,
           null,
           null,
           null,
           null,
           null,
           null,
           null,
           null,
           null,
           null,
           null,
           null,
           null,
           null,
           null,
           null,
           null,
           null,
           null,
           null,
           null,
           null,
           null,
           null,
           null,
           null,
           null,
           null,
           null,
           0.4615203481762967,
           null,
           null,
           null,
           null,
           null
          ],
          [
           null,
           null,
           null,
           null,
           null,
           null,
           null,
           null,
           null,
           null,
           null,
           null,
           null,
           null,
           null,
           null,
           null,
           null,
           null,
           null,
           null,
           null,
           null,
           null,
           null,
           null,
           null,
           null,
           null,
           null,
           null,
           null,
           null,
           null,
           null,
           0.41050984117704375,
           null,
           null,
           null,
           null,
           null,
           null,
           null,
           null,
           null,
           null,
           null,
           null,
           null,
           null,
           null,
           null,
           null,
           null,
           null,
           null,
           null,
           null,
           null,
           null,
           null,
           null
          ],
          [
           null,
           null,
           null,
           null,
           null,
           null,
           null,
           null,
           null,
           null,
           null,
           null,
           null,
           null,
           null,
           null,
           null,
           null,
           null,
           null,
           null,
           null,
           null,
           null,
           null,
           null,
           null,
           null,
           null,
           null,
           null,
           null,
           null,
           null,
           null,
           null,
           null,
           0.43604249894442826,
           null,
           null,
           null,
           null,
           null,
           null,
           null,
           null,
           null,
           null,
           null,
           null,
           null,
           null,
           null,
           null,
           null,
           null,
           null,
           null,
           null,
           null,
           null,
           null
          ],
          [
           null,
           null,
           null,
           null,
           null,
           null,
           null,
           null,
           null,
           null,
           null,
           null,
           null,
           null,
           null,
           null,
           null,
           null,
           null,
           null,
           null,
           null,
           null,
           null,
           null,
           null,
           null,
           null,
           null,
           null,
           null,
           0.5591485595504887,
           null,
           null,
           null,
           null,
           null,
           null,
           null,
           null,
           null,
           null,
           null,
           null,
           null,
           null,
           null,
           null,
           null,
           null,
           null,
           null,
           null,
           null,
           null,
           null,
           null,
           null,
           null,
           null,
           null,
           null
          ],
          [
           null,
           null,
           null,
           null,
           null,
           null,
           null,
           null,
           null,
           null,
           null,
           null,
           null,
           null,
           null,
           null,
           null,
           null,
           null,
           null,
           null,
           null,
           null,
           null,
           null,
           null,
           null,
           null,
           null,
           null,
           null,
           null,
           null,
           null,
           null,
           null,
           null,
           null,
           0.4961532527850856,
           null,
           null,
           null,
           null,
           null,
           null,
           null,
           null,
           null,
           null,
           null,
           null,
           null,
           null,
           null,
           null,
           null,
           null,
           null,
           null,
           null,
           null,
           null
          ],
          [
           null,
           null,
           null,
           null,
           null,
           null,
           null,
           null,
           null,
           null,
           null,
           null,
           null,
           null,
           null,
           null,
           0.3278017311377441,
           null,
           null,
           null,
           null,
           null,
           null,
           null,
           null,
           null,
           null,
           null,
           null,
           null,
           null,
           null,
           null,
           null,
           null,
           null,
           null,
           null,
           null,
           null,
           null,
           null,
           null,
           null,
           null,
           null,
           null,
           null,
           null,
           null,
           null,
           null,
           null,
           null,
           null,
           null,
           null,
           null,
           null,
           null,
           null,
           null
          ],
          [
           null,
           null,
           null,
           null,
           null,
           null,
           null,
           null,
           null,
           null,
           null,
           null,
           null,
           null,
           null,
           null,
           null,
           null,
           null,
           null,
           null,
           null,
           null,
           null,
           null,
           null,
           null,
           null,
           null,
           0.47413240118224037,
           null,
           null,
           null,
           null,
           null,
           null,
           null,
           null,
           null,
           null,
           null,
           null,
           null,
           null,
           null,
           null,
           null,
           null,
           null,
           null,
           null,
           null,
           null,
           null,
           null,
           null,
           null,
           null,
           null,
           null,
           null,
           null
          ],
          [
           null,
           null,
           null,
           null,
           null,
           null,
           null,
           null,
           null,
           null,
           null,
           null,
           null,
           null,
           null,
           null,
           null,
           null,
           null,
           null,
           null,
           null,
           null,
           null,
           null,
           null,
           null,
           null,
           null,
           null,
           null,
           null,
           null,
           0.5157381694761116,
           null,
           null,
           null,
           null,
           null,
           null,
           null,
           null,
           null,
           null,
           null,
           null,
           null,
           null,
           null,
           null,
           null,
           null,
           null,
           null,
           null,
           null,
           null,
           null,
           null,
           null,
           null,
           null
          ],
          [
           null,
           null,
           null,
           null,
           null,
           null,
           null,
           null,
           null,
           null,
           null,
           null,
           null,
           null,
           null,
           null,
           null,
           null,
           null,
           null,
           null,
           null,
           null,
           null,
           null,
           null,
           null,
           null,
           null,
           0.45689410178960016,
           null,
           null,
           null,
           null,
           null,
           null,
           null,
           null,
           null,
           null,
           null,
           null,
           null,
           null,
           null,
           null,
           null,
           null,
           null,
           null,
           null,
           null,
           null,
           null,
           null,
           null,
           null,
           null,
           null,
           null,
           null,
           null
          ],
          [
           null,
           null,
           null,
           null,
           null,
           null,
           null,
           null,
           null,
           null,
           null,
           null,
           null,
           null,
           null,
           null,
           null,
           null,
           null,
           null,
           null,
           null,
           0.4743313358667057,
           null,
           null,
           null,
           null,
           null,
           null,
           null,
           null,
           null,
           null,
           null,
           null,
           null,
           null,
           null,
           null,
           null,
           null,
           null,
           null,
           null,
           null,
           null,
           null,
           null,
           null,
           null,
           null,
           null,
           null,
           null,
           null,
           null,
           null,
           null,
           null,
           null,
           null,
           null
          ],
          [
           null,
           null,
           null,
           null,
           null,
           null,
           null,
           null,
           null,
           null,
           null,
           null,
           null,
           null,
           null,
           null,
           null,
           null,
           null,
           null,
           null,
           null,
           null,
           null,
           null,
           null,
           null,
           null,
           null,
           null,
           null,
           0.4614188508883043,
           null,
           null,
           null,
           null,
           null,
           null,
           null,
           null,
           null,
           null,
           null,
           null,
           null,
           null,
           null,
           null,
           null,
           null,
           null,
           null,
           null,
           null,
           null,
           null,
           null,
           null,
           null,
           null,
           null,
           null
          ],
          [
           null,
           null,
           null,
           null,
           null,
           null,
           null,
           null,
           null,
           null,
           null,
           null,
           null,
           null,
           null,
           null,
           null,
           null,
           null,
           null,
           null,
           null,
           null,
           null,
           null,
           null,
           null,
           null,
           null,
           null,
           null,
           null,
           null,
           null,
           null,
           null,
           null,
           null,
           null,
           null,
           null,
           null,
           null,
           null,
           null,
           null,
           null,
           null,
           null,
           null,
           null,
           null,
           null,
           null,
           null,
           null,
           null,
           null,
           null,
           null,
           0.5207582253402189,
           null
          ],
          [
           null,
           null,
           null,
           null,
           null,
           null,
           null,
           null,
           null,
           null,
           null,
           null,
           null,
           null,
           null,
           null,
           null,
           null,
           null,
           null,
           null,
           null,
           null,
           null,
           null,
           null,
           null,
           null,
           null,
           null,
           null,
           null,
           null,
           null,
           null,
           null,
           null,
           null,
           null,
           null,
           0.4207955763422001,
           null,
           null,
           null,
           null,
           null,
           null,
           null,
           null,
           null,
           null,
           null,
           null,
           null,
           null,
           null,
           null,
           null,
           null,
           null,
           null,
           null
          ],
          [
           null,
           null,
           null,
           null,
           null,
           null,
           null,
           null,
           null,
           null,
           null,
           null,
           null,
           null,
           null,
           null,
           null,
           null,
           null,
           null,
           null,
           null,
           null,
           0.5456514501932509,
           null,
           null,
           null,
           null,
           null,
           null,
           null,
           null,
           null,
           null,
           null,
           null,
           null,
           null,
           null,
           null,
           null,
           null,
           null,
           null,
           null,
           null,
           null,
           null,
           null,
           null,
           null,
           null,
           null,
           null,
           null,
           null,
           null,
           null,
           null,
           null,
           null,
           null
          ],
          [
           null,
           null,
           null,
           null,
           null,
           null,
           null,
           null,
           null,
           null,
           null,
           null,
           null,
           null,
           null,
           null,
           null,
           null,
           null,
           null,
           null,
           null,
           null,
           null,
           null,
           null,
           null,
           null,
           null,
           null,
           null,
           null,
           null,
           null,
           null,
           null,
           null,
           null,
           null,
           null,
           null,
           null,
           0.5678631166975219,
           null,
           null,
           null,
           null,
           null,
           null,
           null,
           null,
           null,
           null,
           null,
           null,
           null,
           null,
           null,
           null,
           null,
           null,
           null
          ],
          [
           null,
           null,
           null,
           null,
           null,
           null,
           null,
           null,
           null,
           null,
           null,
           null,
           null,
           null,
           null,
           null,
           null,
           null,
           null,
           null,
           null,
           0.5192032868881743,
           null,
           null,
           null,
           null,
           null,
           null,
           null,
           null,
           null,
           null,
           null,
           null,
           null,
           null,
           null,
           null,
           null,
           null,
           null,
           null,
           null,
           null,
           null,
           null,
           null,
           null,
           null,
           null,
           null,
           null,
           null,
           null,
           null,
           null,
           null,
           null,
           null,
           null,
           null,
           null
          ],
          [
           null,
           null,
           null,
           null,
           null,
           null,
           null,
           null,
           null,
           null,
           null,
           null,
           null,
           null,
           null,
           null,
           null,
           null,
           null,
           null,
           null,
           null,
           null,
           null,
           null,
           null,
           null,
           null,
           null,
           null,
           null,
           null,
           null,
           null,
           null,
           null,
           null,
           null,
           null,
           null,
           0.5557382506739419,
           null,
           null,
           null,
           null,
           null,
           null,
           null,
           null,
           null,
           null,
           null,
           null,
           null,
           null,
           null,
           null,
           null,
           null,
           null,
           null,
           null
          ],
          [
           null,
           null,
           null,
           null,
           null,
           null,
           null,
           null,
           null,
           null,
           null,
           null,
           null,
           null,
           null,
           null,
           null,
           null,
           null,
           null,
           null,
           null,
           null,
           null,
           null,
           null,
           null,
           null,
           null,
           null,
           null,
           null,
           null,
           null,
           null,
           null,
           null,
           null,
           null,
           null,
           null,
           0.5386867062912079,
           null,
           null,
           null,
           null,
           null,
           null,
           null,
           null,
           null,
           null,
           null,
           null,
           null,
           null,
           null,
           null,
           null,
           null,
           null,
           null
          ],
          [
           null,
           null,
           null,
           null,
           null,
           null,
           null,
           null,
           null,
           null,
           null,
           null,
           null,
           null,
           null,
           null,
           null,
           null,
           null,
           null,
           null,
           null,
           null,
           null,
           null,
           null,
           null,
           null,
           null,
           null,
           null,
           null,
           null,
           null,
           null,
           null,
           null,
           null,
           null,
           0.5022491799019131,
           null,
           null,
           null,
           null,
           null,
           null,
           null,
           null,
           null,
           null,
           null,
           null,
           null,
           null,
           null,
           null,
           null,
           null,
           null,
           null,
           null,
           null
          ],
          [
           null,
           null,
           null,
           null,
           null,
           null,
           null,
           null,
           null,
           null,
           null,
           null,
           null,
           null,
           null,
           null,
           null,
           null,
           null,
           null,
           null,
           0.4814909545616941,
           null,
           null,
           null,
           null,
           null,
           null,
           null,
           null,
           null,
           null,
           null,
           null,
           null,
           null,
           null,
           null,
           null,
           null,
           null,
           null,
           null,
           null,
           null,
           null,
           null,
           null,
           null,
           null,
           null,
           null,
           null,
           null,
           null,
           null,
           null,
           null,
           null,
           null,
           null,
           null
          ],
          [
           null,
           null,
           null,
           null,
           null,
           null,
           null,
           null,
           null,
           null,
           null,
           null,
           0.4087640878235734,
           null,
           null,
           null,
           null,
           null,
           null,
           null,
           null,
           null,
           null,
           null,
           null,
           null,
           null,
           null,
           null,
           null,
           null,
           null,
           null,
           null,
           null,
           null,
           null,
           null,
           null,
           null,
           null,
           null,
           null,
           null,
           null,
           null,
           null,
           null,
           null,
           null,
           null,
           null,
           null,
           null,
           null,
           null,
           null,
           null,
           null,
           null,
           null,
           null
          ],
          [
           null,
           null,
           null,
           null,
           null,
           null,
           null,
           null,
           null,
           null,
           null,
           null,
           null,
           null,
           null,
           null,
           null,
           null,
           null,
           null,
           null,
           null,
           null,
           null,
           null,
           null,
           null,
           null,
           null,
           null,
           null,
           null,
           null,
           null,
           null,
           null,
           null,
           null,
           null,
           null,
           null,
           null,
           null,
           null,
           null,
           null,
           null,
           null,
           null,
           null,
           null,
           null,
           null,
           null,
           null,
           0.5164750397869369,
           null,
           null,
           null,
           null,
           null,
           null
          ],
          [
           null,
           null,
           null,
           null,
           null,
           null,
           null,
           null,
           null,
           null,
           null,
           null,
           null,
           null,
           null,
           null,
           null,
           null,
           null,
           null,
           null,
           null,
           null,
           null,
           null,
           0.4725693429471564,
           null,
           null,
           null,
           null,
           null,
           null,
           null,
           null,
           null,
           null,
           null,
           null,
           null,
           null,
           null,
           null,
           null,
           null,
           null,
           null,
           null,
           null,
           null,
           null,
           null,
           null,
           null,
           null,
           null,
           null,
           null,
           null,
           null,
           null,
           null,
           null
          ],
          [
           null,
           null,
           null,
           null,
           null,
           null,
           null,
           null,
           null,
           null,
           null,
           null,
           null,
           null,
           null,
           null,
           null,
           null,
           null,
           null,
           null,
           null,
           null,
           null,
           null,
           null,
           null,
           null,
           null,
           null,
           null,
           null,
           null,
           null,
           null,
           null,
           null,
           null,
           null,
           null,
           null,
           null,
           null,
           null,
           null,
           null,
           null,
           null,
           null,
           null,
           null,
           null,
           null,
           null,
           null,
           null,
           null,
           null,
           null,
           null,
           null,
           null
          ]
         ]
        },
        {
         "marker": {
          "color": "black",
          "line": {
           "color": "Grey",
           "width": 2
          }
         },
         "mode": "markers",
         "showlegend": false,
         "type": "scatter",
         "x": [
          40,
          52,
          41,
          30,
          55,
          87,
          31,
          88,
          79,
          15,
          70,
          76,
          66,
          66,
          65,
          100,
          99,
          96,
          56,
          89,
          76,
          63,
          47,
          57,
          24,
          59,
          46,
          11,
          82,
          69,
          35,
          55,
          52,
          46,
          72,
          40,
          61,
          49,
          57,
          94,
          25,
          54,
          59,
          51,
          35,
          42,
          84,
          57,
          67,
          73,
          75,
          63,
          72,
          72,
          78,
          91,
          100,
          83,
          65,
          67,
          66,
          69,
          63,
          71,
          77,
          80,
          86,
          76,
          78,
          68,
          96,
          75,
          76,
          75,
          90,
          80,
          87,
          60,
          64,
          75,
          81,
          59,
          65,
          62,
          77,
          62,
          65,
          70,
          74,
          74,
          70,
          53,
          55,
          52,
          84,
          58,
          50,
          48,
          44,
          53
         ],
         "y": [
          0.000053477006088327755,
          0.00024350223222632195,
          0.0003333746180944005,
          0.00018522825646486625,
          0.00007952981773014723,
          0.0013928356779063214,
          0.01703116325199328,
          0.00042216005182977006,
          0.00002118746911027315,
          0.0011218725262696903,
          0.02352981378584673,
          0.02818984561662886,
          0.07509662173148697,
          0.06099854314067278,
          0.0930146152300883,
          0.0934867392041049,
          0.004940904567533033,
          0.005724519490212814,
          0.09208852437599188,
          0.007800896470262943,
          0.036139754327595676,
          0.08380309043231503,
          0.04816566904654761,
          0.09534872648642258,
          0.012726164567724876,
          0.03705886198320452,
          0.050470152281218164,
          0.011276643319481836,
          0.020352900881255305,
          0.0037174701303784212,
          0.05017891014057906,
          0.09850968629090454,
          0.03219856898881238,
          0.09953799693101374,
          0.04711836977154496,
          0.01944648227435904,
          0.06639950826156321,
          0.02979389862728106,
          0.05748650009449627,
          0.014085240524731032,
          0.06190872799865389,
          0.05701001136825143,
          0.099890517484237,
          0.024848959590663366,
          0.038642052034602255,
          0.059965188724583014,
          0.022930850152325814,
          0.06260922876168513,
          0.03248003010312427,
          0.09842405664252042,
          0.017231506072913978,
          0.06955784005833121,
          0.0797361693336084,
          0.04519766659968222,
          0.06272681137100425,
          0.07697197701798705,
          0.03982449594436201,
          0.02766441258642419,
          0.07847460584675534,
          0.0832319879623828,
          0.04146739953550929,
          0.07706631323922435,
          0.08315143062823342,
          0.07783174980373501,
          0.04531351292926553,
          0.03363681957191448,
          0.04731445119311008,
          0.09730736705117617,
          0.023717340533890945,
          0.051522725370567825,
          0.03877448282566431,
          0.09823073274248471,
          0.06893522795333469,
          0.060339052298088766,
          0.09961921128876214,
          0.028120891876766526,
          0.04499561316182582,
          0.06870656901775349,
          0.051829892706705454,
          0.01570892260770265,
          0.03442345145767649,
          0.0686097696644887,
          0.07197408711059884,
          0.05401712134513742,
          0.01994766855357251,
          0.052830226056087795,
          0.0766911885198324,
          0.042026736649492684,
          0.09820178881578817,
          0.09444507979935936,
          0.056158708315151774,
          0.07217980945378619,
          0.09817167323701333,
          0.030897647965489074,
          0.06109557223872505,
          0.04559891034878692,
          0.0798682482986343,
          0.06657421868110798,
          0.03575967490609509,
          0.054927720221133854
         ]
        }
       ],
       "layout": {
        "template": {
         "data": {
          "bar": [
           {
            "error_x": {
             "color": "#2a3f5f"
            },
            "error_y": {
             "color": "#2a3f5f"
            },
            "marker": {
             "line": {
              "color": "#E5ECF6",
              "width": 0.5
             },
             "pattern": {
              "fillmode": "overlay",
              "size": 10,
              "solidity": 0.2
             }
            },
            "type": "bar"
           }
          ],
          "barpolar": [
           {
            "marker": {
             "line": {
              "color": "#E5ECF6",
              "width": 0.5
             },
             "pattern": {
              "fillmode": "overlay",
              "size": 10,
              "solidity": 0.2
             }
            },
            "type": "barpolar"
           }
          ],
          "carpet": [
           {
            "aaxis": {
             "endlinecolor": "#2a3f5f",
             "gridcolor": "white",
             "linecolor": "white",
             "minorgridcolor": "white",
             "startlinecolor": "#2a3f5f"
            },
            "baxis": {
             "endlinecolor": "#2a3f5f",
             "gridcolor": "white",
             "linecolor": "white",
             "minorgridcolor": "white",
             "startlinecolor": "#2a3f5f"
            },
            "type": "carpet"
           }
          ],
          "choropleth": [
           {
            "colorbar": {
             "outlinewidth": 0,
             "ticks": ""
            },
            "type": "choropleth"
           }
          ],
          "contour": [
           {
            "colorbar": {
             "outlinewidth": 0,
             "ticks": ""
            },
            "colorscale": [
             [
              0,
              "#0d0887"
             ],
             [
              0.1111111111111111,
              "#46039f"
             ],
             [
              0.2222222222222222,
              "#7201a8"
             ],
             [
              0.3333333333333333,
              "#9c179e"
             ],
             [
              0.4444444444444444,
              "#bd3786"
             ],
             [
              0.5555555555555556,
              "#d8576b"
             ],
             [
              0.6666666666666666,
              "#ed7953"
             ],
             [
              0.7777777777777778,
              "#fb9f3a"
             ],
             [
              0.8888888888888888,
              "#fdca26"
             ],
             [
              1,
              "#f0f921"
             ]
            ],
            "type": "contour"
           }
          ],
          "contourcarpet": [
           {
            "colorbar": {
             "outlinewidth": 0,
             "ticks": ""
            },
            "type": "contourcarpet"
           }
          ],
          "heatmap": [
           {
            "colorbar": {
             "outlinewidth": 0,
             "ticks": ""
            },
            "colorscale": [
             [
              0,
              "#0d0887"
             ],
             [
              0.1111111111111111,
              "#46039f"
             ],
             [
              0.2222222222222222,
              "#7201a8"
             ],
             [
              0.3333333333333333,
              "#9c179e"
             ],
             [
              0.4444444444444444,
              "#bd3786"
             ],
             [
              0.5555555555555556,
              "#d8576b"
             ],
             [
              0.6666666666666666,
              "#ed7953"
             ],
             [
              0.7777777777777778,
              "#fb9f3a"
             ],
             [
              0.8888888888888888,
              "#fdca26"
             ],
             [
              1,
              "#f0f921"
             ]
            ],
            "type": "heatmap"
           }
          ],
          "heatmapgl": [
           {
            "colorbar": {
             "outlinewidth": 0,
             "ticks": ""
            },
            "colorscale": [
             [
              0,
              "#0d0887"
             ],
             [
              0.1111111111111111,
              "#46039f"
             ],
             [
              0.2222222222222222,
              "#7201a8"
             ],
             [
              0.3333333333333333,
              "#9c179e"
             ],
             [
              0.4444444444444444,
              "#bd3786"
             ],
             [
              0.5555555555555556,
              "#d8576b"
             ],
             [
              0.6666666666666666,
              "#ed7953"
             ],
             [
              0.7777777777777778,
              "#fb9f3a"
             ],
             [
              0.8888888888888888,
              "#fdca26"
             ],
             [
              1,
              "#f0f921"
             ]
            ],
            "type": "heatmapgl"
           }
          ],
          "histogram": [
           {
            "marker": {
             "pattern": {
              "fillmode": "overlay",
              "size": 10,
              "solidity": 0.2
             }
            },
            "type": "histogram"
           }
          ],
          "histogram2d": [
           {
            "colorbar": {
             "outlinewidth": 0,
             "ticks": ""
            },
            "colorscale": [
             [
              0,
              "#0d0887"
             ],
             [
              0.1111111111111111,
              "#46039f"
             ],
             [
              0.2222222222222222,
              "#7201a8"
             ],
             [
              0.3333333333333333,
              "#9c179e"
             ],
             [
              0.4444444444444444,
              "#bd3786"
             ],
             [
              0.5555555555555556,
              "#d8576b"
             ],
             [
              0.6666666666666666,
              "#ed7953"
             ],
             [
              0.7777777777777778,
              "#fb9f3a"
             ],
             [
              0.8888888888888888,
              "#fdca26"
             ],
             [
              1,
              "#f0f921"
             ]
            ],
            "type": "histogram2d"
           }
          ],
          "histogram2dcontour": [
           {
            "colorbar": {
             "outlinewidth": 0,
             "ticks": ""
            },
            "colorscale": [
             [
              0,
              "#0d0887"
             ],
             [
              0.1111111111111111,
              "#46039f"
             ],
             [
              0.2222222222222222,
              "#7201a8"
             ],
             [
              0.3333333333333333,
              "#9c179e"
             ],
             [
              0.4444444444444444,
              "#bd3786"
             ],
             [
              0.5555555555555556,
              "#d8576b"
             ],
             [
              0.6666666666666666,
              "#ed7953"
             ],
             [
              0.7777777777777778,
              "#fb9f3a"
             ],
             [
              0.8888888888888888,
              "#fdca26"
             ],
             [
              1,
              "#f0f921"
             ]
            ],
            "type": "histogram2dcontour"
           }
          ],
          "mesh3d": [
           {
            "colorbar": {
             "outlinewidth": 0,
             "ticks": ""
            },
            "type": "mesh3d"
           }
          ],
          "parcoords": [
           {
            "line": {
             "colorbar": {
              "outlinewidth": 0,
              "ticks": ""
             }
            },
            "type": "parcoords"
           }
          ],
          "pie": [
           {
            "automargin": true,
            "type": "pie"
           }
          ],
          "scatter": [
           {
            "fillpattern": {
             "fillmode": "overlay",
             "size": 10,
             "solidity": 0.2
            },
            "type": "scatter"
           }
          ],
          "scatter3d": [
           {
            "line": {
             "colorbar": {
              "outlinewidth": 0,
              "ticks": ""
             }
            },
            "marker": {
             "colorbar": {
              "outlinewidth": 0,
              "ticks": ""
             }
            },
            "type": "scatter3d"
           }
          ],
          "scattercarpet": [
           {
            "marker": {
             "colorbar": {
              "outlinewidth": 0,
              "ticks": ""
             }
            },
            "type": "scattercarpet"
           }
          ],
          "scattergeo": [
           {
            "marker": {
             "colorbar": {
              "outlinewidth": 0,
              "ticks": ""
             }
            },
            "type": "scattergeo"
           }
          ],
          "scattergl": [
           {
            "marker": {
             "colorbar": {
              "outlinewidth": 0,
              "ticks": ""
             }
            },
            "type": "scattergl"
           }
          ],
          "scattermapbox": [
           {
            "marker": {
             "colorbar": {
              "outlinewidth": 0,
              "ticks": ""
             }
            },
            "type": "scattermapbox"
           }
          ],
          "scatterpolar": [
           {
            "marker": {
             "colorbar": {
              "outlinewidth": 0,
              "ticks": ""
             }
            },
            "type": "scatterpolar"
           }
          ],
          "scatterpolargl": [
           {
            "marker": {
             "colorbar": {
              "outlinewidth": 0,
              "ticks": ""
             }
            },
            "type": "scatterpolargl"
           }
          ],
          "scatterternary": [
           {
            "marker": {
             "colorbar": {
              "outlinewidth": 0,
              "ticks": ""
             }
            },
            "type": "scatterternary"
           }
          ],
          "surface": [
           {
            "colorbar": {
             "outlinewidth": 0,
             "ticks": ""
            },
            "colorscale": [
             [
              0,
              "#0d0887"
             ],
             [
              0.1111111111111111,
              "#46039f"
             ],
             [
              0.2222222222222222,
              "#7201a8"
             ],
             [
              0.3333333333333333,
              "#9c179e"
             ],
             [
              0.4444444444444444,
              "#bd3786"
             ],
             [
              0.5555555555555556,
              "#d8576b"
             ],
             [
              0.6666666666666666,
              "#ed7953"
             ],
             [
              0.7777777777777778,
              "#fb9f3a"
             ],
             [
              0.8888888888888888,
              "#fdca26"
             ],
             [
              1,
              "#f0f921"
             ]
            ],
            "type": "surface"
           }
          ],
          "table": [
           {
            "cells": {
             "fill": {
              "color": "#EBF0F8"
             },
             "line": {
              "color": "white"
             }
            },
            "header": {
             "fill": {
              "color": "#C8D4E3"
             },
             "line": {
              "color": "white"
             }
            },
            "type": "table"
           }
          ]
         },
         "layout": {
          "annotationdefaults": {
           "arrowcolor": "#2a3f5f",
           "arrowhead": 0,
           "arrowwidth": 1
          },
          "autotypenumbers": "strict",
          "coloraxis": {
           "colorbar": {
            "outlinewidth": 0,
            "ticks": ""
           }
          },
          "colorscale": {
           "diverging": [
            [
             0,
             "#8e0152"
            ],
            [
             0.1,
             "#c51b7d"
            ],
            [
             0.2,
             "#de77ae"
            ],
            [
             0.3,
             "#f1b6da"
            ],
            [
             0.4,
             "#fde0ef"
            ],
            [
             0.5,
             "#f7f7f7"
            ],
            [
             0.6,
             "#e6f5d0"
            ],
            [
             0.7,
             "#b8e186"
            ],
            [
             0.8,
             "#7fbc41"
            ],
            [
             0.9,
             "#4d9221"
            ],
            [
             1,
             "#276419"
            ]
           ],
           "sequential": [
            [
             0,
             "#0d0887"
            ],
            [
             0.1111111111111111,
             "#46039f"
            ],
            [
             0.2222222222222222,
             "#7201a8"
            ],
            [
             0.3333333333333333,
             "#9c179e"
            ],
            [
             0.4444444444444444,
             "#bd3786"
            ],
            [
             0.5555555555555556,
             "#d8576b"
            ],
            [
             0.6666666666666666,
             "#ed7953"
            ],
            [
             0.7777777777777778,
             "#fb9f3a"
            ],
            [
             0.8888888888888888,
             "#fdca26"
            ],
            [
             1,
             "#f0f921"
            ]
           ],
           "sequentialminus": [
            [
             0,
             "#0d0887"
            ],
            [
             0.1111111111111111,
             "#46039f"
            ],
            [
             0.2222222222222222,
             "#7201a8"
            ],
            [
             0.3333333333333333,
             "#9c179e"
            ],
            [
             0.4444444444444444,
             "#bd3786"
            ],
            [
             0.5555555555555556,
             "#d8576b"
            ],
            [
             0.6666666666666666,
             "#ed7953"
            ],
            [
             0.7777777777777778,
             "#fb9f3a"
            ],
            [
             0.8888888888888888,
             "#fdca26"
            ],
            [
             1,
             "#f0f921"
            ]
           ]
          },
          "colorway": [
           "#636efa",
           "#EF553B",
           "#00cc96",
           "#ab63fa",
           "#FFA15A",
           "#19d3f3",
           "#FF6692",
           "#B6E880",
           "#FF97FF",
           "#FECB52"
          ],
          "font": {
           "color": "#2a3f5f"
          },
          "geo": {
           "bgcolor": "white",
           "lakecolor": "white",
           "landcolor": "#E5ECF6",
           "showlakes": true,
           "showland": true,
           "subunitcolor": "white"
          },
          "hoverlabel": {
           "align": "left"
          },
          "hovermode": "closest",
          "mapbox": {
           "style": "light"
          },
          "paper_bgcolor": "white",
          "plot_bgcolor": "#E5ECF6",
          "polar": {
           "angularaxis": {
            "gridcolor": "white",
            "linecolor": "white",
            "ticks": ""
           },
           "bgcolor": "#E5ECF6",
           "radialaxis": {
            "gridcolor": "white",
            "linecolor": "white",
            "ticks": ""
           }
          },
          "scene": {
           "xaxis": {
            "backgroundcolor": "#E5ECF6",
            "gridcolor": "white",
            "gridwidth": 2,
            "linecolor": "white",
            "showbackground": true,
            "ticks": "",
            "zerolinecolor": "white"
           },
           "yaxis": {
            "backgroundcolor": "#E5ECF6",
            "gridcolor": "white",
            "gridwidth": 2,
            "linecolor": "white",
            "showbackground": true,
            "ticks": "",
            "zerolinecolor": "white"
           },
           "zaxis": {
            "backgroundcolor": "#E5ECF6",
            "gridcolor": "white",
            "gridwidth": 2,
            "linecolor": "white",
            "showbackground": true,
            "ticks": "",
            "zerolinecolor": "white"
           }
          },
          "shapedefaults": {
           "line": {
            "color": "#2a3f5f"
           }
          },
          "ternary": {
           "aaxis": {
            "gridcolor": "white",
            "linecolor": "white",
            "ticks": ""
           },
           "baxis": {
            "gridcolor": "white",
            "linecolor": "white",
            "ticks": ""
           },
           "bgcolor": "#E5ECF6",
           "caxis": {
            "gridcolor": "white",
            "linecolor": "white",
            "ticks": ""
           }
          },
          "title": {
           "x": 0.05
          },
          "xaxis": {
           "automargin": true,
           "gridcolor": "white",
           "linecolor": "white",
           "ticks": "",
           "title": {
            "standoff": 15
           },
           "zerolinecolor": "white",
           "zerolinewidth": 2
          },
          "yaxis": {
           "automargin": true,
           "gridcolor": "white",
           "linecolor": "white",
           "ticks": "",
           "title": {
            "standoff": 15
           },
           "zerolinecolor": "white",
           "zerolinewidth": 2
          }
         }
        },
        "title": {
         "text": "Contour Plot"
        },
        "xaxis": {
         "range": [
          6.55,
          104.45
         ],
         "title": {
          "text": "l"
         }
        },
        "yaxis": {
         "range": [
          -4.857593176652091,
          -0.8168034779653542
         ],
         "title": {
          "text": "lr"
         },
         "type": "log"
        }
       }
      }
     },
     "metadata": {},
     "output_type": "display_data"
    }
   ],
   "source": [
    "plot_contour(study)"
   ]
  },
  {
   "cell_type": "code",
   "execution_count": 103,
   "metadata": {},
   "outputs": [
    {
     "data": {
      "application/vnd.plotly.v1+json": {
       "config": {
        "plotlyServerURL": "https://plot.ly"
       },
       "data": [
        {
         "marker": {
          "color": [
           0,
           1,
           2,
           3,
           4,
           5,
           6,
           7,
           8,
           9,
           10,
           11,
           12,
           13,
           14,
           15,
           16,
           17,
           18,
           19,
           20,
           21,
           22,
           23,
           24,
           25,
           26,
           27,
           28,
           29,
           30,
           31,
           32,
           33,
           34,
           35,
           36,
           37,
           38,
           39,
           40,
           41,
           42,
           43,
           44,
           45,
           46,
           47,
           48,
           49,
           50,
           51,
           52,
           53,
           54,
           55,
           56,
           57,
           58,
           59,
           60,
           61,
           62,
           63,
           64,
           65,
           66,
           67,
           68,
           69,
           70,
           71,
           72,
           73,
           74,
           75,
           76,
           77,
           78,
           79,
           80,
           81,
           82,
           83,
           84,
           85,
           86,
           87,
           88,
           89,
           90,
           91,
           92,
           93,
           94,
           95,
           96,
           97,
           98,
           99
          ],
          "colorbar": {
           "title": {
            "text": "Trial"
           },
           "x": 1,
           "xpad": 40
          },
          "colorscale": [
           [
            0,
            "rgb(247,251,255)"
           ],
           [
            0.125,
            "rgb(222,235,247)"
           ],
           [
            0.25,
            "rgb(198,219,239)"
           ],
           [
            0.375,
            "rgb(158,202,225)"
           ],
           [
            0.5,
            "rgb(107,174,214)"
           ],
           [
            0.625,
            "rgb(66,146,198)"
           ],
           [
            0.75,
            "rgb(33,113,181)"
           ],
           [
            0.875,
            "rgb(8,81,156)"
           ],
           [
            1,
            "rgb(8,48,107)"
           ]
          ],
          "line": {
           "color": "Grey",
           "width": 0.5
          },
          "showscale": true
         },
         "mode": "markers",
         "showlegend": false,
         "type": "scatter",
         "x": [
          40,
          52,
          41,
          30,
          55,
          87,
          31,
          88,
          79,
          15,
          70,
          76,
          66,
          66,
          65,
          100,
          99,
          96,
          56,
          89,
          76,
          63,
          47,
          57,
          24,
          59,
          46,
          11,
          82,
          69,
          35,
          55,
          52,
          46,
          72,
          40,
          61,
          49,
          57,
          94,
          25,
          54,
          59,
          51,
          35,
          42,
          84,
          57,
          67,
          73,
          75,
          63,
          72,
          72,
          78,
          91,
          100,
          83,
          65,
          67,
          66,
          69,
          63,
          71,
          77,
          80,
          86,
          76,
          78,
          68,
          96,
          75,
          76,
          75,
          90,
          80,
          87,
          60,
          64,
          75,
          81,
          59,
          65,
          62,
          77,
          62,
          65,
          70,
          74,
          74,
          70,
          53,
          55,
          52,
          84,
          58,
          50,
          48,
          44,
          53
         ],
         "xaxis": "x",
         "y": [
          0.10356377277599142,
          0.10258939881126376,
          0.07535767644288544,
          0.11993325538341615,
          0.08348760921108186,
          0.03370927928805743,
          0.223827909318263,
          0.0794033583422651,
          0.10497458507908668,
          0.117497320471597,
          0.1978791126701095,
          0.25156711812660365,
          0.44928180519016525,
          0.5329338400077949,
          0.4614188508883043,
          0.5207582253402189,
          0.1569513462600279,
          0.12475843645457795,
          0.4743313358667057,
          0.20347161323849428,
          0.3884889895741986,
          0.45689410178960016,
          0.39322079314040725,
          0.5456514501932509,
          0.2463440676865114,
          0.2973038260417682,
          0.2973545746857644,
          0.1427884146935594,
          0.2687039202312514,
          0.08900297184059243,
          0.3196129299425119,
          0.4814909545616941,
          0.2415655753678262,
          0.4087640878235734,
          0.40321015622462564,
          0.22764014745526,
          0.40028297443892297,
          0.16913914060216312,
          0.4957208743382377,
          0.2593580499529053,
          0.24673381727240248,
          0.4451001169248758,
          0.4725693429471564,
          0.37963030627821626,
          0.3767071843840333,
          0.27912566176231773,
          0.28127334437623824,
          0.4419354314852707,
          0.26037505277858974,
          0.5022491799019131,
          0.26652578843093316,
          0.3552161486245088,
          0.4961532527850856,
          0.4202068920718438,
          0.37977849231868527,
          0.4615203481762967,
          0.44052055929065576,
          0.4681927798889214,
          0.5591485595504887,
          0.5157381694761116,
          0.323463737048946,
          0.41050984117704375,
          0.47413240118224037,
          0.43604249894442826,
          0.5288414693559388,
          0.3712466302900387,
          0.4561612913702946,
          0.5678631166975219,
          0.24615325278508557,
          0.48383757186007986,
          0.45546704992042614,
          0.5386867062912079,
          0.5500868816785216,
          0.47506414628601124,
          0.5164750397869369,
          0.334470102958849,
          0.44481186462697714,
          0.5184197278248726,
          0.3947371626230147,
          0.27562603527233753,
          0.24961025041410892,
          0.4983354444769235,
          0.5233464061840268,
          0.5505700087693656,
          0.24322201110786315,
          0.46935796875507485,
          0.4968820033128715,
          0.3763722433336581,
          0.5557382506739419,
          0.4207955763422001,
          0.44607449088960344,
          0.5337600279320537,
          0.5192032868881743,
          0.3771862515833577,
          0.5150094189483257,
          0.30306075221670076,
          0.3278017311377441,
          0.4957675630907142,
          0.2257888369222774,
          0.3535637727759914
         ],
         "yaxis": "y"
        },
        {
         "marker": {
          "color": [
           0,
           1,
           2,
           3,
           4,
           5,
           6,
           7,
           8,
           9,
           10,
           11,
           12,
           13,
           14,
           15,
           16,
           17,
           18,
           19,
           20,
           21,
           22,
           23,
           24,
           25,
           26,
           27,
           28,
           29,
           30,
           31,
           32,
           33,
           34,
           35,
           36,
           37,
           38,
           39,
           40,
           41,
           42,
           43,
           44,
           45,
           46,
           47,
           48,
           49,
           50,
           51,
           52,
           53,
           54,
           55,
           56,
           57,
           58,
           59,
           60,
           61,
           62,
           63,
           64,
           65,
           66,
           67,
           68,
           69,
           70,
           71,
           72,
           73,
           74,
           75,
           76,
           77,
           78,
           79,
           80,
           81,
           82,
           83,
           84,
           85,
           86,
           87,
           88,
           89,
           90,
           91,
           92,
           93,
           94,
           95,
           96,
           97,
           98,
           99
          ],
          "colorbar": {
           "title": {
            "text": "Trial"
           },
           "x": 1,
           "xpad": 40
          },
          "colorscale": [
           [
            0,
            "rgb(247,251,255)"
           ],
           [
            0.125,
            "rgb(222,235,247)"
           ],
           [
            0.25,
            "rgb(198,219,239)"
           ],
           [
            0.375,
            "rgb(158,202,225)"
           ],
           [
            0.5,
            "rgb(107,174,214)"
           ],
           [
            0.625,
            "rgb(66,146,198)"
           ],
           [
            0.75,
            "rgb(33,113,181)"
           ],
           [
            0.875,
            "rgb(8,81,156)"
           ],
           [
            1,
            "rgb(8,48,107)"
           ]
          ],
          "line": {
           "color": "Grey",
           "width": 0.5
          },
          "showscale": false
         },
         "mode": "markers",
         "showlegend": false,
         "type": "scatter",
         "x": [
          0.000053477006088327755,
          0.00024350223222632195,
          0.0003333746180944005,
          0.00018522825646486625,
          0.00007952981773014723,
          0.0013928356779063214,
          0.01703116325199328,
          0.00042216005182977006,
          0.00002118746911027315,
          0.0011218725262696903,
          0.02352981378584673,
          0.02818984561662886,
          0.07509662173148697,
          0.06099854314067278,
          0.0930146152300883,
          0.0934867392041049,
          0.004940904567533033,
          0.005724519490212814,
          0.09208852437599188,
          0.007800896470262943,
          0.036139754327595676,
          0.08380309043231503,
          0.04816566904654761,
          0.09534872648642258,
          0.012726164567724876,
          0.03705886198320452,
          0.050470152281218164,
          0.011276643319481836,
          0.020352900881255305,
          0.0037174701303784212,
          0.05017891014057906,
          0.09850968629090454,
          0.03219856898881238,
          0.09953799693101374,
          0.04711836977154496,
          0.01944648227435904,
          0.06639950826156321,
          0.02979389862728106,
          0.05748650009449627,
          0.014085240524731032,
          0.06190872799865389,
          0.05701001136825143,
          0.099890517484237,
          0.024848959590663366,
          0.038642052034602255,
          0.059965188724583014,
          0.022930850152325814,
          0.06260922876168513,
          0.03248003010312427,
          0.09842405664252042,
          0.017231506072913978,
          0.06955784005833121,
          0.0797361693336084,
          0.04519766659968222,
          0.06272681137100425,
          0.07697197701798705,
          0.03982449594436201,
          0.02766441258642419,
          0.07847460584675534,
          0.0832319879623828,
          0.04146739953550929,
          0.07706631323922435,
          0.08315143062823342,
          0.07783174980373501,
          0.04531351292926553,
          0.03363681957191448,
          0.04731445119311008,
          0.09730736705117617,
          0.023717340533890945,
          0.051522725370567825,
          0.03877448282566431,
          0.09823073274248471,
          0.06893522795333469,
          0.060339052298088766,
          0.09961921128876214,
          0.028120891876766526,
          0.04499561316182582,
          0.06870656901775349,
          0.051829892706705454,
          0.01570892260770265,
          0.03442345145767649,
          0.0686097696644887,
          0.07197408711059884,
          0.05401712134513742,
          0.01994766855357251,
          0.052830226056087795,
          0.0766911885198324,
          0.042026736649492684,
          0.09820178881578817,
          0.09444507979935936,
          0.056158708315151774,
          0.07217980945378619,
          0.09817167323701333,
          0.030897647965489074,
          0.06109557223872505,
          0.04559891034878692,
          0.0798682482986343,
          0.06657421868110798,
          0.03575967490609509,
          0.054927720221133854
         ],
         "xaxis": "x2",
         "y": [
          0.10356377277599142,
          0.10258939881126376,
          0.07535767644288544,
          0.11993325538341615,
          0.08348760921108186,
          0.03370927928805743,
          0.223827909318263,
          0.0794033583422651,
          0.10497458507908668,
          0.117497320471597,
          0.1978791126701095,
          0.25156711812660365,
          0.44928180519016525,
          0.5329338400077949,
          0.4614188508883043,
          0.5207582253402189,
          0.1569513462600279,
          0.12475843645457795,
          0.4743313358667057,
          0.20347161323849428,
          0.3884889895741986,
          0.45689410178960016,
          0.39322079314040725,
          0.5456514501932509,
          0.2463440676865114,
          0.2973038260417682,
          0.2973545746857644,
          0.1427884146935594,
          0.2687039202312514,
          0.08900297184059243,
          0.3196129299425119,
          0.4814909545616941,
          0.2415655753678262,
          0.4087640878235734,
          0.40321015622462564,
          0.22764014745526,
          0.40028297443892297,
          0.16913914060216312,
          0.4957208743382377,
          0.2593580499529053,
          0.24673381727240248,
          0.4451001169248758,
          0.4725693429471564,
          0.37963030627821626,
          0.3767071843840333,
          0.27912566176231773,
          0.28127334437623824,
          0.4419354314852707,
          0.26037505277858974,
          0.5022491799019131,
          0.26652578843093316,
          0.3552161486245088,
          0.4961532527850856,
          0.4202068920718438,
          0.37977849231868527,
          0.4615203481762967,
          0.44052055929065576,
          0.4681927798889214,
          0.5591485595504887,
          0.5157381694761116,
          0.323463737048946,
          0.41050984117704375,
          0.47413240118224037,
          0.43604249894442826,
          0.5288414693559388,
          0.3712466302900387,
          0.4561612913702946,
          0.5678631166975219,
          0.24615325278508557,
          0.48383757186007986,
          0.45546704992042614,
          0.5386867062912079,
          0.5500868816785216,
          0.47506414628601124,
          0.5164750397869369,
          0.334470102958849,
          0.44481186462697714,
          0.5184197278248726,
          0.3947371626230147,
          0.27562603527233753,
          0.24961025041410892,
          0.4983354444769235,
          0.5233464061840268,
          0.5505700087693656,
          0.24322201110786315,
          0.46935796875507485,
          0.4968820033128715,
          0.3763722433336581,
          0.5557382506739419,
          0.4207955763422001,
          0.44607449088960344,
          0.5337600279320537,
          0.5192032868881743,
          0.3771862515833577,
          0.5150094189483257,
          0.30306075221670076,
          0.3278017311377441,
          0.4957675630907142,
          0.2257888369222774,
          0.3535637727759914
         ],
         "yaxis": "y2"
        }
       ],
       "layout": {
        "template": {
         "data": {
          "bar": [
           {
            "error_x": {
             "color": "#2a3f5f"
            },
            "error_y": {
             "color": "#2a3f5f"
            },
            "marker": {
             "line": {
              "color": "#E5ECF6",
              "width": 0.5
             },
             "pattern": {
              "fillmode": "overlay",
              "size": 10,
              "solidity": 0.2
             }
            },
            "type": "bar"
           }
          ],
          "barpolar": [
           {
            "marker": {
             "line": {
              "color": "#E5ECF6",
              "width": 0.5
             },
             "pattern": {
              "fillmode": "overlay",
              "size": 10,
              "solidity": 0.2
             }
            },
            "type": "barpolar"
           }
          ],
          "carpet": [
           {
            "aaxis": {
             "endlinecolor": "#2a3f5f",
             "gridcolor": "white",
             "linecolor": "white",
             "minorgridcolor": "white",
             "startlinecolor": "#2a3f5f"
            },
            "baxis": {
             "endlinecolor": "#2a3f5f",
             "gridcolor": "white",
             "linecolor": "white",
             "minorgridcolor": "white",
             "startlinecolor": "#2a3f5f"
            },
            "type": "carpet"
           }
          ],
          "choropleth": [
           {
            "colorbar": {
             "outlinewidth": 0,
             "ticks": ""
            },
            "type": "choropleth"
           }
          ],
          "contour": [
           {
            "colorbar": {
             "outlinewidth": 0,
             "ticks": ""
            },
            "colorscale": [
             [
              0,
              "#0d0887"
             ],
             [
              0.1111111111111111,
              "#46039f"
             ],
             [
              0.2222222222222222,
              "#7201a8"
             ],
             [
              0.3333333333333333,
              "#9c179e"
             ],
             [
              0.4444444444444444,
              "#bd3786"
             ],
             [
              0.5555555555555556,
              "#d8576b"
             ],
             [
              0.6666666666666666,
              "#ed7953"
             ],
             [
              0.7777777777777778,
              "#fb9f3a"
             ],
             [
              0.8888888888888888,
              "#fdca26"
             ],
             [
              1,
              "#f0f921"
             ]
            ],
            "type": "contour"
           }
          ],
          "contourcarpet": [
           {
            "colorbar": {
             "outlinewidth": 0,
             "ticks": ""
            },
            "type": "contourcarpet"
           }
          ],
          "heatmap": [
           {
            "colorbar": {
             "outlinewidth": 0,
             "ticks": ""
            },
            "colorscale": [
             [
              0,
              "#0d0887"
             ],
             [
              0.1111111111111111,
              "#46039f"
             ],
             [
              0.2222222222222222,
              "#7201a8"
             ],
             [
              0.3333333333333333,
              "#9c179e"
             ],
             [
              0.4444444444444444,
              "#bd3786"
             ],
             [
              0.5555555555555556,
              "#d8576b"
             ],
             [
              0.6666666666666666,
              "#ed7953"
             ],
             [
              0.7777777777777778,
              "#fb9f3a"
             ],
             [
              0.8888888888888888,
              "#fdca26"
             ],
             [
              1,
              "#f0f921"
             ]
            ],
            "type": "heatmap"
           }
          ],
          "heatmapgl": [
           {
            "colorbar": {
             "outlinewidth": 0,
             "ticks": ""
            },
            "colorscale": [
             [
              0,
              "#0d0887"
             ],
             [
              0.1111111111111111,
              "#46039f"
             ],
             [
              0.2222222222222222,
              "#7201a8"
             ],
             [
              0.3333333333333333,
              "#9c179e"
             ],
             [
              0.4444444444444444,
              "#bd3786"
             ],
             [
              0.5555555555555556,
              "#d8576b"
             ],
             [
              0.6666666666666666,
              "#ed7953"
             ],
             [
              0.7777777777777778,
              "#fb9f3a"
             ],
             [
              0.8888888888888888,
              "#fdca26"
             ],
             [
              1,
              "#f0f921"
             ]
            ],
            "type": "heatmapgl"
           }
          ],
          "histogram": [
           {
            "marker": {
             "pattern": {
              "fillmode": "overlay",
              "size": 10,
              "solidity": 0.2
             }
            },
            "type": "histogram"
           }
          ],
          "histogram2d": [
           {
            "colorbar": {
             "outlinewidth": 0,
             "ticks": ""
            },
            "colorscale": [
             [
              0,
              "#0d0887"
             ],
             [
              0.1111111111111111,
              "#46039f"
             ],
             [
              0.2222222222222222,
              "#7201a8"
             ],
             [
              0.3333333333333333,
              "#9c179e"
             ],
             [
              0.4444444444444444,
              "#bd3786"
             ],
             [
              0.5555555555555556,
              "#d8576b"
             ],
             [
              0.6666666666666666,
              "#ed7953"
             ],
             [
              0.7777777777777778,
              "#fb9f3a"
             ],
             [
              0.8888888888888888,
              "#fdca26"
             ],
             [
              1,
              "#f0f921"
             ]
            ],
            "type": "histogram2d"
           }
          ],
          "histogram2dcontour": [
           {
            "colorbar": {
             "outlinewidth": 0,
             "ticks": ""
            },
            "colorscale": [
             [
              0,
              "#0d0887"
             ],
             [
              0.1111111111111111,
              "#46039f"
             ],
             [
              0.2222222222222222,
              "#7201a8"
             ],
             [
              0.3333333333333333,
              "#9c179e"
             ],
             [
              0.4444444444444444,
              "#bd3786"
             ],
             [
              0.5555555555555556,
              "#d8576b"
             ],
             [
              0.6666666666666666,
              "#ed7953"
             ],
             [
              0.7777777777777778,
              "#fb9f3a"
             ],
             [
              0.8888888888888888,
              "#fdca26"
             ],
             [
              1,
              "#f0f921"
             ]
            ],
            "type": "histogram2dcontour"
           }
          ],
          "mesh3d": [
           {
            "colorbar": {
             "outlinewidth": 0,
             "ticks": ""
            },
            "type": "mesh3d"
           }
          ],
          "parcoords": [
           {
            "line": {
             "colorbar": {
              "outlinewidth": 0,
              "ticks": ""
             }
            },
            "type": "parcoords"
           }
          ],
          "pie": [
           {
            "automargin": true,
            "type": "pie"
           }
          ],
          "scatter": [
           {
            "fillpattern": {
             "fillmode": "overlay",
             "size": 10,
             "solidity": 0.2
            },
            "type": "scatter"
           }
          ],
          "scatter3d": [
           {
            "line": {
             "colorbar": {
              "outlinewidth": 0,
              "ticks": ""
             }
            },
            "marker": {
             "colorbar": {
              "outlinewidth": 0,
              "ticks": ""
             }
            },
            "type": "scatter3d"
           }
          ],
          "scattercarpet": [
           {
            "marker": {
             "colorbar": {
              "outlinewidth": 0,
              "ticks": ""
             }
            },
            "type": "scattercarpet"
           }
          ],
          "scattergeo": [
           {
            "marker": {
             "colorbar": {
              "outlinewidth": 0,
              "ticks": ""
             }
            },
            "type": "scattergeo"
           }
          ],
          "scattergl": [
           {
            "marker": {
             "colorbar": {
              "outlinewidth": 0,
              "ticks": ""
             }
            },
            "type": "scattergl"
           }
          ],
          "scattermapbox": [
           {
            "marker": {
             "colorbar": {
              "outlinewidth": 0,
              "ticks": ""
             }
            },
            "type": "scattermapbox"
           }
          ],
          "scatterpolar": [
           {
            "marker": {
             "colorbar": {
              "outlinewidth": 0,
              "ticks": ""
             }
            },
            "type": "scatterpolar"
           }
          ],
          "scatterpolargl": [
           {
            "marker": {
             "colorbar": {
              "outlinewidth": 0,
              "ticks": ""
             }
            },
            "type": "scatterpolargl"
           }
          ],
          "scatterternary": [
           {
            "marker": {
             "colorbar": {
              "outlinewidth": 0,
              "ticks": ""
             }
            },
            "type": "scatterternary"
           }
          ],
          "surface": [
           {
            "colorbar": {
             "outlinewidth": 0,
             "ticks": ""
            },
            "colorscale": [
             [
              0,
              "#0d0887"
             ],
             [
              0.1111111111111111,
              "#46039f"
             ],
             [
              0.2222222222222222,
              "#7201a8"
             ],
             [
              0.3333333333333333,
              "#9c179e"
             ],
             [
              0.4444444444444444,
              "#bd3786"
             ],
             [
              0.5555555555555556,
              "#d8576b"
             ],
             [
              0.6666666666666666,
              "#ed7953"
             ],
             [
              0.7777777777777778,
              "#fb9f3a"
             ],
             [
              0.8888888888888888,
              "#fdca26"
             ],
             [
              1,
              "#f0f921"
             ]
            ],
            "type": "surface"
           }
          ],
          "table": [
           {
            "cells": {
             "fill": {
              "color": "#EBF0F8"
             },
             "line": {
              "color": "white"
             }
            },
            "header": {
             "fill": {
              "color": "#C8D4E3"
             },
             "line": {
              "color": "white"
             }
            },
            "type": "table"
           }
          ]
         },
         "layout": {
          "annotationdefaults": {
           "arrowcolor": "#2a3f5f",
           "arrowhead": 0,
           "arrowwidth": 1
          },
          "autotypenumbers": "strict",
          "coloraxis": {
           "colorbar": {
            "outlinewidth": 0,
            "ticks": ""
           }
          },
          "colorscale": {
           "diverging": [
            [
             0,
             "#8e0152"
            ],
            [
             0.1,
             "#c51b7d"
            ],
            [
             0.2,
             "#de77ae"
            ],
            [
             0.3,
             "#f1b6da"
            ],
            [
             0.4,
             "#fde0ef"
            ],
            [
             0.5,
             "#f7f7f7"
            ],
            [
             0.6,
             "#e6f5d0"
            ],
            [
             0.7,
             "#b8e186"
            ],
            [
             0.8,
             "#7fbc41"
            ],
            [
             0.9,
             "#4d9221"
            ],
            [
             1,
             "#276419"
            ]
           ],
           "sequential": [
            [
             0,
             "#0d0887"
            ],
            [
             0.1111111111111111,
             "#46039f"
            ],
            [
             0.2222222222222222,
             "#7201a8"
            ],
            [
             0.3333333333333333,
             "#9c179e"
            ],
            [
             0.4444444444444444,
             "#bd3786"
            ],
            [
             0.5555555555555556,
             "#d8576b"
            ],
            [
             0.6666666666666666,
             "#ed7953"
            ],
            [
             0.7777777777777778,
             "#fb9f3a"
            ],
            [
             0.8888888888888888,
             "#fdca26"
            ],
            [
             1,
             "#f0f921"
            ]
           ],
           "sequentialminus": [
            [
             0,
             "#0d0887"
            ],
            [
             0.1111111111111111,
             "#46039f"
            ],
            [
             0.2222222222222222,
             "#7201a8"
            ],
            [
             0.3333333333333333,
             "#9c179e"
            ],
            [
             0.4444444444444444,
             "#bd3786"
            ],
            [
             0.5555555555555556,
             "#d8576b"
            ],
            [
             0.6666666666666666,
             "#ed7953"
            ],
            [
             0.7777777777777778,
             "#fb9f3a"
            ],
            [
             0.8888888888888888,
             "#fdca26"
            ],
            [
             1,
             "#f0f921"
            ]
           ]
          },
          "colorway": [
           "#636efa",
           "#EF553B",
           "#00cc96",
           "#ab63fa",
           "#FFA15A",
           "#19d3f3",
           "#FF6692",
           "#B6E880",
           "#FF97FF",
           "#FECB52"
          ],
          "font": {
           "color": "#2a3f5f"
          },
          "geo": {
           "bgcolor": "white",
           "lakecolor": "white",
           "landcolor": "#E5ECF6",
           "showlakes": true,
           "showland": true,
           "subunitcolor": "white"
          },
          "hoverlabel": {
           "align": "left"
          },
          "hovermode": "closest",
          "mapbox": {
           "style": "light"
          },
          "paper_bgcolor": "white",
          "plot_bgcolor": "#E5ECF6",
          "polar": {
           "angularaxis": {
            "gridcolor": "white",
            "linecolor": "white",
            "ticks": ""
           },
           "bgcolor": "#E5ECF6",
           "radialaxis": {
            "gridcolor": "white",
            "linecolor": "white",
            "ticks": ""
           }
          },
          "scene": {
           "xaxis": {
            "backgroundcolor": "#E5ECF6",
            "gridcolor": "white",
            "gridwidth": 2,
            "linecolor": "white",
            "showbackground": true,
            "ticks": "",
            "zerolinecolor": "white"
           },
           "yaxis": {
            "backgroundcolor": "#E5ECF6",
            "gridcolor": "white",
            "gridwidth": 2,
            "linecolor": "white",
            "showbackground": true,
            "ticks": "",
            "zerolinecolor": "white"
           },
           "zaxis": {
            "backgroundcolor": "#E5ECF6",
            "gridcolor": "white",
            "gridwidth": 2,
            "linecolor": "white",
            "showbackground": true,
            "ticks": "",
            "zerolinecolor": "white"
           }
          },
          "shapedefaults": {
           "line": {
            "color": "#2a3f5f"
           }
          },
          "ternary": {
           "aaxis": {
            "gridcolor": "white",
            "linecolor": "white",
            "ticks": ""
           },
           "baxis": {
            "gridcolor": "white",
            "linecolor": "white",
            "ticks": ""
           },
           "bgcolor": "#E5ECF6",
           "caxis": {
            "gridcolor": "white",
            "linecolor": "white",
            "ticks": ""
           }
          },
          "title": {
           "x": 0.05
          },
          "xaxis": {
           "automargin": true,
           "gridcolor": "white",
           "linecolor": "white",
           "ticks": "",
           "title": {
            "standoff": 15
           },
           "zerolinecolor": "white",
           "zerolinewidth": 2
          },
          "yaxis": {
           "automargin": true,
           "gridcolor": "white",
           "linecolor": "white",
           "ticks": "",
           "title": {
            "standoff": 15
           },
           "zerolinecolor": "white",
           "zerolinewidth": 2
          }
         }
        },
        "title": {
         "text": "Slice Plot"
        },
        "xaxis": {
         "anchor": "y",
         "domain": [
          0,
          0.45
         ],
         "title": {
          "text": "l"
         }
        },
        "xaxis2": {
         "anchor": "y2",
         "domain": [
          0.55,
          1
         ],
         "title": {
          "text": "lr"
         },
         "type": "log"
        },
        "yaxis": {
         "anchor": "x",
         "domain": [
          0,
          1
         ],
         "title": {
          "text": "Objective Value"
         }
        },
        "yaxis2": {
         "anchor": "x2",
         "domain": [
          0,
          1
         ],
         "matches": "y",
         "showticklabels": false
        }
       }
      }
     },
     "metadata": {},
     "output_type": "display_data"
    }
   ],
   "source": [
    "plot_slice(study)"
   ]
  },
  {
   "cell_type": "code",
   "execution_count": 104,
   "metadata": {},
   "outputs": [
    {
     "data": {
      "application/vnd.plotly.v1+json": {
       "config": {
        "plotlyServerURL": "https://plot.ly"
       },
       "data": [
        {
         "cliponaxis": false,
         "hovertemplate": [
          "l (IntDistribution): 0.2375069386991964<extra></extra>",
          "lr (FloatDistribution): 0.7624930613008036<extra></extra>"
         ],
         "marker": {
          "color": "rgb(66,146,198)"
         },
         "orientation": "h",
         "text": [
          "0.24",
          "0.76"
         ],
         "textposition": "outside",
         "type": "bar",
         "x": [
          0.2375069386991964,
          0.7624930613008036
         ],
         "y": [
          "l",
          "lr"
         ]
        }
       ],
       "layout": {
        "showlegend": false,
        "template": {
         "data": {
          "bar": [
           {
            "error_x": {
             "color": "#2a3f5f"
            },
            "error_y": {
             "color": "#2a3f5f"
            },
            "marker": {
             "line": {
              "color": "#E5ECF6",
              "width": 0.5
             },
             "pattern": {
              "fillmode": "overlay",
              "size": 10,
              "solidity": 0.2
             }
            },
            "type": "bar"
           }
          ],
          "barpolar": [
           {
            "marker": {
             "line": {
              "color": "#E5ECF6",
              "width": 0.5
             },
             "pattern": {
              "fillmode": "overlay",
              "size": 10,
              "solidity": 0.2
             }
            },
            "type": "barpolar"
           }
          ],
          "carpet": [
           {
            "aaxis": {
             "endlinecolor": "#2a3f5f",
             "gridcolor": "white",
             "linecolor": "white",
             "minorgridcolor": "white",
             "startlinecolor": "#2a3f5f"
            },
            "baxis": {
             "endlinecolor": "#2a3f5f",
             "gridcolor": "white",
             "linecolor": "white",
             "minorgridcolor": "white",
             "startlinecolor": "#2a3f5f"
            },
            "type": "carpet"
           }
          ],
          "choropleth": [
           {
            "colorbar": {
             "outlinewidth": 0,
             "ticks": ""
            },
            "type": "choropleth"
           }
          ],
          "contour": [
           {
            "colorbar": {
             "outlinewidth": 0,
             "ticks": ""
            },
            "colorscale": [
             [
              0,
              "#0d0887"
             ],
             [
              0.1111111111111111,
              "#46039f"
             ],
             [
              0.2222222222222222,
              "#7201a8"
             ],
             [
              0.3333333333333333,
              "#9c179e"
             ],
             [
              0.4444444444444444,
              "#bd3786"
             ],
             [
              0.5555555555555556,
              "#d8576b"
             ],
             [
              0.6666666666666666,
              "#ed7953"
             ],
             [
              0.7777777777777778,
              "#fb9f3a"
             ],
             [
              0.8888888888888888,
              "#fdca26"
             ],
             [
              1,
              "#f0f921"
             ]
            ],
            "type": "contour"
           }
          ],
          "contourcarpet": [
           {
            "colorbar": {
             "outlinewidth": 0,
             "ticks": ""
            },
            "type": "contourcarpet"
           }
          ],
          "heatmap": [
           {
            "colorbar": {
             "outlinewidth": 0,
             "ticks": ""
            },
            "colorscale": [
             [
              0,
              "#0d0887"
             ],
             [
              0.1111111111111111,
              "#46039f"
             ],
             [
              0.2222222222222222,
              "#7201a8"
             ],
             [
              0.3333333333333333,
              "#9c179e"
             ],
             [
              0.4444444444444444,
              "#bd3786"
             ],
             [
              0.5555555555555556,
              "#d8576b"
             ],
             [
              0.6666666666666666,
              "#ed7953"
             ],
             [
              0.7777777777777778,
              "#fb9f3a"
             ],
             [
              0.8888888888888888,
              "#fdca26"
             ],
             [
              1,
              "#f0f921"
             ]
            ],
            "type": "heatmap"
           }
          ],
          "heatmapgl": [
           {
            "colorbar": {
             "outlinewidth": 0,
             "ticks": ""
            },
            "colorscale": [
             [
              0,
              "#0d0887"
             ],
             [
              0.1111111111111111,
              "#46039f"
             ],
             [
              0.2222222222222222,
              "#7201a8"
             ],
             [
              0.3333333333333333,
              "#9c179e"
             ],
             [
              0.4444444444444444,
              "#bd3786"
             ],
             [
              0.5555555555555556,
              "#d8576b"
             ],
             [
              0.6666666666666666,
              "#ed7953"
             ],
             [
              0.7777777777777778,
              "#fb9f3a"
             ],
             [
              0.8888888888888888,
              "#fdca26"
             ],
             [
              1,
              "#f0f921"
             ]
            ],
            "type": "heatmapgl"
           }
          ],
          "histogram": [
           {
            "marker": {
             "pattern": {
              "fillmode": "overlay",
              "size": 10,
              "solidity": 0.2
             }
            },
            "type": "histogram"
           }
          ],
          "histogram2d": [
           {
            "colorbar": {
             "outlinewidth": 0,
             "ticks": ""
            },
            "colorscale": [
             [
              0,
              "#0d0887"
             ],
             [
              0.1111111111111111,
              "#46039f"
             ],
             [
              0.2222222222222222,
              "#7201a8"
             ],
             [
              0.3333333333333333,
              "#9c179e"
             ],
             [
              0.4444444444444444,
              "#bd3786"
             ],
             [
              0.5555555555555556,
              "#d8576b"
             ],
             [
              0.6666666666666666,
              "#ed7953"
             ],
             [
              0.7777777777777778,
              "#fb9f3a"
             ],
             [
              0.8888888888888888,
              "#fdca26"
             ],
             [
              1,
              "#f0f921"
             ]
            ],
            "type": "histogram2d"
           }
          ],
          "histogram2dcontour": [
           {
            "colorbar": {
             "outlinewidth": 0,
             "ticks": ""
            },
            "colorscale": [
             [
              0,
              "#0d0887"
             ],
             [
              0.1111111111111111,
              "#46039f"
             ],
             [
              0.2222222222222222,
              "#7201a8"
             ],
             [
              0.3333333333333333,
              "#9c179e"
             ],
             [
              0.4444444444444444,
              "#bd3786"
             ],
             [
              0.5555555555555556,
              "#d8576b"
             ],
             [
              0.6666666666666666,
              "#ed7953"
             ],
             [
              0.7777777777777778,
              "#fb9f3a"
             ],
             [
              0.8888888888888888,
              "#fdca26"
             ],
             [
              1,
              "#f0f921"
             ]
            ],
            "type": "histogram2dcontour"
           }
          ],
          "mesh3d": [
           {
            "colorbar": {
             "outlinewidth": 0,
             "ticks": ""
            },
            "type": "mesh3d"
           }
          ],
          "parcoords": [
           {
            "line": {
             "colorbar": {
              "outlinewidth": 0,
              "ticks": ""
             }
            },
            "type": "parcoords"
           }
          ],
          "pie": [
           {
            "automargin": true,
            "type": "pie"
           }
          ],
          "scatter": [
           {
            "fillpattern": {
             "fillmode": "overlay",
             "size": 10,
             "solidity": 0.2
            },
            "type": "scatter"
           }
          ],
          "scatter3d": [
           {
            "line": {
             "colorbar": {
              "outlinewidth": 0,
              "ticks": ""
             }
            },
            "marker": {
             "colorbar": {
              "outlinewidth": 0,
              "ticks": ""
             }
            },
            "type": "scatter3d"
           }
          ],
          "scattercarpet": [
           {
            "marker": {
             "colorbar": {
              "outlinewidth": 0,
              "ticks": ""
             }
            },
            "type": "scattercarpet"
           }
          ],
          "scattergeo": [
           {
            "marker": {
             "colorbar": {
              "outlinewidth": 0,
              "ticks": ""
             }
            },
            "type": "scattergeo"
           }
          ],
          "scattergl": [
           {
            "marker": {
             "colorbar": {
              "outlinewidth": 0,
              "ticks": ""
             }
            },
            "type": "scattergl"
           }
          ],
          "scattermapbox": [
           {
            "marker": {
             "colorbar": {
              "outlinewidth": 0,
              "ticks": ""
             }
            },
            "type": "scattermapbox"
           }
          ],
          "scatterpolar": [
           {
            "marker": {
             "colorbar": {
              "outlinewidth": 0,
              "ticks": ""
             }
            },
            "type": "scatterpolar"
           }
          ],
          "scatterpolargl": [
           {
            "marker": {
             "colorbar": {
              "outlinewidth": 0,
              "ticks": ""
             }
            },
            "type": "scatterpolargl"
           }
          ],
          "scatterternary": [
           {
            "marker": {
             "colorbar": {
              "outlinewidth": 0,
              "ticks": ""
             }
            },
            "type": "scatterternary"
           }
          ],
          "surface": [
           {
            "colorbar": {
             "outlinewidth": 0,
             "ticks": ""
            },
            "colorscale": [
             [
              0,
              "#0d0887"
             ],
             [
              0.1111111111111111,
              "#46039f"
             ],
             [
              0.2222222222222222,
              "#7201a8"
             ],
             [
              0.3333333333333333,
              "#9c179e"
             ],
             [
              0.4444444444444444,
              "#bd3786"
             ],
             [
              0.5555555555555556,
              "#d8576b"
             ],
             [
              0.6666666666666666,
              "#ed7953"
             ],
             [
              0.7777777777777778,
              "#fb9f3a"
             ],
             [
              0.8888888888888888,
              "#fdca26"
             ],
             [
              1,
              "#f0f921"
             ]
            ],
            "type": "surface"
           }
          ],
          "table": [
           {
            "cells": {
             "fill": {
              "color": "#EBF0F8"
             },
             "line": {
              "color": "white"
             }
            },
            "header": {
             "fill": {
              "color": "#C8D4E3"
             },
             "line": {
              "color": "white"
             }
            },
            "type": "table"
           }
          ]
         },
         "layout": {
          "annotationdefaults": {
           "arrowcolor": "#2a3f5f",
           "arrowhead": 0,
           "arrowwidth": 1
          },
          "autotypenumbers": "strict",
          "coloraxis": {
           "colorbar": {
            "outlinewidth": 0,
            "ticks": ""
           }
          },
          "colorscale": {
           "diverging": [
            [
             0,
             "#8e0152"
            ],
            [
             0.1,
             "#c51b7d"
            ],
            [
             0.2,
             "#de77ae"
            ],
            [
             0.3,
             "#f1b6da"
            ],
            [
             0.4,
             "#fde0ef"
            ],
            [
             0.5,
             "#f7f7f7"
            ],
            [
             0.6,
             "#e6f5d0"
            ],
            [
             0.7,
             "#b8e186"
            ],
            [
             0.8,
             "#7fbc41"
            ],
            [
             0.9,
             "#4d9221"
            ],
            [
             1,
             "#276419"
            ]
           ],
           "sequential": [
            [
             0,
             "#0d0887"
            ],
            [
             0.1111111111111111,
             "#46039f"
            ],
            [
             0.2222222222222222,
             "#7201a8"
            ],
            [
             0.3333333333333333,
             "#9c179e"
            ],
            [
             0.4444444444444444,
             "#bd3786"
            ],
            [
             0.5555555555555556,
             "#d8576b"
            ],
            [
             0.6666666666666666,
             "#ed7953"
            ],
            [
             0.7777777777777778,
             "#fb9f3a"
            ],
            [
             0.8888888888888888,
             "#fdca26"
            ],
            [
             1,
             "#f0f921"
            ]
           ],
           "sequentialminus": [
            [
             0,
             "#0d0887"
            ],
            [
             0.1111111111111111,
             "#46039f"
            ],
            [
             0.2222222222222222,
             "#7201a8"
            ],
            [
             0.3333333333333333,
             "#9c179e"
            ],
            [
             0.4444444444444444,
             "#bd3786"
            ],
            [
             0.5555555555555556,
             "#d8576b"
            ],
            [
             0.6666666666666666,
             "#ed7953"
            ],
            [
             0.7777777777777778,
             "#fb9f3a"
            ],
            [
             0.8888888888888888,
             "#fdca26"
            ],
            [
             1,
             "#f0f921"
            ]
           ]
          },
          "colorway": [
           "#636efa",
           "#EF553B",
           "#00cc96",
           "#ab63fa",
           "#FFA15A",
           "#19d3f3",
           "#FF6692",
           "#B6E880",
           "#FF97FF",
           "#FECB52"
          ],
          "font": {
           "color": "#2a3f5f"
          },
          "geo": {
           "bgcolor": "white",
           "lakecolor": "white",
           "landcolor": "#E5ECF6",
           "showlakes": true,
           "showland": true,
           "subunitcolor": "white"
          },
          "hoverlabel": {
           "align": "left"
          },
          "hovermode": "closest",
          "mapbox": {
           "style": "light"
          },
          "paper_bgcolor": "white",
          "plot_bgcolor": "#E5ECF6",
          "polar": {
           "angularaxis": {
            "gridcolor": "white",
            "linecolor": "white",
            "ticks": ""
           },
           "bgcolor": "#E5ECF6",
           "radialaxis": {
            "gridcolor": "white",
            "linecolor": "white",
            "ticks": ""
           }
          },
          "scene": {
           "xaxis": {
            "backgroundcolor": "#E5ECF6",
            "gridcolor": "white",
            "gridwidth": 2,
            "linecolor": "white",
            "showbackground": true,
            "ticks": "",
            "zerolinecolor": "white"
           },
           "yaxis": {
            "backgroundcolor": "#E5ECF6",
            "gridcolor": "white",
            "gridwidth": 2,
            "linecolor": "white",
            "showbackground": true,
            "ticks": "",
            "zerolinecolor": "white"
           },
           "zaxis": {
            "backgroundcolor": "#E5ECF6",
            "gridcolor": "white",
            "gridwidth": 2,
            "linecolor": "white",
            "showbackground": true,
            "ticks": "",
            "zerolinecolor": "white"
           }
          },
          "shapedefaults": {
           "line": {
            "color": "#2a3f5f"
           }
          },
          "ternary": {
           "aaxis": {
            "gridcolor": "white",
            "linecolor": "white",
            "ticks": ""
           },
           "baxis": {
            "gridcolor": "white",
            "linecolor": "white",
            "ticks": ""
           },
           "bgcolor": "#E5ECF6",
           "caxis": {
            "gridcolor": "white",
            "linecolor": "white",
            "ticks": ""
           }
          },
          "title": {
           "x": 0.05
          },
          "xaxis": {
           "automargin": true,
           "gridcolor": "white",
           "linecolor": "white",
           "ticks": "",
           "title": {
            "standoff": 15
           },
           "zerolinecolor": "white",
           "zerolinewidth": 2
          },
          "yaxis": {
           "automargin": true,
           "gridcolor": "white",
           "linecolor": "white",
           "ticks": "",
           "title": {
            "standoff": 15
           },
           "zerolinecolor": "white",
           "zerolinewidth": 2
          }
         }
        },
        "title": {
         "text": "Hyperparameter Importances"
        },
        "xaxis": {
         "title": {
          "text": "Importance for Objective Value"
         }
        },
        "yaxis": {
         "title": {
          "text": "Hyperparameter"
         }
        }
       }
      }
     },
     "metadata": {},
     "output_type": "display_data"
    }
   ],
   "source": [
    "plot_param_importances(study)"
   ]
  },
  {
   "cell_type": "code",
   "execution_count": 105,
   "metadata": {},
   "outputs": [
    {
     "data": {
      "application/vnd.plotly.v1+json": {
       "config": {
        "plotlyServerURL": "https://plot.ly"
       },
       "data": [
        {
         "mode": "lines",
         "name": "no-name-a64e895e-8830-48ce-87e5-ddeaf3f7d835",
         "type": "scatter",
         "x": [
          0.03370927928805743,
          0.039104772595223734,
          0.04450026590239004,
          0.04989575920955635,
          0.05529125251672266,
          0.060686745823888964,
          0.06608223913105526,
          0.07147773243822159,
          0.07687322574538788,
          0.0822687190525542,
          0.0876642123597205,
          0.09305970566688682,
          0.09845519897405311,
          0.10385069228121943,
          0.10924618558838572,
          0.11464167889555205,
          0.12003717220271834,
          0.12543266550988466,
          0.13082815881705095,
          0.13622365212421728,
          0.14161914543138357,
          0.1470146387385499,
          0.15241013204571618,
          0.1578056253528825,
          0.1632011186600488,
          0.16859661196721512,
          0.17399210527438141,
          0.1793875985815477,
          0.18478309188871403,
          0.19017858519588035,
          0.19557407850304664,
          0.20096957181021294,
          0.20636506511737926,
          0.21176055842454558,
          0.21715605173171187,
          0.22255154503887817,
          0.2279470383460445,
          0.2333425316532108,
          0.2387380249603771,
          0.2441335182675434,
          0.24952901157470972,
          0.25492450488187607,
          0.26031999818904233,
          0.26571549149620866,
          0.271110984803375,
          0.2765064781105413,
          0.28190197141770756,
          0.2872974647248739,
          0.2926929580320402,
          0.29808845133920653,
          0.30348394464637285,
          0.3088794379535391,
          0.31427493126070544,
          0.31967042456787176,
          0.325065917875038,
          0.33046141118220435,
          0.33585690448937067,
          0.341252397796537,
          0.3466478911037033,
          0.3520433844108696,
          0.3574388777180359,
          0.3628343710252022,
          0.3682298643323685,
          0.3736253576395348,
          0.3790208509467011,
          0.38441634425386745,
          0.38981183756103377,
          0.39520733086820004,
          0.40060282417536636,
          0.4059983174825327,
          0.41139381078969894,
          0.41678930409686527,
          0.4221847974040316,
          0.4275802907111979,
          0.43297578401836423,
          0.4383712773255305,
          0.4437667706326968,
          0.44916226393986314,
          0.4545577572470294,
          0.4599532505541957,
          0.46534874386136205,
          0.47074423716852837,
          0.4761397304756947,
          0.48153522378286095,
          0.4869307170900273,
          0.4923262103971936,
          0.49772170370435986,
          0.5031171970115261,
          0.5085126903186925,
          0.5139081836258588,
          0.5193036769330251,
          0.5246991702401914,
          0.5300946635473577,
          0.5354901568545241,
          0.5408856501616903,
          0.5462811434688567,
          0.551676636776023,
          0.5570721300831892,
          0.5624676233903556,
          0.5678631166975219
         ],
         "y": [
          0.01,
          0.01,
          0.01,
          0.01,
          0.01,
          0.01,
          0.01,
          0.01,
          0.02,
          0.03,
          0.04,
          0.05,
          0.05,
          0.07,
          0.08,
          0.08,
          0.1,
          0.11,
          0.11,
          0.11,
          0.11,
          0.12,
          0.12,
          0.13,
          0.13,
          0.13,
          0.14,
          0.14,
          0.14,
          0.14,
          0.14,
          0.15,
          0.16,
          0.16,
          0.16,
          0.16,
          0.19,
          0.19,
          0.19,
          0.21,
          0.24,
          0.26,
          0.27,
          0.28,
          0.3,
          0.31,
          0.33,
          0.33,
          0.33,
          0.35,
          0.36,
          0.36,
          0.36,
          0.37,
          0.38,
          0.39,
          0.4,
          0.4,
          0.4,
          0.4,
          0.42,
          0.42,
          0.42,
          0.43,
          0.46,
          0.48,
          0.49,
          0.51,
          0.52,
          0.53,
          0.55,
          0.55,
          0.57,
          0.57,
          0.57,
          0.58,
          0.6,
          0.63,
          0.64,
          0.67,
          0.69,
          0.71,
          0.75,
          0.76,
          0.77,
          0.77,
          0.81,
          0.83,
          0.83,
          0.83,
          0.88,
          0.9,
          0.91,
          0.93,
          0.94,
          0.95,
          0.97,
          0.98,
          0.99,
          1
         ]
        }
       ],
       "layout": {
        "template": {
         "data": {
          "bar": [
           {
            "error_x": {
             "color": "#2a3f5f"
            },
            "error_y": {
             "color": "#2a3f5f"
            },
            "marker": {
             "line": {
              "color": "#E5ECF6",
              "width": 0.5
             },
             "pattern": {
              "fillmode": "overlay",
              "size": 10,
              "solidity": 0.2
             }
            },
            "type": "bar"
           }
          ],
          "barpolar": [
           {
            "marker": {
             "line": {
              "color": "#E5ECF6",
              "width": 0.5
             },
             "pattern": {
              "fillmode": "overlay",
              "size": 10,
              "solidity": 0.2
             }
            },
            "type": "barpolar"
           }
          ],
          "carpet": [
           {
            "aaxis": {
             "endlinecolor": "#2a3f5f",
             "gridcolor": "white",
             "linecolor": "white",
             "minorgridcolor": "white",
             "startlinecolor": "#2a3f5f"
            },
            "baxis": {
             "endlinecolor": "#2a3f5f",
             "gridcolor": "white",
             "linecolor": "white",
             "minorgridcolor": "white",
             "startlinecolor": "#2a3f5f"
            },
            "type": "carpet"
           }
          ],
          "choropleth": [
           {
            "colorbar": {
             "outlinewidth": 0,
             "ticks": ""
            },
            "type": "choropleth"
           }
          ],
          "contour": [
           {
            "colorbar": {
             "outlinewidth": 0,
             "ticks": ""
            },
            "colorscale": [
             [
              0,
              "#0d0887"
             ],
             [
              0.1111111111111111,
              "#46039f"
             ],
             [
              0.2222222222222222,
              "#7201a8"
             ],
             [
              0.3333333333333333,
              "#9c179e"
             ],
             [
              0.4444444444444444,
              "#bd3786"
             ],
             [
              0.5555555555555556,
              "#d8576b"
             ],
             [
              0.6666666666666666,
              "#ed7953"
             ],
             [
              0.7777777777777778,
              "#fb9f3a"
             ],
             [
              0.8888888888888888,
              "#fdca26"
             ],
             [
              1,
              "#f0f921"
             ]
            ],
            "type": "contour"
           }
          ],
          "contourcarpet": [
           {
            "colorbar": {
             "outlinewidth": 0,
             "ticks": ""
            },
            "type": "contourcarpet"
           }
          ],
          "heatmap": [
           {
            "colorbar": {
             "outlinewidth": 0,
             "ticks": ""
            },
            "colorscale": [
             [
              0,
              "#0d0887"
             ],
             [
              0.1111111111111111,
              "#46039f"
             ],
             [
              0.2222222222222222,
              "#7201a8"
             ],
             [
              0.3333333333333333,
              "#9c179e"
             ],
             [
              0.4444444444444444,
              "#bd3786"
             ],
             [
              0.5555555555555556,
              "#d8576b"
             ],
             [
              0.6666666666666666,
              "#ed7953"
             ],
             [
              0.7777777777777778,
              "#fb9f3a"
             ],
             [
              0.8888888888888888,
              "#fdca26"
             ],
             [
              1,
              "#f0f921"
             ]
            ],
            "type": "heatmap"
           }
          ],
          "heatmapgl": [
           {
            "colorbar": {
             "outlinewidth": 0,
             "ticks": ""
            },
            "colorscale": [
             [
              0,
              "#0d0887"
             ],
             [
              0.1111111111111111,
              "#46039f"
             ],
             [
              0.2222222222222222,
              "#7201a8"
             ],
             [
              0.3333333333333333,
              "#9c179e"
             ],
             [
              0.4444444444444444,
              "#bd3786"
             ],
             [
              0.5555555555555556,
              "#d8576b"
             ],
             [
              0.6666666666666666,
              "#ed7953"
             ],
             [
              0.7777777777777778,
              "#fb9f3a"
             ],
             [
              0.8888888888888888,
              "#fdca26"
             ],
             [
              1,
              "#f0f921"
             ]
            ],
            "type": "heatmapgl"
           }
          ],
          "histogram": [
           {
            "marker": {
             "pattern": {
              "fillmode": "overlay",
              "size": 10,
              "solidity": 0.2
             }
            },
            "type": "histogram"
           }
          ],
          "histogram2d": [
           {
            "colorbar": {
             "outlinewidth": 0,
             "ticks": ""
            },
            "colorscale": [
             [
              0,
              "#0d0887"
             ],
             [
              0.1111111111111111,
              "#46039f"
             ],
             [
              0.2222222222222222,
              "#7201a8"
             ],
             [
              0.3333333333333333,
              "#9c179e"
             ],
             [
              0.4444444444444444,
              "#bd3786"
             ],
             [
              0.5555555555555556,
              "#d8576b"
             ],
             [
              0.6666666666666666,
              "#ed7953"
             ],
             [
              0.7777777777777778,
              "#fb9f3a"
             ],
             [
              0.8888888888888888,
              "#fdca26"
             ],
             [
              1,
              "#f0f921"
             ]
            ],
            "type": "histogram2d"
           }
          ],
          "histogram2dcontour": [
           {
            "colorbar": {
             "outlinewidth": 0,
             "ticks": ""
            },
            "colorscale": [
             [
              0,
              "#0d0887"
             ],
             [
              0.1111111111111111,
              "#46039f"
             ],
             [
              0.2222222222222222,
              "#7201a8"
             ],
             [
              0.3333333333333333,
              "#9c179e"
             ],
             [
              0.4444444444444444,
              "#bd3786"
             ],
             [
              0.5555555555555556,
              "#d8576b"
             ],
             [
              0.6666666666666666,
              "#ed7953"
             ],
             [
              0.7777777777777778,
              "#fb9f3a"
             ],
             [
              0.8888888888888888,
              "#fdca26"
             ],
             [
              1,
              "#f0f921"
             ]
            ],
            "type": "histogram2dcontour"
           }
          ],
          "mesh3d": [
           {
            "colorbar": {
             "outlinewidth": 0,
             "ticks": ""
            },
            "type": "mesh3d"
           }
          ],
          "parcoords": [
           {
            "line": {
             "colorbar": {
              "outlinewidth": 0,
              "ticks": ""
             }
            },
            "type": "parcoords"
           }
          ],
          "pie": [
           {
            "automargin": true,
            "type": "pie"
           }
          ],
          "scatter": [
           {
            "fillpattern": {
             "fillmode": "overlay",
             "size": 10,
             "solidity": 0.2
            },
            "type": "scatter"
           }
          ],
          "scatter3d": [
           {
            "line": {
             "colorbar": {
              "outlinewidth": 0,
              "ticks": ""
             }
            },
            "marker": {
             "colorbar": {
              "outlinewidth": 0,
              "ticks": ""
             }
            },
            "type": "scatter3d"
           }
          ],
          "scattercarpet": [
           {
            "marker": {
             "colorbar": {
              "outlinewidth": 0,
              "ticks": ""
             }
            },
            "type": "scattercarpet"
           }
          ],
          "scattergeo": [
           {
            "marker": {
             "colorbar": {
              "outlinewidth": 0,
              "ticks": ""
             }
            },
            "type": "scattergeo"
           }
          ],
          "scattergl": [
           {
            "marker": {
             "colorbar": {
              "outlinewidth": 0,
              "ticks": ""
             }
            },
            "type": "scattergl"
           }
          ],
          "scattermapbox": [
           {
            "marker": {
             "colorbar": {
              "outlinewidth": 0,
              "ticks": ""
             }
            },
            "type": "scattermapbox"
           }
          ],
          "scatterpolar": [
           {
            "marker": {
             "colorbar": {
              "outlinewidth": 0,
              "ticks": ""
             }
            },
            "type": "scatterpolar"
           }
          ],
          "scatterpolargl": [
           {
            "marker": {
             "colorbar": {
              "outlinewidth": 0,
              "ticks": ""
             }
            },
            "type": "scatterpolargl"
           }
          ],
          "scatterternary": [
           {
            "marker": {
             "colorbar": {
              "outlinewidth": 0,
              "ticks": ""
             }
            },
            "type": "scatterternary"
           }
          ],
          "surface": [
           {
            "colorbar": {
             "outlinewidth": 0,
             "ticks": ""
            },
            "colorscale": [
             [
              0,
              "#0d0887"
             ],
             [
              0.1111111111111111,
              "#46039f"
             ],
             [
              0.2222222222222222,
              "#7201a8"
             ],
             [
              0.3333333333333333,
              "#9c179e"
             ],
             [
              0.4444444444444444,
              "#bd3786"
             ],
             [
              0.5555555555555556,
              "#d8576b"
             ],
             [
              0.6666666666666666,
              "#ed7953"
             ],
             [
              0.7777777777777778,
              "#fb9f3a"
             ],
             [
              0.8888888888888888,
              "#fdca26"
             ],
             [
              1,
              "#f0f921"
             ]
            ],
            "type": "surface"
           }
          ],
          "table": [
           {
            "cells": {
             "fill": {
              "color": "#EBF0F8"
             },
             "line": {
              "color": "white"
             }
            },
            "header": {
             "fill": {
              "color": "#C8D4E3"
             },
             "line": {
              "color": "white"
             }
            },
            "type": "table"
           }
          ]
         },
         "layout": {
          "annotationdefaults": {
           "arrowcolor": "#2a3f5f",
           "arrowhead": 0,
           "arrowwidth": 1
          },
          "autotypenumbers": "strict",
          "coloraxis": {
           "colorbar": {
            "outlinewidth": 0,
            "ticks": ""
           }
          },
          "colorscale": {
           "diverging": [
            [
             0,
             "#8e0152"
            ],
            [
             0.1,
             "#c51b7d"
            ],
            [
             0.2,
             "#de77ae"
            ],
            [
             0.3,
             "#f1b6da"
            ],
            [
             0.4,
             "#fde0ef"
            ],
            [
             0.5,
             "#f7f7f7"
            ],
            [
             0.6,
             "#e6f5d0"
            ],
            [
             0.7,
             "#b8e186"
            ],
            [
             0.8,
             "#7fbc41"
            ],
            [
             0.9,
             "#4d9221"
            ],
            [
             1,
             "#276419"
            ]
           ],
           "sequential": [
            [
             0,
             "#0d0887"
            ],
            [
             0.1111111111111111,
             "#46039f"
            ],
            [
             0.2222222222222222,
             "#7201a8"
            ],
            [
             0.3333333333333333,
             "#9c179e"
            ],
            [
             0.4444444444444444,
             "#bd3786"
            ],
            [
             0.5555555555555556,
             "#d8576b"
            ],
            [
             0.6666666666666666,
             "#ed7953"
            ],
            [
             0.7777777777777778,
             "#fb9f3a"
            ],
            [
             0.8888888888888888,
             "#fdca26"
            ],
            [
             1,
             "#f0f921"
            ]
           ],
           "sequentialminus": [
            [
             0,
             "#0d0887"
            ],
            [
             0.1111111111111111,
             "#46039f"
            ],
            [
             0.2222222222222222,
             "#7201a8"
            ],
            [
             0.3333333333333333,
             "#9c179e"
            ],
            [
             0.4444444444444444,
             "#bd3786"
            ],
            [
             0.5555555555555556,
             "#d8576b"
            ],
            [
             0.6666666666666666,
             "#ed7953"
            ],
            [
             0.7777777777777778,
             "#fb9f3a"
            ],
            [
             0.8888888888888888,
             "#fdca26"
            ],
            [
             1,
             "#f0f921"
            ]
           ]
          },
          "colorway": [
           "#636efa",
           "#EF553B",
           "#00cc96",
           "#ab63fa",
           "#FFA15A",
           "#19d3f3",
           "#FF6692",
           "#B6E880",
           "#FF97FF",
           "#FECB52"
          ],
          "font": {
           "color": "#2a3f5f"
          },
          "geo": {
           "bgcolor": "white",
           "lakecolor": "white",
           "landcolor": "#E5ECF6",
           "showlakes": true,
           "showland": true,
           "subunitcolor": "white"
          },
          "hoverlabel": {
           "align": "left"
          },
          "hovermode": "closest",
          "mapbox": {
           "style": "light"
          },
          "paper_bgcolor": "white",
          "plot_bgcolor": "#E5ECF6",
          "polar": {
           "angularaxis": {
            "gridcolor": "white",
            "linecolor": "white",
            "ticks": ""
           },
           "bgcolor": "#E5ECF6",
           "radialaxis": {
            "gridcolor": "white",
            "linecolor": "white",
            "ticks": ""
           }
          },
          "scene": {
           "xaxis": {
            "backgroundcolor": "#E5ECF6",
            "gridcolor": "white",
            "gridwidth": 2,
            "linecolor": "white",
            "showbackground": true,
            "ticks": "",
            "zerolinecolor": "white"
           },
           "yaxis": {
            "backgroundcolor": "#E5ECF6",
            "gridcolor": "white",
            "gridwidth": 2,
            "linecolor": "white",
            "showbackground": true,
            "ticks": "",
            "zerolinecolor": "white"
           },
           "zaxis": {
            "backgroundcolor": "#E5ECF6",
            "gridcolor": "white",
            "gridwidth": 2,
            "linecolor": "white",
            "showbackground": true,
            "ticks": "",
            "zerolinecolor": "white"
           }
          },
          "shapedefaults": {
           "line": {
            "color": "#2a3f5f"
           }
          },
          "ternary": {
           "aaxis": {
            "gridcolor": "white",
            "linecolor": "white",
            "ticks": ""
           },
           "baxis": {
            "gridcolor": "white",
            "linecolor": "white",
            "ticks": ""
           },
           "bgcolor": "#E5ECF6",
           "caxis": {
            "gridcolor": "white",
            "linecolor": "white",
            "ticks": ""
           }
          },
          "title": {
           "x": 0.05
          },
          "xaxis": {
           "automargin": true,
           "gridcolor": "white",
           "linecolor": "white",
           "ticks": "",
           "title": {
            "standoff": 15
           },
           "zerolinecolor": "white",
           "zerolinewidth": 2
          },
          "yaxis": {
           "automargin": true,
           "gridcolor": "white",
           "linecolor": "white",
           "ticks": "",
           "title": {
            "standoff": 15
           },
           "zerolinecolor": "white",
           "zerolinewidth": 2
          }
         }
        },
        "title": {
         "text": "Empirical Distribution Function Plot"
        },
        "xaxis": {
         "title": {
          "text": "Objective Value"
         }
        },
        "yaxis": {
         "range": [
          0,
          1
         ],
         "title": {
          "text": "Cumulative Probability"
         }
        }
       }
      }
     },
     "metadata": {},
     "output_type": "display_data"
    }
   ],
   "source": [
    "plot_edf(study)\n"
   ]
  },
  {
   "cell_type": "code",
   "execution_count": 106,
   "metadata": {},
   "outputs": [
    {
     "name": "stderr",
     "output_type": "stream",
     "text": [
      "/tmp/ipykernel_21382/1593024665.py:1: ExperimentalWarning:\n",
      "\n",
      "plot_rank is experimental (supported from v3.2.0). The interface can change in the future.\n",
      "\n"
     ]
    },
    {
     "data": {
      "application/vnd.plotly.v1+json": {
       "config": {
        "plotlyServerURL": "https://plot.ly"
       },
       "data": [
        {
         "hovertemplate": "%{hovertext}<extra></extra>",
         "hovertext": [
          "Trial #0<br>l: 40<br>lr: 5.3477006088327755e-05<br><b>Objective Value: 0.10356377277599142</b>",
          "Trial #1<br>l: 52<br>lr: 0.00024350223222632195<br><b>Objective Value: 0.10258939881126376</b>",
          "Trial #2<br>l: 41<br>lr: 0.0003333746180944005<br><b>Objective Value: 0.07535767644288544</b>",
          "Trial #3<br>l: 30<br>lr: 0.00018522825646486625<br><b>Objective Value: 0.11993325538341615</b>",
          "Trial #4<br>l: 55<br>lr: 7.952981773014723e-05<br><b>Objective Value: 0.08348760921108186</b>",
          "Trial #5<br>l: 87<br>lr: 0.0013928356779063214<br><b>Objective Value: 0.03370927928805743</b>",
          "Trial #6<br>l: 31<br>lr: 0.01703116325199328<br><b>Objective Value: 0.223827909318263</b>",
          "Trial #7<br>l: 88<br>lr: 0.00042216005182977006<br><b>Objective Value: 0.0794033583422651</b>",
          "Trial #8<br>l: 79<br>lr: 2.118746911027315e-05<br><b>Objective Value: 0.10497458507908668</b>",
          "Trial #9<br>l: 15<br>lr: 0.0011218725262696903<br><b>Objective Value: 0.117497320471597</b>",
          "Trial #10<br>l: 70<br>lr: 0.02352981378584673<br><b>Objective Value: 0.1978791126701095</b>",
          "Trial #11<br>l: 76<br>lr: 0.02818984561662886<br><b>Objective Value: 0.25156711812660365</b>",
          "Trial #12<br>l: 66<br>lr: 0.07509662173148697<br><b>Objective Value: 0.44928180519016525</b>",
          "Trial #13<br>l: 66<br>lr: 0.06099854314067278<br><b>Objective Value: 0.5329338400077949</b>",
          "Trial #14<br>l: 65<br>lr: 0.0930146152300883<br><b>Objective Value: 0.4614188508883043</b>",
          "Trial #15<br>l: 100<br>lr: 0.0934867392041049<br><b>Objective Value: 0.5207582253402189</b>",
          "Trial #16<br>l: 99<br>lr: 0.004940904567533033<br><b>Objective Value: 0.1569513462600279</b>",
          "Trial #17<br>l: 96<br>lr: 0.005724519490212814<br><b>Objective Value: 0.12475843645457795</b>",
          "Trial #18<br>l: 56<br>lr: 0.09208852437599188<br><b>Objective Value: 0.4743313358667057</b>",
          "Trial #19<br>l: 89<br>lr: 0.007800896470262943<br><b>Objective Value: 0.20347161323849428</b>",
          "Trial #20<br>l: 76<br>lr: 0.036139754327595676<br><b>Objective Value: 0.3884889895741986</b>",
          "Trial #21<br>l: 63<br>lr: 0.08380309043231503<br><b>Objective Value: 0.45689410178960016</b>",
          "Trial #22<br>l: 47<br>lr: 0.04816566904654761<br><b>Objective Value: 0.39322079314040725</b>",
          "Trial #23<br>l: 57<br>lr: 0.09534872648642258<br><b>Objective Value: 0.5456514501932509</b>",
          "Trial #24<br>l: 24<br>lr: 0.012726164567724876<br><b>Objective Value: 0.2463440676865114</b>",
          "Trial #25<br>l: 59<br>lr: 0.03705886198320452<br><b>Objective Value: 0.2973038260417682</b>",
          "Trial #26<br>l: 46<br>lr: 0.050470152281218164<br><b>Objective Value: 0.2973545746857644</b>",
          "Trial #27<br>l: 11<br>lr: 0.011276643319481836<br><b>Objective Value: 0.1427884146935594</b>",
          "Trial #28<br>l: 82<br>lr: 0.020352900881255305<br><b>Objective Value: 0.2687039202312514</b>",
          "Trial #29<br>l: 69<br>lr: 0.0037174701303784212<br><b>Objective Value: 0.08900297184059243</b>",
          "Trial #30<br>l: 35<br>lr: 0.05017891014057906<br><b>Objective Value: 0.3196129299425119</b>",
          "Trial #31<br>l: 55<br>lr: 0.09850968629090454<br><b>Objective Value: 0.4814909545616941</b>",
          "Trial #32<br>l: 52<br>lr: 0.03219856898881238<br><b>Objective Value: 0.2415655753678262</b>",
          "Trial #33<br>l: 46<br>lr: 0.09953799693101374<br><b>Objective Value: 0.4087640878235734</b>",
          "Trial #34<br>l: 72<br>lr: 0.04711836977154496<br><b>Objective Value: 0.40321015622462564</b>",
          "Trial #35<br>l: 40<br>lr: 0.01944648227435904<br><b>Objective Value: 0.22764014745526</b>",
          "Trial #36<br>l: 61<br>lr: 0.06639950826156321<br><b>Objective Value: 0.40028297443892297</b>",
          "Trial #37<br>l: 49<br>lr: 0.02979389862728106<br><b>Objective Value: 0.16913914060216312</b>",
          "Trial #38<br>l: 57<br>lr: 0.05748650009449627<br><b>Objective Value: 0.4957208743382377</b>",
          "Trial #39<br>l: 94<br>lr: 0.014085240524731032<br><b>Objective Value: 0.2593580499529053</b>",
          "Trial #40<br>l: 25<br>lr: 0.06190872799865389<br><b>Objective Value: 0.24673381727240248</b>",
          "Trial #41<br>l: 54<br>lr: 0.05701001136825143<br><b>Objective Value: 0.4451001169248758</b>",
          "Trial #42<br>l: 59<br>lr: 0.099890517484237<br><b>Objective Value: 0.4725693429471564</b>",
          "Trial #43<br>l: 51<br>lr: 0.024848959590663366<br><b>Objective Value: 0.37963030627821626</b>",
          "Trial #44<br>l: 35<br>lr: 0.038642052034602255<br><b>Objective Value: 0.3767071843840333</b>",
          "Trial #45<br>l: 42<br>lr: 0.059965188724583014<br><b>Objective Value: 0.27912566176231773</b>",
          "Trial #46<br>l: 84<br>lr: 0.022930850152325814<br><b>Objective Value: 0.28127334437623824</b>",
          "Trial #47<br>l: 57<br>lr: 0.06260922876168513<br><b>Objective Value: 0.4419354314852707</b>",
          "Trial #48<br>l: 67<br>lr: 0.03248003010312427<br><b>Objective Value: 0.26037505277858974</b>",
          "Trial #49<br>l: 73<br>lr: 0.09842405664252042<br><b>Objective Value: 0.5022491799019131</b>",
          "Trial #50<br>l: 75<br>lr: 0.017231506072913978<br><b>Objective Value: 0.26652578843093316</b>",
          "Trial #51<br>l: 63<br>lr: 0.06955784005833121<br><b>Objective Value: 0.3552161486245088</b>",
          "Trial #52<br>l: 72<br>lr: 0.0797361693336084<br><b>Objective Value: 0.4961532527850856</b>",
          "Trial #53<br>l: 72<br>lr: 0.04519766659968222<br><b>Objective Value: 0.4202068920718438</b>",
          "Trial #54<br>l: 78<br>lr: 0.06272681137100425<br><b>Objective Value: 0.37977849231868527</b>",
          "Trial #55<br>l: 91<br>lr: 0.07697197701798705<br><b>Objective Value: 0.4615203481762967</b>",
          "Trial #56<br>l: 100<br>lr: 0.03982449594436201<br><b>Objective Value: 0.44052055929065576</b>",
          "Trial #57<br>l: 83<br>lr: 0.02766441258642419<br><b>Objective Value: 0.4681927798889214</b>",
          "Trial #58<br>l: 65<br>lr: 0.07847460584675534<br><b>Objective Value: 0.5591485595504887</b>",
          "Trial #59<br>l: 67<br>lr: 0.0832319879623828<br><b>Objective Value: 0.5157381694761116</b>",
          "Trial #60<br>l: 66<br>lr: 0.04146739953550929<br><b>Objective Value: 0.323463737048946</b>",
          "Trial #61<br>l: 69<br>lr: 0.07706631323922435<br><b>Objective Value: 0.41050984117704375</b>",
          "Trial #62<br>l: 63<br>lr: 0.08315143062823342<br><b>Objective Value: 0.47413240118224037</b>",
          "Trial #63<br>l: 71<br>lr: 0.07783174980373501<br><b>Objective Value: 0.43604249894442826</b>",
          "Trial #64<br>l: 77<br>lr: 0.04531351292926553<br><b>Objective Value: 0.5288414693559388</b>",
          "Trial #65<br>l: 80<br>lr: 0.03363681957191448<br><b>Objective Value: 0.3712466302900387</b>",
          "Trial #66<br>l: 86<br>lr: 0.04731445119311008<br><b>Objective Value: 0.4561612913702946</b>",
          "Trial #67<br>l: 76<br>lr: 0.09730736705117617<br><b>Objective Value: 0.5678631166975219</b>",
          "Trial #68<br>l: 78<br>lr: 0.023717340533890945<br><b>Objective Value: 0.24615325278508557</b>",
          "Trial #69<br>l: 68<br>lr: 0.051522725370567825<br><b>Objective Value: 0.48383757186007986</b>",
          "Trial #70<br>l: 96<br>lr: 0.03877448282566431<br><b>Objective Value: 0.45546704992042614</b>",
          "Trial #71<br>l: 75<br>lr: 0.09823073274248471<br><b>Objective Value: 0.5386867062912079</b>",
          "Trial #72<br>l: 76<br>lr: 0.06893522795333469<br><b>Objective Value: 0.5500868816785216</b>",
          "Trial #73<br>l: 75<br>lr: 0.060339052298088766<br><b>Objective Value: 0.47506414628601124</b>",
          "Trial #74<br>l: 90<br>lr: 0.09961921128876214<br><b>Objective Value: 0.5164750397869369</b>",
          "Trial #75<br>l: 80<br>lr: 0.028120891876766526<br><b>Objective Value: 0.334470102958849</b>",
          "Trial #76<br>l: 87<br>lr: 0.04499561316182582<br><b>Objective Value: 0.44481186462697714</b>",
          "Trial #77<br>l: 60<br>lr: 0.06870656901775349<br><b>Objective Value: 0.5184197278248726</b>",
          "Trial #78<br>l: 64<br>lr: 0.051829892706705454<br><b>Objective Value: 0.3947371626230147</b>",
          "Trial #79<br>l: 75<br>lr: 0.01570892260770265<br><b>Objective Value: 0.27562603527233753</b>",
          "Trial #80<br>l: 81<br>lr: 0.03442345145767649<br><b>Objective Value: 0.24961025041410892</b>",
          "Trial #81<br>l: 59<br>lr: 0.0686097696644887<br><b>Objective Value: 0.4983354444769235</b>",
          "Trial #82<br>l: 65<br>lr: 0.07197408711059884<br><b>Objective Value: 0.5233464061840268</b>",
          "Trial #83<br>l: 62<br>lr: 0.05401712134513742<br><b>Objective Value: 0.5505700087693656</b>",
          "Trial #84<br>l: 77<br>lr: 0.01994766855357251<br><b>Objective Value: 0.24322201110786315</b>",
          "Trial #85<br>l: 62<br>lr: 0.052830226056087795<br><b>Objective Value: 0.46935796875507485</b>",
          "Trial #86<br>l: 65<br>lr: 0.0766911885198324<br><b>Objective Value: 0.4968820033128715</b>",
          "Trial #87<br>l: 70<br>lr: 0.042026736649492684<br><b>Objective Value: 0.3763722433336581</b>",
          "Trial #88<br>l: 74<br>lr: 0.09820178881578817<br><b>Objective Value: 0.5557382506739419</b>",
          "Trial #89<br>l: 74<br>lr: 0.09444507979935936<br><b>Objective Value: 0.4207955763422001</b>",
          "Trial #90<br>l: 70<br>lr: 0.056158708315151774<br><b>Objective Value: 0.44607449088960344</b>",
          "Trial #91<br>l: 53<br>lr: 0.07217980945378619<br><b>Objective Value: 0.5337600279320537</b>",
          "Trial #92<br>l: 55<br>lr: 0.09817167323701333<br><b>Objective Value: 0.5192032868881743</b>",
          "Trial #93<br>l: 52<br>lr: 0.030897647965489074<br><b>Objective Value: 0.3771862515833577</b>",
          "Trial #94<br>l: 84<br>lr: 0.06109557223872505<br><b>Objective Value: 0.5150094189483257</b>",
          "Trial #95<br>l: 58<br>lr: 0.04559891034878692<br><b>Objective Value: 0.30306075221670076</b>",
          "Trial #96<br>l: 50<br>lr: 0.0798682482986343<br><b>Objective Value: 0.3278017311377441</b>",
          "Trial #97<br>l: 48<br>lr: 0.06657421868110798<br><b>Objective Value: 0.4957675630907142</b>",
          "Trial #98<br>l: 44<br>lr: 0.03575967490609509<br><b>Objective Value: 0.2257888369222774</b>",
          "Trial #99<br>l: 53<br>lr: 0.054927720221133854<br><b>Objective Value: 0.3535637727759914</b>"
         ],
         "marker": {
          "color": [
           "rgb(61, 92, 168)",
           "rgb(59, 86, 165)",
           "rgb(51, 60, 152)",
           "rgb(67, 111, 177)",
           "rgb(55, 73, 158)",
           "rgb(49, 54, 149)",
           "rgb(98, 152, 198)",
           "rgb(53, 67, 155)",
           "rgb(63, 99, 171)",
           "rgb(65, 105, 174)",
           "rgb(88, 140, 192)",
           "rgb(145, 196, 222)",
           "rgb(254, 206, 127)",
           "rgb(205, 39, 39)",
           "rgb(253, 186, 108)",
           "rgb(218, 55, 42)",
           "rgb(79, 129, 186)",
           "rgb(69, 118, 180)",
           "rgb(250, 150, 86)",
           "rgb(93, 146, 195)",
           "rgb(250, 253, 200)",
           "rgb(253, 191, 113)",
           "rgb(253, 254, 194)",
           "rgb(190, 24, 39)",
           "rgb(128, 183, 214)",
           "rgb(189, 226, 238)",
           "rgb(194, 228, 240)",
           "rgb(74, 123, 183)",
           "rgb(167, 214, 231)",
           "rgb(57, 79, 162)",
           "rgb(205, 234, 243)",
           "rgb(248, 137, 80)",
           "rgb(112, 168, 207)",
           "rgb(255, 244, 174)",
           "rgb(255, 247, 179)",
           "rgb(107, 163, 204)",
           "rgb(255, 250, 184)",
           "rgb(84, 135, 189)",
           "rgb(246, 123, 74)",
           "rgb(150, 201, 224)",
           "rgb(134, 187, 217)",
           "rgb(254, 216, 136)",
           "rgb(251, 163, 92)",
           "rgb(244, 251, 211)",
           "rgb(238, 248, 223)",
           "rgb(178, 220, 235)",
           "rgb(183, 223, 236)",
           "rgb(254, 225, 146)",
           "rgb(156, 205, 226)",
           "rgb(236, 92, 59)",
           "rgb(162, 209, 229)",
           "rgb(228, 245, 240)",
           "rgb(244, 110, 68)",
           "rgb(254, 238, 165)",
           "rgb(247, 252, 205)",
           "rgb(253, 181, 103)",
           "rgb(254, 228, 151)",
           "rgb(253, 176, 98)",
           "rgb(170, 5, 38)",
           "rgb(230, 79, 53)",
           "rgb(210, 236, 244)",
           "rgb(255, 241, 170)",
           "rgb(251, 156, 89)",
           "rgb(254, 232, 155)",
           "rgb(210, 44, 39)",
           "rgb(232, 246, 234)",
           "rgb(253, 196, 117)",
           "rgb(165, 0, 38)",
           "rgb(123, 178, 212)",
           "rgb(247, 130, 77)",
           "rgb(254, 201, 122)",
           "rgb(195, 29, 39)",
           "rgb(185, 19, 38)",
           "rgb(249, 143, 83)",
           "rgb(227, 73, 51)",
           "rgb(221, 241, 247)",
           "rgb(254, 221, 141)",
           "rgb(224, 67, 48)",
           "rgb(255, 253, 189)",
           "rgb(173, 218, 233)",
           "rgb(139, 192, 219)",
           "rgb(239, 98, 62)",
           "rgb(215, 49, 39)",
           "rgb(180, 15, 38)",
           "rgb(117, 174, 209)",
           "rgb(252, 169, 95)",
           "rgb(242, 104, 65)",
           "rgb(235, 247, 228)",
           "rgb(175, 10, 38)",
           "rgb(254, 235, 160)",
           "rgb(254, 211, 132)",
           "rgb(200, 34, 39)",
           "rgb(221, 61, 45)",
           "rgb(241, 250, 217)",
           "rgb(233, 86, 56)",
           "rgb(199, 231, 241)",
           "rgb(215, 239, 246)",
           "rgb(245, 117, 71)",
           "rgb(103, 157, 201)",
           "rgb(225, 243, 246)"
          ],
          "line": {
           "color": "Grey",
           "width": 0.5
          }
         },
         "mode": "markers",
         "showlegend": false,
         "type": "scatter",
         "x": [
          40,
          52,
          41,
          30,
          55,
          87,
          31,
          88,
          79,
          15,
          70,
          76,
          66,
          66,
          65,
          100,
          99,
          96,
          56,
          89,
          76,
          63,
          47,
          57,
          24,
          59,
          46,
          11,
          82,
          69,
          35,
          55,
          52,
          46,
          72,
          40,
          61,
          49,
          57,
          94,
          25,
          54,
          59,
          51,
          35,
          42,
          84,
          57,
          67,
          73,
          75,
          63,
          72,
          72,
          78,
          91,
          100,
          83,
          65,
          67,
          66,
          69,
          63,
          71,
          77,
          80,
          86,
          76,
          78,
          68,
          96,
          75,
          76,
          75,
          90,
          80,
          87,
          60,
          64,
          75,
          81,
          59,
          65,
          62,
          77,
          62,
          65,
          70,
          74,
          74,
          70,
          53,
          55,
          52,
          84,
          58,
          50,
          48,
          44,
          53
         ],
         "y": [
          0.000053477006088327755,
          0.00024350223222632195,
          0.0003333746180944005,
          0.00018522825646486625,
          0.00007952981773014723,
          0.0013928356779063214,
          0.01703116325199328,
          0.00042216005182977006,
          0.00002118746911027315,
          0.0011218725262696903,
          0.02352981378584673,
          0.02818984561662886,
          0.07509662173148697,
          0.06099854314067278,
          0.0930146152300883,
          0.0934867392041049,
          0.004940904567533033,
          0.005724519490212814,
          0.09208852437599188,
          0.007800896470262943,
          0.036139754327595676,
          0.08380309043231503,
          0.04816566904654761,
          0.09534872648642258,
          0.012726164567724876,
          0.03705886198320452,
          0.050470152281218164,
          0.011276643319481836,
          0.020352900881255305,
          0.0037174701303784212,
          0.05017891014057906,
          0.09850968629090454,
          0.03219856898881238,
          0.09953799693101374,
          0.04711836977154496,
          0.01944648227435904,
          0.06639950826156321,
          0.02979389862728106,
          0.05748650009449627,
          0.014085240524731032,
          0.06190872799865389,
          0.05701001136825143,
          0.099890517484237,
          0.024848959590663366,
          0.038642052034602255,
          0.059965188724583014,
          0.022930850152325814,
          0.06260922876168513,
          0.03248003010312427,
          0.09842405664252042,
          0.017231506072913978,
          0.06955784005833121,
          0.0797361693336084,
          0.04519766659968222,
          0.06272681137100425,
          0.07697197701798705,
          0.03982449594436201,
          0.02766441258642419,
          0.07847460584675534,
          0.0832319879623828,
          0.04146739953550929,
          0.07706631323922435,
          0.08315143062823342,
          0.07783174980373501,
          0.04531351292926553,
          0.03363681957191448,
          0.04731445119311008,
          0.09730736705117617,
          0.023717340533890945,
          0.051522725370567825,
          0.03877448282566431,
          0.09823073274248471,
          0.06893522795333469,
          0.060339052298088766,
          0.09961921128876214,
          0.028120891876766526,
          0.04499561316182582,
          0.06870656901775349,
          0.051829892706705454,
          0.01570892260770265,
          0.03442345145767649,
          0.0686097696644887,
          0.07197408711059884,
          0.05401712134513742,
          0.01994766855357251,
          0.052830226056087795,
          0.0766911885198324,
          0.042026736649492684,
          0.09820178881578817,
          0.09444507979935936,
          0.056158708315151774,
          0.07217980945378619,
          0.09817167323701333,
          0.030897647965489074,
          0.06109557223872505,
          0.04559891034878692,
          0.0798682482986343,
          0.06657421868110798,
          0.03575967490609509,
          0.054927720221133854
         ]
        },
        {
         "hoverinfo": "none",
         "marker": {
          "cmax": 1,
          "cmin": 0,
          "colorbar": {
           "thickness": 10,
           "ticktext": [
            "min. (0.0337093)",
            "25% (0.251078)",
            "50% (0.393979)",
            "75% (0.476671)",
            "max. (0.567863)"
           ],
           "tickvals": [
            0,
            0.25,
            0.5,
            0.75,
            1
           ]
          },
          "colorscale": [
           [
            0,
            "rgb(49,54,149)"
           ],
           [
            0.1,
            "rgb(69,117,180)"
           ],
           [
            0.2,
            "rgb(116,173,209)"
           ],
           [
            0.3,
            "rgb(171,217,233)"
           ],
           [
            0.4,
            "rgb(224,243,248)"
           ],
           [
            0.5,
            "rgb(255,255,191)"
           ],
           [
            0.6,
            "rgb(254,224,144)"
           ],
           [
            0.7,
            "rgb(253,174,97)"
           ],
           [
            0.8,
            "rgb(244,109,67)"
           ],
           [
            0.9,
            "rgb(215,48,39)"
           ],
           [
            1,
            "rgb(165,0,38)"
           ]
          ],
          "showscale": true
         },
         "mode": "markers",
         "showlegend": false,
         "type": "scatter",
         "x": [
          null
         ],
         "y": [
          null
         ]
        }
       ],
       "layout": {
        "template": {
         "data": {
          "bar": [
           {
            "error_x": {
             "color": "#2a3f5f"
            },
            "error_y": {
             "color": "#2a3f5f"
            },
            "marker": {
             "line": {
              "color": "#E5ECF6",
              "width": 0.5
             },
             "pattern": {
              "fillmode": "overlay",
              "size": 10,
              "solidity": 0.2
             }
            },
            "type": "bar"
           }
          ],
          "barpolar": [
           {
            "marker": {
             "line": {
              "color": "#E5ECF6",
              "width": 0.5
             },
             "pattern": {
              "fillmode": "overlay",
              "size": 10,
              "solidity": 0.2
             }
            },
            "type": "barpolar"
           }
          ],
          "carpet": [
           {
            "aaxis": {
             "endlinecolor": "#2a3f5f",
             "gridcolor": "white",
             "linecolor": "white",
             "minorgridcolor": "white",
             "startlinecolor": "#2a3f5f"
            },
            "baxis": {
             "endlinecolor": "#2a3f5f",
             "gridcolor": "white",
             "linecolor": "white",
             "minorgridcolor": "white",
             "startlinecolor": "#2a3f5f"
            },
            "type": "carpet"
           }
          ],
          "choropleth": [
           {
            "colorbar": {
             "outlinewidth": 0,
             "ticks": ""
            },
            "type": "choropleth"
           }
          ],
          "contour": [
           {
            "colorbar": {
             "outlinewidth": 0,
             "ticks": ""
            },
            "colorscale": [
             [
              0,
              "#0d0887"
             ],
             [
              0.1111111111111111,
              "#46039f"
             ],
             [
              0.2222222222222222,
              "#7201a8"
             ],
             [
              0.3333333333333333,
              "#9c179e"
             ],
             [
              0.4444444444444444,
              "#bd3786"
             ],
             [
              0.5555555555555556,
              "#d8576b"
             ],
             [
              0.6666666666666666,
              "#ed7953"
             ],
             [
              0.7777777777777778,
              "#fb9f3a"
             ],
             [
              0.8888888888888888,
              "#fdca26"
             ],
             [
              1,
              "#f0f921"
             ]
            ],
            "type": "contour"
           }
          ],
          "contourcarpet": [
           {
            "colorbar": {
             "outlinewidth": 0,
             "ticks": ""
            },
            "type": "contourcarpet"
           }
          ],
          "heatmap": [
           {
            "colorbar": {
             "outlinewidth": 0,
             "ticks": ""
            },
            "colorscale": [
             [
              0,
              "#0d0887"
             ],
             [
              0.1111111111111111,
              "#46039f"
             ],
             [
              0.2222222222222222,
              "#7201a8"
             ],
             [
              0.3333333333333333,
              "#9c179e"
             ],
             [
              0.4444444444444444,
              "#bd3786"
             ],
             [
              0.5555555555555556,
              "#d8576b"
             ],
             [
              0.6666666666666666,
              "#ed7953"
             ],
             [
              0.7777777777777778,
              "#fb9f3a"
             ],
             [
              0.8888888888888888,
              "#fdca26"
             ],
             [
              1,
              "#f0f921"
             ]
            ],
            "type": "heatmap"
           }
          ],
          "heatmapgl": [
           {
            "colorbar": {
             "outlinewidth": 0,
             "ticks": ""
            },
            "colorscale": [
             [
              0,
              "#0d0887"
             ],
             [
              0.1111111111111111,
              "#46039f"
             ],
             [
              0.2222222222222222,
              "#7201a8"
             ],
             [
              0.3333333333333333,
              "#9c179e"
             ],
             [
              0.4444444444444444,
              "#bd3786"
             ],
             [
              0.5555555555555556,
              "#d8576b"
             ],
             [
              0.6666666666666666,
              "#ed7953"
             ],
             [
              0.7777777777777778,
              "#fb9f3a"
             ],
             [
              0.8888888888888888,
              "#fdca26"
             ],
             [
              1,
              "#f0f921"
             ]
            ],
            "type": "heatmapgl"
           }
          ],
          "histogram": [
           {
            "marker": {
             "pattern": {
              "fillmode": "overlay",
              "size": 10,
              "solidity": 0.2
             }
            },
            "type": "histogram"
           }
          ],
          "histogram2d": [
           {
            "colorbar": {
             "outlinewidth": 0,
             "ticks": ""
            },
            "colorscale": [
             [
              0,
              "#0d0887"
             ],
             [
              0.1111111111111111,
              "#46039f"
             ],
             [
              0.2222222222222222,
              "#7201a8"
             ],
             [
              0.3333333333333333,
              "#9c179e"
             ],
             [
              0.4444444444444444,
              "#bd3786"
             ],
             [
              0.5555555555555556,
              "#d8576b"
             ],
             [
              0.6666666666666666,
              "#ed7953"
             ],
             [
              0.7777777777777778,
              "#fb9f3a"
             ],
             [
              0.8888888888888888,
              "#fdca26"
             ],
             [
              1,
              "#f0f921"
             ]
            ],
            "type": "histogram2d"
           }
          ],
          "histogram2dcontour": [
           {
            "colorbar": {
             "outlinewidth": 0,
             "ticks": ""
            },
            "colorscale": [
             [
              0,
              "#0d0887"
             ],
             [
              0.1111111111111111,
              "#46039f"
             ],
             [
              0.2222222222222222,
              "#7201a8"
             ],
             [
              0.3333333333333333,
              "#9c179e"
             ],
             [
              0.4444444444444444,
              "#bd3786"
             ],
             [
              0.5555555555555556,
              "#d8576b"
             ],
             [
              0.6666666666666666,
              "#ed7953"
             ],
             [
              0.7777777777777778,
              "#fb9f3a"
             ],
             [
              0.8888888888888888,
              "#fdca26"
             ],
             [
              1,
              "#f0f921"
             ]
            ],
            "type": "histogram2dcontour"
           }
          ],
          "mesh3d": [
           {
            "colorbar": {
             "outlinewidth": 0,
             "ticks": ""
            },
            "type": "mesh3d"
           }
          ],
          "parcoords": [
           {
            "line": {
             "colorbar": {
              "outlinewidth": 0,
              "ticks": ""
             }
            },
            "type": "parcoords"
           }
          ],
          "pie": [
           {
            "automargin": true,
            "type": "pie"
           }
          ],
          "scatter": [
           {
            "fillpattern": {
             "fillmode": "overlay",
             "size": 10,
             "solidity": 0.2
            },
            "type": "scatter"
           }
          ],
          "scatter3d": [
           {
            "line": {
             "colorbar": {
              "outlinewidth": 0,
              "ticks": ""
             }
            },
            "marker": {
             "colorbar": {
              "outlinewidth": 0,
              "ticks": ""
             }
            },
            "type": "scatter3d"
           }
          ],
          "scattercarpet": [
           {
            "marker": {
             "colorbar": {
              "outlinewidth": 0,
              "ticks": ""
             }
            },
            "type": "scattercarpet"
           }
          ],
          "scattergeo": [
           {
            "marker": {
             "colorbar": {
              "outlinewidth": 0,
              "ticks": ""
             }
            },
            "type": "scattergeo"
           }
          ],
          "scattergl": [
           {
            "marker": {
             "colorbar": {
              "outlinewidth": 0,
              "ticks": ""
             }
            },
            "type": "scattergl"
           }
          ],
          "scattermapbox": [
           {
            "marker": {
             "colorbar": {
              "outlinewidth": 0,
              "ticks": ""
             }
            },
            "type": "scattermapbox"
           }
          ],
          "scatterpolar": [
           {
            "marker": {
             "colorbar": {
              "outlinewidth": 0,
              "ticks": ""
             }
            },
            "type": "scatterpolar"
           }
          ],
          "scatterpolargl": [
           {
            "marker": {
             "colorbar": {
              "outlinewidth": 0,
              "ticks": ""
             }
            },
            "type": "scatterpolargl"
           }
          ],
          "scatterternary": [
           {
            "marker": {
             "colorbar": {
              "outlinewidth": 0,
              "ticks": ""
             }
            },
            "type": "scatterternary"
           }
          ],
          "surface": [
           {
            "colorbar": {
             "outlinewidth": 0,
             "ticks": ""
            },
            "colorscale": [
             [
              0,
              "#0d0887"
             ],
             [
              0.1111111111111111,
              "#46039f"
             ],
             [
              0.2222222222222222,
              "#7201a8"
             ],
             [
              0.3333333333333333,
              "#9c179e"
             ],
             [
              0.4444444444444444,
              "#bd3786"
             ],
             [
              0.5555555555555556,
              "#d8576b"
             ],
             [
              0.6666666666666666,
              "#ed7953"
             ],
             [
              0.7777777777777778,
              "#fb9f3a"
             ],
             [
              0.8888888888888888,
              "#fdca26"
             ],
             [
              1,
              "#f0f921"
             ]
            ],
            "type": "surface"
           }
          ],
          "table": [
           {
            "cells": {
             "fill": {
              "color": "#EBF0F8"
             },
             "line": {
              "color": "white"
             }
            },
            "header": {
             "fill": {
              "color": "#C8D4E3"
             },
             "line": {
              "color": "white"
             }
            },
            "type": "table"
           }
          ]
         },
         "layout": {
          "annotationdefaults": {
           "arrowcolor": "#2a3f5f",
           "arrowhead": 0,
           "arrowwidth": 1
          },
          "autotypenumbers": "strict",
          "coloraxis": {
           "colorbar": {
            "outlinewidth": 0,
            "ticks": ""
           }
          },
          "colorscale": {
           "diverging": [
            [
             0,
             "#8e0152"
            ],
            [
             0.1,
             "#c51b7d"
            ],
            [
             0.2,
             "#de77ae"
            ],
            [
             0.3,
             "#f1b6da"
            ],
            [
             0.4,
             "#fde0ef"
            ],
            [
             0.5,
             "#f7f7f7"
            ],
            [
             0.6,
             "#e6f5d0"
            ],
            [
             0.7,
             "#b8e186"
            ],
            [
             0.8,
             "#7fbc41"
            ],
            [
             0.9,
             "#4d9221"
            ],
            [
             1,
             "#276419"
            ]
           ],
           "sequential": [
            [
             0,
             "#0d0887"
            ],
            [
             0.1111111111111111,
             "#46039f"
            ],
            [
             0.2222222222222222,
             "#7201a8"
            ],
            [
             0.3333333333333333,
             "#9c179e"
            ],
            [
             0.4444444444444444,
             "#bd3786"
            ],
            [
             0.5555555555555556,
             "#d8576b"
            ],
            [
             0.6666666666666666,
             "#ed7953"
            ],
            [
             0.7777777777777778,
             "#fb9f3a"
            ],
            [
             0.8888888888888888,
             "#fdca26"
            ],
            [
             1,
             "#f0f921"
            ]
           ],
           "sequentialminus": [
            [
             0,
             "#0d0887"
            ],
            [
             0.1111111111111111,
             "#46039f"
            ],
            [
             0.2222222222222222,
             "#7201a8"
            ],
            [
             0.3333333333333333,
             "#9c179e"
            ],
            [
             0.4444444444444444,
             "#bd3786"
            ],
            [
             0.5555555555555556,
             "#d8576b"
            ],
            [
             0.6666666666666666,
             "#ed7953"
            ],
            [
             0.7777777777777778,
             "#fb9f3a"
            ],
            [
             0.8888888888888888,
             "#fdca26"
            ],
            [
             1,
             "#f0f921"
            ]
           ]
          },
          "colorway": [
           "#636efa",
           "#EF553B",
           "#00cc96",
           "#ab63fa",
           "#FFA15A",
           "#19d3f3",
           "#FF6692",
           "#B6E880",
           "#FF97FF",
           "#FECB52"
          ],
          "font": {
           "color": "#2a3f5f"
          },
          "geo": {
           "bgcolor": "white",
           "lakecolor": "white",
           "landcolor": "#E5ECF6",
           "showlakes": true,
           "showland": true,
           "subunitcolor": "white"
          },
          "hoverlabel": {
           "align": "left"
          },
          "hovermode": "closest",
          "mapbox": {
           "style": "light"
          },
          "paper_bgcolor": "white",
          "plot_bgcolor": "#E5ECF6",
          "polar": {
           "angularaxis": {
            "gridcolor": "white",
            "linecolor": "white",
            "ticks": ""
           },
           "bgcolor": "#E5ECF6",
           "radialaxis": {
            "gridcolor": "white",
            "linecolor": "white",
            "ticks": ""
           }
          },
          "scene": {
           "xaxis": {
            "backgroundcolor": "#E5ECF6",
            "gridcolor": "white",
            "gridwidth": 2,
            "linecolor": "white",
            "showbackground": true,
            "ticks": "",
            "zerolinecolor": "white"
           },
           "yaxis": {
            "backgroundcolor": "#E5ECF6",
            "gridcolor": "white",
            "gridwidth": 2,
            "linecolor": "white",
            "showbackground": true,
            "ticks": "",
            "zerolinecolor": "white"
           },
           "zaxis": {
            "backgroundcolor": "#E5ECF6",
            "gridcolor": "white",
            "gridwidth": 2,
            "linecolor": "white",
            "showbackground": true,
            "ticks": "",
            "zerolinecolor": "white"
           }
          },
          "shapedefaults": {
           "line": {
            "color": "#2a3f5f"
           }
          },
          "ternary": {
           "aaxis": {
            "gridcolor": "white",
            "linecolor": "white",
            "ticks": ""
           },
           "baxis": {
            "gridcolor": "white",
            "linecolor": "white",
            "ticks": ""
           },
           "bgcolor": "#E5ECF6",
           "caxis": {
            "gridcolor": "white",
            "linecolor": "white",
            "ticks": ""
           }
          },
          "title": {
           "x": 0.05
          },
          "xaxis": {
           "automargin": true,
           "gridcolor": "white",
           "linecolor": "white",
           "ticks": "",
           "title": {
            "standoff": 15
           },
           "zerolinecolor": "white",
           "zerolinewidth": 2
          },
          "yaxis": {
           "automargin": true,
           "gridcolor": "white",
           "linecolor": "white",
           "ticks": "",
           "title": {
            "standoff": 15
           },
           "zerolinecolor": "white",
           "zerolinewidth": 2
          }
         }
        },
        "title": {
         "text": "Rank (Objective Value)"
        },
        "xaxis": {
         "range": [
          6.55,
          104.45
         ],
         "title": {
          "text": "l"
         }
        },
        "yaxis": {
         "range": [
          -4.857593176652091,
          -0.8168034779653542
         ],
         "title": {
          "text": "lr"
         },
         "type": "log"
        }
       }
      }
     },
     "metadata": {},
     "output_type": "display_data"
    }
   ],
   "source": [
    "plot_rank(study)\n"
   ]
  },
  {
   "cell_type": "code",
   "execution_count": 107,
   "metadata": {},
   "outputs": [
    {
     "name": "stderr",
     "output_type": "stream",
     "text": [
      "/tmp/ipykernel_21382/547629393.py:1: ExperimentalWarning:\n",
      "\n",
      "plot_timeline is experimental (supported from v3.2.0). The interface can change in the future.\n",
      "\n"
     ]
    },
    {
     "data": {
      "application/vnd.plotly.v1+json": {
       "config": {
        "plotlyServerURL": "https://plot.ly"
       },
       "data": [
        {
         "base": [
          "2023-11-28T19:00:10.684047",
          "2023-11-28T19:00:11.448488",
          "2023-11-28T19:00:12.567850",
          "2023-11-28T19:00:13.650813",
          "2023-11-28T19:00:14.779816",
          "2023-11-28T19:00:15.859972",
          "2023-11-28T19:00:16.692518",
          "2023-11-28T19:00:17.783480",
          "2023-11-28T19:00:18.925094",
          "2023-11-28T19:00:19.948513",
          "2023-11-28T19:00:20.357330",
          "2023-11-28T19:00:21.068874",
          "2023-11-28T19:00:22.240856",
          "2023-11-28T19:00:23.375661",
          "2023-11-28T19:00:24.503288",
          "2023-11-28T19:00:25.629367",
          "2023-11-28T19:00:26.744642",
          "2023-11-28T19:00:27.947767",
          "2023-11-28T19:00:29.284721",
          "2023-11-28T19:00:30.435007",
          "2023-11-28T19:00:31.596243",
          "2023-11-28T19:00:32.641530",
          "2023-11-28T19:00:33.800757",
          "2023-11-28T19:00:34.517046",
          "2023-11-28T19:00:35.692769",
          "2023-11-28T19:00:36.148019",
          "2023-11-28T19:00:36.864961",
          "2023-11-28T19:00:38.036215",
          "2023-11-28T19:00:39.056538",
          "2023-11-28T19:00:40.217677",
          "2023-11-28T19:00:41.394456",
          "2023-11-28T19:00:42.514297",
          "2023-11-28T19:00:43.664177",
          "2023-11-28T19:00:44.133839",
          "2023-11-28T19:00:45.420940",
          "2023-11-28T19:00:46.557266",
          "2023-11-28T19:00:47.696209",
          "2023-11-28T19:00:48.846618",
          "2023-11-28T19:00:49.984084",
          "2023-11-28T19:00:50.433917",
          "2023-11-28T19:00:51.589353",
          "2023-11-28T19:00:52.572192",
          "2023-11-28T19:00:53.642909",
          "2023-11-28T19:00:54.516541",
          "2023-11-28T19:00:55.526792",
          "2023-11-28T19:00:56.630572",
          "2023-11-28T19:00:57.048551",
          "2023-11-28T19:00:57.507965",
          "2023-11-28T19:00:58.214563",
          "2023-11-28T19:00:59.295683",
          "2023-11-28T19:01:00.484050",
          "2023-11-28T19:01:01.172005",
          "2023-11-28T19:01:02.230127",
          "2023-11-28T19:01:03.388493",
          "2023-11-28T19:01:04.511572",
          "2023-11-28T19:01:05.049059",
          "2023-11-28T19:01:05.587928",
          "2023-11-28T19:01:06.804106",
          "2023-11-28T19:01:07.941345",
          "2023-11-28T19:01:09.069678",
          "2023-11-28T19:01:10.173982",
          "2023-11-28T19:01:10.660832",
          "2023-11-28T19:01:11.813999",
          "2023-11-28T19:01:12.952625",
          "2023-11-28T19:01:14.092746",
          "2023-11-28T19:01:14.550520",
          "2023-11-28T19:01:15.017294",
          "2023-11-28T19:01:15.664511",
          "2023-11-28T19:01:16.577976",
          "2023-11-28T19:01:17.721891",
          "2023-11-28T19:01:18.817851",
          "2023-11-28T19:01:19.992124",
          "2023-11-28T19:01:21.127587",
          "2023-11-28T19:01:21.579242",
          "2023-11-28T19:01:22.701481",
          "2023-11-28T19:01:23.233893",
          "2023-11-28T19:01:24.330213",
          "2023-11-28T19:01:25.712646",
          "2023-11-28T19:01:26.888860",
          "2023-11-28T19:01:27.950528",
          "2023-11-28T19:01:28.434358",
          "2023-11-28T19:01:28.935930",
          "2023-11-28T19:01:29.828859",
          "2023-11-28T19:01:30.256863",
          "2023-11-28T19:01:31.399184",
          "2023-11-28T19:01:32.598898",
          "2023-11-28T19:01:33.073630",
          "2023-11-28T19:01:34.268045",
          "2023-11-28T19:01:35.405039",
          "2023-11-28T19:01:36.608189",
          "2023-11-28T19:01:37.826743",
          "2023-11-28T19:01:38.709628",
          "2023-11-28T19:01:39.859277",
          "2023-11-28T19:01:40.930470",
          "2023-11-28T19:01:41.517750",
          "2023-11-28T19:01:42.694553",
          "2023-11-28T19:01:43.168811",
          "2023-11-28T19:01:44.307993",
          "2023-11-28T19:01:44.795119",
          "2023-11-28T19:01:45.814289"
         ],
         "hovertemplate": "%{text}<extra>COMPLETE</extra>",
         "marker": {
          "color": "blue"
         },
         "name": "COMPLETE",
         "orientation": "h",
         "text": [
          "{<br>  \"number\": 0,<br>  \"values\": [<br>    0.10356377277599142<br>  ],<br>  \"params\": {<br>    \"l\": 40,<br>    \"lr\": 5.3477006088327755e-05<br>  }<br>}",
          "{<br>  \"number\": 1,<br>  \"values\": [<br>    0.10258939881126376<br>  ],<br>  \"params\": {<br>    \"l\": 52,<br>    \"lr\": 0.00024350223222632195<br>  }<br>}",
          "{<br>  \"number\": 2,<br>  \"values\": [<br>    0.07535767644288544<br>  ],<br>  \"params\": {<br>    \"l\": 41,<br>    \"lr\": 0.0003333746180944005<br>  }<br>}",
          "{<br>  \"number\": 3,<br>  \"values\": [<br>    0.11993325538341615<br>  ],<br>  \"params\": {<br>    \"l\": 30,<br>    \"lr\": 0.00018522825646486625<br>  }<br>}",
          "{<br>  \"number\": 4,<br>  \"values\": [<br>    0.08348760921108186<br>  ],<br>  \"params\": {<br>    \"l\": 55,<br>    \"lr\": 7.952981773014723e-05<br>  }<br>}",
          "{<br>  \"number\": 5,<br>  \"values\": [<br>    0.03370927928805743<br>  ],<br>  \"params\": {<br>    \"l\": 87,<br>    \"lr\": 0.0013928356779063214<br>  }<br>}",
          "{<br>  \"number\": 6,<br>  \"values\": [<br>    0.223827909318263<br>  ],<br>  \"params\": {<br>    \"l\": 31,<br>    \"lr\": 0.01703116325199328<br>  }<br>}",
          "{<br>  \"number\": 7,<br>  \"values\": [<br>    0.0794033583422651<br>  ],<br>  \"params\": {<br>    \"l\": 88,<br>    \"lr\": 0.00042216005182977006<br>  }<br>}",
          "{<br>  \"number\": 8,<br>  \"values\": [<br>    0.10497458507908668<br>  ],<br>  \"params\": {<br>    \"l\": 79,<br>    \"lr\": 2.118746911027315e-05<br>  }<br>}",
          "{<br>  \"number\": 9,<br>  \"values\": [<br>    0.117497320471597<br>  ],<br>  \"params\": {<br>    \"l\": 15,<br>    \"lr\": 0.0011218725262696903<br>  }<br>}",
          "{<br>  \"number\": 10,<br>  \"values\": [<br>    0.1978791126701095<br>  ],<br>  \"params\": {<br>    \"l\": 70,<br>    \"lr\": 0.02352981378584673<br>  }<br>}",
          "{<br>  \"number\": 11,<br>  \"values\": [<br>    0.25156711812660365<br>  ],<br>  \"params\": {<br>    \"l\": 76,<br>    \"lr\": 0.02818984561662886<br>  }<br>}",
          "{<br>  \"number\": 12,<br>  \"values\": [<br>    0.44928180519016525<br>  ],<br>  \"params\": {<br>    \"l\": 66,<br>    \"lr\": 0.07509662173148697<br>  }<br>}",
          "{<br>  \"number\": 13,<br>  \"values\": [<br>    0.5329338400077949<br>  ],<br>  \"params\": {<br>    \"l\": 66,<br>    \"lr\": 0.06099854314067278<br>  }<br>}",
          "{<br>  \"number\": 14,<br>  \"values\": [<br>    0.4614188508883043<br>  ],<br>  \"params\": {<br>    \"l\": 65,<br>    \"lr\": 0.0930146152300883<br>  }<br>}",
          "{<br>  \"number\": 15,<br>  \"values\": [<br>    0.5207582253402189<br>  ],<br>  \"params\": {<br>    \"l\": 100,<br>    \"lr\": 0.0934867392041049<br>  }<br>}",
          "{<br>  \"number\": 16,<br>  \"values\": [<br>    0.1569513462600279<br>  ],<br>  \"params\": {<br>    \"l\": 99,<br>    \"lr\": 0.004940904567533033<br>  }<br>}",
          "{<br>  \"number\": 17,<br>  \"values\": [<br>    0.12475843645457795<br>  ],<br>  \"params\": {<br>    \"l\": 96,<br>    \"lr\": 0.005724519490212814<br>  }<br>}",
          "{<br>  \"number\": 18,<br>  \"values\": [<br>    0.4743313358667057<br>  ],<br>  \"params\": {<br>    \"l\": 56,<br>    \"lr\": 0.09208852437599188<br>  }<br>}",
          "{<br>  \"number\": 19,<br>  \"values\": [<br>    0.20347161323849428<br>  ],<br>  \"params\": {<br>    \"l\": 89,<br>    \"lr\": 0.007800896470262943<br>  }<br>}",
          "{<br>  \"number\": 20,<br>  \"values\": [<br>    0.3884889895741986<br>  ],<br>  \"params\": {<br>    \"l\": 76,<br>    \"lr\": 0.036139754327595676<br>  }<br>}",
          "{<br>  \"number\": 21,<br>  \"values\": [<br>    0.45689410178960016<br>  ],<br>  \"params\": {<br>    \"l\": 63,<br>    \"lr\": 0.08380309043231503<br>  }<br>}",
          "{<br>  \"number\": 22,<br>  \"values\": [<br>    0.39322079314040725<br>  ],<br>  \"params\": {<br>    \"l\": 47,<br>    \"lr\": 0.04816566904654761<br>  }<br>}",
          "{<br>  \"number\": 23,<br>  \"values\": [<br>    0.5456514501932509<br>  ],<br>  \"params\": {<br>    \"l\": 57,<br>    \"lr\": 0.09534872648642258<br>  }<br>}",
          "{<br>  \"number\": 24,<br>  \"values\": [<br>    0.2463440676865114<br>  ],<br>  \"params\": {<br>    \"l\": 24,<br>    \"lr\": 0.012726164567724876<br>  }<br>}",
          "{<br>  \"number\": 25,<br>  \"values\": [<br>    0.2973038260417682<br>  ],<br>  \"params\": {<br>    \"l\": 59,<br>    \"lr\": 0.03705886198320452<br>  }<br>}",
          "{<br>  \"number\": 26,<br>  \"values\": [<br>    0.2973545746857644<br>  ],<br>  \"params\": {<br>    \"l\": 46,<br>    \"lr\": 0.050470152281218164<br>  }<br>}",
          "{<br>  \"number\": 27,<br>  \"values\": [<br>    0.1427884146935594<br>  ],<br>  \"params\": {<br>    \"l\": 11,<br>    \"lr\": 0.011276643319481836<br>  }<br>}",
          "{<br>  \"number\": 28,<br>  \"values\": [<br>    0.2687039202312514<br>  ],<br>  \"params\": {<br>    \"l\": 82,<br>    \"lr\": 0.020352900881255305<br>  }<br>}",
          "{<br>  \"number\": 29,<br>  \"values\": [<br>    0.08900297184059243<br>  ],<br>  \"params\": {<br>    \"l\": 69,<br>    \"lr\": 0.0037174701303784212<br>  }<br>}",
          "{<br>  \"number\": 30,<br>  \"values\": [<br>    0.3196129299425119<br>  ],<br>  \"params\": {<br>    \"l\": 35,<br>    \"lr\": 0.05017891014057906<br>  }<br>}",
          "{<br>  \"number\": 31,<br>  \"values\": [<br>    0.4814909545616941<br>  ],<br>  \"params\": {<br>    \"l\": 55,<br>    \"lr\": 0.09850968629090454<br>  }<br>}",
          "{<br>  \"number\": 32,<br>  \"values\": [<br>    0.2415655753678262<br>  ],<br>  \"params\": {<br>    \"l\": 52,<br>    \"lr\": 0.03219856898881238<br>  }<br>}",
          "{<br>  \"number\": 33,<br>  \"values\": [<br>    0.4087640878235734<br>  ],<br>  \"params\": {<br>    \"l\": 46,<br>    \"lr\": 0.09953799693101374<br>  }<br>}",
          "{<br>  \"number\": 34,<br>  \"values\": [<br>    0.40321015622462564<br>  ],<br>  \"params\": {<br>    \"l\": 72,<br>    \"lr\": 0.04711836977154496<br>  }<br>}",
          "{<br>  \"number\": 35,<br>  \"values\": [<br>    0.22764014745526<br>  ],<br>  \"params\": {<br>    \"l\": 40,<br>    \"lr\": 0.01944648227435904<br>  }<br>}",
          "{<br>  \"number\": 36,<br>  \"values\": [<br>    0.40028297443892297<br>  ],<br>  \"params\": {<br>    \"l\": 61,<br>    \"lr\": 0.06639950826156321<br>  }<br>}",
          "{<br>  \"number\": 37,<br>  \"values\": [<br>    0.16913914060216312<br>  ],<br>  \"params\": {<br>    \"l\": 49,<br>    \"lr\": 0.02979389862728106<br>  }<br>}",
          "{<br>  \"number\": 38,<br>  \"values\": [<br>    0.4957208743382377<br>  ],<br>  \"params\": {<br>    \"l\": 57,<br>    \"lr\": 0.05748650009449627<br>  }<br>}",
          "{<br>  \"number\": 39,<br>  \"values\": [<br>    0.2593580499529053<br>  ],<br>  \"params\": {<br>    \"l\": 94,<br>    \"lr\": 0.014085240524731032<br>  }<br>}",
          "{<br>  \"number\": 40,<br>  \"values\": [<br>    0.24673381727240248<br>  ],<br>  \"params\": {<br>    \"l\": 25,<br>    \"lr\": 0.06190872799865389<br>  }<br>}",
          "{<br>  \"number\": 41,<br>  \"values\": [<br>    0.4451001169248758<br>  ],<br>  \"params\": {<br>    \"l\": 54,<br>    \"lr\": 0.05701001136825143<br>  }<br>}",
          "{<br>  \"number\": 42,<br>  \"values\": [<br>    0.4725693429471564<br>  ],<br>  \"params\": {<br>    \"l\": 59,<br>    \"lr\": 0.099890517484237<br>  }<br>}",
          "{<br>  \"number\": 43,<br>  \"values\": [<br>    0.37963030627821626<br>  ],<br>  \"params\": {<br>    \"l\": 51,<br>    \"lr\": 0.024848959590663366<br>  }<br>}",
          "{<br>  \"number\": 44,<br>  \"values\": [<br>    0.3767071843840333<br>  ],<br>  \"params\": {<br>    \"l\": 35,<br>    \"lr\": 0.038642052034602255<br>  }<br>}",
          "{<br>  \"number\": 45,<br>  \"values\": [<br>    0.27912566176231773<br>  ],<br>  \"params\": {<br>    \"l\": 42,<br>    \"lr\": 0.059965188724583014<br>  }<br>}",
          "{<br>  \"number\": 46,<br>  \"values\": [<br>    0.28127334437623824<br>  ],<br>  \"params\": {<br>    \"l\": 84,<br>    \"lr\": 0.022930850152325814<br>  }<br>}",
          "{<br>  \"number\": 47,<br>  \"values\": [<br>    0.4419354314852707<br>  ],<br>  \"params\": {<br>    \"l\": 57,<br>    \"lr\": 0.06260922876168513<br>  }<br>}",
          "{<br>  \"number\": 48,<br>  \"values\": [<br>    0.26037505277858974<br>  ],<br>  \"params\": {<br>    \"l\": 67,<br>    \"lr\": 0.03248003010312427<br>  }<br>}",
          "{<br>  \"number\": 49,<br>  \"values\": [<br>    0.5022491799019131<br>  ],<br>  \"params\": {<br>    \"l\": 73,<br>    \"lr\": 0.09842405664252042<br>  }<br>}",
          "{<br>  \"number\": 50,<br>  \"values\": [<br>    0.26652578843093316<br>  ],<br>  \"params\": {<br>    \"l\": 75,<br>    \"lr\": 0.017231506072913978<br>  }<br>}",
          "{<br>  \"number\": 51,<br>  \"values\": [<br>    0.3552161486245088<br>  ],<br>  \"params\": {<br>    \"l\": 63,<br>    \"lr\": 0.06955784005833121<br>  }<br>}",
          "{<br>  \"number\": 52,<br>  \"values\": [<br>    0.4961532527850856<br>  ],<br>  \"params\": {<br>    \"l\": 72,<br>    \"lr\": 0.0797361693336084<br>  }<br>}",
          "{<br>  \"number\": 53,<br>  \"values\": [<br>    0.4202068920718438<br>  ],<br>  \"params\": {<br>    \"l\": 72,<br>    \"lr\": 0.04519766659968222<br>  }<br>}",
          "{<br>  \"number\": 54,<br>  \"values\": [<br>    0.37977849231868527<br>  ],<br>  \"params\": {<br>    \"l\": 78,<br>    \"lr\": 0.06272681137100425<br>  }<br>}",
          "{<br>  \"number\": 55,<br>  \"values\": [<br>    0.4615203481762967<br>  ],<br>  \"params\": {<br>    \"l\": 91,<br>    \"lr\": 0.07697197701798705<br>  }<br>}",
          "{<br>  \"number\": 56,<br>  \"values\": [<br>    0.44052055929065576<br>  ],<br>  \"params\": {<br>    \"l\": 100,<br>    \"lr\": 0.03982449594436201<br>  }<br>}",
          "{<br>  \"number\": 57,<br>  \"values\": [<br>    0.4681927798889214<br>  ],<br>  \"params\": {<br>    \"l\": 83,<br>    \"lr\": 0.02766441258642419<br>  }<br>}",
          "{<br>  \"number\": 58,<br>  \"values\": [<br>    0.5591485595504887<br>  ],<br>  \"params\": {<br>    \"l\": 65,<br>    \"lr\": 0.07847460584675534<br>  }<br>}",
          "{<br>  \"number\": 59,<br>  \"values\": [<br>    0.5157381694761116<br>  ],<br>  \"params\": {<br>    \"l\": 67,<br>    \"lr\": 0.0832319879623828<br>  }<br>}",
          "{<br>  \"number\": 60,<br>  \"values\": [<br>    0.323463737048946<br>  ],<br>  \"params\": {<br>    \"l\": 66,<br>    \"lr\": 0.04146739953550929<br>  }<br>}",
          "{<br>  \"number\": 61,<br>  \"values\": [<br>    0.41050984117704375<br>  ],<br>  \"params\": {<br>    \"l\": 69,<br>    \"lr\": 0.07706631323922435<br>  }<br>}",
          "{<br>  \"number\": 62,<br>  \"values\": [<br>    0.47413240118224037<br>  ],<br>  \"params\": {<br>    \"l\": 63,<br>    \"lr\": 0.08315143062823342<br>  }<br>}",
          "{<br>  \"number\": 63,<br>  \"values\": [<br>    0.43604249894442826<br>  ],<br>  \"params\": {<br>    \"l\": 71,<br>    \"lr\": 0.07783174980373501<br>  }<br>}",
          "{<br>  \"number\": 64,<br>  \"values\": [<br>    0.5288414693559388<br>  ],<br>  \"params\": {<br>    \"l\": 77,<br>    \"lr\": 0.04531351292926553<br>  }<br>}",
          "{<br>  \"number\": 65,<br>  \"values\": [<br>    0.3712466302900387<br>  ],<br>  \"params\": {<br>    \"l\": 80,<br>    \"lr\": 0.03363681957191448<br>  }<br>}",
          "{<br>  \"number\": 66,<br>  \"values\": [<br>    0.4561612913702946<br>  ],<br>  \"params\": {<br>    \"l\": 86,<br>    \"lr\": 0.04731445119311008<br>  }<br>}",
          "{<br>  \"number\": 67,<br>  \"values\": [<br>    0.5678631166975219<br>  ],<br>  \"params\": {<br>    \"l\": 76,<br>    \"lr\": 0.09730736705117617<br>  }<br>}",
          "{<br>  \"number\": 68,<br>  \"values\": [<br>    0.24615325278508557<br>  ],<br>  \"params\": {<br>    \"l\": 78,<br>    \"lr\": 0.023717340533890945<br>  }<br>}",
          "{<br>  \"number\": 69,<br>  \"values\": [<br>    0.48383757186007986<br>  ],<br>  \"params\": {<br>    \"l\": 68,<br>    \"lr\": 0.051522725370567825<br>  }<br>}",
          "{<br>  \"number\": 70,<br>  \"values\": [<br>    0.45546704992042614<br>  ],<br>  \"params\": {<br>    \"l\": 96,<br>    \"lr\": 0.03877448282566431<br>  }<br>}",
          "{<br>  \"number\": 71,<br>  \"values\": [<br>    0.5386867062912079<br>  ],<br>  \"params\": {<br>    \"l\": 75,<br>    \"lr\": 0.09823073274248471<br>  }<br>}",
          "{<br>  \"number\": 72,<br>  \"values\": [<br>    0.5500868816785216<br>  ],<br>  \"params\": {<br>    \"l\": 76,<br>    \"lr\": 0.06893522795333469<br>  }<br>}",
          "{<br>  \"number\": 73,<br>  \"values\": [<br>    0.47506414628601124<br>  ],<br>  \"params\": {<br>    \"l\": 75,<br>    \"lr\": 0.060339052298088766<br>  }<br>}",
          "{<br>  \"number\": 74,<br>  \"values\": [<br>    0.5164750397869369<br>  ],<br>  \"params\": {<br>    \"l\": 90,<br>    \"lr\": 0.09961921128876214<br>  }<br>}",
          "{<br>  \"number\": 75,<br>  \"values\": [<br>    0.334470102958849<br>  ],<br>  \"params\": {<br>    \"l\": 80,<br>    \"lr\": 0.028120891876766526<br>  }<br>}",
          "{<br>  \"number\": 76,<br>  \"values\": [<br>    0.44481186462697714<br>  ],<br>  \"params\": {<br>    \"l\": 87,<br>    \"lr\": 0.04499561316182582<br>  }<br>}",
          "{<br>  \"number\": 77,<br>  \"values\": [<br>    0.5184197278248726<br>  ],<br>  \"params\": {<br>    \"l\": 60,<br>    \"lr\": 0.06870656901775349<br>  }<br>}",
          "{<br>  \"number\": 78,<br>  \"values\": [<br>    0.3947371626230147<br>  ],<br>  \"params\": {<br>    \"l\": 64,<br>    \"lr\": 0.051829892706705454<br>  }<br>}",
          "{<br>  \"number\": 79,<br>  \"values\": [<br>    0.27562603527233753<br>  ],<br>  \"params\": {<br>    \"l\": 75,<br>    \"lr\": 0.01570892260770265<br>  }<br>}",
          "{<br>  \"number\": 80,<br>  \"values\": [<br>    0.24961025041410892<br>  ],<br>  \"params\": {<br>    \"l\": 81,<br>    \"lr\": 0.03442345145767649<br>  }<br>}",
          "{<br>  \"number\": 81,<br>  \"values\": [<br>    0.4983354444769235<br>  ],<br>  \"params\": {<br>    \"l\": 59,<br>    \"lr\": 0.0686097696644887<br>  }<br>}",
          "{<br>  \"number\": 82,<br>  \"values\": [<br>    0.5233464061840268<br>  ],<br>  \"params\": {<br>    \"l\": 65,<br>    \"lr\": 0.07197408711059884<br>  }<br>}",
          "{<br>  \"number\": 83,<br>  \"values\": [<br>    0.5505700087693656<br>  ],<br>  \"params\": {<br>    \"l\": 62,<br>    \"lr\": 0.05401712134513742<br>  }<br>}",
          "{<br>  \"number\": 84,<br>  \"values\": [<br>    0.24322201110786315<br>  ],<br>  \"params\": {<br>    \"l\": 77,<br>    \"lr\": 0.01994766855357251<br>  }<br>}",
          "{<br>  \"number\": 85,<br>  \"values\": [<br>    0.46935796875507485<br>  ],<br>  \"params\": {<br>    \"l\": 62,<br>    \"lr\": 0.052830226056087795<br>  }<br>}",
          "{<br>  \"number\": 86,<br>  \"values\": [<br>    0.4968820033128715<br>  ],<br>  \"params\": {<br>    \"l\": 65,<br>    \"lr\": 0.0766911885198324<br>  }<br>}",
          "{<br>  \"number\": 87,<br>  \"values\": [<br>    0.3763722433336581<br>  ],<br>  \"params\": {<br>    \"l\": 70,<br>    \"lr\": 0.042026736649492684<br>  }<br>}",
          "{<br>  \"number\": 88,<br>  \"values\": [<br>    0.5557382506739419<br>  ],<br>  \"params\": {<br>    \"l\": 74,<br>    \"lr\": 0.09820178881578817<br>  }<br>}",
          "{<br>  \"number\": 89,<br>  \"values\": [<br>    0.4207955763422001<br>  ],<br>  \"params\": {<br>    \"l\": 74,<br>    \"lr\": 0.09444507979935936<br>  }<br>}",
          "{<br>  \"number\": 90,<br>  \"values\": [<br>    0.44607449088960344<br>  ],<br>  \"params\": {<br>    \"l\": 70,<br>    \"lr\": 0.056158708315151774<br>  }<br>}",
          "{<br>  \"number\": 91,<br>  \"values\": [<br>    0.5337600279320537<br>  ],<br>  \"params\": {<br>    \"l\": 53,<br>    \"lr\": 0.07217980945378619<br>  }<br>}",
          "{<br>  \"number\": 92,<br>  \"values\": [<br>    0.5192032868881743<br>  ],<br>  \"params\": {<br>    \"l\": 55,<br>    \"lr\": 0.09817167323701333<br>  }<br>}",
          "{<br>  \"number\": 93,<br>  \"values\": [<br>    0.3771862515833577<br>  ],<br>  \"params\": {<br>    \"l\": 52,<br>    \"lr\": 0.030897647965489074<br>  }<br>}",
          "{<br>  \"number\": 94,<br>  \"values\": [<br>    0.5150094189483257<br>  ],<br>  \"params\": {<br>    \"l\": 84,<br>    \"lr\": 0.06109557223872505<br>  }<br>}",
          "{<br>  \"number\": 95,<br>  \"values\": [<br>    0.30306075221670076<br>  ],<br>  \"params\": {<br>    \"l\": 58,<br>    \"lr\": 0.04559891034878692<br>  }<br>}",
          "{<br>  \"number\": 96,<br>  \"values\": [<br>    0.3278017311377441<br>  ],<br>  \"params\": {<br>    \"l\": 50,<br>    \"lr\": 0.0798682482986343<br>  }<br>}",
          "{<br>  \"number\": 97,<br>  \"values\": [<br>    0.4957675630907142<br>  ],<br>  \"params\": {<br>    \"l\": 48,<br>    \"lr\": 0.06657421868110798<br>  }<br>}",
          "{<br>  \"number\": 98,<br>  \"values\": [<br>    0.2257888369222774<br>  ],<br>  \"params\": {<br>    \"l\": 44,<br>    \"lr\": 0.03575967490609509<br>  }<br>}",
          "{<br>  \"number\": 99,<br>  \"values\": [<br>    0.3535637727759914<br>  ],<br>  \"params\": {<br>    \"l\": 53,<br>    \"lr\": 0.054927720221133854<br>  }<br>}"
         ],
         "textposition": "none",
         "type": "bar",
         "x": [
          763.764,
          1118.7279999999998,
          1082.268,
          1128.351,
          1079.644,
          831.831,
          1090.0339999999999,
          1140.794,
          1022.825,
          408.263,
          710.8050000000001,
          1171.27,
          1133.9840000000002,
          1126.83,
          1125.4599999999998,
          1114.609,
          1202.2900000000002,
          1336.063,
          1149.46,
          1160.5859999999998,
          1044.7830000000001,
          1158.485,
          715.51,
          1174.892,
          454.548,
          716.2539999999999,
          1170.422,
          1019.698,
          1160.4460000000001,
          1175.95,
          1119.076,
          1149.057,
          469.02700000000004,
          1286.4279999999999,
          1135.616,
          1138.227,
          1149.77,
          1136.7169999999999,
          449.17600000000004,
          1154.8290000000002,
          982.124,
          1070.006,
          872.976,
          1009.484,
          1103.107,
          417.401,
          458.894,
          705.74,
          1080.4260000000002,
          1187.496,
          687.25,
          1057.455,
          1157.606,
          1122.4389999999999,
          536.783,
          538.2099999999999,
          1215.354,
          1136.565,
          1127.71,
          1103.664,
          486.26000000000005,
          1152.422,
          1137.923,
          1139.406,
          456.964,
          466.046,
          646.442,
          912.909,
          1143.244,
          1095.2040000000002,
          1173.613,
          1134.76,
          451.062,
          1121.491,
          531.617,
          1095.6399999999999,
          1381.737,
          1175.4560000000001,
          1060.924,
          483.296,
          501.054,
          892.448,
          427.413,
          1141.473,
          1198.722,
          473.873,
          1193.546,
          1136.148,
          1202.287,
          1217.777,
          882.202,
          1148.9270000000001,
          1070.4640000000002,
          586.733,
          1176.114,
          473.534,
          1138.394,
          486.344,
          1018.413,
          874.34
         ],
         "y": [
          0,
          1,
          2,
          3,
          4,
          5,
          6,
          7,
          8,
          9,
          10,
          11,
          12,
          13,
          14,
          15,
          16,
          17,
          18,
          19,
          20,
          21,
          22,
          23,
          24,
          25,
          26,
          27,
          28,
          29,
          30,
          31,
          32,
          33,
          34,
          35,
          36,
          37,
          38,
          39,
          40,
          41,
          42,
          43,
          44,
          45,
          46,
          47,
          48,
          49,
          50,
          51,
          52,
          53,
          54,
          55,
          56,
          57,
          58,
          59,
          60,
          61,
          62,
          63,
          64,
          65,
          66,
          67,
          68,
          69,
          70,
          71,
          72,
          73,
          74,
          75,
          76,
          77,
          78,
          79,
          80,
          81,
          82,
          83,
          84,
          85,
          86,
          87,
          88,
          89,
          90,
          91,
          92,
          93,
          94,
          95,
          96,
          97,
          98,
          99
         ]
        }
       ],
       "layout": {
        "showlegend": true,
        "template": {
         "data": {
          "bar": [
           {
            "error_x": {
             "color": "#2a3f5f"
            },
            "error_y": {
             "color": "#2a3f5f"
            },
            "marker": {
             "line": {
              "color": "#E5ECF6",
              "width": 0.5
             },
             "pattern": {
              "fillmode": "overlay",
              "size": 10,
              "solidity": 0.2
             }
            },
            "type": "bar"
           }
          ],
          "barpolar": [
           {
            "marker": {
             "line": {
              "color": "#E5ECF6",
              "width": 0.5
             },
             "pattern": {
              "fillmode": "overlay",
              "size": 10,
              "solidity": 0.2
             }
            },
            "type": "barpolar"
           }
          ],
          "carpet": [
           {
            "aaxis": {
             "endlinecolor": "#2a3f5f",
             "gridcolor": "white",
             "linecolor": "white",
             "minorgridcolor": "white",
             "startlinecolor": "#2a3f5f"
            },
            "baxis": {
             "endlinecolor": "#2a3f5f",
             "gridcolor": "white",
             "linecolor": "white",
             "minorgridcolor": "white",
             "startlinecolor": "#2a3f5f"
            },
            "type": "carpet"
           }
          ],
          "choropleth": [
           {
            "colorbar": {
             "outlinewidth": 0,
             "ticks": ""
            },
            "type": "choropleth"
           }
          ],
          "contour": [
           {
            "colorbar": {
             "outlinewidth": 0,
             "ticks": ""
            },
            "colorscale": [
             [
              0,
              "#0d0887"
             ],
             [
              0.1111111111111111,
              "#46039f"
             ],
             [
              0.2222222222222222,
              "#7201a8"
             ],
             [
              0.3333333333333333,
              "#9c179e"
             ],
             [
              0.4444444444444444,
              "#bd3786"
             ],
             [
              0.5555555555555556,
              "#d8576b"
             ],
             [
              0.6666666666666666,
              "#ed7953"
             ],
             [
              0.7777777777777778,
              "#fb9f3a"
             ],
             [
              0.8888888888888888,
              "#fdca26"
             ],
             [
              1,
              "#f0f921"
             ]
            ],
            "type": "contour"
           }
          ],
          "contourcarpet": [
           {
            "colorbar": {
             "outlinewidth": 0,
             "ticks": ""
            },
            "type": "contourcarpet"
           }
          ],
          "heatmap": [
           {
            "colorbar": {
             "outlinewidth": 0,
             "ticks": ""
            },
            "colorscale": [
             [
              0,
              "#0d0887"
             ],
             [
              0.1111111111111111,
              "#46039f"
             ],
             [
              0.2222222222222222,
              "#7201a8"
             ],
             [
              0.3333333333333333,
              "#9c179e"
             ],
             [
              0.4444444444444444,
              "#bd3786"
             ],
             [
              0.5555555555555556,
              "#d8576b"
             ],
             [
              0.6666666666666666,
              "#ed7953"
             ],
             [
              0.7777777777777778,
              "#fb9f3a"
             ],
             [
              0.8888888888888888,
              "#fdca26"
             ],
             [
              1,
              "#f0f921"
             ]
            ],
            "type": "heatmap"
           }
          ],
          "heatmapgl": [
           {
            "colorbar": {
             "outlinewidth": 0,
             "ticks": ""
            },
            "colorscale": [
             [
              0,
              "#0d0887"
             ],
             [
              0.1111111111111111,
              "#46039f"
             ],
             [
              0.2222222222222222,
              "#7201a8"
             ],
             [
              0.3333333333333333,
              "#9c179e"
             ],
             [
              0.4444444444444444,
              "#bd3786"
             ],
             [
              0.5555555555555556,
              "#d8576b"
             ],
             [
              0.6666666666666666,
              "#ed7953"
             ],
             [
              0.7777777777777778,
              "#fb9f3a"
             ],
             [
              0.8888888888888888,
              "#fdca26"
             ],
             [
              1,
              "#f0f921"
             ]
            ],
            "type": "heatmapgl"
           }
          ],
          "histogram": [
           {
            "marker": {
             "pattern": {
              "fillmode": "overlay",
              "size": 10,
              "solidity": 0.2
             }
            },
            "type": "histogram"
           }
          ],
          "histogram2d": [
           {
            "colorbar": {
             "outlinewidth": 0,
             "ticks": ""
            },
            "colorscale": [
             [
              0,
              "#0d0887"
             ],
             [
              0.1111111111111111,
              "#46039f"
             ],
             [
              0.2222222222222222,
              "#7201a8"
             ],
             [
              0.3333333333333333,
              "#9c179e"
             ],
             [
              0.4444444444444444,
              "#bd3786"
             ],
             [
              0.5555555555555556,
              "#d8576b"
             ],
             [
              0.6666666666666666,
              "#ed7953"
             ],
             [
              0.7777777777777778,
              "#fb9f3a"
             ],
             [
              0.8888888888888888,
              "#fdca26"
             ],
             [
              1,
              "#f0f921"
             ]
            ],
            "type": "histogram2d"
           }
          ],
          "histogram2dcontour": [
           {
            "colorbar": {
             "outlinewidth": 0,
             "ticks": ""
            },
            "colorscale": [
             [
              0,
              "#0d0887"
             ],
             [
              0.1111111111111111,
              "#46039f"
             ],
             [
              0.2222222222222222,
              "#7201a8"
             ],
             [
              0.3333333333333333,
              "#9c179e"
             ],
             [
              0.4444444444444444,
              "#bd3786"
             ],
             [
              0.5555555555555556,
              "#d8576b"
             ],
             [
              0.6666666666666666,
              "#ed7953"
             ],
             [
              0.7777777777777778,
              "#fb9f3a"
             ],
             [
              0.8888888888888888,
              "#fdca26"
             ],
             [
              1,
              "#f0f921"
             ]
            ],
            "type": "histogram2dcontour"
           }
          ],
          "mesh3d": [
           {
            "colorbar": {
             "outlinewidth": 0,
             "ticks": ""
            },
            "type": "mesh3d"
           }
          ],
          "parcoords": [
           {
            "line": {
             "colorbar": {
              "outlinewidth": 0,
              "ticks": ""
             }
            },
            "type": "parcoords"
           }
          ],
          "pie": [
           {
            "automargin": true,
            "type": "pie"
           }
          ],
          "scatter": [
           {
            "fillpattern": {
             "fillmode": "overlay",
             "size": 10,
             "solidity": 0.2
            },
            "type": "scatter"
           }
          ],
          "scatter3d": [
           {
            "line": {
             "colorbar": {
              "outlinewidth": 0,
              "ticks": ""
             }
            },
            "marker": {
             "colorbar": {
              "outlinewidth": 0,
              "ticks": ""
             }
            },
            "type": "scatter3d"
           }
          ],
          "scattercarpet": [
           {
            "marker": {
             "colorbar": {
              "outlinewidth": 0,
              "ticks": ""
             }
            },
            "type": "scattercarpet"
           }
          ],
          "scattergeo": [
           {
            "marker": {
             "colorbar": {
              "outlinewidth": 0,
              "ticks": ""
             }
            },
            "type": "scattergeo"
           }
          ],
          "scattergl": [
           {
            "marker": {
             "colorbar": {
              "outlinewidth": 0,
              "ticks": ""
             }
            },
            "type": "scattergl"
           }
          ],
          "scattermapbox": [
           {
            "marker": {
             "colorbar": {
              "outlinewidth": 0,
              "ticks": ""
             }
            },
            "type": "scattermapbox"
           }
          ],
          "scatterpolar": [
           {
            "marker": {
             "colorbar": {
              "outlinewidth": 0,
              "ticks": ""
             }
            },
            "type": "scatterpolar"
           }
          ],
          "scatterpolargl": [
           {
            "marker": {
             "colorbar": {
              "outlinewidth": 0,
              "ticks": ""
             }
            },
            "type": "scatterpolargl"
           }
          ],
          "scatterternary": [
           {
            "marker": {
             "colorbar": {
              "outlinewidth": 0,
              "ticks": ""
             }
            },
            "type": "scatterternary"
           }
          ],
          "surface": [
           {
            "colorbar": {
             "outlinewidth": 0,
             "ticks": ""
            },
            "colorscale": [
             [
              0,
              "#0d0887"
             ],
             [
              0.1111111111111111,
              "#46039f"
             ],
             [
              0.2222222222222222,
              "#7201a8"
             ],
             [
              0.3333333333333333,
              "#9c179e"
             ],
             [
              0.4444444444444444,
              "#bd3786"
             ],
             [
              0.5555555555555556,
              "#d8576b"
             ],
             [
              0.6666666666666666,
              "#ed7953"
             ],
             [
              0.7777777777777778,
              "#fb9f3a"
             ],
             [
              0.8888888888888888,
              "#fdca26"
             ],
             [
              1,
              "#f0f921"
             ]
            ],
            "type": "surface"
           }
          ],
          "table": [
           {
            "cells": {
             "fill": {
              "color": "#EBF0F8"
             },
             "line": {
              "color": "white"
             }
            },
            "header": {
             "fill": {
              "color": "#C8D4E3"
             },
             "line": {
              "color": "white"
             }
            },
            "type": "table"
           }
          ]
         },
         "layout": {
          "annotationdefaults": {
           "arrowcolor": "#2a3f5f",
           "arrowhead": 0,
           "arrowwidth": 1
          },
          "autotypenumbers": "strict",
          "coloraxis": {
           "colorbar": {
            "outlinewidth": 0,
            "ticks": ""
           }
          },
          "colorscale": {
           "diverging": [
            [
             0,
             "#8e0152"
            ],
            [
             0.1,
             "#c51b7d"
            ],
            [
             0.2,
             "#de77ae"
            ],
            [
             0.3,
             "#f1b6da"
            ],
            [
             0.4,
             "#fde0ef"
            ],
            [
             0.5,
             "#f7f7f7"
            ],
            [
             0.6,
             "#e6f5d0"
            ],
            [
             0.7,
             "#b8e186"
            ],
            [
             0.8,
             "#7fbc41"
            ],
            [
             0.9,
             "#4d9221"
            ],
            [
             1,
             "#276419"
            ]
           ],
           "sequential": [
            [
             0,
             "#0d0887"
            ],
            [
             0.1111111111111111,
             "#46039f"
            ],
            [
             0.2222222222222222,
             "#7201a8"
            ],
            [
             0.3333333333333333,
             "#9c179e"
            ],
            [
             0.4444444444444444,
             "#bd3786"
            ],
            [
             0.5555555555555556,
             "#d8576b"
            ],
            [
             0.6666666666666666,
             "#ed7953"
            ],
            [
             0.7777777777777778,
             "#fb9f3a"
            ],
            [
             0.8888888888888888,
             "#fdca26"
            ],
            [
             1,
             "#f0f921"
            ]
           ],
           "sequentialminus": [
            [
             0,
             "#0d0887"
            ],
            [
             0.1111111111111111,
             "#46039f"
            ],
            [
             0.2222222222222222,
             "#7201a8"
            ],
            [
             0.3333333333333333,
             "#9c179e"
            ],
            [
             0.4444444444444444,
             "#bd3786"
            ],
            [
             0.5555555555555556,
             "#d8576b"
            ],
            [
             0.6666666666666666,
             "#ed7953"
            ],
            [
             0.7777777777777778,
             "#fb9f3a"
            ],
            [
             0.8888888888888888,
             "#fdca26"
            ],
            [
             1,
             "#f0f921"
            ]
           ]
          },
          "colorway": [
           "#636efa",
           "#EF553B",
           "#00cc96",
           "#ab63fa",
           "#FFA15A",
           "#19d3f3",
           "#FF6692",
           "#B6E880",
           "#FF97FF",
           "#FECB52"
          ],
          "font": {
           "color": "#2a3f5f"
          },
          "geo": {
           "bgcolor": "white",
           "lakecolor": "white",
           "landcolor": "#E5ECF6",
           "showlakes": true,
           "showland": true,
           "subunitcolor": "white"
          },
          "hoverlabel": {
           "align": "left"
          },
          "hovermode": "closest",
          "mapbox": {
           "style": "light"
          },
          "paper_bgcolor": "white",
          "plot_bgcolor": "#E5ECF6",
          "polar": {
           "angularaxis": {
            "gridcolor": "white",
            "linecolor": "white",
            "ticks": ""
           },
           "bgcolor": "#E5ECF6",
           "radialaxis": {
            "gridcolor": "white",
            "linecolor": "white",
            "ticks": ""
           }
          },
          "scene": {
           "xaxis": {
            "backgroundcolor": "#E5ECF6",
            "gridcolor": "white",
            "gridwidth": 2,
            "linecolor": "white",
            "showbackground": true,
            "ticks": "",
            "zerolinecolor": "white"
           },
           "yaxis": {
            "backgroundcolor": "#E5ECF6",
            "gridcolor": "white",
            "gridwidth": 2,
            "linecolor": "white",
            "showbackground": true,
            "ticks": "",
            "zerolinecolor": "white"
           },
           "zaxis": {
            "backgroundcolor": "#E5ECF6",
            "gridcolor": "white",
            "gridwidth": 2,
            "linecolor": "white",
            "showbackground": true,
            "ticks": "",
            "zerolinecolor": "white"
           }
          },
          "shapedefaults": {
           "line": {
            "color": "#2a3f5f"
           }
          },
          "ternary": {
           "aaxis": {
            "gridcolor": "white",
            "linecolor": "white",
            "ticks": ""
           },
           "baxis": {
            "gridcolor": "white",
            "linecolor": "white",
            "ticks": ""
           },
           "bgcolor": "#E5ECF6",
           "caxis": {
            "gridcolor": "white",
            "linecolor": "white",
            "ticks": ""
           }
          },
          "title": {
           "x": 0.05
          },
          "xaxis": {
           "automargin": true,
           "gridcolor": "white",
           "linecolor": "white",
           "ticks": "",
           "title": {
            "standoff": 15
           },
           "zerolinecolor": "white",
           "zerolinewidth": 2
          },
          "yaxis": {
           "automargin": true,
           "gridcolor": "white",
           "linecolor": "white",
           "ticks": "",
           "title": {
            "standoff": 15
           },
           "zerolinecolor": "white",
           "zerolinewidth": 2
          }
         }
        },
        "title": {
         "text": "Timeline Plot"
        },
        "xaxis": {
         "title": {
          "text": "Datetime"
         },
         "type": "date"
        },
        "yaxis": {
         "title": {
          "text": "Trial"
         }
        }
       }
      }
     },
     "metadata": {},
     "output_type": "display_data"
    }
   ],
   "source": [
    "plot_timeline(study)"
   ]
  },
  {
   "cell_type": "code",
   "execution_count": null,
   "metadata": {},
   "outputs": [],
   "source": []
  }
 ],
 "metadata": {
  "kernelspec": {
   "display_name": "Python 3",
   "language": "python",
   "name": "python3"
  },
  "language_info": {
   "codemirror_mode": {
    "name": "ipython",
    "version": 3
   },
   "file_extension": ".py",
   "mimetype": "text/x-python",
   "name": "python",
   "nbconvert_exporter": "python",
   "pygments_lexer": "ipython3",
   "version": "3.10.12"
  }
 },
 "nbformat": 4,
 "nbformat_minor": 2
}
