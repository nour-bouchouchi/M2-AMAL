{
 "cells": [
  {
   "cell_type": "code",
   "execution_count": 16,
   "metadata": {},
   "outputs": [],
   "source": [
    "import torch\n",
    "from torch.functional import norm\n",
    "import torch.nn as nn\n",
    "import torch.nn.functional as F\n",
    "from torch.utils.data import DataLoader,random_split,TensorDataset\n",
    "from pathlib import Path\n",
    "from datamaestro import prepare_dataset\n",
    "import time\n",
    "import pytorch_lightning as pl\n",
    "from pytorch_lightning.loggers import TensorBoardLogger\n",
    "from tqdm import tqdm\n",
    "import matplotlib.pyplot as plt"
   ]
  },
  {
   "cell_type": "code",
   "execution_count": 9,
   "metadata": {},
   "outputs": [],
   "source": [
    "BATCH_SIZE = 311\n",
    "TRAIN_RATIO = 0.8\n",
    "LOG_PATH = \"/tmp/runs/lightning_logs\"\n"
   ]
  },
  {
   "cell_type": "code",
   "execution_count": 10,
   "metadata": {},
   "outputs": [],
   "source": [
    "\n",
    "class Lit2Layer(pl.LightningModule):\n",
    "    def __init__(self,dim_in,l,dim_out,learning_rate=1e-3):\n",
    "        super().__init__()\n",
    "        self.model = nn.Sequential(nn.Linear(dim_in,l),nn.ReLU(),nn.Linear(l,dim_out))\n",
    "        self.learning_rate = learning_rate\n",
    "        self.loss = nn.CrossEntropyLoss()\n",
    "        self.name = \"exemple-lightning\"\n",
    "        self.valid_outputs = []\n",
    "        self.training_outputs = []\n",
    "\n",
    "    def forward(self,x):\n",
    "        \"\"\" Définit le comportement forward du module\"\"\"\n",
    "        x = self.model(x)\n",
    "        return x\n",
    "\n",
    "    def configure_optimizers(self):\n",
    "        \"\"\" Définit l'optimiseur \"\"\"\n",
    "        optimizer = torch.optim.Adam(self.parameters(),lr=self.learning_rate)\n",
    "        return optimizer\n",
    "\n",
    "    def training_step(self,batch,batch_idx):\n",
    "        \"\"\" une étape d'apprentissage\n",
    "        doit retourner soit un scalaire (la loss),\n",
    "        soit un dictionnaire qui contient au moins la clé 'loss'\"\"\"\n",
    "        x, y = batch\n",
    "        yhat= self(x) ## equivalent à self.model(x)\n",
    "        loss = self.loss(yhat,y)\n",
    "        acc = (yhat.argmax(1)==y).sum()\n",
    "        logs = {\"loss\":loss,\"accuracy\":acc,\"nb\":len(x)}\n",
    "        self.log(\"accuracy\",acc/len(x),on_step=False,on_epoch=True)\n",
    "        self.valid_outputs.append({\"loss\":loss,\"accuracy\":acc,\"nb\":len(x)})\n",
    "        return logs\n",
    "\n",
    "    def validation_step(self,batch,batch_idx):\n",
    "        \"\"\" une étape de validation\n",
    "        doit retourner un dictionnaire\"\"\"\n",
    "        x, y = batch\n",
    "        yhat = self(x)\n",
    "        loss = self.loss(yhat,y)\n",
    "        acc = (yhat.argmax(1)==y).sum()\n",
    "        logs = {\"loss\":loss,\"accuracy\":acc,\"nb\":len(x)}\n",
    "        self.log(\"val_accuracy\", acc/len(x),on_step=False,on_epoch=True)\n",
    "        self.valid_outputs.append({\"loss\":loss,\"accuracy\":acc,\"nb\":len(x)})\n",
    "        return logs\n",
    "\n",
    "    def test_step(self,batch,batch_idx):\n",
    "        \"\"\" une étape de test \"\"\"\n",
    "        x, y = batch\n",
    "        yhat = self(x)\n",
    "        loss = self.loss(yhat,y)\n",
    "        acc = (yhat.argmax(1)==y).sum()\n",
    "        logs = {\"loss\":loss,\"accuracy\":acc,\"nb\":len(x)}\n",
    "        return logs\n",
    "\n",
    "    def log_x_end(self,outputs,phase):\n",
    "        total_acc = sum([o['accuracy'] for o in outputs])\n",
    "        total_nb = sum([o['nb'] for o in outputs])\n",
    "        total_loss = sum([o['loss'] for o in outputs])/len(outputs)\n",
    "        total_acc = total_acc/total_nb\n",
    "        self.log_dict({f\"loss/{phase}\":total_loss,f\"acc/{phase}\":total_acc})\n",
    "        #self.logger.experiment.add_scalar(f'loss/{phase}',total_loss,self.current_epoch)\n",
    "        #self.logger.experiment.add_scalar(f'acc/{phase}',total_acc,self.current_epoch)\n",
    "\n",
    "    def on_training_epoch_end(self):\n",
    "        \"\"\" hook optionel, si on a besoin de faire quelque chose apres une époque d'apprentissage.\n",
    "        Par exemple ici calculer des valeurs à logger\"\"\"\n",
    "        self.log_x_end(self.training_outputs,'train')\n",
    "        self.training_outputs.clear()\n",
    "        # Le logger de tensorboard est accessible directement avec self.logger.experiment.add_XXX\n",
    "    def on_validation_epoch_end(self):\n",
    "        \"\"\" hook optionel, si on a besoin de faire quelque chose apres une époque de validation.\"\"\"\n",
    "        self.log_x_end(self.valid_outputs,'valid')\n",
    "        self.valid_outputs.clear()\n",
    "\n",
    "    def on_test_epoch_end(self):\n",
    "        pass\n"
   ]
  },
  {
   "cell_type": "code",
   "execution_count": 11,
   "metadata": {},
   "outputs": [],
   "source": [
    "class LitMnistData(pl.LightningDataModule):\n",
    "\n",
    "    def __init__(self,batch_size=BATCH_SIZE,train_ratio=TRAIN_RATIO):\n",
    "        super().__init__()\n",
    "        self.dim_in = None\n",
    "        self.dim_out = None\n",
    "        self.batch_size = batch_size\n",
    "        self.train_ratio = train_ratio\n",
    "\n",
    "    def prepare_data(self):\n",
    "        ### Do not use \"self\" here.\n",
    "        prepare_dataset(\"com.lecun.mnist\")\n",
    "\n",
    "    def setup(self,stage=None):\n",
    "        ds = prepare_dataset(\"com.lecun.mnist\")\n",
    "        if stage ==\"fit\" or stage is None:\n",
    "            # Si on est en phase d'apprentissage\n",
    "            shape = ds.train.images.data().shape\n",
    "            self.dim_in = shape[1]*shape[2]\n",
    "            self.dim_out = len(set(ds.train.labels.data()))\n",
    "            ds_train = TensorDataset(torch.tensor(ds.train.images.data()).view(-1,self.dim_in).float()/255., torch.tensor(ds.train.labels.data()).long())\n",
    "            train_length = int(shape[0]*self.train_ratio)\n",
    "            self.mnist_train, self.mnist_val, = random_split(ds_train,[train_length,shape[0]-train_length])\n",
    "        if stage == \"test\" or stage is None:\n",
    "            # en phase de test\n",
    "            self.mnist_test= TensorDataset(torch.tensor(ds.test.images.data()).view(-1,self.dim_in).float()/255., torch.tensor(ds.test.labels.data()).long())\n",
    "\n",
    "    def train_dataloader(self):\n",
    "        return DataLoader(self.mnist_train,batch_size=self.batch_size)\n",
    "    def val_dataloader(self):\n",
    "        return DataLoader(self.mnist_val,batch_size=self.batch_size)\n",
    "    def test_dataloader(self):\n",
    "        return DataLoader(self.mnist_test,batch_size=self.batch_size)\n",
    "\n",
    "\n",
    "\n"
   ]
  },
  {
   "cell_type": "code",
   "execution_count": null,
   "metadata": {},
   "outputs": [],
   "source": []
  },
  {
   "cell_type": "code",
   "execution_count": 5,
   "metadata": {},
   "outputs": [],
   "source": [
    "data = LitMnistData()\n",
    "data.prepare_data()\n"
   ]
  },
  {
   "cell_type": "code",
   "execution_count": 12,
   "metadata": {},
   "outputs": [],
   "source": [
    "data.setup()"
   ]
  },
  {
   "cell_type": "code",
   "execution_count": 13,
   "metadata": {},
   "outputs": [],
   "source": [
    "train_loader = data.train_dataloader()\n",
    "val_loader  = data.val_dataloader()\n",
    "test_loader = data.test_dataloader()"
   ]
  },
  {
   "cell_type": "code",
   "execution_count": 14,
   "metadata": {},
   "outputs": [
    {
     "name": "stdout",
     "output_type": "stream",
     "text": [
      "torch.Size([311, 784]) torch.Size([311])\n"
     ]
    }
   ],
   "source": [
    "for x, y in train_loader: \n",
    "    print(x.size(), y.size())\n",
    "    break"
   ]
  },
  {
   "cell_type": "code",
   "execution_count": 12,
   "metadata": {},
   "outputs": [
    {
     "name": "stderr",
     "output_type": "stream",
     "text": [
      "GPU available: False, used: False\n",
      "TPU available: False, using: 0 TPU cores\n",
      "IPU available: False, using: 0 IPUs\n",
      "HPU available: False, using: 0 HPUs\n"
     ]
    }
   ],
   "source": [
    "model = Lit2Layer(data.dim_in,10,data.dim_out,learning_rate=1e-3)\n",
    "logger = TensorBoardLogger(save_dir=LOG_PATH,name=model.name,version=time.asctime(),default_hp_metric=False)\n",
    "trainer = pl.Trainer(\n",
    "    default_root_dir=LOG_PATH,\n",
    "    logger=logger,\n",
    "    max_epochs=100,\n",
    ")\n",
    "\n"
   ]
  },
  {
   "cell_type": "code",
   "execution_count": 10,
   "metadata": {},
   "outputs": [
    {
     "ename": "NameError",
     "evalue": "name 'trainer' is not defined",
     "output_type": "error",
     "traceback": [
      "\u001b[0;31m---------------------------------------------------------------------------\u001b[0m",
      "\u001b[0;31mNameError\u001b[0m                                 Traceback (most recent call last)",
      "\u001b[0;32m/tmp/ipykernel_15525/48696741.py\u001b[0m in \u001b[0;36m<module>\u001b[0;34m\u001b[0m\n\u001b[0;32m----> 1\u001b[0;31m \u001b[0mtrainer\u001b[0m\u001b[0;34m.\u001b[0m\u001b[0mfit\u001b[0m\u001b[0;34m(\u001b[0m\u001b[0mmodel\u001b[0m\u001b[0;34m,\u001b[0m\u001b[0mtrain_loader\u001b[0m\u001b[0;34m)\u001b[0m\u001b[0;34m\u001b[0m\u001b[0;34m\u001b[0m\u001b[0m\n\u001b[0m\u001b[1;32m      2\u001b[0m \u001b[0mtrainer\u001b[0m\u001b[0;34m.\u001b[0m\u001b[0mtest\u001b[0m\u001b[0;34m(\u001b[0m\u001b[0mmodel\u001b[0m\u001b[0;34m,\u001b[0m\u001b[0mtest_loader\u001b[0m\u001b[0;34m)\u001b[0m\u001b[0;34m\u001b[0m\u001b[0;34m\u001b[0m\u001b[0m\n",
      "\u001b[0;31mNameError\u001b[0m: name 'trainer' is not defined"
     ]
    }
   ],
   "source": [
    "#trainer.fit(model,train_loader)\n",
    "#trainer.test(model,test_loader)"
   ]
  },
  {
   "cell_type": "code",
   "execution_count": 40,
   "metadata": {},
   "outputs": [],
   "source": [
    "# Model\n",
    "class Model2LP(nn.Module):\n",
    "    def __init__(self,dim_in,l,dim_out,learning_rate=1e-3):\n",
    "        super().__init__()\n",
    "        self.model = nn.Sequential(nn.Linear(dim_in,l),nn.ReLU(),nn.Linear(l,dim_out))\n",
    "        self.learning_rate = learning_rate\n",
    "        self.loss = nn.CrossEntropyLoss()\n",
    "        self.name = \"2 Layers Perceptron\"\n",
    "        self.valid_outputs = []\n",
    "        self.training_outputs = []\n",
    "\n",
    "    def forward(self,x):\n",
    "        \"\"\" Définit le comportement forward du module\"\"\"\n",
    "        x = self.model(x)\n",
    "        return x\n",
    "\n",
    "    def configure_optimizers(self):\n",
    "        \"\"\" Définit l'optimiseur \"\"\"\n",
    "        optimizer = torch.optim.Adam(self.parameters(),lr=self.learning_rate)\n",
    "        return optimizer\n",
    "\n",
    "    def training_step(self,batch,batch_idx):\n",
    "        \"\"\" une étape d'apprentissage\n",
    "        doit retourner soit un scalaire (la loss),\n",
    "        soit un dictionnaire qui contient au moins la clé 'loss'\"\"\"\n",
    "        x, y = batch\n",
    "        yhat= self(x) ## equivalent à self.model(x)\n",
    "        loss = self.loss(yhat,y)\n",
    "        acc = (yhat.argmax(1)==y).sum()\n",
    "        logs = {\"loss\":loss,\"accuracy\":acc,\"nb\":len(x)}\n",
    "        # print(\"accuracy\",acc/len(x),on_step=False,on_epoch=True)\n",
    "        self.valid_outputs.append({\"loss\":loss,\"accuracy\":acc,\"nb\":len(x)})\n",
    "        return logs\n",
    "\n",
    "    def validation_step(self,batch,batch_idx):\n",
    "        \"\"\" une étape de validation\n",
    "        doit retourner un dictionnaire\"\"\"\n",
    "        x, y = batch\n",
    "        yhat = self(x)\n",
    "        loss = self.loss(yhat,y)\n",
    "        acc = (yhat.argmax(1)==y).sum()\n",
    "        logs = {\"loss\":loss,\"accuracy\":acc,\"nb\":len(x)}\n",
    "        print(\"val_accuracy\", acc/len(x),on_step=False,on_epoch=True)\n",
    "        self.valid_outputs.append({\"loss\":loss,\"accuracy\":acc,\"nb\":len(x)})\n",
    "        return logs\n",
    "\n",
    "    def test_step(self,batch,batch_idx):\n",
    "        \"\"\" une étape de test \"\"\"\n",
    "        x, y = batch\n",
    "        yhat = self(x)\n",
    "        loss = self.loss(yhat,y)\n",
    "        acc = (yhat.argmax(1)==y).sum()\n",
    "        logs = {\"loss\":loss,\"accuracy\":acc,\"nb\":len(x)}\n",
    "        return logs\n",
    "\n",
    "    def log_x_end(self,outputs,phase):\n",
    "        total_acc = sum([o['accuracy'] for o in outputs])\n",
    "        total_nb = sum([o['nb'] for o in outputs])\n",
    "        total_loss = sum([o['loss'] for o in outputs])/len(outputs)\n",
    "        total_acc = total_acc/total_nb\n",
    "        print({f\"loss/{phase}\":total_loss,f\"acc/{phase}\":total_acc})\n",
    "        #self.log_dict({f\"loss/{phase}\":total_loss,f\"acc/{phase}\":total_acc})\n",
    "        #self.logger.experiment.add_scalar(f'loss/{phase}',total_loss,self.current_epoch)\n",
    "        #self.logger.experiment.add_scalar(f'acc/{phase}',total_acc,self.current_epoch)\n",
    "\n",
    "    def on_training_epoch_end(self):\n",
    "        \"\"\" hook optionel, si on a besoin de faire quelque chose apres une époque d'apprentissage.\n",
    "        Par exemple ici calculer des valeurs à logger\"\"\"\n",
    "        self.log_x_end(self.training_outputs,'train')\n",
    "        self.training_outputs.clear()\n",
    "        # Le logger de tensorboard est accessible directement avec self.logger.experiment.add_XXX\n",
    "    def on_validation_epoch_end(self):\n",
    "        \"\"\" hook optionel, si on a besoin de faire quelque chose apres une époque de validation.\"\"\"\n",
    "        self.log_x_end(self.valid_outputs,'valid')\n",
    "        self.valid_outputs.clear()\n",
    "\n",
    "    def on_test_epoch_end(self):\n",
    "        pass\n",
    "\n"
   ]
  },
  {
   "cell_type": "code",
   "execution_count": null,
   "metadata": {},
   "outputs": [],
   "source": [
    "epochs = 10"
   ]
  },
  {
   "cell_type": "code",
   "execution_count": 50,
   "metadata": {},
   "outputs": [
    {
     "data": {
      "image/png": "[encoded data removed]",
      "text/plain": [
       "<Figure size 432x288 with 1 Axes>"
      ]
     },
     "metadata": {
      "needs_background": "light"
     },
     "output_type": "display_data"
    }
   ],
   "source": [
    "# Phase apprentissage\n",
    "model = Model2LP(dim_in=784, l=200, dim_out=10)\n",
    "\n",
    "# Phase train\n",
    "v = True # verbose\n",
    "list_loss = []\n",
    "liste_acc = []\n",
    "for epoch in range(100):\n",
    "  loss_epoch = []\n",
    "  acc_epoch = []\n",
    "  for batch_idx, batch in enumerate(train_loader):\n",
    "    \n",
    "      logs = model.training_step(batch, batch_idx)\n",
    "\n",
    "      if v and batch_idx % 1 == 0:\n",
    "        courant = batch_idx * len(batch)\n",
    "        #print(f\"loss: {logs['loss']:>7f} acc: {logs['accuracy']:>7f} len: {logs['nb']:>7f}\")\n",
    "\n",
    "      loss_epoch.append(logs['loss'].detach())\n",
    "      acc_epoch.append(logs['accuracy'].detach())\n",
    "\n",
    "  list_loss.append(np.mean(loss_epoch))\n",
    "  liste_acc.append(np.mean(acc_epoch))\n",
    "\n",
    "    \n",
    "    \n",
    "plt.plot(list_loss,label=\"Loss_train\")\n",
    "plt.plot(liste_acc,label=\"Acc_train\")\n",
    "plt.legend()\n",
    "plt.show()"
   ]
  },
  {
   "cell_type": "code",
   "execution_count": 48,
   "metadata": {},
   "outputs": [],
   "source": [
    "import numpy as np"
   ]
  },
  {
   "cell_type": "code",
   "execution_count": null,
   "metadata": {},
   "outputs": [],
   "source": []
  },
  {
   "cell_type": "code",
   "execution_count": null,
   "metadata": {},
   "outputs": [],
   "source": []
  },
  {
   "cell_type": "code",
   "execution_count": 37,
   "metadata": {},
   "outputs": [],
   "source": [
    "dim_in = 784\n",
    "dim_latent = 100\n",
    "dim_out = 10\n",
    "train_length =  50"
   ]
  },
  {
   "cell_type": "code",
   "execution_count": 38,
   "metadata": {},
   "outputs": [
    {
     "name": "stdout",
     "output_type": "stream",
     "text": [
      "cpu\n"
     ]
    },
    {
     "ename": "TypeError",
     "evalue": "MLP3.__init__() takes 1 positional argument but 4 were given",
     "output_type": "error",
     "traceback": [
      "\u001b[0;31m---------------------------------------------------------------------------\u001b[0m",
      "\u001b[0;31mTypeError\u001b[0m                                 Traceback (most recent call last)",
      "\u001b[0;32m/tmp/ipykernel_16409/1758879225.py\u001b[0m in \u001b[0;36m<module>\u001b[0;34m\u001b[0m\n\u001b[1;32m      3\u001b[0m \u001b[0mepoch\u001b[0m \u001b[0;34m=\u001b[0m \u001b[0;36m10\u001b[0m\u001b[0;34m\u001b[0m\u001b[0;34m\u001b[0m\u001b[0m\n\u001b[1;32m      4\u001b[0m \u001b[0mdim_latent\u001b[0m \u001b[0;34m=\u001b[0m \u001b[0;36m100\u001b[0m\u001b[0;34m\u001b[0m\u001b[0;34m\u001b[0m\u001b[0m\n\u001b[0;32m----> 5\u001b[0;31m \u001b[0mmodel\u001b[0m \u001b[0;34m=\u001b[0m \u001b[0mMLP3\u001b[0m\u001b[0;34m(\u001b[0m\u001b[0mdim_in\u001b[0m\u001b[0;34m,\u001b[0m\u001b[0mdim_latent\u001b[0m\u001b[0;34m,\u001b[0m\u001b[0mdim_out\u001b[0m\u001b[0;34m)\u001b[0m\u001b[0;34m.\u001b[0m\u001b[0mto\u001b[0m\u001b[0;34m(\u001b[0m\u001b[0mdevice\u001b[0m\u001b[0;34m)\u001b[0m\u001b[0;34m\u001b[0m\u001b[0;34m\u001b[0m\u001b[0m\n\u001b[0m\u001b[1;32m      6\u001b[0m \u001b[0moptimizer\u001b[0m \u001b[0;34m=\u001b[0m \u001b[0mtorch\u001b[0m\u001b[0;34m.\u001b[0m\u001b[0moptim\u001b[0m\u001b[0;34m.\u001b[0m\u001b[0mAdam\u001b[0m\u001b[0;34m(\u001b[0m\u001b[0mmodel\u001b[0m\u001b[0;34m.\u001b[0m\u001b[0mparameters\u001b[0m\u001b[0;34m(\u001b[0m\u001b[0;34m)\u001b[0m\u001b[0;34m,\u001b[0m\u001b[0mlr\u001b[0m\u001b[0;34m=\u001b[0m\u001b[0;36m1e-3\u001b[0m\u001b[0;34m)\u001b[0m\u001b[0;34m\u001b[0m\u001b[0;34m\u001b[0m\u001b[0m\n\u001b[1;32m      7\u001b[0m \u001b[0msoft\u001b[0m \u001b[0;34m=\u001b[0m \u001b[0mnn\u001b[0m\u001b[0;34m.\u001b[0m\u001b[0mSoftmax\u001b[0m\u001b[0;34m(\u001b[0m\u001b[0mdim\u001b[0m\u001b[0;34m=\u001b[0m\u001b[0;36m1\u001b[0m\u001b[0;34m)\u001b[0m\u001b[0;34m\u001b[0m\u001b[0;34m\u001b[0m\u001b[0m\n",
      "\u001b[0;32m~/.local/lib/python3.10/site-packages/torch/nn/modules/module.py\u001b[0m in \u001b[0;36m__init__\u001b[0;34m(self, *args, **kwargs)\u001b[0m\n\u001b[1;32m    447\u001b[0m \u001b[0;34m\u001b[0m\u001b[0m\n\u001b[1;32m    448\u001b[0m         \u001b[0;32mif\u001b[0m \u001b[0mself\u001b[0m\u001b[0;34m.\u001b[0m\u001b[0mcall_super_init\u001b[0m \u001b[0;32mis\u001b[0m \u001b[0;32mFalse\u001b[0m \u001b[0;32mand\u001b[0m \u001b[0mbool\u001b[0m\u001b[0;34m(\u001b[0m\u001b[0margs\u001b[0m\u001b[0;34m)\u001b[0m\u001b[0;34m:\u001b[0m\u001b[0;34m\u001b[0m\u001b[0;34m\u001b[0m\u001b[0m\n\u001b[0;32m--> 449\u001b[0;31m             raise TypeError(\"{}.__init__() takes 1 positional argument but {} were\"\n\u001b[0m\u001b[1;32m    450\u001b[0m                             \" given\".format(type(self).__name__, len(args) + 1))\n\u001b[1;32m    451\u001b[0m \u001b[0;34m\u001b[0m\u001b[0m\n",
      "\u001b[0;31mTypeError\u001b[0m: MLP3.__init__() takes 1 positional argument but 4 were given"
     ]
    }
   ],
   "source": [
    "device = 'cuda' if torch.cuda.is_available() else 'cpu'\n",
    "print(device)\n",
    "epoch = 10\n",
    "dim_latent = 100\n",
    "model = MLP3(dim_in,dim_latent,dim_out).to(device)\n",
    "optimizer = torch.optim.Adam(model.parameters(),lr=1e-3)\n",
    "soft = nn.Softmax(dim=1)\n",
    "\n",
    "def train(train_loader, model, optimizer, epoch, device):\n",
    "    loss_train = []\n",
    "    loss_test = []\n",
    "    acc_train = []\n",
    "    acc_test = []\n",
    "    for e in range(epoch):\n",
    "        model.train()\n",
    "        for batch_idx, (data, target) in tqdm(enumerate(train_loader),total=len(train_loader)):\n",
    "            data, target = data.to(device), target.to(device)\n",
    "            optimizer.zero_grad()\n",
    "            output = model(data)\n",
    "            loss = F.cross_entropy(output,target)\n",
    "            loss.backward()\n",
    "            optimizer.step()\n",
    "            if batch_idx % 10 == 0:\n",
    "                print(f'Train Epoch: {epoch} [{batch_idx * len(data)}/{len(train_loader.dataset)} '\n",
    "                    f'({100. * batch_idx / len(train_loader):.0f}%)]\\tLoss: {loss.item():.6f}')\n",
    "                loss_train.append(loss.item())\n",
    "                acc_train.append((soft(output).argmax(1)==target).sum()/len(target))\n",
    "        model.eval()\n",
    "        with torch.no_grad():\n",
    "            for batch_idx, (data, target) in tqdm(enumerate(train_loader),total=len(test_loader)):\n",
    "                data, target = data.to(device), target.to(device)\n",
    "                output = model(data)\n",
    "                loss = F.cross_entropy(output,target)\n",
    "                if batch_idx % 10 == 0:\n",
    "                    print(f'Test Epoch: {epoch} [{batch_idx * len(data)}/{len(train_loader.dataset)} '\n",
    "                        f'({100. * batch_idx / len(train_loader):.0f}%)]\\tLoss: {loss.item():.6f}')\n",
    "                    loss_test.append(loss.item())\n",
    "                    acc_test.append((soft(output).argmax(1)==target).sum()/len(target))\n",
    "    return loss_train, loss_test, acc_train, acc_test\n",
    "\n",
    "loss_train, loss_test, acc_train, acc_test = train(train_loader, model, optimizer, epoch, device)\n",
    "\n",
    "plt.plot(loss_train,label=\"Loss_train\")\n",
    "plt.plot(loss_test,label=\"Loss_test\")\n",
    "plt.plot(acc_train,label=\"Acc_train\")\n",
    "plt.plot(acc_test,label=\"Acc_test\")\n",
    "plt.legend()\n",
    "plt.show()"
   ]
  },
  {
   "cell_type": "code",
   "execution_count": null,
   "metadata": {},
   "outputs": [],
   "source": []
  },
  {
   "cell_type": "code",
   "execution_count": null,
   "metadata": {},
   "outputs": [],
   "source": []
  }
 ],
 "metadata": {
  "kernelspec": {
   "display_name": "Python 3",
   "language": "python",
   "name": "python3"
  },
  "language_info": {
   "codemirror_mode": {
    "name": "ipython",
    "version": 3
   },
   "file_extension": ".py",
   "mimetype": "text/x-python",
   "name": "python",
   "nbconvert_exporter": "python",
   "pygments_lexer": "ipython3",
   "version": "3.10.12"
  }
 },
 "nbformat": 4,
 "nbformat_minor": 2
}
